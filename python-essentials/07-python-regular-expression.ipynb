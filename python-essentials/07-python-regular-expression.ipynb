{
 "cells": [
  {
   "cell_type": "markdown",
   "metadata": {},
   "source": [
    "# Python正则表达式"
   ]
  },
  {
   "cell_type": "markdown",
   "metadata": {},
   "source": [
    "官方文档：[re](https://docs.python.org/3/library/re.html?highlight=re#module-re)"
   ]
  },
  {
   "cell_type": "markdown",
   "metadata": {
    "toc": true
   },
   "source": [
    "<h1>Contents<span class=\"tocSkip\"></span></h1>\n",
    "<div class=\"toc\"><ul class=\"toc-item\"><li><span><a href=\"#re模块\" data-toc-modified-id=\"re模块-1\"><span class=\"toc-item-num\">1&nbsp;&nbsp;</span>re模块</a></span></li><li><span><a href=\"#re常用函数\" data-toc-modified-id=\"re常用函数-2\"><span class=\"toc-item-num\">2&nbsp;&nbsp;</span>re常用函数</a></span><ul class=\"toc-item\"><li><span><a href=\"#使用-match()方法匹配字符串\" data-toc-modified-id=\"使用-match()方法匹配字符串-2.1\"><span class=\"toc-item-num\">2.1&nbsp;&nbsp;</span>使用 match()方法匹配字符串</a></span></li><li><span><a href=\"#使用search()在一个字符串中查找模式（搜索与匹配的对比）\" data-toc-modified-id=\"使用search()在一个字符串中查找模式（搜索与匹配的对比）-2.2\"><span class=\"toc-item-num\">2.2&nbsp;&nbsp;</span>使用search()在一个字符串中查找模式（搜索与匹配的对比）</a></span></li><li><span><a href=\"#匹配多个字符串（|）\" data-toc-modified-id=\"匹配多个字符串（|）-2.3\"><span class=\"toc-item-num\">2.3&nbsp;&nbsp;</span>匹配多个字符串（|）</a></span></li><li><span><a href=\"#匹配任何单个字符\" data-toc-modified-id=\"匹配任何单个字符-2.4\"><span class=\"toc-item-num\">2.4&nbsp;&nbsp;</span>匹配任何单个字符</a></span></li><li><span><a href=\"#创建字符集([-])\" data-toc-modified-id=\"创建字符集([-])-2.5\"><span class=\"toc-item-num\">2.5&nbsp;&nbsp;</span>创建字符集([ ])</a></span></li><li><span><a href=\"#重复、特殊字符以及分组\" data-toc-modified-id=\"重复、特殊字符以及分组-2.6\"><span class=\"toc-item-num\">2.6&nbsp;&nbsp;</span>重复、特殊字符以及分组</a></span></li><li><span><a href=\"#匹配字符串的起始和结尾以及单词边界\" data-toc-modified-id=\"匹配字符串的起始和结尾以及单词边界-2.7\"><span class=\"toc-item-num\">2.7&nbsp;&nbsp;</span>匹配字符串的起始和结尾以及单词边界</a></span></li><li><span><a href=\"#使用-findall()和-finditer()查找每一次出现的位置\" data-toc-modified-id=\"使用-findall()和-finditer()查找每一次出现的位置-2.8\"><span class=\"toc-item-num\">2.8&nbsp;&nbsp;</span>使用 findall()和 finditer()查找每一次出现的位置</a></span></li><li><span><a href=\"#使用-sub()和-subn()搜索与替换\" data-toc-modified-id=\"使用-sub()和-subn()搜索与替换-2.9\"><span class=\"toc-item-num\">2.9&nbsp;&nbsp;</span>使用 sub()和 subn()搜索与替换</a></span></li><li><span><a href=\"#在限定模式上使用-split()分隔字符串\" data-toc-modified-id=\"在限定模式上使用-split()分隔字符串-2.10\"><span class=\"toc-item-num\">2.10&nbsp;&nbsp;</span>在限定模式上使用 split()分隔字符串</a></span></li><li><span><a href=\"#扩展符号\" data-toc-modified-id=\"扩展符号-2.11\"><span class=\"toc-item-num\">2.11&nbsp;&nbsp;</span>扩展符号</a></span></li></ul></li><li><span><a href=\"#正则表达式示例\" data-toc-modified-id=\"正则表达式示例-3\"><span class=\"toc-item-num\">3&nbsp;&nbsp;</span>正则表达式示例</a></span><ul class=\"toc-item\"><li><span><a href=\"#复习jupyter魔法\" data-toc-modified-id=\"复习jupyter魔法-3.1\"><span class=\"toc-item-num\">3.1&nbsp;&nbsp;</span>复习jupyter魔法</a></span></li><li><span><a href=\"#正则表达式示例\" data-toc-modified-id=\"正则表达式示例-3.2\"><span class=\"toc-item-num\">3.2&nbsp;&nbsp;</span>正则表达式示例</a></span><ul class=\"toc-item\"><li><span><a href=\"#分割-POSIX-的-who-命令输出（whodate.py)\" data-toc-modified-id=\"分割-POSIX-的-who-命令输出（whodate.py)-3.2.1\"><span class=\"toc-item-num\">3.2.1&nbsp;&nbsp;</span>分割 POSIX 的 who 命令输出（whodate.py)</a></span></li><li><span><a href=\"#实战示例\" data-toc-modified-id=\"实战示例-3.2.2\"><span class=\"toc-item-num\">3.2.2&nbsp;&nbsp;</span>实战示例</a></span></li></ul></li><li><span><a href=\"#搜索、匹配和贪婪\" data-toc-modified-id=\"搜索、匹配和贪婪-3.3\"><span class=\"toc-item-num\">3.3&nbsp;&nbsp;</span>搜索、匹配和贪婪</a></span></li></ul></li></ul></div>"
   ]
  },
  {
   "cell_type": "markdown",
   "metadata": {},
   "source": [
    "## re模块\n",
    "![](https://raw.githubusercontent.com/ds19991999/githubimg/master/picgo/20180716112011.png)\n",
    "\n",
    "① Python 1.5.2 版中新增；2.4 版中增加 flags 参数\n",
    "\n",
    "② Python 2.2 版中新增；2.4 版中增加 flags 参数\n",
    "\n",
    "③ Python 2.7 和 3.1 版中增加 flags 参数\n",
    "\n",
    "主要学习match()和 search()，以及 compile()函数"
   ]
  },
  {
   "cell_type": "markdown",
   "metadata": {},
   "source": [
    "## re常用函数"
   ]
  },
  {
   "cell_type": "markdown",
   "metadata": {},
   "source": [
    "### 使用 match()方法匹配字符串\n",
    "`match(pattern ， string ， flags=0)`\n",
    "\n",
    "尝试使用带有可选的标记的正则表达式的模式来匹配字符串。如果匹配成功，就返回匹配对象；如果失败，就返回 None\n",
    "\n",
    "他是从字符串**起始部位开始匹配**,一旦第一个字符匹配失败，就是不匹配\n",
    "\n",
    "匹配对象的 group()方法能够用于显示那个成功的匹配。"
   ]
  },
  {
   "cell_type": "code",
   "execution_count": 1,
   "metadata": {},
   "outputs": [
    {
     "data": {
      "text/plain": [
       "'foo'"
      ]
     },
     "execution_count": 1,
     "metadata": {},
     "output_type": "execute_result"
    }
   ],
   "source": [
    "import re\n",
    "m = re.match('foo','foo')\n",
    "if m is not None:\n",
    "    regex1 = m.group()\n",
    "regex1"
   ]
  },
  {
   "cell_type": "code",
   "execution_count": 2,
   "metadata": {},
   "outputs": [
    {
     "data": {
      "text/plain": [
       "<_sre.SRE_Match at 0x522adb0>"
      ]
     },
     "execution_count": 2,
     "metadata": {},
     "output_type": "execute_result"
    }
   ],
   "source": [
    "m"
   ]
  },
  {
   "cell_type": "code",
   "execution_count": 3,
   "metadata": {},
   "outputs": [
    {
     "name": "stdout",
     "output_type": "stream",
     "text": [
      "None\n"
     ]
    }
   ],
   "source": [
    "m = re.match('foo','bar')\n",
    "if m is not None:m.group()# 单行版本的if语句\n",
    "print m  # 不匹配"
   ]
  },
  {
   "cell_type": "markdown",
   "metadata": {},
   "source": [
    "**后面操作省去if语句**，实际开发要加上，避免 AttributeError 异常"
   ]
  },
  {
   "cell_type": "code",
   "execution_count": 4,
   "metadata": {},
   "outputs": [
    {
     "data": {
      "text/plain": [
       "'foo'"
      ]
     },
     "execution_count": 4,
     "metadata": {},
     "output_type": "execute_result"
    }
   ],
   "source": [
    "m = re.match(\"foo\",\"food on the table\")\n",
    "m.group()"
   ]
  },
  {
   "cell_type": "code",
   "execution_count": 5,
   "metadata": {},
   "outputs": [
    {
     "data": {
      "text/plain": [
       "'foo'"
      ]
     },
     "execution_count": 5,
     "metadata": {},
     "output_type": "execute_result"
    }
   ],
   "source": [
    "re.match(\"foo\",\"food on the table\").group()"
   ]
  },
  {
   "cell_type": "markdown",
   "metadata": {},
   "source": [
    "### 使用search()在一个字符串中查找模式（搜索与匹配的对比）\n",
    "`search(pattern ， string ， flags=0) `\n",
    "\n",
    "使用可选标记搜索字符串中**第一次出现的正则表达式模式**。如果匹配成功，则返回匹配对象；如果失败，则返回 None"
   ]
  },
  {
   "cell_type": "code",
   "execution_count": 6,
   "metadata": {},
   "outputs": [],
   "source": [
    "m = re.match('foo','seafood')\n",
    "if m is not None:print m.group()#匹配失败"
   ]
  },
  {
   "cell_type": "code",
   "execution_count": 7,
   "metadata": {},
   "outputs": [
    {
     "name": "stdout",
     "output_type": "stream",
     "text": [
      "foo\n"
     ]
    }
   ],
   "source": [
    "m = re.search('foo','searchfood')\n",
    "if m is not None:regex3 = m.group()\n",
    "print regex3 # 搜索成功，但是匹配失败"
   ]
  },
  {
   "cell_type": "markdown",
   "metadata": {},
   "source": [
    "### 匹配多个字符串（|）"
   ]
  },
  {
   "cell_type": "code",
   "execution_count": 8,
   "metadata": {},
   "outputs": [
    {
     "name": "stdout",
     "output_type": "stream",
     "text": [
      "bat\n"
     ]
    }
   ],
   "source": [
    "bt = 'bat|bet|bit'\n",
    "m = re.match(bt,'bat')\n",
    "if m is not None:print m.group() # Pytho2这里不加print就打印不出结果"
   ]
  },
  {
   "cell_type": "code",
   "execution_count": 9,
   "metadata": {},
   "outputs": [],
   "source": [
    "m = re.match(bt,'blt')\n",
    "if m is not None:print m.group() # 匹配失败"
   ]
  },
  {
   "cell_type": "code",
   "execution_count": 10,
   "metadata": {},
   "outputs": [],
   "source": [
    "m = re.match(bt, 'he bit me') \n",
    "if m is not None:print m.group() # 匹配失败：不能匹配字符串"
   ]
  },
  {
   "cell_type": "code",
   "execution_count": 11,
   "metadata": {},
   "outputs": [
    {
     "name": "stdout",
     "output_type": "stream",
     "text": [
      "bit\n"
     ]
    }
   ],
   "source": [
    "m = re.search(bt,'he bit me')\n",
    "if m is not None:print m.group() "
   ]
  },
  {
   "cell_type": "markdown",
   "metadata": {},
   "source": [
    "到这里match()和search()的区别基本上就清晰了"
   ]
  },
  {
   "cell_type": "markdown",
   "metadata": {},
   "source": [
    "### 匹配任何单个字符\n",
    "点号（.）不能匹配一个换行符\\n 或者非字符，也就是说，一个空字符串"
   ]
  },
  {
   "cell_type": "code",
   "execution_count": 12,
   "metadata": {},
   "outputs": [
    {
     "name": "stdout",
     "output_type": "stream",
     "text": [
      "bend\n"
     ]
    }
   ],
   "source": [
    "anyend = '.end'\n",
    "m = re.match(anyend, 'bend')\n",
    "if m is not None:print m.group() "
   ]
  },
  {
   "cell_type": "code",
   "execution_count": 13,
   "metadata": {},
   "outputs": [],
   "source": [
    "m = re.match(anyend, 'end')\n",
    "if m is not None:print m.group() # 匹配失败"
   ]
  },
  {
   "cell_type": "code",
   "execution_count": 14,
   "metadata": {},
   "outputs": [],
   "source": [
    "m = re.match(anyend, '\\nend')\n",
    "if m is not None:print m.group() # 除了\\n之外的任何字符"
   ]
  },
  {
   "cell_type": "code",
   "execution_count": 15,
   "metadata": {},
   "outputs": [
    {
     "data": {
      "text/plain": [
       "' end'"
      ]
     },
     "execution_count": 15,
     "metadata": {},
     "output_type": "execute_result"
    }
   ],
   "source": [
    "m = re.search(anyend, 'The end.')\n",
    "if m is not None:str = m.group() # 可以匹配' '\n",
    "str"
   ]
  },
  {
   "cell_type": "code",
   "execution_count": 16,
   "metadata": {},
   "outputs": [
    {
     "data": {
      "text/plain": [
       "'3.14'"
      ]
     },
     "execution_count": 16,
     "metadata": {},
     "output_type": "execute_result"
    }
   ],
   "source": [
    "pat314 = '3.14'    # 表示正则表达式的点号\n",
    "pi_pat = '3\\.14'   # 表示字面量的点号 (dec. point)\n",
    "m = re.match(pi_pat,'3.14')  #精确匹配\n",
    "if m is not None:str = m.group() \n",
    "str"
   ]
  },
  {
   "cell_type": "code",
   "execution_count": 17,
   "metadata": {},
   "outputs": [
    {
     "data": {
      "text/plain": [
       "'3014'"
      ]
     },
     "execution_count": 17,
     "metadata": {},
     "output_type": "execute_result"
    }
   ],
   "source": [
    "m = re.match(pat314,'3014') # 点号匹配0\n",
    "if m is not None:str = m.group() \n",
    "str"
   ]
  },
  {
   "cell_type": "code",
   "execution_count": 18,
   "metadata": {},
   "outputs": [
    {
     "data": {
      "text/plain": [
       "'3.14'"
      ]
     },
     "execution_count": 18,
     "metadata": {},
     "output_type": "execute_result"
    }
   ],
   "source": [
    "m = re.match(pat314,'3.14') # 点号匹配.\n",
    "if m is not None:str = m.group() \n",
    "str"
   ]
  },
  {
   "cell_type": "markdown",
   "metadata": {},
   "source": [
    "### 创建字符集([ ])"
   ]
  },
  {
   "cell_type": "code",
   "execution_count": 19,
   "metadata": {},
   "outputs": [
    {
     "data": {
      "text/plain": [
       "'c3po'"
      ]
     },
     "execution_count": 19,
     "metadata": {},
     "output_type": "execute_result"
    }
   ],
   "source": [
    "m = re.match('[cr][23][dp][o2]', 'c3po')  # 匹配 'c3po'\n",
    "if m is not None:str = m.group()\n",
    "str"
   ]
  },
  {
   "cell_type": "code",
   "execution_count": 20,
   "metadata": {},
   "outputs": [
    {
     "data": {
      "text/plain": [
       "'r2d2'"
      ]
     },
     "execution_count": 20,
     "metadata": {},
     "output_type": "execute_result"
    }
   ],
   "source": [
    "m = re.match('r2d2|c3po', 'r2d2')# 匹配 'r2d2'\n",
    "if m is not None:str = m.group()\n",
    "str"
   ]
  },
  {
   "cell_type": "markdown",
   "metadata": {},
   "source": [
    "### 重复、特殊字符以及分组"
   ]
  },
  {
   "cell_type": "markdown",
   "metadata": {},
   "source": [
    "简单电子邮件地址的正则表达式`（\\w+@\\w+\\.com）`, `www.xxx.com`，仅仅允许 xxx.com 作为整个域名，必须修改现有的正则表达式.为了表示主机名是可选的，即`\\w+@(\\w+\\.)?\\w+\\.com`"
   ]
  },
  {
   "cell_type": "code",
   "execution_count": 21,
   "metadata": {},
   "outputs": [
    {
     "data": {
      "text/plain": [
       "'nobody@xxx.com'"
      ]
     },
     "execution_count": 21,
     "metadata": {},
     "output_type": "execute_result"
    }
   ],
   "source": [
    "patt  = '\\w+@(\\w+\\.)?\\w+\\.com'  # “？”操作符来表示该模式出现零次或者一次\n",
    "re.match(patt, 'nobody@xxx.com').group()"
   ]
  },
  {
   "cell_type": "code",
   "execution_count": 22,
   "metadata": {},
   "outputs": [
    {
     "data": {
      "text/plain": [
       "'nobody@www.xxx.yyy.zzz.com'"
      ]
     },
     "execution_count": 22,
     "metadata": {},
     "output_type": "execute_result"
    }
   ],
   "source": [
    "# 允许任意数量的中间子域名存在\n",
    "patt = '\\w+@(\\w+\\.)*\\w+\\.com'\n",
    "re.match(patt, 'nobody@www.xxx.yyy.zzz.com').group()"
   ]
  },
  {
   "cell_type": "markdown",
   "metadata": {},
   "source": [
    "更进一步"
   ]
  },
  {
   "cell_type": "code",
   "execution_count": 23,
   "metadata": {},
   "outputs": [
    {
     "data": {
      "text/plain": [
       "'abc-123'"
      ]
     },
     "execution_count": 23,
     "metadata": {},
     "output_type": "execute_result"
    }
   ],
   "source": [
    "m = re.match('(\\w\\w\\w)-(\\d\\d\\d)','abc-123')\n",
    "if m is not None:str = m.group()\n",
    "str"
   ]
  },
  {
   "cell_type": "code",
   "execution_count": 24,
   "metadata": {},
   "outputs": [
    {
     "data": {
      "text/plain": [
       "'abc'"
      ]
     },
     "execution_count": 24,
     "metadata": {},
     "output_type": "execute_result"
    }
   ],
   "source": [
    "m.group(1)  #子组1"
   ]
  },
  {
   "cell_type": "code",
   "execution_count": 25,
   "metadata": {},
   "outputs": [
    {
     "data": {
      "text/plain": [
       "'123'"
      ]
     },
     "execution_count": 25,
     "metadata": {},
     "output_type": "execute_result"
    }
   ],
   "source": [
    "m.group(2)"
   ]
  },
  {
   "cell_type": "code",
   "execution_count": 26,
   "metadata": {},
   "outputs": [
    {
     "data": {
      "text/plain": [
       "('abc', '123')"
      ]
     },
     "execution_count": 26,
     "metadata": {},
     "output_type": "execute_result"
    }
   ],
   "source": [
    "m.groups()"
   ]
  },
  {
   "cell_type": "markdown",
   "metadata": {},
   "source": [
    "更具体的分组操作"
   ]
  },
  {
   "cell_type": "code",
   "execution_count": 27,
   "metadata": {},
   "outputs": [
    {
     "data": {
      "text/plain": [
       "'ab'"
      ]
     },
     "execution_count": 27,
     "metadata": {},
     "output_type": "execute_result"
    }
   ],
   "source": [
    "m = re.match('ab','ab')\n",
    "m.group()"
   ]
  },
  {
   "cell_type": "code",
   "execution_count": 28,
   "metadata": {},
   "outputs": [
    {
     "data": {
      "text/plain": [
       "()"
      ]
     },
     "execution_count": 28,
     "metadata": {},
     "output_type": "execute_result"
    }
   ],
   "source": [
    "m.groups()  # 只抓取子组信息"
   ]
  },
  {
   "cell_type": "code",
   "execution_count": 29,
   "metadata": {},
   "outputs": [
    {
     "data": {
      "text/plain": [
       "'ab'"
      ]
     },
     "execution_count": 29,
     "metadata": {},
     "output_type": "execute_result"
    }
   ],
   "source": [
    "m = re.match('(ab)','ab')\n",
    "m.group()"
   ]
  },
  {
   "cell_type": "code",
   "execution_count": 30,
   "metadata": {},
   "outputs": [
    {
     "data": {
      "text/plain": [
       "'ab'"
      ]
     },
     "execution_count": 30,
     "metadata": {},
     "output_type": "execute_result"
    }
   ],
   "source": [
    "m.group(1)"
   ]
  },
  {
   "cell_type": "code",
   "execution_count": 31,
   "metadata": {},
   "outputs": [
    {
     "data": {
      "text/plain": [
       "('ab',)"
      ]
     },
     "execution_count": 31,
     "metadata": {},
     "output_type": "execute_result"
    }
   ],
   "source": [
    "m.groups() # 注意到元祖里面如果只有一个元素，需要加一个','号"
   ]
  },
  {
   "cell_type": "code",
   "execution_count": 32,
   "metadata": {},
   "outputs": [
    {
     "data": {
      "text/plain": [
       "'ab'"
      ]
     },
     "execution_count": 32,
     "metadata": {},
     "output_type": "execute_result"
    }
   ],
   "source": [
    "m = re.match('(a(b))', 'ab') # 两个子组\n",
    "m.group()"
   ]
  },
  {
   "cell_type": "code",
   "execution_count": 33,
   "metadata": {},
   "outputs": [
    {
     "data": {
      "text/plain": [
       "'ab'"
      ]
     },
     "execution_count": 33,
     "metadata": {},
     "output_type": "execute_result"
    }
   ],
   "source": [
    "m.group(1)"
   ]
  },
  {
   "cell_type": "code",
   "execution_count": 34,
   "metadata": {},
   "outputs": [
    {
     "data": {
      "text/plain": [
       "'b'"
      ]
     },
     "execution_count": 34,
     "metadata": {},
     "output_type": "execute_result"
    }
   ],
   "source": [
    "m.group(2)"
   ]
  },
  {
   "cell_type": "code",
   "execution_count": 35,
   "metadata": {},
   "outputs": [
    {
     "data": {
      "text/plain": [
       "('ab', 'b')"
      ]
     },
     "execution_count": 35,
     "metadata": {},
     "output_type": "execute_result"
    }
   ],
   "source": [
    "m.groups()"
   ]
  },
  {
   "cell_type": "markdown",
   "metadata": {},
   "source": [
    "### 匹配字符串的起始和结尾以及单词边界\n",
    "更多用于表示搜索而不是匹配"
   ]
  },
  {
   "cell_type": "code",
   "execution_count": 36,
   "metadata": {},
   "outputs": [
    {
     "name": "stdout",
     "output_type": "stream",
     "text": [
      "The\n"
     ]
    }
   ],
   "source": [
    "m = re.search('The','The end.')\n",
    "if m is not None: print m.group()"
   ]
  },
  {
   "cell_type": "code",
   "execution_count": 37,
   "metadata": {},
   "outputs": [],
   "source": [
    "m = re.search('^The','end. The')\n",
    "if m is not None:print m.group()"
   ]
  },
  {
   "cell_type": "code",
   "execution_count": 38,
   "metadata": {},
   "outputs": [
    {
     "name": "stdout",
     "output_type": "stream",
     "text": [
      "the\n"
     ]
    }
   ],
   "source": [
    "m = re.search(r'\\bthe','bite the dog')# 在边界\n",
    "if m is not None: print m.group()"
   ]
  },
  {
   "cell_type": "code",
   "execution_count": 39,
   "metadata": {},
   "outputs": [],
   "source": [
    "m = re.search(r'\\bthe', 'bitethe dog') # 有边界\n",
    "if m is not None: print m.group()"
   ]
  },
  {
   "cell_type": "code",
   "execution_count": 40,
   "metadata": {},
   "outputs": [
    {
     "name": "stdout",
     "output_type": "stream",
     "text": [
      "the\n"
     ]
    }
   ],
   "source": [
    "m = re.search(r'\\Bthe', 'bitethe dog') # 有边界\n",
    "if m is not None: print m.group()"
   ]
  },
  {
   "cell_type": "markdown",
   "metadata": {},
   "source": [
    "### 使用 findall()和 finditer()查找每一次出现的位置\n",
    "```\n",
    "findall(pattern ， string [, flags] )\n",
    "```\n",
    "查找字符串中所有（非重复）出现的正则表达式模式，并返回一个匹配列表\n",
    "```\n",
    "finditer(pattern ， string [, flags] )\n",
    "```\n",
    "与 findall()函数相同，但返回的不是一个列表，而是一个迭代器。对于每一次匹配，迭\n",
    "代器都返回一个匹配对象"
   ]
  },
  {
   "cell_type": "code",
   "execution_count": 41,
   "metadata": {},
   "outputs": [
    {
     "data": {
      "text/plain": [
       "['car']"
      ]
     },
     "execution_count": 41,
     "metadata": {},
     "output_type": "execute_result"
    }
   ],
   "source": [
    "re.findall('car','car')"
   ]
  },
  {
   "cell_type": "code",
   "execution_count": 42,
   "metadata": {},
   "outputs": [
    {
     "data": {
      "text/plain": [
       "['car']"
      ]
     },
     "execution_count": 42,
     "metadata": {},
     "output_type": "execute_result"
    }
   ],
   "source": [
    "re.findall('car','scary')"
   ]
  },
  {
   "cell_type": "code",
   "execution_count": 43,
   "metadata": {},
   "outputs": [
    {
     "data": {
      "text/plain": [
       "['car', 'car', 'car']"
      ]
     },
     "execution_count": 43,
     "metadata": {},
     "output_type": "execute_result"
    }
   ],
   "source": [
    "re.findall('car','carry the barcardi to the car')"
   ]
  },
  {
   "cell_type": "code",
   "execution_count": 44,
   "metadata": {},
   "outputs": [
    {
     "data": {
      "text/plain": [
       "[('This', 'that')]"
      ]
     },
     "execution_count": 44,
     "metadata": {},
     "output_type": "execute_result"
    }
   ],
   "source": [
    "s = 'This and that.'\n",
    "re.findall(r'(th\\w+) and (th\\w+)',s,re.I)"
   ]
  },
  {
   "cell_type": "code",
   "execution_count": 45,
   "metadata": {},
   "outputs": [
    {
     "data": {
      "text/plain": [
       "('This', 'that')"
      ]
     },
     "execution_count": 45,
     "metadata": {},
     "output_type": "execute_result"
    }
   ],
   "source": [
    "re.finditer(r'(th\\w+) and (th\\w+)', s,re.I).next().groups()"
   ]
  },
  {
   "cell_type": "code",
   "execution_count": 46,
   "metadata": {},
   "outputs": [
    {
     "data": {
      "text/plain": [
       "'This'"
      ]
     },
     "execution_count": 46,
     "metadata": {},
     "output_type": "execute_result"
    }
   ],
   "source": [
    "re.finditer(r'(th\\w+) and (th\\w+)', s,re.I).next().group(1)"
   ]
  },
  {
   "cell_type": "code",
   "execution_count": 47,
   "metadata": {},
   "outputs": [
    {
     "data": {
      "text/plain": [
       "[('This', 'that')]"
      ]
     },
     "execution_count": 47,
     "metadata": {},
     "output_type": "execute_result"
    }
   ],
   "source": [
    " [g.groups() for g in re.finditer(r'(th\\w+) and (th\\w+)',s, re.I)]"
   ]
  },
  {
   "cell_type": "markdown",
   "metadata": {},
   "source": [
    "多重匹配"
   ]
  },
  {
   "cell_type": "code",
   "execution_count": 48,
   "metadata": {},
   "outputs": [
    {
     "data": {
      "text/plain": [
       "['This', 'that']"
      ]
     },
     "execution_count": 48,
     "metadata": {},
     "output_type": "execute_result"
    }
   ],
   "source": [
    "re.findall(r'(th\\w+)', s, re.I)"
   ]
  },
  {
   "cell_type": "code",
   "execution_count": 49,
   "metadata": {},
   "outputs": [
    {
     "data": {
      "text/plain": [
       "('This',)"
      ]
     },
     "execution_count": 49,
     "metadata": {},
     "output_type": "execute_result"
    }
   ],
   "source": [
    "it = re.finditer(r'(th\\w+)', s, re.I)\n",
    "g = it.next()\n",
    "g.groups()"
   ]
  },
  {
   "cell_type": "code",
   "execution_count": 50,
   "metadata": {},
   "outputs": [
    {
     "data": {
      "text/plain": [
       "'This'"
      ]
     },
     "execution_count": 50,
     "metadata": {},
     "output_type": "execute_result"
    }
   ],
   "source": [
    "g.group(1)"
   ]
  },
  {
   "cell_type": "code",
   "execution_count": 51,
   "metadata": {},
   "outputs": [
    {
     "data": {
      "text/plain": [
       "('that',)"
      ]
     },
     "execution_count": 51,
     "metadata": {},
     "output_type": "execute_result"
    }
   ],
   "source": [
    "g = it.next()\n",
    "g.groups()"
   ]
  },
  {
   "cell_type": "code",
   "execution_count": 52,
   "metadata": {},
   "outputs": [
    {
     "data": {
      "text/plain": [
       "'that'"
      ]
     },
     "execution_count": 52,
     "metadata": {},
     "output_type": "execute_result"
    }
   ],
   "source": [
    "g.group(1)"
   ]
  },
  {
   "cell_type": "code",
   "execution_count": 53,
   "metadata": {},
   "outputs": [
    {
     "data": {
      "text/plain": [
       "['This', 'that']"
      ]
     },
     "execution_count": 53,
     "metadata": {},
     "output_type": "execute_result"
    }
   ],
   "source": [
    "[g.group(1) for g in re.finditer(r'(th\\w+)',s,re.I)]"
   ]
  },
  {
   "cell_type": "markdown",
   "metadata": {},
   "source": [
    "### 使用 sub()和 subn()搜索与替换\n",
    "两者几乎一样，都是将某字符串中所有匹配正则表达式的部分进行某种形式的替换，但它也可能是一个函数，该函数返回一个用来替换的字符串。\n",
    "\n",
    "subn()还返回一个表示替换的总数，**替换后的字符串和表示替换总数的数字**一起作为一个拥有两个元素的元组返回。"
   ]
  },
  {
   "cell_type": "code",
   "execution_count": 54,
   "metadata": {},
   "outputs": [
    {
     "data": {
      "text/plain": [
       "'attn: Mr. Smith\\n\\nDear Mr. Smith,\\n'"
      ]
     },
     "execution_count": 54,
     "metadata": {},
     "output_type": "execute_result"
    }
   ],
   "source": [
    "re.sub('X', 'Mr. Smith', 'attn: X\\n\\nDear X,\\n')"
   ]
  },
  {
   "cell_type": "code",
   "execution_count": 55,
   "metadata": {},
   "outputs": [
    {
     "data": {
      "text/plain": [
       "('attn: Mr. Smith\\n\\nDear Mr. Smith,\\n', 2)"
      ]
     },
     "execution_count": 55,
     "metadata": {},
     "output_type": "execute_result"
    }
   ],
   "source": [
    "re.subn('X', 'Mr. Smith', 'attn: X\\n\\nDear X,\\n')"
   ]
  },
  {
   "cell_type": "code",
   "execution_count": 56,
   "metadata": {},
   "outputs": [
    {
     "name": "stdout",
     "output_type": "stream",
     "text": [
      "attn: Mr. Smith\n",
      "\n",
      "Dear Mr. Smith,\n",
      "\n"
     ]
    }
   ],
   "source": [
    "print re.sub('X', 'Mr. Smith', 'attn: X\\n\\nDear X,\\n')"
   ]
  },
  {
   "cell_type": "code",
   "execution_count": 57,
   "metadata": {},
   "outputs": [
    {
     "data": {
      "text/plain": [
       "'XbcdXf'"
      ]
     },
     "execution_count": 57,
     "metadata": {},
     "output_type": "execute_result"
    }
   ],
   "source": [
    "re.sub('[ae]', 'X', 'abcdef')"
   ]
  },
  {
   "cell_type": "code",
   "execution_count": 58,
   "metadata": {},
   "outputs": [
    {
     "data": {
      "text/plain": [
       "('XbcdXf', 2)"
      ]
     },
     "execution_count": 58,
     "metadata": {},
     "output_type": "execute_result"
    }
   ],
   "source": [
    "re.subn('[ae]', 'X', 'abcdef')"
   ]
  },
  {
   "cell_type": "markdown",
   "metadata": {},
   "source": [
    "**另一种分组编号：**\n",
    "\n",
    "group（）方法除了能够取出匹配分组编号外，还可以使用\\N，其中 N 是在替换字符串中使用的分组编号"
   ]
  },
  {
   "cell_type": "code",
   "execution_count": 59,
   "metadata": {},
   "outputs": [
    {
     "data": {
      "text/plain": [
       "'20/2/91'"
      ]
     },
     "execution_count": 59,
     "metadata": {},
     "output_type": "execute_result"
    }
   ],
   "source": [
    "re.sub(r'(\\d{1,2})/(\\d{1,2})/(\\d{2}|\\d{4})',r'\\2/\\1/\\3', '2/20/91') # 分组重排"
   ]
  },
  {
   "cell_type": "code",
   "execution_count": 60,
   "metadata": {},
   "outputs": [
    {
     "data": {
      "text/plain": [
       "'20/2/1991'"
      ]
     },
     "execution_count": 60,
     "metadata": {},
     "output_type": "execute_result"
    }
   ],
   "source": [
    "re.sub(r'(\\d{1,2})/(\\d{1,2})/(\\d{2}|\\d{4})',r'\\2/\\1/\\3', '2/20/1991')"
   ]
  },
  {
   "cell_type": "markdown",
   "metadata": {},
   "source": [
    "### 在限定模式上使用 split()分隔字符串"
   ]
  },
  {
   "cell_type": "code",
   "execution_count": 61,
   "metadata": {},
   "outputs": [
    {
     "name": "stdout",
     "output_type": "stream",
     "text": [
      "['Mountain View', 'CA', '94040']\n",
      "['Sunnyvale', 'CA']\n",
      "['Los Altos', '94023']\n",
      "['Cupertino', '95014']\n",
      "['Palo Alto', 'CA']\n"
     ]
    }
   ],
   "source": [
    "DATA = (\n",
    "    'Mountain View, CA 94040',\n",
    "    'Sunnyvale, CA',\n",
    "    'Los Altos, 94023',\n",
    "    'Cupertino 95014',\n",
    "    'Palo Alto CA',\n",
    "    )\n",
    "for datum in DATA:\n",
    "    # 如果空格紧跟在五个数字（ZIP 编码）或者两个大写字母（美国联邦州缩\n",
    "    # 写）之后，就用 split 语句分割该空格。\n",
    "    print re.split(', |(?= (?:\\d{5}|[A-Z]{2})) ', datum) "
   ]
  },
  {
   "cell_type": "markdown",
   "metadata": {},
   "source": [
    "### 扩展符号"
   ]
  },
  {
   "cell_type": "markdown",
   "metadata": {},
   "source": [
    "** i不区分大小写 **"
   ]
  },
  {
   "cell_type": "code",
   "execution_count": 62,
   "metadata": {},
   "outputs": [
    {
     "data": {
      "text/plain": [
       "['yes', 'Yes', 'YES']"
      ]
     },
     "execution_count": 62,
     "metadata": {},
     "output_type": "execute_result"
    }
   ],
   "source": [
    "re.findall(r'(?i)yes', 'yes? Yes. YES!!')"
   ]
  },
  {
   "cell_type": "code",
   "execution_count": 63,
   "metadata": {},
   "outputs": [
    {
     "data": {
      "text/plain": [
       "['The', 'through', 'thistunnel']"
      ]
     },
     "execution_count": 63,
     "metadata": {},
     "output_type": "execute_result"
    }
   ],
   "source": [
    "re.findall(r'(?i)th\\w+', 'The quickest way is through thistunnel.')"
   ]
  },
  {
   "cell_type": "code",
   "execution_count": 64,
   "metadata": {},
   "outputs": [
    {
     "data": {
      "text/plain": [
       "['This line is the first', 'ther line', 'that line', 'the best']"
      ]
     },
     "execution_count": 64,
     "metadata": {},
     "output_type": "execute_result"
    }
   ],
   "source": [
    "re.findall(r'(?im)(th[\\w ]+)',\"\"\"\n",
    "    This line is the first,\n",
    "    another line,\n",
    "    that line, it's the best\n",
    "    \"\"\")\n",
    "# 这里貌似书籍翻译错了"
   ]
  },
  {
   "cell_type": "code",
   "execution_count": 65,
   "metadata": {},
   "outputs": [
    {
     "data": {
      "text/plain": [
       "['the second line', 'the third line']"
      ]
     },
     "execution_count": 65,
     "metadata": {},
     "output_type": "execute_result"
    }
   ],
   "source": [
    "re.findall(r'th.+', '''\n",
    "    The first line\n",
    "    the second line\n",
    "    the third line\n",
    "    ''')"
   ]
  },
  {
   "cell_type": "markdown",
   "metadata": {},
   "source": [
    "x该标记允许用户通过抑制在正则表达式中使用空白符（除了在字符类中或者在反斜线转义中）来创建更易读的正则表达式"
   ]
  },
  {
   "cell_type": "code",
   "execution_count": 66,
   "metadata": {},
   "outputs": [
    {
     "data": {
      "text/plain": [
       "('800', '555', '1212')"
      ]
     },
     "execution_count": 66,
     "metadata": {},
     "output_type": "execute_result"
    }
   ],
   "source": [
    "re.search(r'''(?x)\n",
    "    \\((\\d{3})\\)             # 区号\n",
    "    [ ]                     # 空白符\n",
    "    (\\d{3})                 # 前缀\n",
    "    -                       # 横线\n",
    "    (\\d{4})                 # 终点数字\n",
    "    ''', '(800) 555-1212').groups()"
   ]
  },
  {
   "cell_type": "markdown",
   "metadata": {},
   "source": [
    "(?:…)对部分正则表达式进行分组，但是**并不会保存该分组**用于后续的检索或者应用"
   ]
  },
  {
   "cell_type": "code",
   "execution_count": 67,
   "metadata": {
    "scrolled": true
   },
   "outputs": [
    {
     "data": {
      "text/plain": [
       "['google.com', 'google.com', 'google.com']"
      ]
     },
     "execution_count": 67,
     "metadata": {},
     "output_type": "execute_result"
    }
   ],
   "source": [
    "re.findall(r'http://(?:\\w+\\.)*(\\w+\\.com)',\n",
    "           'http://google.com http://www.google.com http://code.google.com')"
   ]
  },
  {
   "cell_type": "markdown",
   "metadata": {},
   "source": [
    "**对于正则表达式，尽量使用原始字符串**"
   ]
  },
  {
   "cell_type": "markdown",
   "metadata": {},
   "source": [
    "## 正则表达式示例"
   ]
  },
  {
   "cell_type": "markdown",
   "metadata": {},
   "source": [
    "### 复习jupyter魔法"
   ]
  },
  {
   "cell_type": "markdown",
   "metadata": {},
   "source": [
    "1. 这个是Jupyter的魔法使用，将字符串写入文件，回顾一下算了,具体见笔记：\n",
    "[Ipython解释器](/notebooks/python-tools/02-ipython-interpreter.ipynb)"
   ]
  },
  {
   "cell_type": "code",
   "execution_count": 68,
   "metadata": {},
   "outputs": [
    {
     "name": "stdout",
     "output_type": "stream",
     "text": [
      "Overwriting whodata.txt\n"
     ]
    }
   ],
   "source": [
    "%%writefile whodata.txt\n",
    "wesley console Jun 20 20:33\n",
    "wesley pts/9 Jun 22 01:38 (192.168.0.6)\n",
    "wesley pts/1 Jun 20 20:33 (:0.0)\n",
    "wesley pts/2 Jun 20 20:33 (:0.0)\n",
    "wesley pts/4 Jun 20 20:33 (:0.0)\n",
    "wesley pts/3 Jun 20 20:33 (:0.0)\n",
    "wesley pts/5 Jun 20 20:33 (:0.0)\n",
    "wesley pts/6 Jun 20 20:33 (:0.0)\n",
    "wesley pts/7 Jun 20 20:33 (:0.0)\n",
    "wesley pts/8 Jun 20 20:33 (:0.0) "
   ]
  },
  {
   "cell_type": "markdown",
   "metadata": {},
   "source": [
    "2. 加载文件"
   ]
  },
  {
   "cell_type": "code",
   "execution_count": 69,
   "metadata": {
    "scrolled": true
   },
   "outputs": [
    {
     "ename": "SyntaxError",
     "evalue": "invalid syntax (<ipython-input-69-851b49c8cf42>, line 2)",
     "output_type": "error",
     "traceback": [
      "\u001b[1;36m  File \u001b[1;32m\"<ipython-input-69-851b49c8cf42>\"\u001b[1;36m, line \u001b[1;32m2\u001b[0m\n\u001b[1;33m    wesley console Jun 20 20:33\u001b[0m\n\u001b[1;37m                 ^\u001b[0m\n\u001b[1;31mSyntaxError\u001b[0m\u001b[1;31m:\u001b[0m invalid syntax\n"
     ]
    }
   ],
   "source": [
    "# %load whodata.txt\n",
    "wesley console Jun 20 20:33\n",
    "wesley pts/9 Jun 22 01:38 (192.168.0.6)\n",
    "wesley pts/1 Jun 20 20:33 (:0.0)\n",
    "wesley pts/2 Jun 20 20:33 (:0.0)\n",
    "wesley pts/4 Jun 20 20:33 (:0.0)\n",
    "wesley pts/3 Jun 20 20:33 (:0.0)\n",
    "wesley pts/5 Jun 20 20:33 (:0.0)\n",
    "wesley pts/6 Jun 20 20:33 (:0.0)\n",
    "wesley pts/7 Jun 20 20:33 (:0.0)\n",
    "wesley pts/8 Jun 20 20:33 (:0.0) "
   ]
  },
  {
   "cell_type": "code",
   "execution_count": 96,
   "metadata": {},
   "outputs": [
    {
     "name": "stdout",
     "output_type": "stream",
     "text": [
      "Writing test.py\n"
     ]
    }
   ],
   "source": [
    "%%writefile test.py\n",
    "print 'Hello world'"
   ]
  },
  {
   "cell_type": "markdown",
   "metadata": {},
   "source": [
    "3. 运行文件"
   ]
  },
  {
   "cell_type": "code",
   "execution_count": 97,
   "metadata": {},
   "outputs": [
    {
     "name": "stdout",
     "output_type": "stream",
     "text": [
      "Hello world\n"
     ]
    }
   ],
   "source": [
    "%run test.py"
   ]
  },
  {
   "cell_type": "code",
   "execution_count": 98,
   "metadata": {},
   "outputs": [
    {
     "name": "stdout",
     "output_type": "stream",
     "text": [
      "Hello world\n"
     ]
    }
   ],
   "source": [
    "!python test.py"
   ]
  },
  {
   "cell_type": "markdown",
   "metadata": {},
   "source": [
    "4. 删除文件"
   ]
  },
  {
   "cell_type": "code",
   "execution_count": 99,
   "metadata": {},
   "outputs": [],
   "source": [
    "import os\n",
    "os.remove('test.py')"
   ]
  },
  {
   "cell_type": "code",
   "execution_count": 100,
   "metadata": {},
   "outputs": [
    {
     "name": "stdout",
     "output_type": "stream",
     "text": [
      " 驱动器 E 中的卷是 File Sharing\n",
      " 卷的序列号是 8EC1-8F11\n",
      "\n",
      " E:\\01-note\\02-python27\\python-essentials 的目录\n",
      "\n",
      "2018/07/27  16:39    <DIR>          .\n",
      "2018/07/27  16:39    <DIR>          ..\n",
      "2018/07/27  16:37    <DIR>          .ipynb_checkpoints\n",
      "2018/07/04  13:52            43,159 01-introduction-python.ipynb\n",
      "2018/07/04  14:00             2,128 02-date-types.ipynb\n",
      "2018/07/04  16:38            16,521 03-numbers.ipynb\n",
      "2018/07/04  17:12            20,246 04-strings.ipynb\n",
      "2018/07/04  17:24             6,082 05-indexing-slicing.ipynb\n",
      "2018/07/17  10:46            17,320 06-lists.ipynb\n",
      "2018/07/27  16:39            88,439 07-python-regular-expression.ipynb\n",
      "2018/07/17  08:57             6,674 08-mutable-and-immutable-data-types.ipynb\n",
      "2018/07/17  09:19             5,501 09-tuples.ipynb\n",
      "2018/07/18  06:48             4,489 10-speed-comparison-between-list-&-tuple.ipynb\n",
      "2018/07/17  10:27            18,421 11-dictionary.ipynb\n",
      "2018/07/17  10:56            14,120 12-set.ipynb\n",
      "2018/07/17  11:09             3,317 13-frozen-sets.ipynb\n",
      "2018/07/17  11:50            12,767 14-how-python-assignment-works.ipynb\n",
      "2018/07/17  12:48             5,272 15-if-statement.ipynb\n",
      "2018/07/17  13:19             7,893 16-loops.ipynb\n",
      "2018/07/17  14:40             4,596 17-list-comprehension.ipynb\n",
      "2018/07/17  15:04            11,776 18-functions.ipynb\n",
      "2018/07/17  15:33            10,113 19-modules-and-packages.ipynb\n",
      "2018/07/17  16:24            16,718 20-exceptions.ipynb\n",
      "2018/07/17  16:30             2,893 21-warnings.ipynb\n",
      "2018/07/17  16:57           177,920 22-file-IO.ipynb\n",
      "2018/07/17  15:08               359 ex1.pyc\n",
      "2018/07/17  15:19               739 ex2.pyc\n",
      "2018/07/27  16:38               673 gendata.py\n",
      "2018/07/27  16:38               255 retasklist.py\n",
      "2018/07/27  16:38               152 whodata.py\n",
      "2018/07/27  16:38               341 whodata.txt\n",
      "              28 个文件        498,884 字节\n",
      "               3 个目录 47,198,081,024 可用字节\n"
     ]
    }
   ],
   "source": [
    "%ls"
   ]
  },
  {
   "cell_type": "markdown",
   "metadata": {},
   "source": [
    "### 正则表达式示例"
   ]
  },
  {
   "cell_type": "code",
   "execution_count": 101,
   "metadata": {},
   "outputs": [
    {
     "name": "stdout",
     "output_type": "stream",
     "text": [
      "Overwriting whodata.py\n"
     ]
    }
   ],
   "source": [
    "%%writefile whodata.py\n",
    "import re\n",
    "f = open('whodata.txt', 'r')\n",
    "for eachLine in f:\n",
    "    print re.split(r'\\s\\s+', eachLine)\n",
    "f.close()"
   ]
  },
  {
   "cell_type": "code",
   "execution_count": 102,
   "metadata": {},
   "outputs": [
    {
     "name": "stdout",
     "output_type": "stream",
     "text": [
      "['wesley console Jun 20 20:33\\n']\n",
      "['wesley pts/9 Jun 22 01:38 (192.168.0.6)\\n']\n",
      "['wesley pts/1 Jun 20 20:33 (:0.0)\\n']\n",
      "['wesley pts/2 Jun 20 20:33 (:0.0)\\n']\n",
      "['wesley pts/4 Jun 20 20:33 (:0.0)\\n']\n",
      "['wesley pts/3 Jun 20 20:33 (:0.0)\\n']\n",
      "['wesley pts/5 Jun 20 20:33 (:0.0)\\n']\n",
      "['wesley pts/6 Jun 20 20:33 (:0.0)\\n']\n",
      "['wesley pts/7 Jun 20 20:33 (:0.0)\\n']\n",
      "['wesley pts/8 Jun 20 20:33 (:0.0) ']\n"
     ]
    }
   ],
   "source": [
    "%run whodata.py"
   ]
  },
  {
   "cell_type": "markdown",
   "metadata": {},
   "source": [
    "#### 分割 POSIX 的 who 命令输出（whodate.py)"
   ]
  },
  {
   "cell_type": "code",
   "execution_count": 103,
   "metadata": {},
   "outputs": [
    {
     "name": "stdout",
     "output_type": "stream",
     "text": [
      "Overwriting whodata.py\n"
     ]
    }
   ],
   "source": [
    "%%writefile whodata.py\n",
    "import re\n",
    "import os\n",
    "with os.popen('whodata.txt', 'r') as f:\n",
    "    for eachLine in f:\n",
    "        print re.split(r'\\s\\s+|\\t', eachLine.rstrip())\n",
    "f.close()"
   ]
  },
  {
   "cell_type": "code",
   "execution_count": 104,
   "metadata": {},
   "outputs": [],
   "source": [
    "%run whodata.py "
   ]
  },
  {
   "cell_type": "markdown",
   "metadata": {},
   "source": [
    "tasklist相当于linux里的who"
   ]
  },
  {
   "cell_type": "code",
   "execution_count": 105,
   "metadata": {},
   "outputs": [
    {
     "name": "stdout",
     "output_type": "stream",
     "text": [
      "\n",
      "映像名称                       PID 会话名              会话#       内存使用 \n",
      "========================= ======== ================ =========== ============\n",
      "System Idle Process              0 Services                   0          8 K\n",
      "System                           4 Services                   0        140 K\n",
      "Registry                        96 Services                   0     46,220 K\n",
      "smss.exe                       348 Services                   0        924 K\n",
      "csrss.exe                      528 Services                   0      3,920 K\n",
      "wininit.exe                    632 Services                   0      4,656 K\n",
      "csrss.exe                      644 Console                    1      4,692 K\n",
      "winlogon.exe                   736 Console                    1      7,132 K\n",
      "services.exe                   856 Services                   0      7,540 K\n",
      "lsass.exe                      868 Services                   0     14,756 K\n",
      "svchost.exe                    984 Services                   0      3,236 K\n",
      "fontdrvhost.exe                996 Console                    1     15,312 K\n",
      "fontdrvhost.exe                992 Services                   0      2,564 K\n",
      "svchost.exe                    464 Services                   0     26,972 K\n",
      "WUDFHost.exe                   488 Services                   0      5,124 K\n",
      "svchost.exe                    844 Services                   0     13,908 K\n",
      "svchost.exe                    800 Services                   0      7,796 K\n",
      "dwm.exe                       1108 Console                    1     54,276 K\n",
      "svchost.exe                   1188 Services                   0      9,084 K\n",
      "svchost.exe                   1244 Services                   0     13,952 K\n",
      "svchost.exe                   1364 Services                   0      8,052 K\n",
      "svchost.exe                   1444 Services                   0     10,832 K\n",
      "svchost.exe                   1492 Services                   0     12,476 K\n",
      "svchost.exe                   1500 Services                   0     13,180 K\n",
      "svchost.exe                   1564 Services                   0      9,208 K\n",
      "svchost.exe                   1640 Services                   0      5,972 K\n",
      "svchost.exe                   1648 Services                   0      8,164 K\n",
      "svchost.exe                   1724 Services                   0      7,712 K\n",
      "nvvsvc.exe                    1756 Services                   0      7,916 K\n",
      "svchost.exe                   1808 Services                   0      6,832 K\n",
      "nvxdsync.exe                  1936 Console                    1     18,564 K\n",
      "svchost.exe                   1964 Services                   0     10,720 K\n",
      "svchost.exe                   1340 Services                   0      7,996 K\n",
      "svchost.exe                   1612 Services                   0      8,768 K\n",
      "suservice.exe                 2152 Services                   0      7,204 K\n",
      "svchost.exe                   2188 Services                   0      6,672 K\n",
      "svchost.exe                   2284 Services                   0      6,204 K\n",
      "svchost.exe                   2292 Services                   0      6,048 K\n",
      "svchost.exe                   2300 Services                   0     73,516 K\n",
      "svchost.exe                   2316 Services                   0      4,888 K\n",
      "svchost.exe                   2452 Services                   0      6,844 K\n",
      "Memory Compression            2468 Services                   0    160,312 K\n",
      "igfxCUIService.exe            2576 Services                   0      7,392 K\n",
      "svchost.exe                   2648 Services                   0      6,096 K\n",
      "svchost.exe                   2656 Services                   0      7,896 K\n",
      "svchost.exe                   2680 Services                   0      6,988 K\n",
      "svchost.exe                   2768 Services                   0      6,952 K\n",
      "svchost.exe                   2776 Services                   0     13,684 K\n",
      "winwfpmonitor.exe             2848 Services                   0      1,056 K\n",
      "svchost.exe                   2880 Services                   0     10,888 K\n",
      "RtkAudioService64.exe         2976 Services                   0      5,356 K\n",
      "svchost.exe                   2984 Services                   0     14,408 K\n",
      "svchost.exe                   2440 Services                   0     16,244 K\n",
      "HaozipSvc.exe                 3076 Services                   0     13,784 K\n",
      "svchost.exe                   3088 Services                   0      5,608 K\n",
      "svchost.exe                   3104 Services                   0      9,408 K\n",
      "RAVBg64.exe                   3444 Console                    1      8,172 K\n",
      "RAVBg64.exe                   3464 Console                    1      7,988 K\n",
      "svchost.exe                   3520 Services                   0     11,716 K\n",
      "svchost.exe                   3616 Services                   0      9,416 K\n",
      "svchost.exe                   3612 Services                   0      9,876 K\n",
      "svchost.exe                   3664 Services                   0      5,572 K\n",
      "svchost.exe                   3680 Services                   0      5,724 K\n",
      "spoolsv.exe                   3832 Services                   0      8,436 K\n",
      "CAJSHost.exe                  4016 Services                   0      4,828 K\n",
      "svchost.exe                   4024 Services                   0      7,152 K\n",
      "FlashHelperService.exe        4032 Services                   0      9,336 K\n",
      "svchost.exe                   4040 Services                   0     24,172 K\n",
      "svchost.exe                   4048 Services                   0     11,468 K\n",
      "svchost.exe                   4068 Services                   0     24,496 K\n",
      "OfficeClickToRun.exe          4080 Services                   0     22,356 K\n",
      "QQProtect.exe                 4092 Services                   0     16,256 K\n",
      "svchost.exe                   3304 Services                   0      5,224 K\n",
      "svchost.exe                   2716 Services                   0      7,344 K\n",
      "IpOverUsbSvc.exe              3396 Services                   0      7,328 K\n",
      "sqlwriter.exe                 2932 Services                   0      5,556 K\n",
      "svchost.exe                   2400 Services                   0      6,564 K\n",
      "SynTPEnhService.exe           3944 Services                   0      3,612 K\n",
      "SecurityHealthService.exe     4108 Services                   0     10,524 K\n",
      "svchost.exe                   4164 Services                   0      4,768 K\n",
      "MsMpEng.exe                   4240 Services                   0    156,676 K\n",
      "svchost.exe                   4284 Services                   0     19,444 K\n",
      "svchost.exe                   4444 Services                   0      5,400 K\n",
      "svchost.exe                   4500 Services                   0      5,064 K\n",
      "svchost.exe                   4628 Services                   0      5,480 K\n",
      "svchost.exe                   4764 Services                   0      9,376 K\n",
      "sihost.exe                    5948 Console                    1     19,596 K\n",
      "svchost.exe                   6092 Console                    1     25,056 K\n",
      "svchost.exe                   6100 Services                   0      5,180 K\n",
      "SynTPEnh.exe                  6132 Console                    1     11,888 K\n",
      "svchost.exe                   5592 Console                    1     25,740 K\n",
      "explorer.exe                  5608 Console                    1    233,416 K\n",
      "taskhostw.exe                 3172 Console                    1     16,976 K\n",
      "svchost.exe                   6256 Services                   0     13,336 K\n",
      "svchost.exe                   6708 Services                   0      5,964 K\n",
      "svchost.exe                   6748 Services                   0      6,664 K\n",
      "SearchIndexer.exe             6780 Services                   0     60,696 K\n",
      "NisSrv.exe                    6788 Services                   0      9,220 K\n",
      "svchost.exe                   6864 Services                   0     10,500 K\n",
      "svchost.exe                   7012 Services                   0     10,748 K\n",
      "SynTPHelper.exe               7104 Console                    1      3,472 K\n",
      "svchost.exe                   5892 Services                   0      6,332 K\n",
      "ctfmon.exe                    7048 Console                    1     49,308 K\n",
      "ChsIME.exe                    5644 Console                    1     61,892 K\n",
      "svchost.exe                   7116 Services                   0     14,660 K\n",
      "RuntimeBroker.exe             7692 Console                    1     29,816 K\n",
      "svchost.exe                   8188 Services                   0     17,808 K\n",
      "PresentationFontCache.exe     7504 Services                   0     15,220 K\n",
      "RAVBg64.exe                   7232 Console                    1        412 K\n",
      "SettingSyncHost.exe           8276 Console                    1      3,648 K\n",
      "igfxEM.exe                    8896 Console                    1     10,216 K\n",
      "igfxHK.exe                    8920 Console                    1      7,376 K\n",
      "Video.UI.exe                  8988 Console                    1     14,604 K\n",
      "PicGo.exe                     6796 Console                    1     30,136 K\n",
      "InputPersonalization.exe      1308 Console                    1     14,644 K\n",
      "WindowsInternal.Composabl     3488 Console                    1     12,732 K\n",
      "nvtray.exe                    4116 Console                    1     10,076 K\n",
      "svchost.exe                   4656 Services                   0     13,196 K\n",
      "dllhost.exe                    792 Console                    1      9,708 K\n",
      "svchost.exe                   3048 Services                   0      6,844 K\n",
      "NvBackend.exe                 3328 Console                    1      7,188 K\n",
      "PicGo.exe                     1156 Console                    1      6,324 K\n",
      "PicGo.exe                     8244 Console                    1      4,704 K\n",
      "svchost.exe                   7084 Console                    1     22,936 K\n",
      "GoogleCrashHandler.exe         788 Services                   0        172 K\n",
      "RuntimeBroker.exe             9184 Console                    1      7,284 K\n",
      "GoogleCrashHandler64.exe      3756 Services                   0        168 K\n",
      "svchost.exe                  10064 Services                   0     16,176 K\n",
      "svchost.exe                  10684 Services                   0      7,520 K\n",
      "SgrmBroker.exe               10776 Services                   0      6,020 K\n",
      "svchost.exe                   9684 Services                   0      8,256 K\n",
      "svchost.exe                  10604 Services                   0     10,720 K\n",
      "svchost.exe                  10396 Services                   0      6,992 K\n",
      "explorer.exe                 10848 Console                    1    142,144 K\n",
      "Microsoft.Photos.exe          5584 Console                    1     49,760 K\n",
      "svchost.exe                  10836 Services                   0      8,348 K\n",
      "RuntimeBroker.exe             2788 Console                    1     25,848 K\n",
      "ApplicationFrameHost.exe      4496 Console                    1     25,076 K\n",
      "WinStore.App.exe              9860 Console                    1     60,768 K\n",
      "RuntimeBroker.exe             7160 Console                    1     12,256 K\n",
      "Calculator.exe                2708 Console                    1     34,936 K\n",
      "RuntimeBroker.exe             6884 Console                    1      5,744 K\n",
      "SystemSettings.exe            5376 Console                    1     44,312 K\n",
      "RuntimeBroker.exe            10620 Console                    1     11,640 K\n",
      "svchost.exe                  12620 Services                   0      4,924 K\n",
      "8021x.exe                    13008 Console                    1      3,228 K\n",
      "SearchUI.exe                 11728 Console                    1     55,272 K\n",
      "RuntimeBroker.exe            12796 Console                    1      7,052 K\n",
      "taskhostw.exe                12672 Console                    1     12,572 K\n",
      "WeChatStore.exe               3740 Console                    1     57,068 K\n",
      "svchost.exe                  11684 Services                   0     13,028 K\n",
      "svchost.exe                   1220 Services                   0      5,440 K\n",
      "ShellExperienceHost.exe       6624 Console                    1     59,436 K\n",
      "MicrosoftEdge.exe            15268 Console                    1     52,788 K\n",
      "browser_broker.exe           14776 Console                    1     22,576 K\n",
      "RuntimeBroker.exe            12564 Console                    1     10,632 K\n",
      "MicrosoftEdgeCP.exe          14612 Console                    1     19,720 K\n",
      "MicrosoftEdgeCP.exe           1460 Console                    1     21,660 K\n",
      "RuntimeBroker.exe             3424 Console                    1     20,820 K\n",
      "ClvAssist.exe                10988 Services                   0     11,344 K\n",
      "Clover.exe                   21724 Console                    1     31,592 K\n",
      "git-bash.exe                 18248 Console                    1      5,088 K\n",
      "mintty.exe                   20748 Console                    1     26,736 K\n",
      "conhost.exe                  20688 Console                    1     11,044 K\n",
      "bash.exe                     20476 Console                    1      8,732 K\n",
      "bash.exe                     21896 Console                    1      5,800 K\n",
      "jupyter.exe                   5732 Console                    1      4,836 K\n",
      "python.exe                   17704 Console                    1     10,552 K\n",
      "jupyter-notebook.exe         21892 Console                    1      4,832 K\n",
      "python.exe                   18980 Console                    1     52,948 K\n",
      "chrome.exe                   17384 Console                    1    136,912 K\n",
      "chrome.exe                   18088 Console                    1      8,448 K\n",
      "chrome.exe                   22040 Console                    1      9,120 K\n",
      "chrome.exe                   20764 Console                    1    128,852 K\n",
      "chrome.exe                   20228 Console                    1     22,096 K\n",
      "chrome.exe                    9104 Console                    1    302,556 K\n",
      "chrome.exe                   19644 Console                    1     89,260 K\n",
      "chrome.exe                    5852 Console                    1     39,672 K\n",
      "chrome.exe                   12604 Console                    1     33,224 K\n",
      "chrome.exe                   22100 Console                    1     33,048 K\n",
      "chrome.exe                    1480 Console                    1     32,092 K\n",
      "chrome.exe                   14536 Console                    1     47,936 K\n",
      "svchost.exe                  12356 Services                   0     11,112 K\n",
      "python.exe                   22440 Console                    1     31,472 K\n",
      "SearchProtocolHost.exe       12252 Services                   0     10,796 K\n",
      "SearchFilterHost.exe         20472 Services                   0      6,216 K\n",
      "WmiPrvSE.exe                 20252 Services                   0      9,656 K\n",
      "cmd.exe                      22188 Console                    1      3,588 K\n",
      "tasklist.exe                 10920 Console                    1      8,004 K\n"
     ]
    }
   ],
   "source": [
    "!tasklist"
   ]
  },
  {
   "cell_type": "code",
   "execution_count": 106,
   "metadata": {},
   "outputs": [
    {
     "name": "stdout",
     "output_type": "stream",
     "text": [
      "Overwriting retasklist.py\n"
     ]
    }
   ],
   "source": [
    "%%writefile retasklist.py\n",
    "import re\n",
    "import os\n",
    "with os.popen('tasklist /nh', 'r') as f: # '/nh去掉进程池PID的表格头'\n",
    "    for eachLine in f:\n",
    "        print re.split(r'\\s\\s+|\\t', eachLine.rstrip())\n",
    "f.close()"
   ]
  },
  {
   "cell_type": "code",
   "execution_count": 107,
   "metadata": {},
   "outputs": [
    {
     "name": "stdout",
     "output_type": "stream",
     "text": [
      "['']\n",
      "['System Idle Process', '0 Services', '0', '8 K']\n",
      "['System', '4 Services', '0', '140 K']\n",
      "['Registry', '96 Services', '0', '46,004 K']\n",
      "['smss.exe', '348 Services', '0', '924 K']\n",
      "['csrss.exe', '528 Services', '0', '3,920 K']\n",
      "['wininit.exe', '632 Services', '0', '4,656 K']\n",
      "['csrss.exe', '644 Console', '1', '4,692 K']\n",
      "['winlogon.exe', '736 Console', '1', '7,120 K']\n",
      "['services.exe', '856 Services', '0', '7,544 K']\n",
      "['lsass.exe', '868 Services', '0', '14,756 K']\n",
      "['svchost.exe', '984 Services', '0', '3,236 K']\n",
      "['fontdrvhost.exe', '996 Console', '1', '15,312 K']\n",
      "['fontdrvhost.exe', '992 Services', '0', '2,564 K']\n",
      "['svchost.exe', '464 Services', '0', '26,984 K']\n",
      "['WUDFHost.exe', '488 Services', '0', '5,124 K']\n",
      "['svchost.exe', '844 Services', '0', '13,956 K']\n",
      "['svchost.exe', '800 Services', '0', '7,800 K']\n",
      "['dwm.exe', '1108 Console', '1', '54,276 K']\n",
      "['svchost.exe', '1188 Services', '0', '9,084 K']\n",
      "['svchost.exe', '1244 Services', '0', '13,956 K']\n",
      "['svchost.exe', '1364 Services', '0', '8,052 K']\n",
      "['svchost.exe', '1444 Services', '0', '10,816 K']\n",
      "['svchost.exe', '1492 Services', '0', '12,476 K']\n",
      "['svchost.exe', '1500 Services', '0', '13,136 K']\n",
      "['svchost.exe', '1564 Services', '0', '9,208 K']\n",
      "['svchost.exe', '1640 Services', '0', '6,000 K']\n",
      "['svchost.exe', '1648 Services', '0', '8,172 K']\n",
      "['svchost.exe', '1724 Services', '0', '7,712 K']\n",
      "['nvvsvc.exe', '1756 Services', '0', '7,916 K']\n",
      "['svchost.exe', '1808 Services', '0', '6,832 K']\n",
      "['nvxdsync.exe', '1936 Console', '1', '18,564 K']\n",
      "['svchost.exe', '1964 Services', '0', '10,720 K']\n",
      "['svchost.exe', '1340 Services', '0', '8,016 K']\n",
      "['svchost.exe', '1612 Services', '0', '8,804 K']\n",
      "['suservice.exe', '2152 Services', '0', '7,204 K']\n",
      "['svchost.exe', '2188 Services', '0', '6,688 K']\n",
      "['svchost.exe', '2284 Services', '0', '6,204 K']\n",
      "['svchost.exe', '2292 Services', '0', '6,048 K']\n",
      "['svchost.exe', '2300 Services', '0', '73,564 K']\n",
      "['svchost.exe', '2316 Services', '0', '4,888 K']\n",
      "['svchost.exe', '2452 Services', '0', '6,844 K']\n",
      "['Memory Compression', '2468 Services', '0', '159,992 K']\n",
      "['igfxCUIService.exe', '2576 Services', '0', '7,384 K']\n",
      "['svchost.exe', '2648 Services', '0', '6,096 K']\n",
      "['svchost.exe', '2656 Services', '0', '7,896 K']\n",
      "['svchost.exe', '2680 Services', '0', '6,968 K']\n",
      "['svchost.exe', '2768 Services', '0', '6,952 K']\n",
      "['svchost.exe', '2776 Services', '0', '13,684 K']\n",
      "['winwfpmonitor.exe', '2848 Services', '0', '1,056 K']\n",
      "['svchost.exe', '2880 Services', '0', '10,888 K']\n",
      "['RtkAudioService64.exe', '2976 Services', '0', '5,356 K']\n",
      "['svchost.exe', '2984 Services', '0', '14,408 K']\n",
      "['svchost.exe', '2440 Services', '0', '16,244 K']\n",
      "['HaozipSvc.exe', '3076 Services', '0', '13,748 K']\n",
      "['svchost.exe', '3088 Services', '0', '5,608 K']\n",
      "['svchost.exe', '3104 Services', '0', '9,408 K']\n",
      "['RAVBg64.exe', '3444 Console', '1', '8,172 K']\n",
      "['RAVBg64.exe', '3464 Console', '1', '7,988 K']\n",
      "['svchost.exe', '3520 Services', '0', '11,716 K']\n",
      "['svchost.exe', '3616 Services', '0', '9,416 K']\n",
      "['svchost.exe', '3612 Services', '0', '9,876 K']\n",
      "['svchost.exe', '3664 Services', '0', '5,572 K']\n",
      "['svchost.exe', '3680 Services', '0', '5,724 K']\n",
      "['spoolsv.exe', '3832 Services', '0', '8,436 K']\n",
      "['CAJSHost.exe', '4016 Services', '0', '4,828 K']\n",
      "['svchost.exe', '4024 Services', '0', '7,148 K']\n",
      "['FlashHelperService.exe', '4032 Services', '0', '9,336 K']\n",
      "['svchost.exe', '4040 Services', '0', '24,200 K']\n",
      "['svchost.exe', '4048 Services', '0', '12,260 K']\n",
      "['svchost.exe', '4068 Services', '0', '24,496 K']\n",
      "['OfficeClickToRun.exe', '4080 Services', '0', '22,356 K']\n",
      "['QQProtect.exe', '4092 Services', '0', '16,256 K']\n",
      "['svchost.exe', '3304 Services', '0', '5,224 K']\n",
      "['svchost.exe', '2716 Services', '0', '7,344 K']\n",
      "['IpOverUsbSvc.exe', '3396 Services', '0', '7,328 K']\n",
      "['sqlwriter.exe', '2932 Services', '0', '5,556 K']\n",
      "['svchost.exe', '2400 Services', '0', '6,564 K']\n",
      "['SynTPEnhService.exe', '3944 Services', '0', '3,612 K']\n",
      "['SecurityHealthService.exe', '4108 Services', '0', '10,524 K']\n",
      "['svchost.exe', '4164 Services', '0', '4,764 K']\n",
      "['MsMpEng.exe', '4240 Services', '0', '159,124 K']\n",
      "['svchost.exe', '4284 Services', '0', '19,444 K']\n",
      "['svchost.exe', '4444 Services', '0', '5,400 K']\n",
      "['svchost.exe', '4500 Services', '0', '5,064 K']\n",
      "['svchost.exe', '4628 Services', '0', '5,480 K']\n",
      "['svchost.exe', '4764 Services', '0', '9,376 K']\n",
      "['sihost.exe', '5948 Console', '1', '19,596 K']\n",
      "['svchost.exe', '6092 Console', '1', '25,100 K']\n",
      "['svchost.exe', '6100 Services', '0', '5,180 K']\n",
      "['SynTPEnh.exe', '6132 Console', '1', '11,888 K']\n",
      "['svchost.exe', '5592 Console', '1', '25,740 K']\n",
      "['explorer.exe', '5608 Console', '1', '233,416 K']\n",
      "['taskhostw.exe', '3172 Console', '1', '16,976 K']\n",
      "['svchost.exe', '6256 Services', '0', '13,396 K']\n",
      "['svchost.exe', '6708 Services', '0', '5,956 K']\n",
      "['svchost.exe', '6748 Services', '0', '6,664 K']\n",
      "['SearchIndexer.exe', '6780 Services', '0', '60,696 K']\n",
      "['NisSrv.exe', '6788 Services', '0', '9,220 K']\n",
      "['svchost.exe', '6864 Services', '0', '10,500 K']\n",
      "['svchost.exe', '7012 Services', '0', '10,748 K']\n",
      "['SynTPHelper.exe', '7104 Console', '1', '3,472 K']\n",
      "['svchost.exe', '5892 Services', '0', '6,332 K']\n",
      "['ctfmon.exe', '7048 Console', '1', '49,308 K']\n",
      "['ChsIME.exe', '5644 Console', '1', '61,892 K']\n",
      "['svchost.exe', '7116 Services', '0', '14,660 K']\n",
      "['RuntimeBroker.exe', '7692 Console', '1', '29,816 K']\n",
      "['svchost.exe', '8188 Services', '0', '17,808 K']\n",
      "['PresentationFontCache.exe', '7504 Services', '0', '15,220 K']\n",
      "['RAVBg64.exe', '7232 Console', '1', '412 K']\n",
      "['SettingSyncHost.exe', '8276 Console', '1', '3,648 K']\n",
      "['igfxEM.exe', '8896 Console', '1', '10,216 K']\n",
      "['igfxHK.exe', '8920 Console', '1', '7,380 K']\n",
      "['Video.UI.exe', '8988 Console', '1', '14,604 K']\n",
      "['PicGo.exe', '6796 Console', '1', '30,136 K']\n",
      "['InputPersonalization.exe', '1308 Console', '1', '14,644 K']\n",
      "['WindowsInternal.Composabl', '3488 Console', '1', '12,732 K']\n",
      "['nvtray.exe', '4116 Console', '1', '10,076 K']\n",
      "['svchost.exe', '4656 Services', '0', '13,196 K']\n",
      "['dllhost.exe', '792 Console', '1', '9,708 K']\n",
      "['svchost.exe', '3048 Services', '0', '6,844 K']\n",
      "['NvBackend.exe', '3328 Console', '1', '7,188 K']\n",
      "['PicGo.exe', '1156 Console', '1', '6,324 K']\n",
      "['PicGo.exe', '8244 Console', '1', '4,704 K']\n",
      "['svchost.exe', '7084 Console', '1', '22,936 K']\n",
      "['GoogleCrashHandler.exe', '788 Services', '0', '172 K']\n",
      "['RuntimeBroker.exe', '9184 Console', '1', '7,284 K']\n",
      "['GoogleCrashHandler64.exe', '3756 Services', '0', '168 K']\n",
      "['svchost.exe', '10064 Services', '0', '16,176 K']\n",
      "['svchost.exe', '10684 Services', '0', '7,520 K']\n",
      "['SgrmBroker.exe', '10776 Services', '0', '6,020 K']\n",
      "['svchost.exe', '9684 Services', '0', '8,256 K']\n",
      "['svchost.exe', '10604 Services', '0', '10,720 K']\n",
      "['svchost.exe', '10396 Services', '0', '6,992 K']\n",
      "['explorer.exe', '10848 Console', '1', '142,144 K']\n",
      "['Microsoft.Photos.exe', '5584 Console', '1', '49,760 K']\n",
      "['svchost.exe', '10836 Services', '0', '8,348 K']\n",
      "['RuntimeBroker.exe', '2788 Console', '1', '25,848 K']\n",
      "['ApplicationFrameHost.exe', '4496 Console', '1', '25,076 K']\n",
      "['WinStore.App.exe', '9860 Console', '1', '60,768 K']\n",
      "['RuntimeBroker.exe', '7160 Console', '1', '12,256 K']\n",
      "['Calculator.exe', '2708 Console', '1', '34,936 K']\n",
      "['RuntimeBroker.exe', '6884 Console', '1', '5,744 K']\n",
      "['SystemSettings.exe', '5376 Console', '1', '44,312 K']\n",
      "['RuntimeBroker.exe', '10620 Console', '1', '11,640 K']\n",
      "['svchost.exe', '12620 Services', '0', '4,924 K']\n",
      "['8021x.exe', '13008 Console', '1', '3,920 K']\n",
      "['SearchUI.exe', '11728 Console', '1', '55,272 K']\n",
      "['RuntimeBroker.exe', '12796 Console', '1', '7,052 K']\n",
      "['taskhostw.exe', '12672 Console', '1', '12,572 K']\n",
      "['WeChatStore.exe', '3740 Console', '1', '57,068 K']\n",
      "['svchost.exe', '11684 Services', '0', '13,028 K']\n",
      "['svchost.exe', '1220 Services', '0', '5,400 K']\n",
      "['ShellExperienceHost.exe', '6624 Console', '1', '59,376 K']\n",
      "['MicrosoftEdge.exe', '15268 Console', '1', '52,788 K']\n",
      "['browser_broker.exe', '14776 Console', '1', '22,576 K']\n",
      "['RuntimeBroker.exe', '12564 Console', '1', '10,632 K']\n",
      "['MicrosoftEdgeCP.exe', '14612 Console', '1', '19,720 K']\n",
      "['MicrosoftEdgeCP.exe', '1460 Console', '1', '21,660 K']\n",
      "['RuntimeBroker.exe', '3424 Console', '1', '20,820 K']\n",
      "['ClvAssist.exe', '10988 Services', '0', '11,344 K']\n",
      "['Clover.exe', '21724 Console', '1', '31,592 K']\n",
      "['git-bash.exe', '18248 Console', '1', '5,088 K']\n",
      "['mintty.exe', '20748 Console', '1', '26,736 K']\n",
      "['conhost.exe', '20688 Console', '1', '11,044 K']\n",
      "['bash.exe', '20476 Console', '1', '8,732 K']\n",
      "['bash.exe', '21896 Console', '1', '5,800 K']\n",
      "['jupyter.exe', '5732 Console', '1', '4,836 K']\n",
      "['python.exe', '17704 Console', '1', '10,552 K']\n",
      "['jupyter-notebook.exe', '21892 Console', '1', '4,832 K']\n",
      "['python.exe', '18980 Console', '1', '52,952 K']\n",
      "['chrome.exe', '17384 Console', '1', '136,880 K']\n",
      "['chrome.exe', '18088 Console', '1', '8,448 K']\n",
      "['chrome.exe', '22040 Console', '1', '9,120 K']\n",
      "['chrome.exe', '20764 Console', '1', '125,724 K']\n",
      "['chrome.exe', '20228 Console', '1', '22,096 K']\n",
      "['chrome.exe', '9104 Console', '1', '303,500 K']\n",
      "['chrome.exe', '19644 Console', '1', '89,260 K']\n",
      "['chrome.exe', '5852 Console', '1', '39,672 K']\n",
      "['chrome.exe', '12604 Console', '1', '33,224 K']\n",
      "['chrome.exe', '22100 Console', '1', '33,048 K']\n",
      "['chrome.exe', '1480 Console', '1', '32,092 K']\n",
      "['chrome.exe', '14536 Console', '1', '47,936 K']\n",
      "['svchost.exe', '12356 Services', '0', '11,112 K']\n",
      "['python.exe', '22440 Console', '1', '31,564 K']\n",
      "['SearchProtocolHost.exe', '12252 Services', '0', '10,732 K']\n",
      "['SearchFilterHost.exe', '20472 Services', '0', '6,216 K']\n",
      "['WmiPrvSE.exe', '20252 Services', '0', '9,832 K']\n",
      "['cmd.exe', '20616 Console', '1', '3,544 K']\n",
      "['tasklist.exe', '16932 Console', '1', '8,016 K']\n"
     ]
    }
   ],
   "source": [
    "%run retasklist.py "
   ]
  },
  {
   "cell_type": "markdown",
   "metadata": {},
   "source": [
    "此时PID和会话名称放在一起了，我们要将他分开，由于split的限制，所以要使用findall"
   ]
  },
  {
   "cell_type": "code",
   "execution_count": 108,
   "metadata": {},
   "outputs": [
    {
     "name": "stdout",
     "output_type": "stream",
     "text": [
      "Overwriting retasklist.py\n"
     ]
    }
   ],
   "source": [
    "%%writefile retasklist.py\n",
    "import re\n",
    "import os\n",
    "\n",
    "pat = r'([\\w.]+(?: [\\w.]+)*)\\s\\s+(\\d+) \\w+\\s\\s+\\d+\\s\\s+([\\d,]+ K)'\n",
    "with os.popen('tasklist /nh', 'r') as f: # '/nh去掉进程池PID的表格头'\n",
    "    for eachLine in f:\n",
    "        print re.findall(pat, eachLine.rstrip())\n",
    "f.close()"
   ]
  },
  {
   "cell_type": "code",
   "execution_count": 109,
   "metadata": {},
   "outputs": [
    {
     "name": "stdout",
     "output_type": "stream",
     "text": [
      "[]\n",
      "[('System Idle Process', '0', '8 K')]\n",
      "[('System', '4', '140 K')]\n",
      "[('Registry', '96', '44,840 K')]\n",
      "[('smss.exe', '348', '924 K')]\n",
      "[('csrss.exe', '528', '3,920 K')]\n",
      "[('wininit.exe', '632', '4,656 K')]\n",
      "[('csrss.exe', '644', '4,692 K')]\n",
      "[('winlogon.exe', '736', '7,116 K')]\n",
      "[('services.exe', '856', '7,544 K')]\n",
      "[('lsass.exe', '868', '14,756 K')]\n",
      "[('svchost.exe', '984', '3,236 K')]\n",
      "[('fontdrvhost.exe', '996', '15,312 K')]\n",
      "[('fontdrvhost.exe', '992', '2,564 K')]\n",
      "[('svchost.exe', '464', '26,984 K')]\n",
      "[('WUDFHost.exe', '488', '5,124 K')]\n",
      "[('svchost.exe', '844', '13,920 K')]\n",
      "[('svchost.exe', '800', '7,804 K')]\n",
      "[('dwm.exe', '1108', '51,672 K')]\n",
      "[('svchost.exe', '1188', '9,084 K')]\n",
      "[('svchost.exe', '1244', '14,080 K')]\n",
      "[('svchost.exe', '1364', '8,052 K')]\n",
      "[('svchost.exe', '1444', '10,816 K')]\n",
      "[('svchost.exe', '1492', '12,476 K')]\n",
      "[('svchost.exe', '1500', '13,136 K')]\n",
      "[('svchost.exe', '1564', '9,208 K')]\n",
      "[('svchost.exe', '1640', '6,000 K')]\n",
      "[('svchost.exe', '1648', '8,172 K')]\n",
      "[('svchost.exe', '1724', '7,712 K')]\n",
      "[('nvvsvc.exe', '1756', '7,916 K')]\n",
      "[('svchost.exe', '1808', '6,832 K')]\n",
      "[('nvxdsync.exe', '1936', '18,564 K')]\n",
      "[('svchost.exe', '1964', '10,720 K')]\n",
      "[('svchost.exe', '1340', '8,000 K')]\n",
      "[('svchost.exe', '1612', '8,764 K')]\n",
      "[('suservice.exe', '2152', '7,204 K')]\n",
      "[('svchost.exe', '2188', '6,688 K')]\n",
      "[('svchost.exe', '2284', '6,204 K')]\n",
      "[('svchost.exe', '2292', '6,048 K')]\n",
      "[('svchost.exe', '2300', '73,572 K')]\n",
      "[('svchost.exe', '2316', '4,888 K')]\n",
      "[('svchost.exe', '2452', '6,844 K')]\n",
      "[('Memory Compression', '2468', '159,452 K')]\n",
      "[('igfxCUIService.exe', '2576', '7,384 K')]\n",
      "[('svchost.exe', '2648', '6,096 K')]\n",
      "[('svchost.exe', '2656', '7,896 K')]\n",
      "[('svchost.exe', '2680', '6,968 K')]\n",
      "[('svchost.exe', '2768', '6,952 K')]\n",
      "[('svchost.exe', '2776', '13,700 K')]\n",
      "[('winwfpmonitor.exe', '2848', '1,056 K')]\n",
      "[('svchost.exe', '2880', '10,888 K')]\n",
      "[('RtkAudioService64.exe', '2976', '5,356 K')]\n",
      "[('svchost.exe', '2984', '14,408 K')]\n",
      "[('svchost.exe', '2440', '16,244 K')]\n",
      "[('HaozipSvc.exe', '3076', '13,748 K')]\n",
      "[('svchost.exe', '3088', '5,608 K')]\n",
      "[('svchost.exe', '3104', '9,408 K')]\n",
      "[('RAVBg64.exe', '3444', '8,172 K')]\n",
      "[('RAVBg64.exe', '3464', '7,988 K')]\n",
      "[('svchost.exe', '3520', '11,716 K')]\n",
      "[('svchost.exe', '3616', '9,416 K')]\n",
      "[('svchost.exe', '3612', '9,876 K')]\n",
      "[('svchost.exe', '3664', '5,572 K')]\n",
      "[('svchost.exe', '3680', '5,724 K')]\n",
      "[('spoolsv.exe', '3832', '8,436 K')]\n",
      "[('CAJSHost.exe', '4016', '4,828 K')]\n",
      "[('svchost.exe', '4024', '7,148 K')]\n",
      "[('FlashHelperService.exe', '4032', '9,336 K')]\n",
      "[('svchost.exe', '4040', '24,212 K')]\n",
      "[('svchost.exe', '4048', '12,228 K')]\n",
      "[('svchost.exe', '4068', '24,496 K')]\n",
      "[('OfficeClickToRun.exe', '4080', '22,356 K')]\n",
      "[('QQProtect.exe', '4092', '16,188 K')]\n",
      "[('svchost.exe', '3304', '5,224 K')]\n",
      "[('svchost.exe', '2716', '7,344 K')]\n",
      "[('IpOverUsbSvc.exe', '3396', '7,328 K')]\n",
      "[('sqlwriter.exe', '2932', '5,556 K')]\n",
      "[('svchost.exe', '2400', '6,564 K')]\n",
      "[('SynTPEnhService.exe', '3944', '3,608 K')]\n",
      "[('SecurityHealthService.exe', '4108', '10,524 K')]\n",
      "[('svchost.exe', '4164', '4,764 K')]\n",
      "[('MsMpEng.exe', '4240', '159,172 K')]\n",
      "[('svchost.exe', '4284', '19,424 K')]\n",
      "[('svchost.exe', '4444', '5,400 K')]\n",
      "[('svchost.exe', '4500', '5,064 K')]\n",
      "[('svchost.exe', '4628', '5,480 K')]\n",
      "[('svchost.exe', '4764', '9,376 K')]\n",
      "[('sihost.exe', '5948', '19,596 K')]\n",
      "[('svchost.exe', '6092', '25,084 K')]\n",
      "[('svchost.exe', '6100', '5,180 K')]\n",
      "[('SynTPEnh.exe', '6132', '11,888 K')]\n",
      "[('svchost.exe', '5592', '25,740 K')]\n",
      "[('explorer.exe', '5608', '233,444 K')]\n",
      "[('taskhostw.exe', '3172', '16,976 K')]\n",
      "[('svchost.exe', '6256', '13,396 K')]\n",
      "[('svchost.exe', '6708', '5,956 K')]\n",
      "[('svchost.exe', '6748', '6,664 K')]\n",
      "[('SearchIndexer.exe', '6780', '60,696 K')]\n",
      "[('NisSrv.exe', '6788', '9,220 K')]\n",
      "[('svchost.exe', '6864', '10,500 K')]\n",
      "[('svchost.exe', '7012', '10,748 K')]\n",
      "[('SynTPHelper.exe', '7104', '3,472 K')]\n",
      "[('svchost.exe', '5892', '6,332 K')]\n",
      "[('ctfmon.exe', '7048', '49,308 K')]\n",
      "[('ChsIME.exe', '5644', '61,892 K')]\n",
      "[('svchost.exe', '7116', '14,660 K')]\n",
      "[('RuntimeBroker.exe', '7692', '29,816 K')]\n",
      "[('svchost.exe', '8188', '17,808 K')]\n",
      "[('PresentationFontCache.exe', '7504', '15,220 K')]\n",
      "[('RAVBg64.exe', '7232', '412 K')]\n",
      "[('SettingSyncHost.exe', '8276', '3,648 K')]\n",
      "[('igfxEM.exe', '8896', '10,216 K')]\n",
      "[('igfxHK.exe', '8920', '7,380 K')]\n",
      "[('Video.UI.exe', '8988', '14,604 K')]\n",
      "[('PicGo.exe', '6796', '30,136 K')]\n",
      "[('InputPersonalization.exe', '1308', '14,644 K')]\n",
      "[('WindowsInternal.Composabl', '3488', '12,732 K')]\n",
      "[('nvtray.exe', '4116', '10,076 K')]\n",
      "[('svchost.exe', '4656', '13,196 K')]\n",
      "[('dllhost.exe', '792', '9,708 K')]\n",
      "[('svchost.exe', '3048', '6,844 K')]\n",
      "[('NvBackend.exe', '3328', '7,188 K')]\n",
      "[('PicGo.exe', '1156', '6,324 K')]\n",
      "[('PicGo.exe', '8244', '4,704 K')]\n",
      "[('svchost.exe', '7084', '22,936 K')]\n",
      "[('GoogleCrashHandler.exe', '788', '172 K')]\n",
      "[('RuntimeBroker.exe', '9184', '7,284 K')]\n",
      "[('GoogleCrashHandler64.exe', '3756', '168 K')]\n",
      "[('svchost.exe', '10064', '16,176 K')]\n",
      "[('svchost.exe', '10684', '7,520 K')]\n",
      "[('SgrmBroker.exe', '10776', '6,020 K')]\n",
      "[('svchost.exe', '9684', '8,256 K')]\n",
      "[('svchost.exe', '10604', '10,720 K')]\n",
      "[('svchost.exe', '10396', '6,992 K')]\n",
      "[('explorer.exe', '10848', '142,144 K')]\n",
      "[('Microsoft.Photos.exe', '5584', '49,760 K')]\n",
      "[('svchost.exe', '10836', '8,348 K')]\n",
      "[('RuntimeBroker.exe', '2788', '25,848 K')]\n",
      "[('ApplicationFrameHost.exe', '4496', '24,968 K')]\n",
      "[('WinStore.App.exe', '9860', '60,768 K')]\n",
      "[('RuntimeBroker.exe', '7160', '12,256 K')]\n",
      "[('Calculator.exe', '2708', '34,936 K')]\n",
      "[('RuntimeBroker.exe', '6884', '5,744 K')]\n",
      "[('SystemSettings.exe', '5376', '44,312 K')]\n",
      "[('RuntimeBroker.exe', '10620', '11,640 K')]\n",
      "[('svchost.exe', '12620', '4,924 K')]\n",
      "[('8021x.exe', '13008', '4,016 K')]\n",
      "[('SearchUI.exe', '11728', '55,272 K')]\n",
      "[('RuntimeBroker.exe', '12796', '7,052 K')]\n",
      "[('taskhostw.exe', '12672', '12,572 K')]\n",
      "[('WeChatStore.exe', '3740', '57,068 K')]\n",
      "[('svchost.exe', '11684', '13,028 K')]\n",
      "[('svchost.exe', '1220', '5,388 K')]\n",
      "[('ShellExperienceHost.exe', '6624', '59,376 K')]\n",
      "[('MicrosoftEdge.exe', '15268', '52,788 K')]\n",
      "[('browser_broker.exe', '14776', '22,576 K')]\n",
      "[('RuntimeBroker.exe', '12564', '10,632 K')]\n",
      "[('MicrosoftEdgeCP.exe', '14612', '19,720 K')]\n",
      "[('MicrosoftEdgeCP.exe', '1460', '21,660 K')]\n",
      "[('RuntimeBroker.exe', '3424', '20,820 K')]\n",
      "[('ClvAssist.exe', '10988', '11,344 K')]\n",
      "[('Clover.exe', '21724', '31,592 K')]\n",
      "[('bash.exe', '18248', '5,088 K')]\n",
      "[('mintty.exe', '20748', '26,736 K')]\n",
      "[('conhost.exe', '20688', '11,044 K')]\n",
      "[('bash.exe', '20476', '8,732 K')]\n",
      "[('bash.exe', '21896', '5,800 K')]\n",
      "[('jupyter.exe', '5732', '4,836 K')]\n",
      "[('python.exe', '17704', '10,552 K')]\n",
      "[('notebook.exe', '21892', '4,832 K')]\n",
      "[('python.exe', '18980', '52,952 K')]\n",
      "[('chrome.exe', '17384', '136,880 K')]\n",
      "[('chrome.exe', '18088', '8,448 K')]\n",
      "[('chrome.exe', '22040', '9,120 K')]\n",
      "[('chrome.exe', '20764', '125,712 K')]\n",
      "[('chrome.exe', '20228', '22,096 K')]\n",
      "[('chrome.exe', '9104', '310,240 K')]\n",
      "[('chrome.exe', '19644', '89,260 K')]\n",
      "[('chrome.exe', '5852', '39,672 K')]\n",
      "[('chrome.exe', '12604', '33,224 K')]\n",
      "[('chrome.exe', '22100', '33,048 K')]\n",
      "[('chrome.exe', '1480', '32,092 K')]\n",
      "[('chrome.exe', '14536', '47,936 K')]\n",
      "[('svchost.exe', '12356', '11,112 K')]\n",
      "[('python.exe', '22440', '31,564 K')]\n",
      "[('SearchProtocolHost.exe', '12252', '10,636 K')]\n",
      "[('SearchFilterHost.exe', '20472', '6,216 K')]\n",
      "[('WmiPrvSE.exe', '20252', '9,876 K')]\n",
      "[('cmd.exe', '18660', '3,564 K')]\n",
      "[('tasklist.exe', '11796', '8,020 K')]\n"
     ]
    }
   ],
   "source": [
    "%run retasklist.py"
   ]
  },
  {
   "cell_type": "markdown",
   "metadata": {},
   "source": [
    "#### 实战示例"
   ]
  },
  {
   "cell_type": "code",
   "execution_count": 110,
   "metadata": {},
   "outputs": [
    {
     "name": "stdout",
     "output_type": "stream",
     "text": [
      "Overwriting gendata.py\n"
     ]
    }
   ],
   "source": [
    "%%writefile gendata.py\n",
    "# coding=utf-8\n",
    "# 创建随机数据，然后将生成的数据输出到屏幕\n",
    "from random import randrange, choice\n",
    "from string import ascii_lowercase as lc\n",
    "from sys import maxint\n",
    "from time import ctime\n",
    "\n",
    "tlds = ( 'com', 'edu', 'net', 'org', 'gov' )\n",
    "\n",
    "for i in xrange(randrange(5, 11)):\n",
    "    dtint = randrange(maxint)\t# pick date\n",
    "    dtstr = ctime(dtint)\t# date string\n",
    "    llen = randrange(4, 7)\t# login is shorter\n",
    "    login = ''.join(choice(lc) for j in range(llen))\n",
    "    dlen = randrange(llen, 13)\t# domain is longer\n",
    "    dom = ''.join(choice(lc) for j in xrange(dlen))\n",
    "    print '%s::%s@%s.%s::%d-%d-%d' % (dtstr, login,\n",
    "\tdom, choice(tlds), dtint, llen, dlen)"
   ]
  },
  {
   "cell_type": "code",
   "execution_count": 111,
   "metadata": {
    "scrolled": true
   },
   "outputs": [
    {
     "name": "stdout",
     "output_type": "stream",
     "text": [
      "Thu Dec 27 01:10:08 2035::dqtypg@iavqvgjwnvn.edu::2082301808-6-11\n",
      "Fri May 13 20:51:55 2033::osxul@elfzkq.gov::1999601515-5-6\n",
      "Mon Apr 06 22:52:20 2020::rehbg@yfdoy.edu::1586184740-5-5\n",
      "Wed Dec 31 23:22:03 2008::legdw@tonqsajuiuch.edu::1230736923-5-12\n",
      "Sat Sep 05 12:49:23 2015::tkyyb@oygzos.edu::1441428563-5-6\n",
      "Mon May 27 08:00:35 2013::ztkuz@usczxpegy.gov::1369612835-5-9\n",
      "Mon Jul 06 14:17:37 2015::urpy@eblts.org::1436163457-4-5\n"
     ]
    }
   ],
   "source": [
    "%run gendata.py"
   ]
  },
  {
   "cell_type": "code",
   "execution_count": 112,
   "metadata": {},
   "outputs": [
    {
     "data": {
      "text/plain": [
       "'Thu'"
      ]
     },
     "execution_count": 112,
     "metadata": {},
     "output_type": "execute_result"
    }
   ],
   "source": [
    "import re\n",
    "data = 'Thu Feb 15 17:46:04 2007::uzifzf@dpyivihw.gov::1171590364-6-8'\n",
    "patt = '^(Mon|Tue|Wed|Thu|Fri|Sat|Sun)'\n",
    "m = re.match(patt, data)\n",
    "m.group()"
   ]
  },
  {
   "cell_type": "code",
   "execution_count": 113,
   "metadata": {},
   "outputs": [
    {
     "data": {
      "text/plain": [
       "'Thu'"
      ]
     },
     "execution_count": 113,
     "metadata": {},
     "output_type": "execute_result"
    }
   ],
   "source": [
    "m.group(1)"
   ]
  },
  {
   "cell_type": "code",
   "execution_count": 114,
   "metadata": {},
   "outputs": [
    {
     "data": {
      "text/plain": [
       "('Thu',)"
      ]
     },
     "execution_count": 114,
     "metadata": {},
     "output_type": "execute_result"
    }
   ],
   "source": [
    "m.groups()"
   ]
  },
  {
   "cell_type": "code",
   "execution_count": 115,
   "metadata": {},
   "outputs": [
    {
     "name": "stdout",
     "output_type": "stream",
     "text": [
      "Thu\n"
     ]
    }
   ],
   "source": [
    "patt = '^(\\w{3})'\n",
    "m = re.match(patt, data)\n",
    "if m is not None: print m.group()"
   ]
  },
  {
   "cell_type": "code",
   "execution_count": 116,
   "metadata": {},
   "outputs": [
    {
     "data": {
      "text/plain": [
       "'Thu'"
      ]
     },
     "execution_count": 116,
     "metadata": {},
     "output_type": "execute_result"
    }
   ],
   "source": [
    "m.group(1)"
   ]
  },
  {
   "cell_type": "code",
   "execution_count": 117,
   "metadata": {},
   "outputs": [
    {
     "name": "stdout",
     "output_type": "stream",
     "text": [
      "Thu\n"
     ]
    }
   ],
   "source": [
    "patt = '^(\\w){3}'  # 注意区别\n",
    "m = re.match(patt, data)\n",
    "if m is not None: print m.group()"
   ]
  },
  {
   "cell_type": "code",
   "execution_count": 118,
   "metadata": {},
   "outputs": [
    {
     "data": {
      "text/plain": [
       "'u'"
      ]
     },
     "execution_count": 118,
     "metadata": {},
     "output_type": "execute_result"
    }
   ],
   "source": [
    "m.group(1)"
   ]
  },
  {
   "cell_type": "markdown",
   "metadata": {},
   "source": [
    "### 搜索、匹配和贪婪"
   ]
  },
  {
   "cell_type": "code",
   "execution_count": 119,
   "metadata": {},
   "outputs": [
    {
     "data": {
      "text/plain": [
       "'1171590364-6-8'"
      ]
     },
     "execution_count": 119,
     "metadata": {},
     "output_type": "execute_result"
    }
   ],
   "source": [
    "patt = '\\d+-\\d+-\\d+'\n",
    "re.search(patt, data).group() "
   ]
  },
  {
   "cell_type": "code",
   "execution_count": 120,
   "metadata": {},
   "outputs": [
    {
     "data": {
      "text/plain": [
       "'4-6-8'"
      ]
     },
     "execution_count": 120,
     "metadata": {},
     "output_type": "execute_result"
    }
   ],
   "source": [
    "patt = '.+(\\d+-\\d+-\\d+)'\n",
    "re.search(patt, data).group(1)"
   ]
  },
  {
   "cell_type": "markdown",
   "metadata": {},
   "source": [
    "这就是所谓的贪婪，`.`把前面的数字也给匹配了"
   ]
  },
  {
   "cell_type": "code",
   "execution_count": 121,
   "metadata": {},
   "outputs": [
    {
     "data": {
      "text/plain": [
       "'1171590364-6-8'"
      ]
     },
     "execution_count": 121,
     "metadata": {},
     "output_type": "execute_result"
    }
   ],
   "source": [
    "patt = '.+?(\\d+-\\d+-\\d+)'  # ？是非贪婪操作符\n",
    "re.search(patt, data).group(1)"
   ]
  },
  {
   "cell_type": "code",
   "execution_count": 122,
   "metadata": {},
   "outputs": [
    {
     "data": {
      "text/plain": [
       "'-6-'"
      ]
     },
     "execution_count": 122,
     "metadata": {},
     "output_type": "execute_result"
    }
   ],
   "source": [
    "# 只要中间那个数字\n",
    "patt = '-(\\d+)-'\n",
    "m = re.search(patt, data)\n",
    "m.group()"
   ]
  },
  {
   "cell_type": "code",
   "execution_count": 123,
   "metadata": {},
   "outputs": [
    {
     "data": {
      "text/plain": [
       "'6'"
      ]
     },
     "execution_count": 123,
     "metadata": {},
     "output_type": "execute_result"
    }
   ],
   "source": [
    "m.group(1)"
   ]
  },
  {
   "cell_type": "markdown",
   "metadata": {},
   "source": [
    "> 参考文献： 《Python核心编程第三版》 人民邮电出版社"
   ]
  }
 ],
 "metadata": {
  "kernelspec": {
   "display_name": "Python 2",
   "language": "python",
   "name": "python2"
  },
  "language_info": {
   "codemirror_mode": {
    "name": "ipython",
    "version": 2
   },
   "file_extension": ".py",
   "mimetype": "text/x-python",
   "name": "python",
   "nbconvert_exporter": "python",
   "pygments_lexer": "ipython2",
   "version": "2.7.13"
  },
  "latex_envs": {
   "LaTeX_envs_menu_present": true,
   "autoclose": false,
   "autocomplete": true,
   "bibliofile": "biblio.bib",
   "cite_by": "apalike",
   "current_citInitial": 1,
   "eqLabelWithNumbers": true,
   "eqNumInitial": 1,
   "hotkeys": {
    "equation": "Ctrl-E",
    "itemize": "Ctrl-I"
   },
   "labels_anchors": false,
   "latex_user_defs": false,
   "report_style_numbering": false,
   "user_envs_cfg": false
  },
  "toc": {
   "base_numbering": 1,
   "nav_menu": {},
   "number_sections": true,
   "sideBar": true,
   "skip_h1_title": true,
   "title_cell": "Contents",
   "title_sidebar": "Contents",
   "toc_cell": true,
   "toc_position": {},
   "toc_section_display": true,
   "toc_window_display": false
  }
 },
 "nbformat": 4,
 "nbformat_minor": 2
}
