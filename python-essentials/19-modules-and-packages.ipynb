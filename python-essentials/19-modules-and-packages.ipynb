{
 "cells": [
  {
   "cell_type": "markdown",
   "metadata": {},
   "source": [
    "# 模块和包"
   ]
  },
  {
   "cell_type": "markdown",
   "metadata": {},
   "source": [
    "## 模块\n",
    "Python会将所有`.py`结尾的文件认定为Python代码文件，考虑下面的脚本 ex1.py ："
   ]
  },
  {
   "cell_type": "code",
   "execution_count": 1,
   "metadata": {},
   "outputs": [
    {
     "name": "stdout",
     "output_type": "stream",
     "text": [
      "Writing ex1.py\n"
     ]
    }
   ],
   "source": [
    "%%writefile ex1.py\n",
    "\n",
    "PI = 3.1416\n",
    "\n",
    "def sum(lst):\n",
    "    tot = lst[0]\n",
    "    for value in lst[1:]:\n",
    "        tot = tot + value\n",
    "    return tot\n",
    "    \n",
    "w = [0, 1, 2, 3]\n",
    "print sum(w), PI"
   ]
  },
  {
   "cell_type": "code",
   "execution_count": 2,
   "metadata": {},
   "outputs": [
    {
     "name": "stdout",
     "output_type": "stream",
     "text": [
      "6 3.1416\n"
     ]
    }
   ],
   "source": [
    "%run ex1.py"
   ]
  },
  {
   "cell_type": "code",
   "execution_count": 3,
   "metadata": {},
   "outputs": [
    {
     "name": "stdout",
     "output_type": "stream",
     "text": [
      "6 3.1416\n"
     ]
    }
   ],
   "source": [
    "# 可以将这个脚本当作模块导入\n",
    "import ex1"
   ]
  },
  {
   "cell_type": "code",
   "execution_count": 4,
   "metadata": {},
   "outputs": [
    {
     "data": {
      "text/plain": [
       "<module 'ex1' from 'ex1.py'>"
      ]
     },
     "execution_count": 4,
     "metadata": {},
     "output_type": "execute_result"
    }
   ],
   "source": [
    "ex1"
   ]
  },
  {
   "cell_type": "code",
   "execution_count": 5,
   "metadata": {},
   "outputs": [
    {
     "name": "stdout",
     "output_type": "stream",
     "text": [
      "3.1416\n"
     ]
    }
   ],
   "source": [
    "print ex1.PI"
   ]
  },
  {
   "cell_type": "code",
   "execution_count": 6,
   "metadata": {},
   "outputs": [
    {
     "name": "stdout",
     "output_type": "stream",
     "text": [
      "3.141592653\n"
     ]
    }
   ],
   "source": [
    "# 可以修改变量\n",
    "ex1.PI = 3.141592653\n",
    "print ex1.PI"
   ]
  },
  {
   "cell_type": "code",
   "execution_count": 7,
   "metadata": {},
   "outputs": [
    {
     "name": "stdout",
     "output_type": "stream",
     "text": [
      "9\n"
     ]
    }
   ],
   "source": [
    "# 调用函数\n",
    "print ex1.sum([2,3,4])"
   ]
  },
  {
   "cell_type": "markdown",
   "metadata": {},
   "source": [
    "为了提高效率，Python只会载入模块一次，已经载入的模块再次载入时，**Python并不会真正执行载入操作，哪怕模块的内容已经改变**。"
   ]
  },
  {
   "cell_type": "code",
   "execution_count": 8,
   "metadata": {},
   "outputs": [],
   "source": [
    "# 并不会输出内容\n",
    "import ex1"
   ]
  },
  {
   "cell_type": "code",
   "execution_count": 9,
   "metadata": {},
   "outputs": [
    {
     "name": "stdout",
     "output_type": "stream",
     "text": [
      "6 3.1416\n"
     ]
    },
    {
     "data": {
      "text/plain": [
       "<module 'ex1' from 'ex1.pyc'>"
      ]
     },
     "execution_count": 9,
     "metadata": {},
     "output_type": "execute_result"
    }
   ],
   "source": [
    "# 强制重新载入\n",
    "reload(ex1)"
   ]
  },
  {
   "cell_type": "code",
   "execution_count": 10,
   "metadata": {},
   "outputs": [],
   "source": [
    "# 删除文件\n",
    "import os\n",
    "os.remove('ex1.py')"
   ]
  },
  {
   "cell_type": "markdown",
   "metadata": {},
   "source": [
    "## `__name__`属性"
   ]
  },
  {
   "cell_type": "markdown",
   "metadata": {},
   "source": [
    "有时候我们想将一个 .py 文件既当作脚本，又能当作模块用，这个时候可以使用 `__name__` 这个属性。\n",
    "\n",
    "只有当文件被当作脚本执行的时候， `__name__`的值才会是 `__main__`，所以我们可以："
   ]
  },
  {
   "cell_type": "code",
   "execution_count": 11,
   "metadata": {},
   "outputs": [
    {
     "name": "stdout",
     "output_type": "stream",
     "text": [
      "Writing ex2.py\n"
     ]
    }
   ],
   "source": [
    "%%writefile ex2.py\n",
    "\n",
    "PI = 3.1416\n",
    "\n",
    "def sum(lst):\n",
    "    \"\"\" Sum the values in a list\n",
    "    \"\"\"\n",
    "    tot = 0\n",
    "    for value in lst:\n",
    "        tot = tot + value\n",
    "    return tot\n",
    "\n",
    "def add(x, y):\n",
    "    \" Add two values.\"\n",
    "    a = x + y\n",
    "    return a\n",
    "\n",
    "def main():\n",
    "    w = [0,1,2,3]\n",
    "    assert(sum(w) == 6)\n",
    "    print 'test passed.'\n",
    "    \n",
    "if __name__ == '__main__':\n",
    "    main()"
   ]
  },
  {
   "cell_type": "code",
   "execution_count": 14,
   "metadata": {},
   "outputs": [
    {
     "name": "stdout",
     "output_type": "stream",
     "text": [
      "test passed.\n"
     ]
    }
   ],
   "source": [
    "# 直接运行会被当作mian执行\n",
    "%run ex2.py"
   ]
  },
  {
   "cell_type": "code",
   "execution_count": 15,
   "metadata": {},
   "outputs": [],
   "source": [
    "# 当作模块导入的时候，main()不会被执行\n",
    "# 直接导入，使用函数或者变量的时候要加上模块名\n",
    "import ex2"
   ]
  },
  {
   "cell_type": "code",
   "execution_count": 16,
   "metadata": {},
   "outputs": [
    {
     "data": {
      "text/plain": [
       "3.1416"
      ]
     },
     "execution_count": 16,
     "metadata": {},
     "output_type": "execute_result"
    }
   ],
   "source": [
    "# 同样可以使用其中的变量和方法\n",
    "ex2.PI"
   ]
  },
  {
   "cell_type": "code",
   "execution_count": 17,
   "metadata": {},
   "outputs": [
    {
     "data": {
      "text/plain": [
       "3.1416"
      ]
     },
     "execution_count": 17,
     "metadata": {},
     "output_type": "execute_result"
    }
   ],
   "source": [
    "# 使用别名\n",
    "import ex2 as e2\n",
    "e2.PI"
   ]
  },
  {
   "cell_type": "markdown",
   "metadata": {},
   "source": [
    "## 其他导入方法"
   ]
  },
  {
   "cell_type": "code",
   "execution_count": 18,
   "metadata": {},
   "outputs": [],
   "source": [
    "# 这种导入方式在使用模块的变量或者函数时就不需要加上模块名\n",
    "from ex2 import add,PI"
   ]
  },
  {
   "cell_type": "code",
   "execution_count": 19,
   "metadata": {},
   "outputs": [
    {
     "data": {
      "text/plain": [
       "5"
      ]
     },
     "execution_count": 19,
     "metadata": {},
     "output_type": "execute_result"
    }
   ],
   "source": [
    "add(2,3)"
   ]
  },
  {
   "cell_type": "code",
   "execution_count": 20,
   "metadata": {},
   "outputs": [],
   "source": [
    "# 导入所有函数\n",
    "# 此方法不提倡，这种方式可能会覆盖已有函数\n",
    "# 一般情况下，你不了解之后使用什么函数时\n",
    "# 可以直接import ex2这种方式，虽然调用的时候麻烦一点\n",
    "# 但是更安全，程序的可读性更强\n",
    "from ex2 import *"
   ]
  },
  {
   "cell_type": "code",
   "execution_count": 21,
   "metadata": {},
   "outputs": [],
   "source": [
    "import os\n",
    "os.remove('ex2.py')"
   ]
  },
  {
   "cell_type": "markdown",
   "metadata": {},
   "source": [
    "## 包"
   ]
  },
  {
   "cell_type": "markdown",
   "metadata": {},
   "source": [
    "假设我们有这样的一个文件夹：\n",
    "```\n",
    "foo/\n",
    "\n",
    "__init__.py\n",
    "bar.py (defines func)\n",
    "baz.py (defines zap)\n",
    "```\n",
    "这意味着 foo 是一个包，我们可以这样导入其中的内容：\n",
    "```python\n",
    "from foo.bar import func\n",
    "from foo.baz import zap\n",
    "```\n",
    "bar 和 baz 都是 foo 文件夹下的 .py 文件。\n",
    "\n",
    "导入包要求：\n",
    "* 文件夹 `foo` 在Python的**搜索路径**中\n",
    "* `__init__.py` 表示 `foo` 是一个包，它可以是个空文件。"
   ]
  },
  {
   "cell_type": "markdown",
   "metadata": {},
   "source": [
    "## 常用的标准库"
   ]
  },
  {
   "cell_type": "markdown",
   "metadata": {},
   "source": [
    "* re 正则表达式\n",
    "* copy 复制\n",
    "* math, cmath 数学\n",
    "* decimal, fraction\n",
    "* sqlite3 数据库\n",
    "* os, os.path 文件系统\n",
    "* gzip, bz2, zipfile, tarfile 压缩文件\n",
    "* csv, netrc 各种文件格式\n",
    "* xml\n",
    "* htmllib\n",
    "* ftplib, socket\n",
    "* cmd 命令行\n",
    "* pdb\n",
    "* profile, cProfile, timeit\n",
    "* collections, heapq, bisect 数据结构\n",
    "* mmap\n",
    "* threading, Queue 并行\n",
    "* multiprocessing\n",
    "* subprocess\n",
    "* pickle, cPickle\n",
    "* struct\n",
    "\n",
    "这个必须熟悉，路还很长呀。。。"
   ]
  }
 ],
 "metadata": {
  "kernelspec": {
   "display_name": "Python 2",
   "language": "python",
   "name": "python2"
  },
  "language_info": {
   "codemirror_mode": {
    "name": "ipython",
    "version": 2
   },
   "file_extension": ".py",
   "mimetype": "text/x-python",
   "name": "python",
   "nbconvert_exporter": "python",
   "pygments_lexer": "ipython2",
   "version": "2.7.13"
  },
  "latex_envs": {
   "LaTeX_envs_menu_present": true,
   "autoclose": false,
   "autocomplete": true,
   "bibliofile": "biblio.bib",
   "cite_by": "apalike",
   "current_citInitial": 1,
   "eqLabelWithNumbers": true,
   "eqNumInitial": 1,
   "hotkeys": {
    "equation": "Ctrl-E",
    "itemize": "Ctrl-I"
   },
   "labels_anchors": false,
   "latex_user_defs": false,
   "report_style_numbering": false,
   "user_envs_cfg": false
  },
  "toc": {
   "base_numbering": 1,
   "nav_menu": {},
   "number_sections": true,
   "sideBar": true,
   "skip_h1_title": true,
   "title_cell": "Contents",
   "title_sidebar": "Contents",
   "toc_cell": false,
   "toc_position": {},
   "toc_section_display": true,
   "toc_window_display": false
  }
 },
 "nbformat": 4,
 "nbformat_minor": 2
}
