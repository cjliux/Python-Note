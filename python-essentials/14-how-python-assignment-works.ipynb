{
 "cells": [
  {
   "cell_type": "markdown",
   "metadata": {},
   "source": [
    "# Python 赋值机制"
   ]
  },
  {
   "cell_type": "code",
   "execution_count": 1,
   "metadata": {},
   "outputs": [
    {
     "name": "stdout",
     "output_type": "stream",
     "text": [
      "[1, 100, 3]\n"
     ]
    }
   ],
   "source": [
    "x = [1, 2, 3]\n",
    "y = x\n",
    "x[1] = 100\n",
    "print y \n",
    "# 改变变量x的值，变量y的值也随着改变，\n",
    "# 这与Python内部的赋值机制有关。"
   ]
  },
  {
   "cell_type": "markdown",
   "metadata": {
    "toc": true
   },
   "source": [
    "<h1>Contents<span class=\"tocSkip\"></span></h1>\n",
    "<div class=\"toc\"><ul class=\"toc-item\"><li><span><a href=\"#简单类型\" data-toc-modified-id=\"简单类型-1\"><span class=\"toc-item-num\">1&nbsp;&nbsp;</span>简单类型</a></span><ul class=\"toc-item\"><li><span><a href=\"#执行过程\" data-toc-modified-id=\"执行过程-1.1\"><span class=\"toc-item-num\">1.1&nbsp;&nbsp;</span>执行过程</a></span></li></ul></li><li><span><a href=\"#容器类型\" data-toc-modified-id=\"容器类型-2\"><span class=\"toc-item-num\">2&nbsp;&nbsp;</span>容器类型</a></span></li></ul></div>"
   ]
  },
  {
   "cell_type": "markdown",
   "metadata": {},
   "source": [
    "## 简单类型"
   ]
  },
  {
   "cell_type": "code",
   "execution_count": 4,
   "metadata": {},
   "outputs": [
    {
     "name": "stdout",
     "output_type": "stream",
     "text": [
      "[1, 100, 3]\n"
     ]
    }
   ],
   "source": [
    "x = [1, 2, 3]\n",
    "y = x\n",
    "y[1] = 100\n",
    "print x "
   ]
  },
  {
   "cell_type": "markdown",
   "metadata": {},
   "source": [
    "### 执行过程\n",
    "```python\n",
    "x = 500\n",
    "y = x\n",
    "y = 'foo'\n",
    "```"
   ]
  },
  {
   "cell_type": "markdown",
   "metadata": {},
   "source": [
    "* x = 500\n",
    "\n",
    "**Python**分配了一个 `PyInt` 大小的内存 `pos1` 用来储存对象 `500` ，然后，Python在命名空间中让变量 `x` 指向了这一块内存，注意，整数是不可变类型，所以这块内存的内容是不可变的。\n",
    "\n",
    "内存 | 命名空间\n",
    "----- | ----\n",
    "`pos1 : PyInt(500)` (不可变) | `x : pos1`"
   ]
  },
  {
   "cell_type": "markdown",
   "metadata": {},
   "source": [
    "* y = x\n",
    "\n",
    "Python并没有使用新的内存来储存变量 y 的值，而是在命名空间中，让变量 y 与变量 x 指向了**同一块内存空间**。\n",
    "\n",
    "内存 | 命名空间\n",
    "----- | ----\n",
    "`pos1 : PyInt(500)` (不可变) | `x : pos1` `y : posl`"
   ]
  },
  {
   "cell_type": "markdown",
   "metadata": {},
   "source": [
    "* y = 'foo'\n",
    "\n",
    "`Python`此时分配一个 PyStr 大小的内存 `pos2` 来储存对象 `foo` ，然后改变变量 y 所指的对象。\n",
    "\n",
    "内存 | 命名空间\n",
    "----- | ----\n",
    "`pos1 : PyInt(500)` (不可变) | `x : pos1`\n",
    "`pos2 : PyStr('foo')` (不可变)|`y : pos2`"
   ]
  },
  {
   "cell_type": "code",
   "execution_count": 5,
   "metadata": {},
   "outputs": [
    {
     "data": {
      "text/plain": [
       "62522492"
      ]
     },
     "execution_count": 5,
     "metadata": {},
     "output_type": "execute_result"
    }
   ],
   "source": [
    "# 使用id(x)函数进行验证\n",
    "x = 500\n",
    "id(x)"
   ]
  },
  {
   "cell_type": "code",
   "execution_count": 6,
   "metadata": {},
   "outputs": [
    {
     "data": {
      "text/plain": [
       "62522492"
      ]
     },
     "execution_count": 6,
     "metadata": {},
     "output_type": "execute_result"
    }
   ],
   "source": [
    "y = x\n",
    "id(y)"
   ]
  },
  {
   "cell_type": "code",
   "execution_count": 7,
   "metadata": {},
   "outputs": [
    {
     "data": {
      "text/plain": [
       "True"
      ]
     },
     "execution_count": 7,
     "metadata": {},
     "output_type": "execute_result"
    }
   ],
   "source": [
    "x is y"
   ]
  },
  {
   "cell_type": "code",
   "execution_count": 8,
   "metadata": {},
   "outputs": [
    {
     "data": {
      "text/plain": [
       "55108624"
      ]
     },
     "execution_count": 8,
     "metadata": {},
     "output_type": "execute_result"
    }
   ],
   "source": [
    "y = 'foo'\n",
    "id(y)"
   ]
  },
  {
   "cell_type": "code",
   "execution_count": 9,
   "metadata": {},
   "outputs": [
    {
     "data": {
      "text/plain": [
       "False"
      ]
     },
     "execution_count": 9,
     "metadata": {},
     "output_type": "execute_result"
    }
   ],
   "source": [
    "x is y"
   ]
  },
  {
   "cell_type": "markdown",
   "metadata": {},
   "source": [
    "Python会为每个出现的对象进行赋值，哪怕它们的值是一样的，例如："
   ]
  },
  {
   "cell_type": "code",
   "execution_count": 10,
   "metadata": {},
   "outputs": [
    {
     "data": {
      "text/plain": [
       "62537272"
      ]
     },
     "execution_count": 10,
     "metadata": {},
     "output_type": "execute_result"
    }
   ],
   "source": [
    "x = 500\n",
    "id(x)"
   ]
  },
  {
   "cell_type": "code",
   "execution_count": 11,
   "metadata": {},
   "outputs": [
    {
     "data": {
      "text/plain": [
       "62536792"
      ]
     },
     "execution_count": 11,
     "metadata": {},
     "output_type": "execute_result"
    }
   ],
   "source": [
    "y = 500\n",
    "id(y)"
   ]
  },
  {
   "cell_type": "code",
   "execution_count": 12,
   "metadata": {},
   "outputs": [
    {
     "data": {
      "text/plain": [
       "False"
      ]
     },
     "execution_count": 12,
     "metadata": {},
     "output_type": "execute_result"
    }
   ],
   "source": [
    "x is y"
   ]
  },
  {
   "cell_type": "markdown",
   "metadata": {},
   "source": [
    "不过，为了提高内存利用效率，对于一些**简单的对象**，如一些数值较小的int对象，Python采用了重用对象内存的办法："
   ]
  },
  {
   "cell_type": "code",
   "execution_count": 13,
   "metadata": {},
   "outputs": [
    {
     "data": {
      "text/plain": [
       "51086956"
      ]
     },
     "execution_count": 13,
     "metadata": {},
     "output_type": "execute_result"
    }
   ],
   "source": [
    "x = 2\n",
    "id(x)"
   ]
  },
  {
   "cell_type": "code",
   "execution_count": 14,
   "metadata": {},
   "outputs": [
    {
     "data": {
      "text/plain": [
       "51086956"
      ]
     },
     "execution_count": 14,
     "metadata": {},
     "output_type": "execute_result"
    }
   ],
   "source": [
    "y = 2\n",
    "id(y)"
   ]
  },
  {
   "cell_type": "code",
   "execution_count": 15,
   "metadata": {},
   "outputs": [
    {
     "data": {
      "text/plain": [
       "True"
      ]
     },
     "execution_count": 15,
     "metadata": {},
     "output_type": "execute_result"
    }
   ],
   "source": [
    "x is y"
   ]
  },
  {
   "cell_type": "markdown",
   "metadata": {},
   "source": [
    "## 容器类型"
   ]
  },
  {
   "cell_type": "markdown",
   "metadata": {},
   "source": [
    "```python\n",
    "x = [500, 501, 502]\n",
    "y = x\n",
    "y[1] = 600\n",
    "y = [700, 800]\n",
    "```"
   ]
  },
  {
   "cell_type": "markdown",
   "metadata": {},
   "source": [
    "* x = [500, 501, 502]\n",
    "\n",
    "Python为3个PyInt分配内存 `pos1 ， pos2 ， pos3` （不可变），然后为列表分配一段内存 `pos4`,它包含3个位置，分别指向这3个内存，最后再让变量 x 指向这个列表。\n",
    "\n",
    "内存 | 命名空间\n",
    "----- | ----\n",
    "`pos1 : PyInt(500)` (不可变) | `x : pos4`\n",
    "`pos2 : PyInt(501)` (不可变) |\n",
    "`pos3 : PyInt(502)` (不可变) |\n",
    "`pos4 : PyList(pos1,pos2,pos3)` (可变) | "
   ]
  },
  {
   "cell_type": "markdown",
   "metadata": {},
   "source": [
    "* y = x\n",
    "\n",
    "并没有创建新的对象，只需要将 `y` 指向 `pos4` 即可。\n",
    "\n",
    "内存 | 命名空间\n",
    "----- | ----\n",
    "`pos1 : PyInt(500)` (不可变) | `x : pos4`\n",
    "`pos2 : PyInt(501)` (不可变) | `y : pos4`\n",
    "`pos3 : PyInt(502)` (不可变) |\n",
    "`pos4 : PyList(pos1,pos2,pos3)` (可变) | "
   ]
  },
  {
   "cell_type": "markdown",
   "metadata": {},
   "source": [
    "* y[1] = 600\n",
    "\n",
    "之前 y[1] 这个位置指向的是 pos2 ，由于不能修改 pos2 的值，所以首先为 600 分配新内存 pos5，再把 y[1] 指向的位置修改为 pos5 。\n",
    "\n",
    "此时，由于 pos2 位置的对象已经没有用了，Python会自动调用垃圾处理机制将它回收。\n",
    "\n",
    "\n",
    "内存 | 命名空间\n",
    "----- | ----\n",
    "`pos1 : PyInt(500)` (不可变) | `x : pos4`\n",
    "`pos2 : `垃圾回收| `y : pos4`\n",
    "`pos3 : PyInt(502)` (不可变) |\n",
    "`pos4 : PyList(pos1,pos5,pos3)` (可变) | \n",
    "`pos5 : PyInt(600) `(不可变)|"
   ]
  },
  {
   "cell_type": "markdown",
   "metadata": {},
   "source": [
    "* y = [700, 800]\n",
    "\n",
    "首先创建这个列表，然后将变量 y 指向它。\n",
    "\n",
    "内存 | 命名空间\n",
    "----- | ----\n",
    "`pos1 : PyInt(500)` (不可变) | `x : pos4`\n",
    "`pos3 : PyInt(502)` (不可变) | `y : pos8`\n",
    "`pos4 : PyList(pos1,pos5,pos3)` (可变) | \n",
    "`pos5 : PyInt(600) `(不可变)|\n",
    "`pos6 : PyInt(700) `(不可变)|\n",
    "`pos7 : PyInt(800) `(不可变)|\n",
    "`pos8 : PyList(pos6, pos7)` (可变)|"
   ]
  },
  {
   "cell_type": "code",
   "execution_count": 16,
   "metadata": {},
   "outputs": [
    {
     "name": "stdout",
     "output_type": "stream",
     "text": [
      "62536792\n",
      "62522492\n",
      "62536888\n",
      "84443048\n"
     ]
    }
   ],
   "source": [
    "# 验证\n",
    "x = [500, 501, 502]\n",
    "print id(x[0])\n",
    "print id(x[1])\n",
    "print id(x[2])\n",
    "print id(x)"
   ]
  },
  {
   "cell_type": "code",
   "execution_count": 17,
   "metadata": {},
   "outputs": [
    {
     "name": "stdout",
     "output_type": "stream",
     "text": [
      "84443048\n"
     ]
    }
   ],
   "source": [
    "y = x\n",
    "print id(y)"
   ]
  },
  {
   "cell_type": "code",
   "execution_count": 18,
   "metadata": {},
   "outputs": [
    {
     "data": {
      "text/plain": [
       "True"
      ]
     },
     "execution_count": 18,
     "metadata": {},
     "output_type": "execute_result"
    }
   ],
   "source": [
    "x is y"
   ]
  },
  {
   "cell_type": "code",
   "execution_count": 22,
   "metadata": {},
   "outputs": [
    {
     "name": "stdout",
     "output_type": "stream",
     "text": [
      "84443048\n"
     ]
    }
   ],
   "source": [
    "y[1] = 600\n",
    "print id(y) # 此时id(y)并未改变但是id(y[1])改变了"
   ]
  },
  {
   "cell_type": "code",
   "execution_count": 23,
   "metadata": {},
   "outputs": [
    {
     "name": "stdout",
     "output_type": "stream",
     "text": [
      "62536900\n",
      "62536900\n"
     ]
    }
   ],
   "source": [
    "print id(x[1])\n",
    "print id(y[1])"
   ]
  },
  {
   "cell_type": "code",
   "execution_count": 24,
   "metadata": {},
   "outputs": [
    {
     "name": "stdout",
     "output_type": "stream",
     "text": [
      "84513536\n",
      "84443048\n"
     ]
    }
   ],
   "source": [
    "# 更改 y 的值，id(y) 的值改变\n",
    "y = [700, 800]\n",
    "print id(y)\n",
    "print id(x)"
   ]
  }
 ],
 "metadata": {
  "kernelspec": {
   "display_name": "Python 2",
   "language": "python",
   "name": "python2"
  },
  "language_info": {
   "codemirror_mode": {
    "name": "ipython",
    "version": 2
   },
   "file_extension": ".py",
   "mimetype": "text/x-python",
   "name": "python",
   "nbconvert_exporter": "python",
   "pygments_lexer": "ipython2",
   "version": "2.7.13"
  },
  "latex_envs": {
   "LaTeX_envs_menu_present": true,
   "autoclose": false,
   "autocomplete": true,
   "bibliofile": "biblio.bib",
   "cite_by": "apalike",
   "current_citInitial": 1,
   "eqLabelWithNumbers": true,
   "eqNumInitial": 1,
   "hotkeys": {
    "equation": "Ctrl-E",
    "itemize": "Ctrl-I"
   },
   "labels_anchors": false,
   "latex_user_defs": false,
   "report_style_numbering": false,
   "user_envs_cfg": false
  },
  "toc": {
   "base_numbering": 1,
   "nav_menu": {},
   "number_sections": true,
   "sideBar": true,
   "skip_h1_title": true,
   "title_cell": "Contents",
   "title_sidebar": "Contents",
   "toc_cell": true,
   "toc_position": {
    "height": "calc(100% - 180px)",
    "left": "10px",
    "top": "150px",
    "width": "273px"
   },
   "toc_section_display": true,
   "toc_window_display": true
  }
 },
 "nbformat": 4,
 "nbformat_minor": 2
}
