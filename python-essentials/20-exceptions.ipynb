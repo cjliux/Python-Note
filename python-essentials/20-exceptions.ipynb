{
 "cells": [
  {
   "cell_type": "markdown",
   "metadata": {},
   "source": [
    "# 异常"
   ]
  },
  {
   "cell_type": "markdown",
   "metadata": {},
   "source": [
    "## try & except 块"
   ]
  },
  {
   "cell_type": "code",
   "execution_count": 1,
   "metadata": {
    "scrolled": true
   },
   "outputs": [
    {
     "name": "stdout",
     "output_type": "stream",
     "text": [
      ">>> 3\n",
      "log10(3.0) = 0.47712125472\n",
      ">>> 5\n",
      "log10(5.0) = 0.698970004336\n",
      ">>> q\n"
     ]
    }
   ],
   "source": [
    "import math\n",
    "\n",
    "while True:\n",
    "    text = raw_input('>>> ')\n",
    "    if text[0] == 'q':\n",
    "        break\n",
    "    x = float(text) # 强制转换\n",
    "    y = math.log10(x)\n",
    "    print \"log10({0}) = {1}\".format(x, y)"
   ]
  },
  {
   "cell_type": "markdown",
   "metadata": {},
   "source": [
    "对于输入<=0的数程序会报错，我们想自己处理这个可能会出现的错误"
   ]
  },
  {
   "cell_type": "code",
   "execution_count": 3,
   "metadata": {},
   "outputs": [
    {
     "name": "stdout",
     "output_type": "stream",
     "text": [
      ">>> -1\n",
      "the value must be greater than 0\n",
      ">>> 10\n",
      "log10(10.0) = 1.0\n",
      ">>> q\n"
     ]
    }
   ],
   "source": [
    "# 捕捉异常\n",
    "import math\n",
    "\n",
    "while True:\n",
    "    try:\n",
    "        text = raw_input('>>> ')\n",
    "        if text[0] == 'q':\n",
    "            break\n",
    "        x = float(text)\n",
    "        y = math.log10(x)\n",
    "        print \"log10({0}) = {1}\".format(x, y)\n",
    "    except ValueError:\n",
    "        print \"the value must be greater than 0\""
   ]
  },
  {
   "cell_type": "code",
   "execution_count": 4,
   "metadata": {},
   "outputs": [
    {
     "name": "stdout",
     "output_type": "stream",
     "text": [
      ">>> 1\n"
     ]
    },
    {
     "ename": "ZeroDivisionError",
     "evalue": "float division by zero",
     "output_type": "error",
     "traceback": [
      "\u001b[1;31m\u001b[0m",
      "\u001b[1;31mZeroDivisionError\u001b[0mTraceback (most recent call last)",
      "\u001b[1;32m<ipython-input-4-71ec2b5b08f6>\u001b[0m in \u001b[0;36m<module>\u001b[1;34m()\u001b[0m\n\u001b[0;32m      8\u001b[0m             \u001b[1;32mbreak\u001b[0m\u001b[1;33m\u001b[0m\u001b[0m\n\u001b[0;32m      9\u001b[0m         \u001b[0mx\u001b[0m \u001b[1;33m=\u001b[0m \u001b[0mfloat\u001b[0m\u001b[1;33m(\u001b[0m\u001b[0mtext\u001b[0m\u001b[1;33m)\u001b[0m\u001b[1;33m\u001b[0m\u001b[0m\n\u001b[1;32m---> 10\u001b[1;33m         \u001b[0my\u001b[0m \u001b[1;33m=\u001b[0m \u001b[1;36m1\u001b[0m\u001b[1;33m/\u001b[0m\u001b[0mmath\u001b[0m\u001b[1;33m.\u001b[0m\u001b[0mlog10\u001b[0m\u001b[1;33m(\u001b[0m\u001b[0mx\u001b[0m\u001b[1;33m)\u001b[0m    \u001b[1;31m# 这里修改了\u001b[0m\u001b[1;33m\u001b[0m\u001b[0m\n\u001b[0m\u001b[0;32m     11\u001b[0m         \u001b[1;32mprint\u001b[0m \u001b[1;34m\"log10({0}) = {1}\"\u001b[0m\u001b[1;33m.\u001b[0m\u001b[0mformat\u001b[0m\u001b[1;33m(\u001b[0m\u001b[0mx\u001b[0m\u001b[1;33m,\u001b[0m \u001b[0my\u001b[0m\u001b[1;33m)\u001b[0m\u001b[1;33m\u001b[0m\u001b[0m\n\u001b[0;32m     12\u001b[0m     \u001b[1;32mexcept\u001b[0m \u001b[0mValueError\u001b[0m\u001b[1;33m:\u001b[0m\u001b[1;33m\u001b[0m\u001b[0m\n",
      "\u001b[1;31mZeroDivisionError\u001b[0m: float division by zero"
     ]
    }
   ],
   "source": [
    "# 捕捉异常\n",
    "import math\n",
    "\n",
    "while True:\n",
    "    try:\n",
    "        text = raw_input('>>> ')\n",
    "        if text[0] == 'q':\n",
    "            break\n",
    "        x = float(text)\n",
    "        y = 1/math.log10(x)    # 这里修改了\n",
    "        print \"log10({0}) = {1}\".format(x, y)\n",
    "    except ValueError:\n",
    "        print \"the value must be greater than 0\""
   ]
  },
  {
   "cell_type": "code",
   "execution_count": 5,
   "metadata": {},
   "outputs": [
    {
     "name": "stdout",
     "output_type": "stream",
     "text": [
      ">>> 1\n",
      "invalid value\n",
      ">>> -1\n",
      "invalid value\n",
      ">>> 0\n",
      "invalid value\n",
      ">>> 4\n",
      "1 / log10(4.0) = 1.66096404744\n",
      ">>> q\n"
     ]
    }
   ],
   "source": [
    "# 捕捉所有异常\n",
    "import math\n",
    "\n",
    "while True:\n",
    "    try:\n",
    "        text = raw_input('>>> ')\n",
    "        if text[0] == 'q':\n",
    "            break\n",
    "        x = float(text)\n",
    "        y = 1 / math.log10(x)\n",
    "        print \"1 / log10({0}) = {1}\".format(x, y)\n",
    "    except Exception:\n",
    "        print \"invalid value\""
   ]
  },
  {
   "cell_type": "code",
   "execution_count": 6,
   "metadata": {},
   "outputs": [
    {
     "name": "stdout",
     "output_type": "stream",
     "text": [
      ">>> -1\n",
      "invalid value\n",
      ">>> 0\n",
      "invalid value\n",
      ">>> q\n"
     ]
    }
   ],
   "source": [
    "# 指定多个异常\n",
    "import math\n",
    "\n",
    "while True:\n",
    "    try:\n",
    "        text = raw_input('>>> ')\n",
    "        if text[0] == 'q':\n",
    "            break\n",
    "        x = float(text)\n",
    "        y = 1 / math.log10(x)\n",
    "        print \"1 / log10({0}) = {1}\".format(x, y)\n",
    "    except (ValueError, ZeroDivisionError):  # 这里改了\n",
    "        print \"invalid value\""
   ]
  },
  {
   "cell_type": "code",
   "execution_count": 7,
   "metadata": {},
   "outputs": [
    {
     "name": "stdout",
     "output_type": "stream",
     "text": [
      ">>>-1\n",
      "the value must be greater than 0\n",
      ">>>0\n",
      "the value must be greater than 0\n",
      ">>>q\n"
     ]
    }
   ],
   "source": [
    "# 单独处理每个异常\n",
    "import math\n",
    "\n",
    "while True:\n",
    "    try:\n",
    "        text = raw_input('>>>')\n",
    "        if text[0] == 'q':\n",
    "            break\n",
    "        x = float(text)\n",
    "        y = 1 / math.log10(x)\n",
    "        print \"1 / log10({0}) = {1}\".format(x, y)\n",
    "    except ValueError:\n",
    "        print \"the value must be greater than 0\"\n",
    "    except ZeroDivisionError:\n",
    "        print \"the value must not be 1\""
   ]
  },
  {
   "cell_type": "code",
   "execution_count": 8,
   "metadata": {},
   "outputs": [
    {
     "name": "stdout",
     "output_type": "stream",
     "text": [
      "> -1\n",
      "the value must be greater than 0\n",
      "> 1\n",
      "the value must not be 1\n",
      "> q\n"
     ]
    }
   ],
   "source": [
    "# 这种方式最好，结合了预知错误和未知错误\n",
    "import math\n",
    "\n",
    "while True:\n",
    "    try:\n",
    "        text = raw_input('> ')\n",
    "        if text[0] == 'q':\n",
    "            break\n",
    "        x = float(text)\n",
    "        y = 1 / math.log10(x)\n",
    "        print \"1 / log10({0}) = {1}\".format(x, y)\n",
    "    except ValueError:\n",
    "        print \"the value must be greater than 0\"\n",
    "    except ZeroDivisionError:\n",
    "        print \"the value must not be 1\"\n",
    "    except Exception:\n",
    "        print \"unexpected error\""
   ]
  },
  {
   "cell_type": "markdown",
   "metadata": {},
   "source": [
    "## 得到异常的具体信息"
   ]
  },
  {
   "cell_type": "code",
   "execution_count": 9,
   "metadata": {},
   "outputs": [
    {
     "ename": "ValueError",
     "evalue": "could not convert string to float: a",
     "output_type": "error",
     "traceback": [
      "\u001b[1;31m\u001b[0m",
      "\u001b[1;31mValueError\u001b[0mTraceback (most recent call last)",
      "\u001b[1;32m<ipython-input-9-8a26be5ee61a>\u001b[0m in \u001b[0;36m<module>\u001b[1;34m()\u001b[0m\n\u001b[0;32m      1\u001b[0m \u001b[1;31m# 像这种异常，我们想要抛出的异常更具体\u001b[0m\u001b[1;33m\u001b[0m\u001b[1;33m\u001b[0m\u001b[0m\n\u001b[1;32m----> 2\u001b[1;33m \u001b[0mfloat\u001b[0m\u001b[1;33m(\u001b[0m\u001b[1;34m'a'\u001b[0m\u001b[1;33m)\u001b[0m\u001b[1;33m\u001b[0m\u001b[0m\n\u001b[0m",
      "\u001b[1;31mValueError\u001b[0m: could not convert string to float: a"
     ]
    }
   ],
   "source": [
    "# 像这种异常，我们想要抛出的异常更具体\n",
    "float('a')"
   ]
  },
  {
   "cell_type": "code",
   "execution_count": 10,
   "metadata": {},
   "outputs": [
    {
     "name": "stdout",
     "output_type": "stream",
     "text": [
      "> 1\n",
      "the value must not be 1\n",
      "> -1\n"
     ]
    },
    {
     "name": "stderr",
     "output_type": "stream",
     "text": [
      "d:\\python\\lib\\site-packages\\ipykernel_launcher.py:12: DeprecationWarning: BaseException.message has been deprecated as of Python 2.6\n",
      "  if sys.path[0] == '':\n"
     ]
    },
    {
     "name": "stdout",
     "output_type": "stream",
     "text": [
      "the value must be greater than 0\n",
      "> aa\n",
      "could not convert 'aa' to float\n",
      "> q\n"
     ]
    }
   ],
   "source": [
    "import math\n",
    "\n",
    "while True:\n",
    "    try:\n",
    "        text = raw_input('> ')\n",
    "        if text[0] == 'q':\n",
    "            break\n",
    "        x = float(text)\n",
    "        y = 1 / math.log10(x)\n",
    "        print \"1 / log10({0}) = {1}\".format(x, y)\n",
    "    # 这里修改了\n",
    "    except ValueError as exc:\n",
    "        if exc.message == \"math domain error\":\n",
    "            print \"the value must be greater than 0\"\n",
    "        else:\n",
    "            print \"could not convert '%s' to float\" % text\n",
    "    except ZeroDivisionError:\n",
    "        print \"the value must not be 1\"\n",
    "    except Exception as exc:\n",
    "        print \"unexpected error:\", exc.message"
   ]
  },
  {
   "cell_type": "markdown",
   "metadata": {},
   "source": [
    "忽略所有异常\n",
    "```python\n",
    "try:\n",
    "    pass\n",
    "except:\n",
    "    pass\n",
    "```"
   ]
  },
  {
   "cell_type": "markdown",
   "metadata": {},
   "source": [
    "## 自定义异常"
   ]
  },
  {
   "cell_type": "markdown",
   "metadata": {},
   "source": [
    "* 异常是标准库中的类，这意味着我们可以自定义异常类："
   ]
  },
  {
   "cell_type": "code",
   "execution_count": 2,
   "metadata": {},
   "outputs": [],
   "source": [
    "# 定义了一个继承自 ValueError 的异常类\n",
    "# 异常类一般接收一个字符串作为输入\n",
    "# 并把这个字符串当作异常信息\n",
    "class CommandError(ValueError):\n",
    "    pass"
   ]
  },
  {
   "cell_type": "code",
   "execution_count": 3,
   "metadata": {},
   "outputs": [
    {
     "name": "stdout",
     "output_type": "stream",
     "text": [
      "> bad command\n"
     ]
    },
    {
     "ename": "CommandError",
     "evalue": "Invalid commmand: bad command",
     "output_type": "error",
     "traceback": [
      "\u001b[1;31m\u001b[0m",
      "\u001b[1;31mCommandError\u001b[0mTraceback (most recent call last)",
      "\u001b[1;32m<ipython-input-3-211a2bba7d34>\u001b[0m in \u001b[0;36m<module>\u001b[1;34m()\u001b[0m\n\u001b[0;32m      5\u001b[0m     \u001b[1;32mif\u001b[0m \u001b[0mcommand\u001b[0m\u001b[1;33m.\u001b[0m\u001b[0mlower\u001b[0m\u001b[1;33m(\u001b[0m\u001b[1;33m)\u001b[0m \u001b[1;32mnot\u001b[0m \u001b[1;32min\u001b[0m \u001b[0mvalid_commands\u001b[0m\u001b[1;33m:\u001b[0m\u001b[1;33m\u001b[0m\u001b[0m\n\u001b[0;32m      6\u001b[0m         \u001b[1;31m# 使用 raise 关键词来抛出异常\u001b[0m\u001b[1;33m\u001b[0m\u001b[1;33m\u001b[0m\u001b[0m\n\u001b[1;32m----> 7\u001b[1;33m         \u001b[1;32mraise\u001b[0m \u001b[0mCommandError\u001b[0m\u001b[1;33m(\u001b[0m\u001b[1;34m'Invalid commmand: %s'\u001b[0m \u001b[1;33m%\u001b[0m \u001b[0mcommand\u001b[0m\u001b[1;33m)\u001b[0m\u001b[1;33m\u001b[0m\u001b[0m\n\u001b[0m",
      "\u001b[1;31mCommandError\u001b[0m: Invalid commmand: bad command"
     ]
    }
   ],
   "source": [
    "valid_commands = {'start', 'stop', 'pause'}\n",
    "\n",
    "while True:\n",
    "    command = raw_input('> ')\n",
    "    if command.lower() not in valid_commands:\n",
    "        # 使用 raise 关键词来抛出异常\n",
    "        raise CommandError('Invalid commmand: %s' % command)"
   ]
  },
  {
   "cell_type": "code",
   "execution_count": 4,
   "metadata": {},
   "outputs": [
    {
     "name": "stdout",
     "output_type": "stream",
     "text": [
      "> bad command\n",
      "Bad command string: \"bad command\"\n",
      "> stop\n"
     ]
    }
   ],
   "source": [
    "valid_commands = {'start', 'stop', 'pause'}\n",
    "\n",
    "while True:\n",
    "    command = raw_input('> ')\n",
    "    try:\n",
    "        if command.lower() not in valid_commands:\n",
    "            raise CommandError('Invalid commmand: %s' % command)\n",
    "        else:\n",
    "            break\n",
    "    except CommandError:\n",
    "        print 'Bad command string: \"%s\"' % command"
   ]
  },
  {
   "cell_type": "markdown",
   "metadata": {},
   "source": [
    "## finally"
   ]
  },
  {
   "cell_type": "markdown",
   "metadata": {},
   "source": [
    "不管 try 块有没有异常， finally 块的内容总是会被执行，而且会**在抛出异常前执行**，因此可以用来作为安全保证，比如确保打开的文件被关闭。。"
   ]
  },
  {
   "cell_type": "code",
   "execution_count": 5,
   "metadata": {},
   "outputs": [
    {
     "name": "stdout",
     "output_type": "stream",
     "text": [
      "1\n",
      "finally was called.\n"
     ]
    }
   ],
   "source": [
    "try:\n",
    "    print 1\n",
    "finally:\n",
    "    print 'finally was called.'"
   ]
  },
  {
   "cell_type": "code",
   "execution_count": 6,
   "metadata": {},
   "outputs": [
    {
     "name": "stdout",
     "output_type": "stream",
     "text": [
      "finally was called.\n"
     ]
    },
    {
     "ename": "ZeroDivisionError",
     "evalue": "integer division or modulo by zero",
     "output_type": "error",
     "traceback": [
      "\u001b[1;31m\u001b[0m",
      "\u001b[1;31mZeroDivisionError\u001b[0mTraceback (most recent call last)",
      "\u001b[1;32m<ipython-input-6-d1797a332394>\u001b[0m in \u001b[0;36m<module>\u001b[1;34m()\u001b[0m\n\u001b[0;32m      1\u001b[0m \u001b[1;32mtry\u001b[0m\u001b[1;33m:\u001b[0m\u001b[1;33m\u001b[0m\u001b[0m\n\u001b[1;32m----> 2\u001b[1;33m     \u001b[1;32mprint\u001b[0m \u001b[1;36m1\u001b[0m \u001b[1;33m/\u001b[0m \u001b[1;36m0\u001b[0m\u001b[1;33m\u001b[0m\u001b[0m\n\u001b[0m\u001b[0;32m      3\u001b[0m \u001b[1;32mfinally\u001b[0m\u001b[1;33m:\u001b[0m\u001b[1;33m\u001b[0m\u001b[0m\n\u001b[0;32m      4\u001b[0m     \u001b[1;32mprint\u001b[0m \u001b[1;34m'finally was called.'\u001b[0m\u001b[1;33m\u001b[0m\u001b[0m\n",
      "\u001b[1;31mZeroDivisionError\u001b[0m: integer division or modulo by zero"
     ]
    }
   ],
   "source": [
    "try:\n",
    "    print 1 / 0\n",
    "finally:\n",
    "    print 'finally was called.'"
   ]
  },
  {
   "cell_type": "markdown",
   "metadata": {},
   "source": [
    "如果异常被捕获了，在最后执行："
   ]
  },
  {
   "cell_type": "code",
   "execution_count": 7,
   "metadata": {},
   "outputs": [
    {
     "name": "stdout",
     "output_type": "stream",
     "text": [
      "divide by 0.\n",
      "finally was called.\n"
     ]
    }
   ],
   "source": [
    "try:\n",
    "    print 1 / 0\n",
    "except ZeroDivisionError:\n",
    "    print 'divide by 0.'\n",
    "finally:\n",
    "    print 'finally was called.'"
   ]
  },
  {
   "cell_type": "code",
   "execution_count": null,
   "metadata": {},
   "outputs": [],
   "source": []
  }
 ],
 "metadata": {
  "kernelspec": {
   "display_name": "Python 2",
   "language": "python",
   "name": "python2"
  },
  "latex_envs": {
   "LaTeX_envs_menu_present": true,
   "autoclose": false,
   "autocomplete": true,
   "bibliofile": "biblio.bib",
   "cite_by": "apalike",
   "current_citInitial": 1,
   "eqLabelWithNumbers": true,
   "eqNumInitial": 1,
   "hotkeys": {
    "equation": "Ctrl-E",
    "itemize": "Ctrl-I"
   },
   "labels_anchors": false,
   "latex_user_defs": false,
   "report_style_numbering": false,
   "user_envs_cfg": false
  },
  "toc": {
   "base_numbering": 1,
   "nav_menu": {},
   "number_sections": true,
   "sideBar": true,
   "skip_h1_title": true,
   "title_cell": "Contents",
   "title_sidebar": "Contents",
   "toc_cell": false,
   "toc_position": {},
   "toc_section_display": true,
   "toc_window_display": false
  }
 },
 "nbformat": 4,
 "nbformat_minor": 2
}
