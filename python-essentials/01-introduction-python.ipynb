{
 "cells": [
  {
   "cell_type": "markdown",
   "metadata": {},
   "source": [
    "# Python演示"
   ]
  },
  {
   "cell_type": "markdown",
   "metadata": {},
   "source": [
    "## 字符串String"
   ]
  },
  {
   "cell_type": "code",
   "execution_count": 2,
   "metadata": {},
   "outputs": [],
   "source": [
    "s = \"\"\"hello\n",
    "world\"\"\""
   ]
  },
  {
   "cell_type": "code",
   "execution_count": 3,
   "metadata": {},
   "outputs": [
    {
     "name": "stdout",
     "output_type": "stream",
     "text": [
      "hello\n",
      "world\n"
     ]
    }
   ],
   "source": [
    "print s"
   ]
  },
  {
   "cell_type": "code",
   "execution_count": 4,
   "metadata": {},
   "outputs": [
    {
     "name": "stdout",
     "output_type": "stream",
     "text": [
      "hello\n",
      "world\n"
     ]
    }
   ],
   "source": [
    "s = '''hello\n",
    "world'''\n",
    "print s"
   ]
  },
  {
   "cell_type": "code",
   "execution_count": 5,
   "metadata": {},
   "outputs": [
    {
     "data": {
      "text/plain": [
       "'hello world'"
      ]
     },
     "execution_count": 5,
     "metadata": {},
     "output_type": "execute_result"
    }
   ],
   "source": [
    "s = \"hello\" + \" world\"\n",
    "s"
   ]
  },
  {
   "cell_type": "code",
   "execution_count": 6,
   "metadata": {},
   "outputs": [
    {
     "data": {
      "text/plain": [
       "'h'"
      ]
     },
     "execution_count": 6,
     "metadata": {},
     "output_type": "execute_result"
    }
   ],
   "source": [
    "s[0]"
   ]
  },
  {
   "cell_type": "code",
   "execution_count": 7,
   "metadata": {},
   "outputs": [
    {
     "data": {
      "text/plain": [
       "'d'"
      ]
     },
     "execution_count": 7,
     "metadata": {},
     "output_type": "execute_result"
    }
   ],
   "source": [
    "s[-1]"
   ]
  },
  {
   "cell_type": "code",
   "execution_count": 8,
   "metadata": {},
   "outputs": [
    {
     "data": {
      "text/plain": [
       "'hel'"
      ]
     },
     "execution_count": 8,
     "metadata": {},
     "output_type": "execute_result"
    }
   ],
   "source": [
    "s[0:3]"
   ]
  },
  {
   "cell_type": "code",
   "execution_count": 9,
   "metadata": {},
   "outputs": [
    {
     "data": {
      "text/plain": [
       "['hello', 'world']"
      ]
     },
     "execution_count": 9,
     "metadata": {},
     "output_type": "execute_result"
    }
   ],
   "source": [
    "s.split()"
   ]
  },
  {
   "cell_type": "code",
   "execution_count": 10,
   "metadata": {},
   "outputs": [
    {
     "data": {
      "text/plain": [
       "11"
      ]
     },
     "execution_count": 10,
     "metadata": {},
     "output_type": "execute_result"
    }
   ],
   "source": [
    "len(s)"
   ]
  },
  {
   "cell_type": "markdown",
   "metadata": {},
   "source": [
    "## 列表List[ ]"
   ]
  },
  {
   "cell_type": "code",
   "execution_count": 11,
   "metadata": {},
   "outputs": [
    {
     "data": {
      "text/plain": [
       "['hello', 'ds', 19991999]"
      ]
     },
     "execution_count": 11,
     "metadata": {},
     "output_type": "execute_result"
    }
   ],
   "source": [
    "a = ['hello', 'ds',19990000+1999]\n",
    "a"
   ]
  },
  {
   "cell_type": "code",
   "execution_count": 12,
   "metadata": {},
   "outputs": [
    {
     "data": {
      "text/plain": [
       "['hello', 'ds', 19991999, 'hello', 'ds', 19991999]"
      ]
     },
     "execution_count": 12,
     "metadata": {},
     "output_type": "execute_result"
    }
   ],
   "source": [
    "a+a"
   ]
  },
  {
   "cell_type": "code",
   "execution_count": 13,
   "metadata": {},
   "outputs": [
    {
     "data": {
      "text/plain": [
       "'ds'"
      ]
     },
     "execution_count": 13,
     "metadata": {},
     "output_type": "execute_result"
    }
   ],
   "source": [
    "a[1]"
   ]
  },
  {
   "cell_type": "code",
   "execution_count": 14,
   "metadata": {},
   "outputs": [
    {
     "data": {
      "text/plain": [
       "3"
      ]
     },
     "execution_count": 14,
     "metadata": {},
     "output_type": "execute_result"
    }
   ],
   "source": [
    "len(a)"
   ]
  },
  {
   "cell_type": "code",
   "execution_count": 23,
   "metadata": {},
   "outputs": [
    {
     "data": {
      "text/plain": [
       "['hello', 'ds', 19991999, 'haha']"
      ]
     },
     "execution_count": 23,
     "metadata": {},
     "output_type": "execute_result"
    }
   ],
   "source": [
    "a.append(\"haha\")\n",
    "a"
   ]
  },
  {
   "cell_type": "code",
   "execution_count": 24,
   "metadata": {},
   "outputs": [
    {
     "data": {
      "text/plain": [
       "['hello', 'ds', 19991999]"
      ]
     },
     "execution_count": 24,
     "metadata": {},
     "output_type": "execute_result"
    }
   ],
   "source": [
    "a.remove(\"haha\")\n",
    "a"
   ]
  },
  {
   "cell_type": "markdown",
   "metadata": {},
   "source": [
    "## 集合Set{ }"
   ]
  },
  {
   "cell_type": "code",
   "execution_count": 28,
   "metadata": {},
   "outputs": [
    {
     "data": {
      "text/plain": [
       "{212, 666, 19991999}"
      ]
     },
     "execution_count": 28,
     "metadata": {},
     "output_type": "execute_result"
    }
   ],
   "source": [
    "s = {666,212,19991999}\n",
    "s"
   ]
  },
  {
   "cell_type": "code",
   "execution_count": 30,
   "metadata": {},
   "outputs": [
    {
     "data": {
      "text/plain": [
       "{22, 212, 666, 19991999}"
      ]
     },
     "execution_count": 30,
     "metadata": {},
     "output_type": "execute_result"
    }
   ],
   "source": [
    "s.add(22)\n",
    "s"
   ]
  },
  {
   "cell_type": "code",
   "execution_count": 31,
   "metadata": {},
   "outputs": [
    {
     "data": {
      "text/plain": [
       "{2, 3, 4}"
      ]
     },
     "execution_count": 31,
     "metadata": {},
     "output_type": "execute_result"
    }
   ],
   "source": [
    "a = {1, 2, 3, 4}\n",
    "b = {2, 3, 4, 5}\n",
    "a & b  # 交集"
   ]
  },
  {
   "cell_type": "code",
   "execution_count": 32,
   "metadata": {},
   "outputs": [
    {
     "data": {
      "text/plain": [
       "{1, 2, 3, 4, 5}"
      ]
     },
     "execution_count": 32,
     "metadata": {},
     "output_type": "execute_result"
    }
   ],
   "source": [
    "a|b #并集"
   ]
  },
  {
   "cell_type": "code",
   "execution_count": 33,
   "metadata": {},
   "outputs": [
    {
     "data": {
      "text/plain": [
       "{1}"
      ]
     },
     "execution_count": 33,
     "metadata": {},
     "output_type": "execute_result"
    }
   ],
   "source": [
    "a-b # 差集"
   ]
  },
  {
   "cell_type": "code",
   "execution_count": 34,
   "metadata": {},
   "outputs": [
    {
     "data": {
      "text/plain": [
       "{1, 5}"
      ]
     },
     "execution_count": 34,
     "metadata": {},
     "output_type": "execute_result"
    }
   ],
   "source": [
    "a^b #对称差"
   ]
  },
  {
   "cell_type": "markdown",
   "metadata": {},
   "source": [
    "## 字典 Dictionary{key:value}"
   ]
  },
  {
   "cell_type": "code",
   "execution_count": 35,
   "metadata": {},
   "outputs": [],
   "source": [
    "d = {'ds':19991999, 'ks':9999999999999999}"
   ]
  },
  {
   "cell_type": "code",
   "execution_count": 36,
   "metadata": {},
   "outputs": [
    {
     "data": {
      "text/plain": [
       "{'ds': 19991999, 'ks': 9999999999999999L}"
      ]
     },
     "execution_count": 36,
     "metadata": {},
     "output_type": "execute_result"
    }
   ],
   "source": [
    "d"
   ]
  },
  {
   "cell_type": "code",
   "execution_count": 37,
   "metadata": {},
   "outputs": [
    {
     "data": {
      "text/plain": [
       "19991999"
      ]
     },
     "execution_count": 37,
     "metadata": {},
     "output_type": "execute_result"
    }
   ],
   "source": [
    "d['ds']"
   ]
  },
  {
   "cell_type": "code",
   "execution_count": 38,
   "metadata": {},
   "outputs": [],
   "source": [
    "d['ds']=9999"
   ]
  },
  {
   "cell_type": "code",
   "execution_count": 39,
   "metadata": {},
   "outputs": [
    {
     "data": {
      "text/plain": [
       "{'ds': 9999, 'ks': 9999999999999999L}"
      ]
     },
     "execution_count": 39,
     "metadata": {},
     "output_type": "execute_result"
    }
   ],
   "source": [
    "d"
   ]
  },
  {
   "cell_type": "code",
   "execution_count": 40,
   "metadata": {},
   "outputs": [],
   "source": [
    "d[\"s\"]=666"
   ]
  },
  {
   "cell_type": "code",
   "execution_count": 41,
   "metadata": {},
   "outputs": [
    {
     "data": {
      "text/plain": [
       "{'ds': 9999, 'ks': 9999999999999999L, 's': 666}"
      ]
     },
     "execution_count": 41,
     "metadata": {},
     "output_type": "execute_result"
    }
   ],
   "source": [
    "d"
   ]
  },
  {
   "cell_type": "code",
   "execution_count": 43,
   "metadata": {},
   "outputs": [
    {
     "data": {
      "text/plain": [
       "['ks', 's', 'ds']"
      ]
     },
     "execution_count": 43,
     "metadata": {},
     "output_type": "execute_result"
    }
   ],
   "source": [
    "d.keys()"
   ]
  },
  {
   "cell_type": "code",
   "execution_count": 45,
   "metadata": {},
   "outputs": [
    {
     "data": {
      "text/plain": [
       "[9999999999999999L, 666, 9999]"
      ]
     },
     "execution_count": 45,
     "metadata": {},
     "output_type": "execute_result"
    }
   ],
   "source": [
    "d.values()"
   ]
  },
  {
   "cell_type": "markdown",
   "metadata": {},
   "source": [
    "## 数组Numpy Arrays"
   ]
  },
  {
   "cell_type": "code",
   "execution_count": 46,
   "metadata": {},
   "outputs": [
    {
     "data": {
      "text/plain": [
       "array([1, 2, 3, 4])"
      ]
     },
     "execution_count": 46,
     "metadata": {},
     "output_type": "execute_result"
    }
   ],
   "source": [
    "from numpy import array\n",
    "a = array([1,2,3,4])\n",
    "a"
   ]
  },
  {
   "cell_type": "code",
   "execution_count": 47,
   "metadata": {},
   "outputs": [
    {
     "data": {
      "text/plain": [
       "array([3, 4, 5, 6])"
      ]
     },
     "execution_count": 47,
     "metadata": {},
     "output_type": "execute_result"
    }
   ],
   "source": [
    "a+2"
   ]
  },
  {
   "cell_type": "code",
   "execution_count": 48,
   "metadata": {},
   "outputs": [
    {
     "data": {
      "text/plain": [
       "array([2, 4, 6, 8])"
      ]
     },
     "execution_count": 48,
     "metadata": {},
     "output_type": "execute_result"
    }
   ],
   "source": [
    "a+a"
   ]
  },
  {
   "cell_type": "markdown",
   "metadata": {},
   "source": [
    "## 画图Plot"
   ]
  },
  {
   "cell_type": "code",
   "execution_count": 51,
   "metadata": {
    "scrolled": false
   },
   "outputs": [
    {
     "data": {
      "text/plain": [
       "[<matplotlib.lines.Line2D at 0xb3ac1d0>]"
      ]
     },
     "execution_count": 51,
     "metadata": {},
     "output_type": "execute_result"
    },
    {
     "data": {
      "image/png": "[encoded data removed]",
      "text/plain": [
       "<Figure size 432x288 with 1 Axes>"
      ]
     },
     "metadata": {},
     "output_type": "display_data"
    }
   ],
   "source": [
    "%matplotlib inline\n",
    "from matplotlib.pyplot import plot\n",
    "plot(a,a-1/a)"
   ]
  },
  {
   "cell_type": "markdown",
   "metadata": {},
   "source": [
    "## 循环Loop"
   ]
  },
  {
   "cell_type": "code",
   "execution_count": 54,
   "metadata": {},
   "outputs": [
    {
     "data": {
      "text/plain": [
       "['1', '2', '3', '4', '5']"
      ]
     },
     "execution_count": 54,
     "metadata": {},
     "output_type": "execute_result"
    }
   ],
   "source": [
    "line = '1 2 3 4 5'\n",
    "fields = line.split()\n",
    "fields"
   ]
  },
  {
   "cell_type": "code",
   "execution_count": 55,
   "metadata": {},
   "outputs": [
    {
     "data": {
      "text/plain": [
       "15"
      ]
     },
     "execution_count": 55,
     "metadata": {},
     "output_type": "execute_result"
    }
   ],
   "source": [
    "# 注意强制转换和C/C++不一样\n",
    "total = 0\n",
    "for field in fields:\n",
    "    total += int(field)\n",
    "total"
   ]
  },
  {
   "cell_type": "code",
   "execution_count": 56,
   "metadata": {},
   "outputs": [
    {
     "data": {
      "text/plain": [
       "[1, 2, 3, 4, 5]"
      ]
     },
     "execution_count": 56,
     "metadata": {},
     "output_type": "execute_result"
    }
   ],
   "source": [
    "# 列表推导式List Comprehension\n",
    "numbers = [int(field) for field in fields]\n",
    "numbers"
   ]
  },
  {
   "cell_type": "code",
   "execution_count": 57,
   "metadata": {},
   "outputs": [
    {
     "data": {
      "text/plain": [
       "15"
      ]
     },
     "execution_count": 57,
     "metadata": {},
     "output_type": "execute_result"
    }
   ],
   "source": [
    "sum(numbers)"
   ]
  },
  {
   "cell_type": "code",
   "execution_count": 58,
   "metadata": {},
   "outputs": [
    {
     "data": {
      "text/plain": [
       "15"
      ]
     },
     "execution_count": 58,
     "metadata": {},
     "output_type": "execute_result"
    }
   ],
   "source": [
    "# 继续缩减\n",
    "sum([int(field) for field in fields])"
   ]
  },
  {
   "cell_type": "markdown",
   "metadata": {},
   "source": [
    "## 文件操作File IO"
   ]
  },
  {
   "cell_type": "code",
   "execution_count": 62,
   "metadata": {},
   "outputs": [
    {
     "name": "stdout",
     "output_type": "stream",
     "text": [
      "C:\\Users\\Alien\n"
     ]
    }
   ],
   "source": [
    "cd ~"
   ]
  },
  {
   "cell_type": "code",
   "execution_count": 63,
   "metadata": {},
   "outputs": [],
   "source": [
    "# 写文件open()和close()\n",
    "f = open('data.txt', 'w')\n",
    "f.write('1 2 3 4\\n')\n",
    "f.write('2 3 4 5\\n')\n",
    "f.close()"
   ]
  },
  {
   "cell_type": "code",
   "execution_count": 64,
   "metadata": {},
   "outputs": [
    {
     "data": {
      "text/plain": [
       "[[1, 2, 3, 4], [2, 3, 4, 5]]"
      ]
     },
     "execution_count": 64,
     "metadata": {},
     "output_type": "execute_result"
    }
   ],
   "source": [
    "# 读文件\n",
    "f = open('data.txt')\n",
    "data = []\n",
    "for line in f:\n",
    "    data.append([int(field) for field in line.split()])\n",
    "f.close()\n",
    "data"
   ]
  },
  {
   "cell_type": "code",
   "execution_count": 65,
   "metadata": {},
   "outputs": [
    {
     "name": "stdout",
     "output_type": "stream",
     "text": [
      "[1, 2, 3, 4]\n",
      "[2, 3, 4, 5]\n"
     ]
    }
   ],
   "source": [
    "for row in data:\n",
    "    print row"
   ]
  },
  {
   "cell_type": "code",
   "execution_count": 68,
   "metadata": {},
   "outputs": [],
   "source": [
    "# 删除文件\n",
    "import os\n",
    "os.remove('data.txt')"
   ]
  },
  {
   "cell_type": "markdown",
   "metadata": {},
   "source": [
    "## 函数Function"
   ]
  },
  {
   "cell_type": "code",
   "execution_count": 70,
   "metadata": {},
   "outputs": [
    {
     "data": {
      "text/plain": [
       "6"
      ]
     },
     "execution_count": 70,
     "metadata": {},
     "output_type": "execute_result"
    }
   ],
   "source": [
    "def ploy(x,a,b,c):\n",
    "    y = a*x**2+b*x+c\n",
    "    return y\n",
    "x = 1\n",
    "ploy(x,1,2,3)"
   ]
  },
  {
   "cell_type": "code",
   "execution_count": 71,
   "metadata": {},
   "outputs": [
    {
     "data": {
      "text/plain": [
       "array([ 6, 11, 18])"
      ]
     },
     "execution_count": 71,
     "metadata": {},
     "output_type": "execute_result"
    }
   ],
   "source": [
    "x=array([1,2,3])\n",
    "ploy(x,1,2,3)"
   ]
  },
  {
   "cell_type": "code",
   "execution_count": 76,
   "metadata": {},
   "outputs": [
    {
     "data": {
      "text/plain": [
       "array([0, 1, 2, 3, 4, 5, 6, 7, 8, 9])"
      ]
     },
     "execution_count": 76,
     "metadata": {},
     "output_type": "execute_result"
    }
   ],
   "source": [
    "from numpy import arange\n",
    "def poly(x,a=1,b=2,c=3):\n",
    "    y = a*x**2 + b*x + c\n",
    "    return y\n",
    "x = arange(10)\n",
    "x"
   ]
  },
  {
   "cell_type": "code",
   "execution_count": 77,
   "metadata": {},
   "outputs": [
    {
     "data": {
      "text/plain": [
       "array([  3,   6,  11,  18,  27,  38,  51,  66,  83, 102])"
      ]
     },
     "execution_count": 77,
     "metadata": {},
     "output_type": "execute_result"
    }
   ],
   "source": [
    "poly(x)"
   ]
  },
  {
   "cell_type": "code",
   "execution_count": 78,
   "metadata": {},
   "outputs": [
    {
     "data": {
      "text/plain": [
       "array([ 3,  5,  9, 15, 23, 33, 45, 59, 75, 93])"
      ]
     },
     "execution_count": 78,
     "metadata": {},
     "output_type": "execute_result"
    }
   ],
   "source": [
    "poly(x,b=1)"
   ]
  },
  {
   "cell_type": "markdown",
   "metadata": {},
   "source": [
    "## 模块Module"
   ]
  },
  {
   "cell_type": "code",
   "execution_count": 79,
   "metadata": {},
   "outputs": [
    {
     "data": {
      "text/plain": [
       "6156"
      ]
     },
     "execution_count": 79,
     "metadata": {},
     "output_type": "execute_result"
    }
   ],
   "source": [
    "import os\n",
    "os.getpid()"
   ]
  },
  {
   "cell_type": "code",
   "execution_count": 80,
   "metadata": {},
   "outputs": [
    {
     "data": {
      "text/plain": [
       "'\\\\'"
      ]
     },
     "execution_count": 80,
     "metadata": {},
     "output_type": "execute_result"
    }
   ],
   "source": [
    "os.sep"
   ]
  },
  {
   "cell_type": "markdown",
   "metadata": {},
   "source": [
    "## 类Class"
   ]
  },
  {
   "cell_type": "code",
   "execution_count": 81,
   "metadata": {},
   "outputs": [],
   "source": [
    "class Person(object):   # 继承于object类\n",
    "    def __init__(self,first,last,age):\n",
    "        self.first = first\n",
    "        self.last = last\n",
    "        self.age = age\n",
    "    def full_name(self):\n",
    "        return self.first+' '+self.last"
   ]
  },
  {
   "cell_type": "code",
   "execution_count": 82,
   "metadata": {},
   "outputs": [],
   "source": [
    "person = Person('Sjycx','Ding',20)"
   ]
  },
  {
   "cell_type": "code",
   "execution_count": 83,
   "metadata": {},
   "outputs": [
    {
     "data": {
      "text/plain": [
       "'Sjycx'"
      ]
     },
     "execution_count": 83,
     "metadata": {},
     "output_type": "execute_result"
    }
   ],
   "source": [
    "# 调用对象属性\n",
    "person.first"
   ]
  },
  {
   "cell_type": "code",
   "execution_count": 84,
   "metadata": {},
   "outputs": [
    {
     "data": {
      "text/plain": [
       "'Sjycx Ding'"
      ]
     },
     "execution_count": 84,
     "metadata": {},
     "output_type": "execute_result"
    }
   ],
   "source": [
    "# 调用对象方法\n",
    "person.full_name()"
   ]
  },
  {
   "cell_type": "code",
   "execution_count": 85,
   "metadata": {},
   "outputs": [
    {
     "data": {
      "text/plain": [
       "{'ds': 9999, 'ks': 9999999999999999L, 's': 666}"
      ]
     },
     "execution_count": 85,
     "metadata": {},
     "output_type": "execute_result"
    }
   ],
   "source": [
    "d"
   ]
  },
  {
   "cell_type": "code",
   "execution_count": 86,
   "metadata": {},
   "outputs": [
    {
     "data": {
      "text/plain": [
       "{'ds': 9999, 'ks': 9999999999999999L, 's': 666}"
      ]
     },
     "execution_count": 86,
     "metadata": {},
     "output_type": "execute_result"
    }
   ],
   "source": [
    "# 添加新属性\n",
    "person.critters = d\n",
    "person.critters"
   ]
  },
  {
   "cell_type": "markdown",
   "metadata": {},
   "source": [
    "## 网络数据Date from Web"
   ]
  },
  {
   "cell_type": "markdown",
   "metadata": {},
   "source": [
    "> 总算找到了一个能用的数据。。"
   ]
  },
  {
   "cell_type": "code",
   "execution_count": 96,
   "metadata": {},
   "outputs": [],
   "source": [
    "url = 'https://ds19991999.github.io/test/test.CSV'"
   ]
  },
  {
   "cell_type": "code",
   "execution_count": 97,
   "metadata": {},
   "outputs": [],
   "source": [
    "import urllib2\n",
    "ge_csv = urllib2.urlopen(url)\n",
    "data = []\n",
    "for line in ge_csv:\n",
    "    data.append(line.split(','))"
   ]
  },
  {
   "cell_type": "code",
   "execution_count": 98,
   "metadata": {},
   "outputs": [
    {
     "data": {
      "text/plain": [
       "[['< 0 DM',\n",
       "  '6',\n",
       "  'critical',\n",
       "  'radio/tv',\n",
       "  '1169',\n",
       "  'unknown',\n",
       "  '> 7 yrs',\n",
       "  '4',\n",
       "  'single male',\n",
       "  'none',\n",
       "  '4',\n",
       "  'real estate',\n",
       "  '67',\n",
       "  'none',\n",
       "  'own',\n",
       "  '2',\n",
       "  '1',\n",
       "  '1',\n",
       "  'yes',\n",
       "  'yes',\n",
       "  'skilled employee\\n'],\n",
       " ['1 - 200 DM',\n",
       "  '48',\n",
       "  'repaid',\n",
       "  'radio/tv',\n",
       "  '5951',\n",
       "  '< 100 DM',\n",
       "  '1 - 4 yrs',\n",
       "  '2',\n",
       "  'female',\n",
       "  'none',\n",
       "  '2',\n",
       "  'real estate',\n",
       "  '22',\n",
       "  'none',\n",
       "  'own',\n",
       "  '1',\n",
       "  '2',\n",
       "  '1',\n",
       "  'none',\n",
       "  'yes',\n",
       "  'skilled employee\\n'],\n",
       " ['unknown',\n",
       "  '12',\n",
       "  'critical',\n",
       "  'education',\n",
       "  '2096',\n",
       "  '< 100 DM',\n",
       "  '4 - 7 yrs',\n",
       "  '2',\n",
       "  'single male',\n",
       "  'none',\n",
       "  '3',\n",
       "  'real estate',\n",
       "  '49',\n",
       "  'none',\n",
       "  'own',\n",
       "  '1',\n",
       "  '1',\n",
       "  '2',\n",
       "  'none',\n",
       "  'yes',\n",
       "  'unskilled resident\\n']]"
      ]
     },
     "execution_count": 98,
     "metadata": {},
     "output_type": "execute_result"
    }
   ],
   "source": [
    "data[1:4]"
   ]
  },
  {
   "cell_type": "code",
   "execution_count": 104,
   "metadata": {},
   "outputs": [],
   "source": [
    "ge_csv = urllib2.urlopen(url)\n",
    "import pandas\n",
    "# 接下来就可以处理这些数据了"
   ]
  },
  {
   "cell_type": "code",
   "execution_count": 105,
   "metadata": {},
   "outputs": [
    {
     "name": "stdout",
     "output_type": "stream",
     "text": [
      "s = \"\"\"hello\n",
      "world\"\"\"\n",
      "s = \"\"\"hello\n",
      "world\"\"\"\n",
      "print s\n",
      "s = '''hello\n",
      "world'''\n",
      "print s\n",
      "s = \"hello\" + \" world\"\n",
      "s\n",
      "s[0]\n",
      "s[-1]\n",
      "s[0:3]\n",
      "s.split()\n",
      "len(s)\n",
      "a = ['hello', 'ds',19990000+1999]\n",
      "a\n",
      "a+a\n",
      "a[1]\n",
      "len(a)\n",
      "a.append(\"哈哈\")\n",
      "a.append(\"哈哈\")\n",
      "a\n",
      "# coding:utf-8\n",
      "a.append(\"哈哈\")\n",
      "a\n",
      "a.append(\"haha\")\n",
      "a\n",
      "a.remove(\"haha\")\n",
      "a\n",
      "a.remove(\"哈哈\")\n",
      "a\n",
      "a.remove(\"哈哈\")\n",
      "a\n",
      "a.remove(\"哈哈\")\n",
      "a\n",
      "a.append(\"haha\")\n",
      "a\n",
      "a.remove(\"haha\")\n",
      "a\n",
      "s = {666,ds,19991999}\n",
      "s\n",
      "s = {666,a,19991999}\n",
      "s\n",
      "s = {666,a,19991999}\n",
      "s\n",
      "s = {666,212,19991999}\n",
      "s\n",
      "s.add(22)\n",
      "s.add(22)\n",
      "s\n",
      "a = {1, 2, 3, 4}\n",
      "b = {2, 3, 4, 5}\n",
      "a & b  # 交集\n",
      "a|b #并集\n",
      "a-b # 差集\n",
      "a^b #对称差\n",
      "d = {'ds':19991999, 'ks':9999999999999999}\n",
      "d\n",
      "d['ds']\n",
      "d['ds']=9999\n",
      "d\n",
      "d[\"s\"]=666\n",
      "d\n",
      "d.key()\n",
      "d.keys()\n",
      "d.values\n",
      "d.values()\n",
      "from numpy import array\n",
      "a = array([1,2,3,4])\n",
      "a\n",
      "a+2\n",
      "a+a\n",
      "%matlotlib inline\n",
      "from matlotlib.pyplot import plot\n",
      "plot(a,a-1/a)\n",
      "%matplotlib inline\n",
      "from matlotlib.pyplot import plot\n",
      "plot(a,a-1/a)\n",
      "%matplotlib inline\n",
      "from matplotlib.pyplot import plot\n",
      "plot(a,a-1/a)\n",
      "lines = '1 2 3 4 5'\n",
      "lines = '1 2 3 4 5'\n",
      "fields = line.split()\n",
      "fields\n",
      "line = '1 2 3 4 5'\n",
      "fields = line.split()\n",
      "fields\n",
      "# 注意强制转换和C/C++不一样\n",
      "total = 0\n",
      "for field in fields:\n",
      "    total += int(field)\n",
      "total\n",
      "# 列表推导式List Comprehension\n",
      "numbers = [int(field) for field in fields]\n",
      "numbers\n",
      "sum(numbers)\n",
      "# 继续缩减\n",
      "sum([int(field) for field in fields])\n",
      "cd ~\n",
      "cd ./\n",
      "cd ./\n",
      "cd ~\n",
      "# 写文件open()和close()\n",
      "f = open('data.txt', 'w')\n",
      "f.write('1 2 3 4\\n')\n",
      "f.write('2 3 4 5\\n')\n",
      "f.close()\n",
      "# 读文件\n",
      "f = open('data.txt')\n",
      "data = []\n",
      "for line in f:\n",
      "    data.append([int(field) for field in line.split()])\n",
      "f.close()\n",
      "data\n",
      "for row in data:\n",
      "    print row\n",
      "# 删除文件\n",
      "import os\n",
      "os.remove('date.txt')\n",
      "import os\n",
      "os.remove('date.txt')\n",
      "# 删除文件\n",
      "import os\n",
      "os.remove('data.txt')\n",
      "def ploy(x,a,b,c):\n",
      "    y = a*x**2+b*x+c\n",
      "    return y\n",
      "x = 1\n",
      "poly(x,1,2,3)\n",
      "def ploy(x,a,b,c):\n",
      "    y = a*x**2+b*x+c\n",
      "    return y\n",
      "x = 1\n",
      "ploy(x,1,2,3)\n",
      "x=array([1,2,3])\n",
      "ploy(x,1,2,3)\n",
      "from numpy import arange\n",
      "def poly(x,a=1,b=2,c=3):\n",
      "    y = a*x**2 + b*x + c\n",
      "    return y\n",
      "x = arrange(10)\n",
      "x\n",
      "from numpy import arange\n",
      "def poly(x,a=1,b=2,c=3):\n",
      "    y = a*x**2 + b*x + c\n",
      "    return y\n",
      "x = arrange(10)\n",
      "x\n",
      "array([0, 1, 2, 3, 4, 5, 6, 7, 8, 9])\n",
      "from numpy import arange\n",
      "def poly(x,a=1,b=2,c=3):\n",
      "    y = a*x**2 + b*x + c\n",
      "    return y\n",
      "x = arange(10)\n",
      "x\n",
      "array([0, 1, 2, 3, 4, 5, 6, 7, 8, 9])\n",
      "from numpy import arange\n",
      "def poly(x,a=1,b=2,c=3):\n",
      "    y = a*x**2 + b*x + c\n",
      "    return y\n",
      "x = arange(10)\n",
      "x\n",
      "from numpy import arange\n",
      "def poly(x,a=1,b=2,c=3):\n",
      "    y = a*x**2 + b*x + c\n",
      "    return y\n",
      "x = arange(10)\n",
      "x\n",
      "poly(x)\n",
      "poly(x,b=1)\n",
      "import os\n",
      "os.getpid()\n",
      "os.sep\n",
      "class Person(object):   # 继承于object类\n",
      "    def __init__(self,first,last,age):\n",
      "        self.first = first\n",
      "        self.last = last\n",
      "        self.age = age\n",
      "    def full_name(self):\n",
      "        return self.first+' '+self.last\n",
      "person = Person('Sjycx','Ding',20)\n",
      "person.first\n",
      "person.full_name()\n",
      "d\n",
      "# 添加新属性\n",
      "person.critters = d\n",
      "person.critters\n",
      "url = 'http://ichart.finance.yahoo.com/table.csv?s=GE&d=10&e=5&f=2013&g=d&a=0&b=2&c=1962&ignore=.csv'\n",
      "import urllib2\n",
      "ge_csv = urllib2.urlopen(url)\n",
      "data = []\n",
      "for line in ge_csv:\n",
      "    data.append(line.split(','))\n",
      "data[:4]\n",
      "url = 'http://www.danglefactory.com/api/DailySkaterProjections?_=1415200157912'\n",
      "import urllib2\n",
      "ge_csv = urllib2.urlopen(url)\n",
      "data = []\n",
      "for line in ge_csv:\n",
      "    data.append(line.split(','))\n",
      "data[:4]\n",
      "import urllib2\n",
      "ge_csv = urllib2.urlopen(url)\n",
      "data = []\n",
      "for line in ge_csv:\n",
      "    data.append(line.split(','))\n",
      "data[:4]\n",
      "import urllib2\n",
      "ge_csv = urllib2.urlopen(url)\n",
      "data = []\n",
      "for line in ge_csv:\n",
      "    data.append(line.split(','))\n",
      "data[:4]\n",
      "import urllib2\n",
      "ge_csv = urllib2.urlopen(url)\n",
      "data = []\n",
      "for line in ge_csv:\n",
      "    data.append(line.split(','))\n",
      "url = 'https://ds19991999.github.io/test/test.csv'\n",
      "import urllib2\n",
      "ge_csv = urllib2.urlopen(url)\n",
      "data = []\n",
      "for line in ge_csv:\n",
      "    data.append(line.split(','))\n",
      "url = 'https://ds19991999.github.io/test/test.CSV'\n",
      "import urllib2\n",
      "ge_csv = urllib2.urlopen(url)\n",
      "data = []\n",
      "for line in ge_csv:\n",
      "    data.append(line.split(','))\n",
      "data[1:4]\n",
      "ge_csv = urllib2.urlopen(url)\n",
      "import pandas\n",
      "ge = pandas.read_csv(ge_csv, index_col=0, parse_dates=True)\n",
      "ge.plot(y='Adj Close')\n",
      "ge_csv = urllib2.urlopen(url)\n",
      "import pandas\n",
      "ge = pandas.read_csv(ge_csv, index_col=0, parse_dates=True)\n",
      "ge.plot(y='Adj Close')\n",
      "ge_csv = urllib2.urlopen(url)\n",
      "import pandas\n",
      "# 接下来就可以处理这些数据了\n",
      "ge_csv = urllib2.urlopen(url)\n",
      "import pandas\n",
      "# 接下来就可以处理这些数据了\n",
      "%hist\n"
     ]
    }
   ],
   "source": [
    "%hist"
   ]
  }
 ],
 "metadata": {
  "kernelspec": {
   "display_name": "Python 2",
   "language": "python",
   "name": "python2"
  },
  "language_info": {
   "codemirror_mode": {
    "name": "ipython",
    "version": 2
   },
   "file_extension": ".py",
   "mimetype": "text/x-python",
   "name": "python",
   "nbconvert_exporter": "python",
   "pygments_lexer": "ipython2",
   "version": "2.7.13"
  },
  "latex_envs": {
   "LaTeX_envs_menu_present": true,
   "autoclose": false,
   "autocomplete": true,
   "bibliofile": "biblio.bib",
   "cite_by": "apalike",
   "current_citInitial": 1,
   "eqLabelWithNumbers": true,
   "eqNumInitial": 1,
   "hotkeys": {
    "equation": "Ctrl-E",
    "itemize": "Ctrl-I"
   },
   "labels_anchors": false,
   "latex_user_defs": false,
   "report_style_numbering": false,
   "user_envs_cfg": false
  },
  "toc": {
   "base_numbering": 1,
   "nav_menu": {},
   "number_sections": true,
   "sideBar": true,
   "skip_h1_title": true,
   "title_cell": "Contents",
   "title_sidebar": "Contents",
   "toc_cell": false,
   "toc_position": {
    "height": "calc(100% - 180px)",
    "left": "10px",
    "top": "150px",
    "width": "166px"
   },
   "toc_section_display": true,
   "toc_window_display": true
  }
 },
 "nbformat": 4,
 "nbformat_minor": 2
}
