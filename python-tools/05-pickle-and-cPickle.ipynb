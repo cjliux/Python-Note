{
 "cells": [
  {
   "cell_type": "markdown",
   "metadata": {},
   "source": [
    "# pickle, cPickle 模块"
   ]
  },
  {
   "cell_type": "markdown",
   "metadata": {
    "toc": true
   },
   "source": [
    "<h1>Contents<span class=\"tocSkip\"></span></h1>\n",
    "<div class=\"toc\"><ul class=\"toc-item\"><li><span><a href=\"#简介\" data-toc-modified-id=\"简介-1\"><span class=\"toc-item-num\">1&nbsp;&nbsp;</span>简介</a></span></li><li><span><a href=\"#编码和解码dumps|loads\" data-toc-modified-id=\"编码和解码dumps|loads-2\"><span class=\"toc-item-num\">2&nbsp;&nbsp;</span>编码和解码dumps|loads</a></span></li><li><span><a href=\"#编码协议\" data-toc-modified-id=\"编码协议-3\"><span class=\"toc-item-num\">3&nbsp;&nbsp;</span>编码协议</a></span></li><li><span><a href=\"#存储和读取-pickle-文件\" data-toc-modified-id=\"存储和读取-pickle-文件-4\"><span class=\"toc-item-num\">4&nbsp;&nbsp;</span>存储和读取 pickle 文件</a></span></li></ul></div>"
   ]
  },
  {
   "cell_type": "markdown",
   "metadata": {},
   "source": [
    "## 简介"
   ]
  },
  {
   "cell_type": "markdown",
   "metadata": {},
   "source": [
    "* **序列化 `Python` 对象**\n",
    "\n",
    "* `pickle` 模块实现了一种算法，**可以将任意一个 `Python` 对象转化为一系列的字节**，也可以将这些字节**重构为一个有相同特征的新对象**。\n",
    "\n",
    "* 由于字节可以被**传输或者存储**，因此 `pickle` 事实上实现了**传递或者保存 Python 对象**的功能。\n",
    "\n",
    "* `cPickle` 使用 C 而不是 Python 实现了相同的算法，因此**速度上要比 pickle 快**一些。但是它**不允许用户从 `pickle` 派生子类**。如果子类对你的使用来说无关紧要，那么 cPickle 是个更好的选择。"
   ]
  },
  {
   "cell_type": "code",
   "execution_count": 1,
   "metadata": {},
   "outputs": [],
   "source": [
    "try:\n",
    "    import cPickle as pickle\n",
    "except:\n",
    "    import pickle"
   ]
  },
  {
   "cell_type": "markdown",
   "metadata": {},
   "source": [
    "## 编码和解码dumps|loads"
   ]
  },
  {
   "cell_type": "code",
   "execution_count": 2,
   "metadata": {},
   "outputs": [
    {
     "name": "stdout",
     "output_type": "stream",
     "text": [
      "DATA:\n",
      "[{'a': 'A', 'c': '3.0', 'b': '2'}]\n",
      "PICKLE:\n",
      "(lp1\n",
      "(dp2\n",
      "S'a'\n",
      "S'A'\n",
      "sS'c'\n",
      "S'3.0'\n",
      "p3\n",
      "sS'b'\n",
      "S'2'\n",
      "sa.\n"
     ]
    }
   ],
   "source": [
    "# pickle.dumps() 可以将一个对象转换为字符串（dump string）\n",
    "data = [{'a':'A','b':'2','c':'3.0'}]\n",
    "\n",
    "data_string = pickle.dumps(data)\n",
    "\n",
    "print 'DATA:'\n",
    "print data\n",
    "print 'PICKLE:'\n",
    "print data_string"
   ]
  },
  {
   "cell_type": "code",
   "execution_count": 6,
   "metadata": {},
   "outputs": [
    {
     "name": "stdout",
     "output_type": "stream",
     "text": [
      "[{'a': 'A', 'c': '3.0', 'b': '2'}]\n"
     ]
    }
   ],
   "source": [
    "# 可以看到pickle编码的字符没有可读性\n",
    "# 使用pickle.loads()解码\n",
    "data_from_string = pickle.loads(data_string)\n",
    "print data_from_string"
   ]
  },
  {
   "cell_type": "markdown",
   "metadata": {},
   "source": [
    "## 编码协议"
   ]
  },
  {
   "cell_type": "markdown",
   "metadata": {},
   "source": [
    "`dumps` 可以接受一个可省略的 `protocol` 参数（默认为 0），目前有 3 种编码方式：\n",
    "* 0：原始的 ASCII 编码格式，默认\n",
    "* 1：二进制编码格式\n",
    "* 2：更有效的二进制编码格式"
   ]
  },
  {
   "cell_type": "code",
   "execution_count": 7,
   "metadata": {},
   "outputs": [
    {
     "name": "stdout",
     "output_type": "stream",
     "text": [
      "2\n"
     ]
    }
   ],
   "source": [
    "# 查看当前最高级编码\n",
    "print pickle.HIGHEST_PROTOCOL"
   ]
  },
  {
   "cell_type": "code",
   "execution_count": 8,
   "metadata": {},
   "outputs": [
    {
     "data": {
      "text/plain": [
       "[{'a': 'A', 'b': '2', 'c': '3.0'}]"
      ]
     },
     "execution_count": 8,
     "metadata": {},
     "output_type": "execute_result"
    }
   ],
   "source": [
    "data"
   ]
  },
  {
   "cell_type": "code",
   "execution_count": 9,
   "metadata": {},
   "outputs": [
    {
     "name": "stdout",
     "output_type": "stream",
     "text": [
      "Pickle 1: ]q\u0001}q\u0002(U\u0001aU\u0001AU\u0001cU\u00033.0U\u0001bU\u00012ua.\n",
      "Pickle 2: �\u0002]q\u0001}q\u0002(U\u0001aU\u0001AU\u0001cU\u00033.0U\u0001bU\u00012ua.\n"
     ]
    }
   ],
   "source": [
    "data_string_1 = pickle.dumps(data,1) # 二进制编码\n",
    "data_string_2 = pickle.dumps(data,2) # 更有效的二进制编码格式\n",
    "print \"Pickle 1:\",data_string_1\n",
    "print \"Pickle 2:\",data_string_2"
   ]
  },
  {
   "cell_type": "code",
   "execution_count": 10,
   "metadata": {},
   "outputs": [
    {
     "name": "stdout",
     "output_type": "stream",
     "text": [
      "�\u0002]q\u0001}q\u0002(U\u0001aU\u0001AU\u0001cU\u00033.0U\u0001bU\u00012ua.\n"
     ]
    }
   ],
   "source": [
    "# 注意这里不存在-3，负数它会使用最高级编码，即上面说的protocol=2\n",
    "print pickle.dumps(data,-3)"
   ]
  },
  {
   "cell_type": "code",
   "execution_count": 11,
   "metadata": {},
   "outputs": [
    {
     "name": "stdout",
     "output_type": "stream",
     "text": [
      "load 1: [{'a': 'A', 'c': '3.0', 'b': '2'}]\n",
      "load 2: [{'a': 'A', 'c': '3.0', 'b': '2'}]\n"
     ]
    }
   ],
   "source": [
    "# 解码\n",
    "print \"load 1:\",pickle.loads(data_string_1)\n",
    "print \"load 2:\",pickle.loads(data_string_2)"
   ]
  },
  {
   "cell_type": "markdown",
   "metadata": {},
   "source": [
    "## 存储和读取 pickle 文件"
   ]
  },
  {
   "cell_type": "markdown",
   "metadata": {},
   "source": [
    "`pickle` 支持将对象写入一个文件中，通常我们将这个文件命名为 `xxx.pkl`，以表示它是一个 `pickle` 文件：\n",
    "* `pickle.dump(obj, file, protocol=0)` 将对象序列化并存入 `file` 文件中\n",
    "* `pickle.load(file)` 从 `file` 文件中的内容恢复对象"
   ]
  },
  {
   "cell_type": "code",
   "execution_count": 12,
   "metadata": {},
   "outputs": [
    {
     "data": {
      "text/plain": [
       "[{'a': 'A', 'b': '2', 'c': '3.0'}]"
      ]
     },
     "execution_count": 12,
     "metadata": {},
     "output_type": "execute_result"
    }
   ],
   "source": [
    "data"
   ]
  },
  {
   "cell_type": "code",
   "execution_count": 14,
   "metadata": {},
   "outputs": [],
   "source": [
    "# 存储\n",
    "with open('data.pkl','wb')as fp:\n",
    "    pickle.dump(data,fp)"
   ]
  },
  {
   "cell_type": "code",
   "execution_count": 15,
   "metadata": {},
   "outputs": [
    {
     "name": "stdout",
     "output_type": "stream",
     "text": [
      "[{'a': 'A', 'c': '3.0', 'b': '2'}]\n"
     ]
    }
   ],
   "source": [
    "# 读取\n",
    "with open('data.pkl')as fp:\n",
    "    data_from_file = pickle.load(fp)\n",
    "    print data_from_file"
   ]
  },
  {
   "cell_type": "code",
   "execution_count": 16,
   "metadata": {},
   "outputs": [],
   "source": [
    "import os\n",
    "os.remove('data.pkl')"
   ]
  },
  {
   "cell_type": "code",
   "execution_count": null,
   "metadata": {},
   "outputs": [],
   "source": []
  }
 ],
 "metadata": {
  "kernelspec": {
   "display_name": "Python 2",
   "language": "python",
   "name": "python2"
  },
  "language_info": {
   "codemirror_mode": {
    "name": "ipython",
    "version": 2
   },
   "file_extension": ".py",
   "mimetype": "text/x-python",
   "name": "python",
   "nbconvert_exporter": "python",
   "pygments_lexer": "ipython2",
   "version": "2.7.13"
  },
  "latex_envs": {
   "LaTeX_envs_menu_present": true,
   "autoclose": false,
   "autocomplete": true,
   "bibliofile": "biblio.bib",
   "cite_by": "apalike",
   "current_citInitial": 1,
   "eqLabelWithNumbers": true,
   "eqNumInitial": 1,
   "hotkeys": {
    "equation": "Ctrl-E",
    "itemize": "Ctrl-I"
   },
   "labels_anchors": false,
   "latex_user_defs": false,
   "report_style_numbering": false,
   "user_envs_cfg": false
  },
  "toc": {
   "base_numbering": 1,
   "nav_menu": {},
   "number_sections": true,
   "sideBar": true,
   "skip_h1_title": true,
   "title_cell": "Contents",
   "title_sidebar": "Contents",
   "toc_cell": true,
   "toc_position": {
    "height": "calc(100% - 180px)",
    "left": "10px",
    "top": "150px",
    "width": "149px"
   },
   "toc_section_display": true,
   "toc_window_display": false
  }
 },
 "nbformat": 4,
 "nbformat_minor": 2
}
