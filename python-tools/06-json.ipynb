{
 "cells": [
  {
   "cell_type": "markdown",
   "metadata": {},
   "source": [
    "# json 模块"
   ]
  },
  {
   "cell_type": "markdown",
   "metadata": {
    "toc": true
   },
   "source": [
    "<h1>Contents<span class=\"tocSkip\"></span></h1>\n",
    "<div class=\"toc\"><ul class=\"toc-item\"><li><span><a href=\"#简介\" data-toc-modified-id=\"简介-1\"><span class=\"toc-item-num\">1&nbsp;&nbsp;</span>简介</a></span></li><li><span><a href=\"#JSON基础\" data-toc-modified-id=\"JSON基础-2\"><span class=\"toc-item-num\">2&nbsp;&nbsp;</span>JSON基础</a></span></li><li><span><a href=\"#JSON-与-Python-的转换\" data-toc-modified-id=\"JSON-与-Python-的转换-3\"><span class=\"toc-item-num\">3&nbsp;&nbsp;</span>JSON 与 Python 的转换</a></span></li><li><span><a href=\"#生成和读取-JSON-文件\" data-toc-modified-id=\"生成和读取-JSON-文件-4\"><span class=\"toc-item-num\">4&nbsp;&nbsp;</span>生成和读取 JSON 文件</a></span></li></ul></div>"
   ]
  },
  {
   "cell_type": "markdown",
   "metadata": {},
   "source": [
    "## 简介"
   ]
  },
  {
   "cell_type": "markdown",
   "metadata": {},
   "source": [
    "* [JSON (JavaScript Object Notation)](http://json.org/) 是一种轻量级的数据交换格式，易于阅读和编写，同时易于机器解析和生成。\n",
    "\n",
    "* `Python`中的`json`方法基本上和上一节的`pickle`一样"
   ]
  },
  {
   "cell_type": "markdown",
   "metadata": {},
   "source": [
    "## JSON基础"
   ]
  },
  {
   "cell_type": "markdown",
   "metadata": {},
   "source": [
    "基础结构：键值对` (name/value pairs) `和数组 `(array)`\n",
    "\n",
    "JSON具有以下形式：\n",
    "* `object` - 对象，用花括号表示，形式为（数据是无序的）：`{ pair_1, pair_2, ..., pair_n }`\n",
    "* `pair` - 键值对，形式为：`string : value`\n",
    "* `array` - 数组，用中括号表示，形式为（数据是有序的）:`[value_1, value_2, ..., value_n ]`\n",
    "* `value` - 值，可以是：\n",
    "    * `string` 字符串\n",
    "    * `number` 数字\n",
    "    * `object` 对象\n",
    "    * `array` 数组\n",
    "    * `true / false / null` 特殊值\n",
    "* `string` 字符串\n",
    "\n",
    "例子：\n",
    "```json\n",
    "{\n",
    "    \"name\": \"echo\",\n",
    "    \"age\": 24,\n",
    "    \"coding skills\": [\"python\", \"matlab\", \"java\", \"c\", \"c++\", \"ruby\", \"scala\"],\n",
    "    \"ages for school\": { \n",
    "        \"primary school\": 6,\n",
    "        \"middle school\": 9,\n",
    "        \"high school\": 15,\n",
    "        \"university\": 18\n",
    "    },\n",
    "    \"hobby\": [\"sports\", \"reading\"],\n",
    "    \"married\": false\n",
    "}\n",
    "```"
   ]
  },
  {
   "cell_type": "markdown",
   "metadata": {},
   "source": [
    "## JSON 与 Python 的转换"
   ]
  },
  {
   "cell_type": "code",
   "execution_count": 1,
   "metadata": {},
   "outputs": [],
   "source": [
    "import json\n",
    "from pprint import pprint"
   ]
  },
  {
   "cell_type": "code",
   "execution_count": 2,
   "metadata": {},
   "outputs": [],
   "source": [
    "info_string = \"\"\"\n",
    "{\n",
    "    \"name\": \"echo\",\n",
    "    \"age\": 24,\n",
    "    \"coding skills\": [\"python\", \"matlab\", \"java\", \"c\", \"c++\", \"ruby\", \"scala\"],\n",
    "    \"ages for school\": { \n",
    "        \"primary school\": 6,\n",
    "        \"middle school\": 9,\n",
    "        \"high school\": 15,\n",
    "        \"university\": 18\n",
    "    },\n",
    "    \"hobby\": [\"sports\", \"reading\"],\n",
    "    \"married\": false\n",
    "}\n",
    "\"\"\""
   ]
  },
  {
   "cell_type": "code",
   "execution_count": 3,
   "metadata": {},
   "outputs": [
    {
     "name": "stdout",
     "output_type": "stream",
     "text": [
      "{u'age': 24,\n",
      " u'ages for school': {u'high school': 15,\n",
      "                      u'middle school': 9,\n",
      "                      u'primary school': 6,\n",
      "                      u'university': 18},\n",
      " u'coding skills': [u'python',\n",
      "                    u'matlab',\n",
      "                    u'java',\n",
      "                    u'c',\n",
      "                    u'c++',\n",
      "                    u'ruby',\n",
      "                    u'scala'],\n",
      " u'hobby': [u'sports', u'reading'],\n",
      " u'married': False,\n",
      " u'name': u'echo'}\n"
     ]
    }
   ],
   "source": [
    "# json.loads()从字符串中读取 JSON 数据\n",
    "info = json.loads(info_string)\n",
    "pprint(info)\n",
    "# 这里他打印出来的字符串还自动排序了\n",
    "# 原来的 JSON 数据变成了一个 Python 对象"
   ]
  },
  {
   "cell_type": "code",
   "execution_count": 4,
   "metadata": {},
   "outputs": [
    {
     "data": {
      "text/plain": [
       "dict"
      ]
     },
     "execution_count": 4,
     "metadata": {},
     "output_type": "execute_result"
    }
   ],
   "source": [
    "type(info)"
   ]
  },
  {
   "cell_type": "code",
   "execution_count": 5,
   "metadata": {},
   "outputs": [
    {
     "name": "stdout",
     "output_type": "stream",
     "text": [
      "{\"name\": \"echo\", \"age\": 24, \"married\": false, \"ages for school\": {\"middle school\": 9, \"university\": 18, \"high school\": 15, \"primary school\": 6}, \"coding skills\": [\"python\", \"matlab\", \"java\", \"c\", \"c++\", \"ruby\", \"scala\"], \"hobby\": [\"sports\", \"reading\"]}\n"
     ]
    }
   ],
   "source": [
    "# 使用 json.dumps() 将一个 Python 对象变成 JSON 对象\n",
    "# 和上一节pickle和cpickle一模一样\n",
    "info_json = json.dumps(info)\n",
    "print info_json"
   ]
  },
  {
   "cell_type": "code",
   "execution_count": 6,
   "metadata": {},
   "outputs": [
    {
     "name": "stdout",
     "output_type": "stream",
     "text": [
      "'{\"name\": \"echo\", \"age\": 24, \"married\": false, \"ages for school\": {\"middle school\": 9, \"university\": 18, \"high school\": 15, \"primary school\": 6}, \"coding skills\": [\"python\", \"matlab\", \"java\", \"c\", \"c++\", \"ruby\", \"scala\"], \"hobby\": [\"sports\", \"reading\"]}'\n"
     ]
    }
   ],
   "source": [
    "# 数据太乱，那就pprint\n",
    "pprint(info_json)\n",
    "# 由于info_json是JSON对象，pprint不起作用"
   ]
  },
  {
   "cell_type": "code",
   "execution_count": 7,
   "metadata": {},
   "outputs": [
    {
     "data": {
      "text/plain": [
       "str"
      ]
     },
     "execution_count": 7,
     "metadata": {},
     "output_type": "execute_result"
    }
   ],
   "source": [
    "type(info_json)"
   ]
  },
  {
   "cell_type": "code",
   "execution_count": 8,
   "metadata": {},
   "outputs": [
    {
     "name": "stdout",
     "output_type": "stream",
     "text": [
      "'\\n{\\n    \"name\": \"echo\",\\n    \"age\": 24,\\n    \"coding skills\": [\"python\", \"matlab\", \"java\", \"c\", \"c++\", \"ruby\", \"scala\"],\\n    \"ages for school\": { \\n        \"primary school\": 6,\\n        \"middle school\": 9,\\n        \"high school\": 15,\\n        \"university\": 18\\n    },\\n    \"hobby\": [\"sports\", \"reading\"],\\n    \"married\": false\\n}\\n'\n"
     ]
    }
   ],
   "source": [
    "pprint(info_string)"
   ]
  },
  {
   "cell_type": "markdown",
   "metadata": {},
   "source": [
    "生成的 JSON 字符串中，数组的元素顺序是不变的（始终是 `[\"python\", \"matlab\", \"java\", \"c\", \"c++\", \"ruby\", \"scala\"]）`，而对象的元素顺序是不确定的，有点像字典的性质。"
   ]
  },
  {
   "cell_type": "markdown",
   "metadata": {},
   "source": [
    "## 生成和读取 JSON 文件"
   ]
  },
  {
   "cell_type": "markdown",
   "metadata": {},
   "source": [
    "* `json.dump(obj, file)` 将对象保存为 `JSON` 格式的文件\n",
    "* `json.load(file)` 从 `JSON` 文件中读取数据"
   ]
  },
  {
   "cell_type": "code",
   "execution_count": 9,
   "metadata": {},
   "outputs": [],
   "source": [
    "with open(\"info.json\", \"w\") as f:\n",
    "    json.dump(info, f)"
   ]
  },
  {
   "cell_type": "code",
   "execution_count": 10,
   "metadata": {},
   "outputs": [
    {
     "name": "stdout",
     "output_type": "stream",
     "text": [
      "{\"name\": \"echo\", \"age\": 24, \"married\": false, \"ages for school\": {\"middle school\": 9, \"university\": 18, \"high school\": 15, \"primary school\": 6}, \"coding skills\": [\"python\", \"matlab\", \"java\", \"c\", \"c++\", \"ruby\", \"scala\"], \"hobby\": [\"sports\", \"reading\"]}\n"
     ]
    }
   ],
   "source": [
    "with open(\"info.json\") as f:\n",
    "    print f.read()    "
   ]
  },
  {
   "cell_type": "code",
   "execution_count": 11,
   "metadata": {},
   "outputs": [
    {
     "name": "stdout",
     "output_type": "stream",
     "text": [
      "{u'age': 24,\n",
      " u'ages for school': {u'high school': 15,\n",
      "                      u'middle school': 9,\n",
      "                      u'primary school': 6,\n",
      "                      u'university': 18},\n",
      " u'coding skills': [u'python',\n",
      "                    u'matlab',\n",
      "                    u'java',\n",
      "                    u'c',\n",
      "                    u'c++',\n",
      "                    u'ruby',\n",
      "                    u'scala'],\n",
      " u'hobby': [u'sports', u'reading'],\n",
      " u'married': False,\n",
      " u'name': u'echo'}\n"
     ]
    }
   ],
   "source": [
    "with open(\"info.json\") as f:\n",
    "    info_from_json = json.load(f)\n",
    "    pprint(info_from_json)"
   ]
  },
  {
   "cell_type": "code",
   "execution_count": 12,
   "metadata": {},
   "outputs": [],
   "source": [
    "import os\n",
    "os.remove(\"info.json\")"
   ]
  },
  {
   "cell_type": "code",
   "execution_count": null,
   "metadata": {},
   "outputs": [],
   "source": []
  }
 ],
 "metadata": {
  "kernelspec": {
   "display_name": "Python 2",
   "language": "python",
   "name": "python2"
  },
  "language_info": {
   "codemirror_mode": {
    "name": "ipython",
    "version": 2
   },
   "file_extension": ".py",
   "mimetype": "text/x-python",
   "name": "python",
   "nbconvert_exporter": "python",
   "pygments_lexer": "ipython2",
   "version": "2.7.13"
  },
  "latex_envs": {
   "LaTeX_envs_menu_present": true,
   "autoclose": false,
   "autocomplete": true,
   "bibliofile": "biblio.bib",
   "cite_by": "apalike",
   "current_citInitial": 1,
   "eqLabelWithNumbers": true,
   "eqNumInitial": 1,
   "hotkeys": {
    "equation": "Ctrl-E",
    "itemize": "Ctrl-I"
   },
   "labels_anchors": false,
   "latex_user_defs": false,
   "report_style_numbering": false,
   "user_envs_cfg": false
  },
  "toc": {
   "base_numbering": 1,
   "nav_menu": {},
   "number_sections": true,
   "sideBar": true,
   "skip_h1_title": true,
   "title_cell": "Contents",
   "title_sidebar": "Contents",
   "toc_cell": true,
   "toc_position": {
    "height": "calc(100% - 180px)",
    "left": "10px",
    "top": "150px",
    "width": "179px"
   },
   "toc_section_display": true,
   "toc_window_display": false
  }
 },
 "nbformat": 4,
 "nbformat_minor": 2
}
