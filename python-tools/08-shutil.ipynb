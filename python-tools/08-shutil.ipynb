{
 "cells": [
  {
   "cell_type": "markdown",
   "metadata": {},
   "source": [
    "# shutil 模块"
   ]
  },
  {
   "cell_type": "markdown",
   "metadata": {
    "toc": true
   },
   "source": [
    "<h1>Contents<span class=\"tocSkip\"></span></h1>\n",
    "<div class=\"toc\"><ul class=\"toc-item\"><li><span><a href=\"#复制文件\" data-toc-modified-id=\"复制文件-1\"><span class=\"toc-item-num\">1&nbsp;&nbsp;</span>复制文件</a></span></li><li><span><a href=\"#移动文件\" data-toc-modified-id=\"移动文件-2\"><span class=\"toc-item-num\">2&nbsp;&nbsp;</span>移动文件</a></span></li><li><span><a href=\"#shutil.copytree复制文件夹\" data-toc-modified-id=\"shutil.copytree复制文件夹-3\"><span class=\"toc-item-num\">3&nbsp;&nbsp;</span>shutil.copytree复制文件夹</a></span></li><li><span><a href=\"#删除非空文件夹\" data-toc-modified-id=\"删除非空文件夹-4\"><span class=\"toc-item-num\">4&nbsp;&nbsp;</span>删除非空文件夹</a></span></li><li><span><a href=\"#移动文件夹\" data-toc-modified-id=\"移动文件夹-5\"><span class=\"toc-item-num\">5&nbsp;&nbsp;</span>移动文件夹</a></span></li><li><span><a href=\"#产生压缩文件\" data-toc-modified-id=\"产生压缩文件-6\"><span class=\"toc-item-num\">6&nbsp;&nbsp;</span>产生压缩文件</a></span></li><li><span><a href=\"#总结\" data-toc-modified-id=\"总结-7\"><span class=\"toc-item-num\">7&nbsp;&nbsp;</span>总结</a></span></li></ul></div>"
   ]
  },
  {
   "cell_type": "markdown",
   "metadata": {},
   "source": [
    "**高级文件操作**"
   ]
  },
  {
   "cell_type": "code",
   "execution_count": 1,
   "metadata": {},
   "outputs": [],
   "source": [
    "import shutil\n",
    "import os"
   ]
  },
  {
   "cell_type": "markdown",
   "metadata": {},
   "source": [
    "## 复制文件"
   ]
  },
  {
   "cell_type": "code",
   "execution_count": 2,
   "metadata": {},
   "outputs": [
    {
     "name": "stdout",
     "output_type": "stream",
     "text": [
      "True\n"
     ]
    }
   ],
   "source": [
    "with open(\"test.file\",'w')as f:\n",
    "    pass\n",
    "print \"test.file\" in os.listdir(os.curdir)"
   ]
  },
  {
   "cell_type": "code",
   "execution_count": 3,
   "metadata": {},
   "outputs": [
    {
     "name": "stdout",
     "output_type": "stream",
     "text": [
      "True\n",
      "True\n"
     ]
    }
   ],
   "source": [
    "# shutil.copy(src, dst) 将源文件复制到目标地址：\n",
    "shutil.copy(\"test.file\",\"test.copy.file\")\n",
    "print \"test.file\" in os.listdir(os.curdir)\n",
    "print \"test.copy.file\" in os.listdir(os.curdir)"
   ]
  },
  {
   "cell_type": "code",
   "execution_count": 4,
   "metadata": {},
   "outputs": [
    {
     "name": "stdout",
     "output_type": "stream",
     "text": [
      "[Errno 2] No such file or directory: 'my_test/test.copy.file'\n"
     ]
    }
   ],
   "source": [
    "# 中间文件夹不存在会报错\n",
    "try:\n",
    "    shutil.copy(\"test.file\",\"my_test/test.copy.file\")\n",
    "except IOError as msg:\n",
    "    print msg"
   ]
  },
  {
   "cell_type": "markdown",
   "metadata": {},
   "source": [
    "`shutil.copyfile(src, dst)` 与 `shutil.copy` 使用方法一致，不过只是简单复制文件的内容，并**不会复制文件本身的读写可执行权限**，而 `shutil.copy` 则是完全复制。\n",
    "\n",
    "没有权限那还玩什么，所以基本上只用`shutil.copy`"
   ]
  },
  {
   "cell_type": "markdown",
   "metadata": {},
   "source": [
    "## 移动文件"
   ]
  },
  {
   "cell_type": "code",
   "execution_count": 5,
   "metadata": {},
   "outputs": [
    {
     "name": "stdout",
     "output_type": "stream",
     "text": [
      "01-python-overview.ipynb\n",
      "02-ipython-interpreter.ipynb\n",
      "03-ipython-terminal.ipynb\n",
      "04-pprint.ipynb\n",
      "05-pickle-and-cPickle.ipynb\n",
      "06-json.ipynb\n",
      "07-glob.ipynb\n",
      "08-shutil.ipynb\n",
      "test.copy.file\n",
      "test.file\n"
     ]
    }
   ],
   "source": [
    "!ls"
   ]
  },
  {
   "cell_type": "code",
   "execution_count": 6,
   "metadata": {},
   "outputs": [],
   "source": [
    "# os.renames不存在的文件夹会自动创建\n",
    "os.renames(\"test.file\", \"test_dir/new_test.file\")\n",
    "os.renames(\"test.copy.file\", \"test_dir/new_test_copy.file\")"
   ]
  },
  {
   "cell_type": "code",
   "execution_count": 7,
   "metadata": {},
   "outputs": [
    {
     "name": "stdout",
     "output_type": "stream",
     "text": [
      "卷 File Sharing 的文件夹 PATH 列表\n",
      "卷序列号为 0256FB2C 8EC1:8F11\n",
      "E:.\n",
      "├─.ipynb_checkpoints\n",
      "└─test_dir\n"
     ]
    }
   ],
   "source": [
    "!tree"
   ]
  },
  {
   "cell_type": "markdown",
   "metadata": {},
   "source": [
    "##  shutil.copytree复制文件夹"
   ]
  },
  {
   "cell_type": "code",
   "execution_count": 8,
   "metadata": {},
   "outputs": [
    {
     "name": "stdout",
     "output_type": "stream",
     "text": [
      "True\n"
     ]
    }
   ],
   "source": [
    "# 这种复制相当于复制了文件夹内所有文件\n",
    "shutil.copytree(\"test_dir/\", \"test_dir_copy/\")\n",
    "print \"test_dir_copy\" in os.listdir(os.curdir)"
   ]
  },
  {
   "cell_type": "code",
   "execution_count": 9,
   "metadata": {},
   "outputs": [
    {
     "name": "stdout",
     "output_type": "stream",
     "text": [
      "卷 File Sharing 的文件夹 PATH 列表\n",
      "卷序列号为 0070005C 8EC1:8F11\n",
      "E:.\n",
      "├─.ipynb_checkpoints\n",
      "├─test_dir\n",
      "└─test_dir_copy\n"
     ]
    }
   ],
   "source": [
    "!tree"
   ]
  },
  {
   "cell_type": "markdown",
   "metadata": {},
   "source": [
    "## 删除非空文件夹"
   ]
  },
  {
   "cell_type": "code",
   "execution_count": 10,
   "metadata": {},
   "outputs": [
    {
     "name": "stdout",
     "output_type": "stream",
     "text": [
      "[Error 145] : 'test_dir_copy'\n"
     ]
    }
   ],
   "source": [
    "# os.removedirs不能删除非空文件夹\n",
    "try:\n",
    "    os.removedirs(\"test_dir_copy\")\n",
    "except Exception as msg:\n",
    "    print msg"
   ]
  },
  {
   "cell_type": "code",
   "execution_count": 11,
   "metadata": {},
   "outputs": [],
   "source": [
    "# shutil.rmtree 来删除非空文件夹\n",
    "shutil.rmtree(\"test_dir_copy\")"
   ]
  },
  {
   "cell_type": "code",
   "execution_count": 12,
   "metadata": {},
   "outputs": [
    {
     "name": "stdout",
     "output_type": "stream",
     "text": [
      "卷 File Sharing 的文件夹 PATH 列表\n",
      "卷序列号为 0070005C 8EC1:8F11\n",
      "E:.\n",
      "├─.ipynb_checkpoints\n",
      "└─test_dir\n"
     ]
    }
   ],
   "source": [
    "!tree"
   ]
  },
  {
   "cell_type": "markdown",
   "metadata": {},
   "source": [
    "## 移动文件夹"
   ]
  },
  {
   "cell_type": "markdown",
   "metadata": {},
   "source": [
    "`shutil.move` 可以整体移动文件夹，与 `os.rename` 功能差不多。"
   ]
  },
  {
   "cell_type": "code",
   "execution_count": 13,
   "metadata": {},
   "outputs": [],
   "source": [
    "shutil.move('test_dir','new_dir/test_dir')"
   ]
  },
  {
   "cell_type": "code",
   "execution_count": 14,
   "metadata": {},
   "outputs": [
    {
     "name": "stdout",
     "output_type": "stream",
     "text": [
      "卷 File Sharing 的文件夹 PATH 列表\n",
      "卷序列号为 0070005C 8EC1:8F11\n",
      "E:.\n",
      "├─.ipynb_checkpoints\n",
      "└─new_dir\n",
      "    └─test_dir\n"
     ]
    }
   ],
   "source": [
    "!tree"
   ]
  },
  {
   "cell_type": "code",
   "execution_count": 15,
   "metadata": {},
   "outputs": [],
   "source": [
    "os.rename('new_dir/test_dir','test_dir')"
   ]
  },
  {
   "cell_type": "code",
   "execution_count": 16,
   "metadata": {},
   "outputs": [
    {
     "name": "stdout",
     "output_type": "stream",
     "text": [
      "卷 File Sharing 的文件夹 PATH 列表\n",
      "卷序列号为 0070005C 8EC1:8F11\n",
      "E:.\n",
      "├─.ipynb_checkpoints\n",
      "├─new_dir\n",
      "└─test_dir\n"
     ]
    }
   ],
   "source": [
    "!tree"
   ]
  },
  {
   "cell_type": "code",
   "execution_count": 17,
   "metadata": {},
   "outputs": [],
   "source": [
    "# 此时new_dir是空文件夹\n",
    "# os.removedirs('new_dir')\n",
    "shutil.rmtree(\"new_dir\")"
   ]
  },
  {
   "cell_type": "code",
   "execution_count": 18,
   "metadata": {},
   "outputs": [
    {
     "name": "stdout",
     "output_type": "stream",
     "text": [
      "卷 File Sharing 的文件夹 PATH 列表\n",
      "卷序列号为 0070005C 8EC1:8F11\n",
      "E:.\n",
      "├─.ipynb_checkpoints\n",
      "└─test_dir\n"
     ]
    }
   ],
   "source": [
    "!tree"
   ]
  },
  {
   "cell_type": "markdown",
   "metadata": {},
   "source": [
    "## 产生压缩文件"
   ]
  },
  {
   "cell_type": "code",
   "execution_count": 19,
   "metadata": {},
   "outputs": [
    {
     "data": {
      "text/plain": [
       "[('bztar', \"bzip2'ed tar-file\"),\n",
       " ('gztar', \"gzip'ed tar-file\"),\n",
       " ('tar', 'uncompressed tar file'),\n",
       " ('zip', 'ZIP file')]"
      ]
     },
     "execution_count": 19,
     "metadata": {},
     "output_type": "execute_result"
    }
   ],
   "source": [
    "# 查看支持的压缩文件格式：\n",
    "shutil.get_archive_formats()"
   ]
  },
  {
   "cell_type": "markdown",
   "metadata": {},
   "source": [
    "产生压缩文件：\n",
    "```python\n",
    "shutil.make_archive(basename, format, root_dir)\n",
    "```"
   ]
  },
  {
   "cell_type": "code",
   "execution_count": 20,
   "metadata": {},
   "outputs": [
    {
     "data": {
      "text/plain": [
       "'E:\\\\Project _Sources\\\\notebook\\\\python-tools\\\\test_archive.zip'"
      ]
     },
     "execution_count": 20,
     "metadata": {},
     "output_type": "execute_result"
    }
   ],
   "source": [
    "shutil.make_archive(\"test_archive\", \"zip\", \"test_dir/\")"
   ]
  },
  {
   "cell_type": "code",
   "execution_count": 21,
   "metadata": {},
   "outputs": [],
   "source": [
    "os.remove(\"test_archive.zip\")\n",
    "shutil.rmtree(\"test_dir/\")"
   ]
  },
  {
   "cell_type": "markdown",
   "metadata": {},
   "source": [
    "## 总结"
   ]
  },
  {
   "cell_type": "markdown",
   "metadata": {},
   "source": [
    "* 复制文件---`shutil.copy(src, dst)` 将源文件复制到目标地址，中间文件夹不存在会报错\n",
    "* 移动文件---`os.renames(src, dst)`不存在的文件夹会自动创建\n",
    "* 复制文件夹---`shutil.copytree(\"test_dir/\", \"test_dir_copy/\")`不存在的文件夹会自动创建\n",
    "* 删除非空文件夹---`shutil.rmtree(\"test_dir_copy\")`，也能删除非空文件夹\n",
    "* 删除空文件夹---`os.removedirs(\"test_dir_copy\")`\n",
    "* 移动文件夹---`shutil.move('test_dir','new_dir/test_dir')`，`os.rename`功能一样\n",
    "* 压缩文件---支持`bztar\\gztar\\tar\\zip`格式\n",
    "\n",
    "```python\n",
    "shutil.make_archive(basename, format, root_dir)\n",
    "# eg\n",
    "shutil.make_archive(\"test_archive\", \"zip\", \"test_dir/\")\n",
    "```"
   ]
  },
  {
   "cell_type": "code",
   "execution_count": 22,
   "metadata": {},
   "outputs": [
    {
     "data": {
      "text/plain": [
       "['.ipynb_checkpoints',\n",
       " '01-python-overview.ipynb',\n",
       " '02-ipython-interpreter.ipynb',\n",
       " '03-ipython-terminal.ipynb',\n",
       " '04-pprint.ipynb',\n",
       " '05-pickle-and-cPickle.ipynb',\n",
       " '06-json.ipynb',\n",
       " '07-glob.ipynb',\n",
       " '08-shutil.ipynb']"
      ]
     },
     "execution_count": 22,
     "metadata": {},
     "output_type": "execute_result"
    }
   ],
   "source": [
    "# `os.listdir(path)`---返回path路径下的所有文件名或文件夹名构成的列表\n",
    "os.listdir(os.curdir)"
   ]
  }
 ],
 "metadata": {
  "kernelspec": {
   "display_name": "Python 2",
   "language": "python",
   "name": "python2"
  },
  "language_info": {
   "codemirror_mode": {
    "name": "ipython",
    "version": 2
   },
   "file_extension": ".py",
   "mimetype": "text/x-python",
   "name": "python",
   "nbconvert_exporter": "python",
   "pygments_lexer": "ipython2",
   "version": "2.7.13"
  },
  "latex_envs": {
   "LaTeX_envs_menu_present": true,
   "autoclose": false,
   "autocomplete": true,
   "bibliofile": "biblio.bib",
   "cite_by": "apalike",
   "current_citInitial": 1,
   "eqLabelWithNumbers": true,
   "eqNumInitial": 1,
   "hotkeys": {
    "equation": "Ctrl-E",
    "itemize": "Ctrl-I"
   },
   "labels_anchors": false,
   "latex_user_defs": false,
   "report_style_numbering": false,
   "user_envs_cfg": false
  },
  "toc": {
   "base_numbering": 1,
   "nav_menu": {},
   "number_sections": true,
   "sideBar": true,
   "skip_h1_title": true,
   "title_cell": "Contents",
   "title_sidebar": "Contents",
   "toc_cell": true,
   "toc_position": {
    "height": "calc(100% - 180px)",
    "left": "10px",
    "top": "150px",
    "width": "179px"
   },
   "toc_section_display": true,
   "toc_window_display": false
  }
 },
 "nbformat": 4,
 "nbformat_minor": 2
}
