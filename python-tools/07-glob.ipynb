{
 "cells": [
  {
   "cell_type": "markdown",
   "metadata": {},
   "source": [
    "# glob模块"
   ]
  },
  {
   "cell_type": "markdown",
   "metadata": {},
   "source": [
    "**文件模式匹配**:`glob` 模块提供了方便的文件模式匹配方法"
   ]
  },
  {
   "cell_type": "code",
   "execution_count": 1,
   "metadata": {},
   "outputs": [],
   "source": [
    "import glob"
   ]
  },
  {
   "cell_type": "code",
   "execution_count": 2,
   "metadata": {},
   "outputs": [
    {
     "data": {
      "text/plain": [
       "['01-python-overview.ipynb',\n",
       " '02-ipython-interpreter.ipynb',\n",
       " '03-ipython-terminal.ipynb',\n",
       " '04-pprint.ipynb',\n",
       " '05-pickle-and-cPickle.ipynb',\n",
       " '06-json.ipynb',\n",
       " '07-glob.ipynb']"
      ]
     },
     "execution_count": 2,
     "metadata": {},
     "output_type": "execute_result"
    }
   ],
   "source": [
    "# 找到当前文件夹下所有以.ipynb结尾的文件名\n",
    "glob.glob(\"*.ipynb\")"
   ]
  },
  {
   "cell_type": "code",
   "execution_count": 3,
   "metadata": {},
   "outputs": [
    {
     "data": {
      "text/plain": [
       "['../python-tools\\\\01-python-overview.ipynb',\n",
       " '../python-tools\\\\02-ipython-interpreter.ipynb',\n",
       " '../python-tools\\\\03-ipython-terminal.ipynb',\n",
       " '../python-tools\\\\04-pprint.ipynb',\n",
       " '../python-tools\\\\05-pickle-and-cPickle.ipynb',\n",
       " '../python-tools\\\\06-json.ipynb',\n",
       " '../python-tools\\\\07-glob.ipynb']"
      ]
     },
     "execution_count": 3,
     "metadata": {},
     "output_type": "execute_result"
    }
   ],
   "source": [
    "glob.glob(\"../python-tools/*.ipynb\")"
   ]
  },
  {
   "cell_type": "markdown",
   "metadata": {},
   "source": [
    "`glob` 函数支持三种格式的语法：\n",
    "\n",
    "* `*` 匹配单个或多个字符\n",
    "* `?` 匹配任意单个字符\n",
    "* `[]` 匹配指定范围内的字符，如：`[0-9]`匹配数字。\n",
    "\n",
    "假设我们要匹配以p开头的文件夹下，所有的 `.ipynb `文件："
   ]
  },
  {
   "cell_type": "code",
   "execution_count": 4,
   "metadata": {},
   "outputs": [
    {
     "data": {
      "text/plain": [
       "['..\\\\python-essentials\\\\01-introduction-python.ipynb',\n",
       " '..\\\\python-essentials\\\\02-date-types.ipynb',\n",
       " '..\\\\python-essentials\\\\03-numbers.ipynb',\n",
       " '..\\\\python-essentials\\\\04-strings.ipynb',\n",
       " '..\\\\python-essentials\\\\05-indexing-slicing.ipynb',\n",
       " '..\\\\python-essentials\\\\06-lists.ipynb',\n",
       " '..\\\\python-essentials\\\\07-python-regular-expression.ipynb',\n",
       " '..\\\\python-essentials\\\\08-mutable-and-immutable-data-types.ipynb',\n",
       " '..\\\\python-essentials\\\\09-tuples.ipynb',\n",
       " '..\\\\python-essentials\\\\10-speed-comparison-between-list-&-tuple.ipynb',\n",
       " '..\\\\python-essentials\\\\11-dictionary.ipynb',\n",
       " '..\\\\python-essentials\\\\12-set.ipynb',\n",
       " '..\\\\python-essentials\\\\13-frozen-sets.ipynb',\n",
       " '..\\\\python-essentials\\\\14-how-python-assignment-works.ipynb',\n",
       " '..\\\\python-essentials\\\\15-if-statement.ipynb',\n",
       " '..\\\\python-essentials\\\\16-loops.ipynb',\n",
       " '..\\\\python-essentials\\\\17-list-comprehension.ipynb',\n",
       " '..\\\\python-essentials\\\\18-functions.ipynb',\n",
       " '..\\\\python-essentials\\\\19-modules-and-packages.ipynb',\n",
       " '..\\\\python-essentials\\\\20-exceptions.ipynb',\n",
       " '..\\\\python-essentials\\\\21-warnings.ipynb',\n",
       " '..\\\\python-essentials\\\\22-file-IO.ipynb',\n",
       " '..\\\\python-tools\\\\01-python-overview.ipynb',\n",
       " '..\\\\python-tools\\\\02-ipython-interpreter.ipynb',\n",
       " '..\\\\python-tools\\\\03-ipython-terminal.ipynb',\n",
       " '..\\\\python-tools\\\\04-pprint.ipynb',\n",
       " '..\\\\python-tools\\\\05-pickle-and-cPickle.ipynb',\n",
       " '..\\\\python-tools\\\\06-json.ipynb',\n",
       " '..\\\\python-tools\\\\07-glob.ipynb']"
      ]
     },
     "execution_count": 4,
     "metadata": {},
     "output_type": "execute_result"
    }
   ],
   "source": [
    "glob.glob('../p*/*.ipynb')"
   ]
  },
  {
   "cell_type": "code",
   "execution_count": 5,
   "metadata": {},
   "outputs": [
    {
     "data": {
      "text/plain": [
       "['..\\\\python-essentials\\\\01-introduction-python.ipynb',\n",
       " '..\\\\python-essentials\\\\02-date-types.ipynb',\n",
       " '..\\\\python-essentials\\\\03-numbers.ipynb',\n",
       " '..\\\\python-tools\\\\01-python-overview.ipynb',\n",
       " '..\\\\python-tools\\\\02-ipython-interpreter.ipynb',\n",
       " '..\\\\python-tools\\\\03-ipython-terminal.ipynb']"
      ]
     },
     "execution_count": 5,
     "metadata": {},
     "output_type": "execute_result"
    }
   ],
   "source": [
    "# 匹配以p开头的文件夹下，以数字0[1-3]开头以.ipynb结尾的文件\n",
    "glob.glob('../p*/0[1-3]*.ipynb')"
   ]
  },
  {
   "cell_type": "code",
   "execution_count": null,
   "metadata": {},
   "outputs": [],
   "source": []
  }
 ],
 "metadata": {
  "kernelspec": {
   "display_name": "Python 2",
   "language": "python",
   "name": "python2"
  },
  "language_info": {
   "codemirror_mode": {
    "name": "ipython",
    "version": 2
   },
   "file_extension": ".py",
   "mimetype": "text/x-python",
   "name": "python",
   "nbconvert_exporter": "python",
   "pygments_lexer": "ipython2",
   "version": "2.7.13"
  },
  "latex_envs": {
   "LaTeX_envs_menu_present": true,
   "autoclose": false,
   "autocomplete": true,
   "bibliofile": "biblio.bib",
   "cite_by": "apalike",
   "current_citInitial": 1,
   "eqLabelWithNumbers": true,
   "eqNumInitial": 1,
   "hotkeys": {
    "equation": "Ctrl-E",
    "itemize": "Ctrl-I"
   },
   "labels_anchors": false,
   "latex_user_defs": false,
   "report_style_numbering": false,
   "user_envs_cfg": false
  },
  "toc": {
   "base_numbering": 1,
   "nav_menu": {},
   "number_sections": true,
   "sideBar": true,
   "skip_h1_title": true,
   "title_cell": "Contents",
   "title_sidebar": "Contents",
   "toc_cell": false,
   "toc_position": {},
   "toc_section_display": true,
   "toc_window_display": false
  }
 },
 "nbformat": 4,
 "nbformat_minor": 2
}
