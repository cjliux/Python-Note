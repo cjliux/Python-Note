{
 "cells": [
  {
   "cell_type": "markdown",
   "metadata": {},
   "source": [
    "# 补充"
   ]
  },
  {
   "cell_type": "code",
   "execution_count": 2,
   "metadata": {},
   "outputs": [],
   "source": [
    "import os\n",
    "os.remove('hello_world.py')"
   ]
  },
  {
   "cell_type": "markdown",
   "metadata": {},
   "source": [
    "* 由于ipython的特性，可以当linux终端，windows终端python控制台等等使用，虽然基本上不完全一样，但大体类似."
   ]
  },
  {
   "cell_type": "markdown",
   "metadata": {},
   "source": [
    "* 查看第三方python包"
   ]
  },
  {
   "cell_type": "code",
   "execution_count": 3,
   "metadata": {},
   "outputs": [
    {
     "name": "stdout",
     "output_type": "stream",
     "text": [
      "Package                            Version    \n",
      "---------------------------------- -----------\n",
      "backports-abc                      0.5        \n",
      "backports.functools-lru-cache      1.5        \n",
      "backports.shutil-get-terminal-size 1.0.0      \n",
      "backports.shutil-which             3.5.1      \n",
      "bleach                             2.1.3      \n",
      "colorama                           0.3.9      \n",
      "configparser                       3.5.0      \n",
      "cycler                             0.10.0     \n",
      "decorator                          4.3.0      \n",
      "entrypoints                        0.2.3      \n",
      "enum34                             1.1.6      \n",
      "functools32                        3.2.3.post2\n",
      "futures                            3.2.0      \n",
      "html5lib                           1.0.1      \n",
      "ipykernel                          4.8.2      \n",
      "ipython                            5.7.0      \n",
      "ipython-genutils                   0.2.0      \n",
      "ipywidgets                         7.2.1      \n",
      "Jinja2                             2.10       \n",
      "jsonschema                         2.6.0      \n",
      "jupyter                            1.0.0      \n",
      "jupyter-client                     5.2.3      \n",
      "jupyter-console                    5.2.0      \n",
      "jupyter-contrib-core               0.3.3      \n",
      "jupyter-contrib-nbextensions       0.5.0      \n",
      "jupyter-core                       4.4.0      \n",
      "jupyter-highlight-selected-word    0.2.0      \n",
      "jupyter-latex-envs                 1.4.4      \n",
      "jupyter-nbextensions-configurator  0.4.0      \n",
      "jupyterthemes                      0.19.1     \n",
      "kiwisolver                         1.0.1      \n",
      "lesscpy                            0.13.0     \n",
      "lxml                               4.2.3      \n",
      "MarkupSafe                         1.0        \n",
      "matplotlib                         2.2.2      \n",
      "mistune                            0.8.3      \n",
      "nbconvert                          5.3.1      \n",
      "nbformat                           4.4.0      \n",
      "notebook                           5.5.0      \n",
      "numpy                              1.14.2     \n",
      "pandas                             0.23.1     \n",
      "pandocfilters                      1.4.2      \n",
      "pathlib2                           2.3.2      \n",
      "pickleshare                        0.7.4      \n",
      "pip                                10.0.1     \n",
      "ply                                3.11       \n",
      "prompt-toolkit                     1.0.15     \n",
      "pygame                             1.9.2a0    \n",
      "Pygments                           2.2.0      \n",
      "pyparsing                          2.2.0      \n",
      "pyserial                           2.6        \n",
      "python-dateutil                    2.7.2      \n",
      "pytz                               2018.4     \n",
      "pywinpty                           0.5.4      \n",
      "PyYAML                             3.12       \n",
      "pyzmq                              17.0.0     \n",
      "qtconsole                          4.3.1      \n",
      "scandir                            1.7        \n",
      "scipy                              1.0.1      \n",
      "Send2Trash                         1.5.0      \n",
      "setuptools                         28.8.0     \n",
      "simplegeneric                      0.8.1      \n",
      "singledispatch                     3.4.0.3    \n",
      "six                                1.11.0     \n",
      "terminado                          0.8.1      \n",
      "testpath                           0.3.1      \n",
      "tornado                            5.0.2      \n",
      "traitlets                          4.3.2      \n",
      "wcwidth                            0.1.7      \n",
      "webencodings                       0.5.1      \n",
      "widgetsnbextension                 3.2.1      \n",
      "win-unicode-console                0.5        \n"
     ]
    }
   ],
   "source": [
    "!pip list"
   ]
  },
  {
   "cell_type": "code",
   "execution_count": 13,
   "metadata": {},
   "outputs": [
    {
     "name": "stdout",
     "output_type": "stream",
     "text": [
      "Requirement already satisfied: pandas in d:\\python\\lib\\site-packages (0.23.1)\n",
      "Requirement already satisfied: python-dateutil>=2.5.0 in d:\\python\\lib\\site-packages (from pandas) (2.7.2)\n",
      "Requirement already satisfied: numpy>=1.9.0 in d:\\python\\lib\\site-packages (from pandas) (1.14.2)\n",
      "Requirement already satisfied: pytz>=2011k in d:\\python\\lib\\site-packages (from pandas) (2018.4)\n",
      "Requirement already satisfied: six>=1.5 in d:\\python\\lib\\site-packages (from python-dateutil>=2.5.0->pandas) (1.11.0)\n"
     ]
    }
   ],
   "source": [
    "!pip install pandas"
   ]
  },
  {
   "cell_type": "code",
   "execution_count": 15,
   "metadata": {},
   "outputs": [
    {
     "name": "stdout",
     "output_type": "stream",
     "text": [
      "pip 10.0.1 from d:\\python\\lib\\site-packages\\pip (python 2.7)\n",
      "\n"
     ]
    }
   ],
   "source": [
    "!pip --version"
   ]
  },
  {
   "cell_type": "code",
   "execution_count": 16,
   "metadata": {},
   "outputs": [
    {
     "name": "stderr",
     "output_type": "stream",
     "text": [
      "Python 2.7.13\n"
     ]
    }
   ],
   "source": [
    "!python --version"
   ]
  },
  {
   "cell_type": "code",
   "execution_count": 23,
   "metadata": {
    "scrolled": true
   },
   "outputs": [
    {
     "name": "stdout",
     "output_type": "stream",
     "text": [
      "Collecting update\n",
      "  Downloading https://files.pythonhosted.org/packages/9f/c4/dfe8a392edd35cc635c35cd3b20df6a746aacdeb39b685d1668b56bf819b/update-0.0.1-py2.py3-none-any.whl\n",
      "Requirement already satisfied: pip in d:\\python\\lib\\site-packages (10.0.1)\n",
      "Collecting style==1.1.0 (from update)\n",
      "  Downloading https://files.pythonhosted.org/packages/4c/0b/6be2071e20c621e7beb01b86e8474c2ec344a9750ba5315886f24d6e7386/style-1.1.0-py2.py3-none-any.whl\n",
      "Installing collected packages: style, update\n",
      "Successfully installed style-1.1.0 update-0.0.1\n"
     ]
    }
   ],
   "source": [
    "!python -m pip install update pip"
   ]
  },
  {
   "cell_type": "markdown",
   "metadata": {},
   "source": [
    "* OK就是这样，见识到了Ipython和Jupyter的强大了吧，基本上满足了的一切需求，为Ipython和Jupyter点赞."
   ]
  }
 ],
 "metadata": {
  "kernelspec": {
   "display_name": "Python 2",
   "language": "python",
   "name": "python2"
  },
  "language_info": {
   "codemirror_mode": {
    "name": "ipython",
    "version": 2
   },
   "file_extension": ".py",
   "mimetype": "text/x-python",
   "name": "python",
   "nbconvert_exporter": "python",
   "pygments_lexer": "ipython2",
   "version": "2.7.13"
  },
  "latex_envs": {
   "LaTeX_envs_menu_present": true,
   "autoclose": false,
   "autocomplete": true,
   "bibliofile": "biblio.bib",
   "cite_by": "apalike",
   "current_citInitial": 1,
   "eqLabelWithNumbers": true,
   "eqNumInitial": 1,
   "hotkeys": {
    "equation": "Ctrl-E",
    "itemize": "Ctrl-I"
   },
   "labels_anchors": false,
   "latex_user_defs": false,
   "report_style_numbering": false,
   "user_envs_cfg": false
  },
  "toc": {
   "base_numbering": 1,
   "nav_menu": {},
   "number_sections": true,
   "sideBar": true,
   "skip_h1_title": true,
   "title_cell": "Contents",
   "title_sidebar": "Contents",
   "toc_cell": false,
   "toc_position": {},
   "toc_section_display": true,
   "toc_window_display": true
  }
 },
 "nbformat": 4,
 "nbformat_minor": 2
}
