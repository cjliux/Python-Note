{
 "cells": [
  {
   "cell_type": "markdown",
   "metadata": {},
   "source": [
    "# requests 模块：HTTP for Human"
   ]
  },
  {
   "cell_type": "markdown",
   "metadata": {
    "toc": true
   },
   "source": [
    "<h1>Contents<span class=\"tocSkip\"></span></h1>\n",
    "<div class=\"toc\"><ul class=\"toc-item\"><li><span><a href=\"#简介\" data-toc-modified-id=\"简介-1\"><span class=\"toc-item-num\">1&nbsp;&nbsp;</span>简介</a></span></li><li><span><a href=\"#传入-URL-参数\" data-toc-modified-id=\"传入-URL-参数-2\"><span class=\"toc-item-num\">2&nbsp;&nbsp;</span>传入 URL 参数</a></span></li><li><span><a href=\"#读取响应内容\" data-toc-modified-id=\"读取响应内容-3\"><span class=\"toc-item-num\">3&nbsp;&nbsp;</span>读取响应内容</a></span></li><li><span><a href=\"#响应状态码\" data-toc-modified-id=\"响应状态码-4\"><span class=\"toc-item-num\">4&nbsp;&nbsp;</span>响应状态码</a></span></li><li><span><a href=\"#响应头\" data-toc-modified-id=\"响应头-5\"><span class=\"toc-item-num\">5&nbsp;&nbsp;</span>响应头</a></span></li><li><span><a href=\"#爬取网页\" data-toc-modified-id=\"爬取网页-6\"><span class=\"toc-item-num\">6&nbsp;&nbsp;</span>爬取网页</a></span></li></ul></div>"
   ]
  },
  {
   "cell_type": "markdown",
   "metadata": {},
   "source": [
    "## 简介"
   ]
  },
  {
   "cell_type": "code",
   "execution_count": 1,
   "metadata": {},
   "outputs": [],
   "source": [
    "import requests"
   ]
  },
  {
   "cell_type": "markdown",
   "metadata": {},
   "source": [
    "`Python`标准库中的 `urllib2` 模块提供了你所需要的大多数` HTTP `功能，但是它的 `API `不是特别方便使用。"
   ]
  },
  {
   "cell_type": "code",
   "execution_count": 2,
   "metadata": {},
   "outputs": [],
   "source": [
    "r = requests.get(\"http://httpbin.org/get\")\n",
    "r = requests.post('http://httpbin.org/post', data = {'key':'value'})\n",
    "r = requests.put(\"http://httpbin.org/put\")\n",
    "r = requests.delete(\"http://httpbin.org/delete\")\n",
    "r = requests.head(\"http://httpbin.org/get\")\n",
    "r = requests.options(\"http://httpbin.org/get\")"
   ]
  },
  {
   "cell_type": "markdown",
   "metadata": {},
   "source": [
    "## 传入 URL 参数"
   ]
  },
  {
   "cell_type": "markdown",
   "metadata": {},
   "source": [
    "我想访问 `httpbin.org/get?key=val`，我就可以使用 `params `传入这些参数："
   ]
  },
  {
   "cell_type": "code",
   "execution_count": 3,
   "metadata": {},
   "outputs": [],
   "source": [
    "payload = {'key1': 'value1', 'key2': 'value2'}\n",
    "r = requests.get(\"http://httpbin.org/get\", params=payload)"
   ]
  },
  {
   "cell_type": "code",
   "execution_count": 4,
   "metadata": {},
   "outputs": [
    {
     "name": "stdout",
     "output_type": "stream",
     "text": [
      "http://httpbin.org/get?key2=value2&key1=value1\n"
     ]
    }
   ],
   "source": [
    "# 看一下url\n",
    "print r.url"
   ]
  },
  {
   "cell_type": "markdown",
   "metadata": {},
   "source": [
    "## 读取响应内容"
   ]
  },
  {
   "cell_type": "markdown",
   "metadata": {},
   "source": [
    "`Requests` 会**自动解码**来自服务器的内容。大多数 `unicode` 字符集都能被无缝地解码。"
   ]
  },
  {
   "cell_type": "code",
   "execution_count": 5,
   "metadata": {},
   "outputs": [
    {
     "name": "stdout",
     "output_type": "stream",
     "text": [
      "{\"message\":\"Hello there, wayfaring stranger. If you’re reading this then you probably didn’t see our blog post a couple of years back announcing that this API would go away: http://git.io/17AROg Fear not, you should be able to get what you need from the shiny new Events API instead.\",\"documentation_url\":\"https://developer.github.com/v3/activity/events/#list-public-events\"}\n"
     ]
    }
   ],
   "source": [
    "r = requests.get('https://github.com/timeline.json')\n",
    "print r.text"
   ]
  },
  {
   "cell_type": "code",
   "execution_count": 6,
   "metadata": {},
   "outputs": [
    {
     "data": {
      "text/plain": [
       "'utf-8'"
      ]
     },
     "execution_count": 6,
     "metadata": {},
     "output_type": "execute_result"
    }
   ],
   "source": [
    "# 查看文字编码：\n",
    "r.encoding"
   ]
  },
  {
   "cell_type": "code",
   "execution_count": 7,
   "metadata": {},
   "outputs": [
    {
     "data": {
      "text/plain": [
       "u'{\"message\":\"Hello there, wayfaring stranger. If you\\xe2\\x80\\x99re reading this then you probably didn\\xe2\\x80\\x99t see our blog post a couple of years back announcing that this API would go away: http://git.io/17AROg Fear not, you should be able to get what you need from the shiny new Events API instead.\",\"documentation_url\":\"https://developer.github.com/v3/activity/events/#list-public-events\"}'"
      ]
     },
     "execution_count": 7,
     "metadata": {},
     "output_type": "execute_result"
    }
   ],
   "source": [
    "# 每次改变文字编码，text 的内容也随之变化：\n",
    "r.encoding = \"ISO-8859-1\"\n",
    "r.text"
   ]
  },
  {
   "cell_type": "code",
   "execution_count": 8,
   "metadata": {},
   "outputs": [
    {
     "data": {
      "text/plain": [
       "{u'documentation_url': u'https://developer.github.com/v3/activity/events/#list-public-events',\n",
       " u'message': u'Hello there, wayfaring stranger. If you\\xe2\\x80\\x99re reading this then you probably didn\\xe2\\x80\\x99t see our blog post a couple of years back announcing that this API would go away: http://git.io/17AROg Fear not, you should be able to get what you need from the shiny new Events API instead.'}"
      ]
     },
     "execution_count": 8,
     "metadata": {},
     "output_type": "execute_result"
    }
   ],
   "source": [
    "# Requests 中也有一个内置的 JSON 解码器处理 JSON 数据：\n",
    "# 如果 JSON 解码失败， r.json 就会抛出一个异常。\n",
    "r.json()"
   ]
  },
  {
   "cell_type": "markdown",
   "metadata": {},
   "source": [
    "## 响应状态码"
   ]
  },
  {
   "cell_type": "code",
   "execution_count": 9,
   "metadata": {},
   "outputs": [
    {
     "data": {
      "text/plain": [
       "200"
      ]
     },
     "execution_count": 9,
     "metadata": {},
     "output_type": "execute_result"
    }
   ],
   "source": [
    "r = requests.get('http://httpbin.org/get')\n",
    "r.status_code"
   ]
  },
  {
   "cell_type": "markdown",
   "metadata": {},
   "source": [
    "## 响应头"
   ]
  },
  {
   "cell_type": "code",
   "execution_count": 10,
   "metadata": {},
   "outputs": [
    {
     "data": {
      "text/plain": [
       "'application/json'"
      ]
     },
     "execution_count": 10,
     "metadata": {},
     "output_type": "execute_result"
    }
   ],
   "source": [
    "r.headers['Content-Type']"
   ]
  },
  {
   "cell_type": "markdown",
   "metadata": {},
   "source": [
    "## 爬取网页"
   ]
  },
  {
   "cell_type": "code",
   "execution_count": 11,
   "metadata": {},
   "outputs": [
    {
     "name": "stdout",
     "output_type": "stream",
     "text": [
      "# About Jupyter Notebook\n",
      "* 该笔记共三个分支：\n",
      "  - Jupyter是笔记源文件；\n",
      "  - master主要是Jupyter生成的md文件，以及其他的重要md笔记；\n",
      "  - gh-pages是用来展示笔记的静态网站源文件.\n",
      "---\n",
      "* 笔记展示：\n",
      "  - [md格式展示](https://github.com/ds-ebooks/jupyter-notebook/tree/master/docs)\n",
      "  - [Jupyter渲染](https://nbviewer.jupyter.org/github/ds-ebooks/jupyter-notebook/tree/jupyter/)\n",
      "  - [Python静态网站](https://ds-ebooks.github.io/jupyter-notebook/README/index.html)\n",
      "---\n",
      "* 书籍推荐：\n",
      "  - [Python书籍大全](https://ds-ebooks.github.io/jupyter-notebook/Guide/02-python-cn/index.html)\n",
      "  - [Guide整理](https://github.com/ds-ebooks/jupyter-notebook/tree/master/docs/Guide)\n"
     ]
    }
   ],
   "source": [
    "# 爬取我的笔记仓的READE.md\n",
    "r = requests.get('https://raw.githubusercontent.com/ds-ebooks/jupyter-notebook/f57ce8f10a83250bce9833568103520d5c8bba34/README.md')\n",
    "print r.text"
   ]
  },
  {
   "cell_type": "code",
   "execution_count": 12,
   "metadata": {},
   "outputs": [
    {
     "data": {
      "text/plain": [
       "'utf-8'"
      ]
     },
     "execution_count": 12,
     "metadata": {},
     "output_type": "execute_result"
    }
   ],
   "source": [
    "r.encoding"
   ]
  },
  {
   "cell_type": "code",
   "execution_count": null,
   "metadata": {},
   "outputs": [],
   "source": []
  }
 ],
 "metadata": {
  "kernelspec": {
   "display_name": "Python 2",
   "language": "python",
   "name": "python2"
  },
  "language_info": {
   "codemirror_mode": {
    "name": "ipython",
    "version": 2
   },
   "file_extension": ".py",
   "mimetype": "text/x-python",
   "name": "python",
   "nbconvert_exporter": "python",
   "pygments_lexer": "ipython2",
   "version": "2.7.13"
  },
  "latex_envs": {
   "LaTeX_envs_menu_present": true,
   "autoclose": false,
   "autocomplete": true,
   "bibliofile": "biblio.bib",
   "cite_by": "apalike",
   "current_citInitial": 1,
   "eqLabelWithNumbers": true,
   "eqNumInitial": 1,
   "hotkeys": {
    "equation": "Ctrl-E",
    "itemize": "Ctrl-I"
   },
   "labels_anchors": false,
   "latex_user_defs": false,
   "report_style_numbering": false,
   "user_envs_cfg": false
  },
  "toc": {
   "base_numbering": 1,
   "nav_menu": {},
   "number_sections": true,
   "sideBar": true,
   "skip_h1_title": true,
   "title_cell": "Contents",
   "title_sidebar": "Contents",
   "toc_cell": true,
   "toc_position": {
    "height": "calc(100% - 180px)",
    "left": "10px",
    "top": "150px",
    "width": "273px"
   },
   "toc_section_display": true,
   "toc_window_display": true
  }
 },
 "nbformat": 4,
 "nbformat_minor": 2
}
