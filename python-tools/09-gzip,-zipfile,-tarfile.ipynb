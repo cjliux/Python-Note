{
 "cells": [
  {
   "cell_type": "markdown",
   "metadata": {},
   "source": [
    "# gzip, zipfile, tarfile 模块：处理压缩文件"
   ]
  },
  {
   "cell_type": "markdown",
   "metadata": {
    "toc": true
   },
   "source": [
    "<h1>Contents<span class=\"tocSkip\"></span></h1>\n",
    "<div class=\"toc\"><ul class=\"toc-item\"><li><span><a href=\"#shutil.make_archive\" data-toc-modified-id=\"shutil.make_archive-1\"><span class=\"toc-item-num\">1&nbsp;&nbsp;</span>shutil.make_archive</a></span></li><li><span><a href=\"#bz2-模块\" data-toc-modified-id=\"bz2-模块-2\"><span class=\"toc-item-num\">2&nbsp;&nbsp;</span>bz2 模块</a></span></li><li><span><a href=\"#zlib模块\" data-toc-modified-id=\"zlib模块-3\"><span class=\"toc-item-num\">3&nbsp;&nbsp;</span>zlib模块</a></span></li><li><span><a href=\"#gzip-模块\" data-toc-modified-id=\"gzip-模块-4\"><span class=\"toc-item-num\">4&nbsp;&nbsp;</span>gzip 模块</a></span></li><li><span><a href=\"#zipfile-模块\" data-toc-modified-id=\"zipfile-模块-5\"><span class=\"toc-item-num\">5&nbsp;&nbsp;</span>zipfile 模块</a></span></li><li><span><a href=\"#tarfile-模块\" data-toc-modified-id=\"tarfile-模块-6\"><span class=\"toc-item-num\">6&nbsp;&nbsp;</span>tarfile 模块</a></span></li></ul></div>"
   ]
  },
  {
   "cell_type": "markdown",
   "metadata": {},
   "source": [
    "## shutil.make_archive"
   ]
  },
  {
   "cell_type": "markdown",
   "metadata": {},
   "source": [
    "* **压缩文件**---支持bztar\\gztar\\tar\\zip格式\n",
    "```python\n",
    "shutil.make_archive(basename, format, root_dir)\n",
    "# eg\n",
    "shutil.make_archive(\"test_archive\", \"zip\", \"test_dir/\")\n",
    "```"
   ]
  },
  {
   "cell_type": "code",
   "execution_count": 1,
   "metadata": {},
   "outputs": [],
   "source": [
    "import os, shutil, glob\n",
    "import zlib, gzip, bz2, zipfile, tarfile"
   ]
  },
  {
   "cell_type": "markdown",
   "metadata": {},
   "source": [
    "## bz2 模块"
   ]
  },
  {
   "cell_type": "code",
   "execution_count": 2,
   "metadata": {},
   "outputs": [
    {
     "name": "stdout",
     "output_type": "stream",
     "text": [
      "BZh91AY&SY*\u001c",
      "�v\u0000\u0000\t��@\u0000\"�\u001c",
      "\u0000 \u00001\u00000\"zi\u000f�\u0015\u001b�FLT`�軒)�P�˰\n",
      "this is a test string\n"
     ]
    }
   ],
   "source": [
    "orginal = \"this is a test string\"\n",
    "\n",
    "compressed = bz2.compress(orginal)\n",
    "\n",
    "print compressed\n",
    "print bz2.decompress(compressed)"
   ]
  },
  {
   "cell_type": "markdown",
   "metadata": {},
   "source": [
    "## zlib模块"
   ]
  },
  {
   "cell_type": "code",
   "execution_count": 3,
   "metadata": {},
   "outputs": [
    {
     "name": "stdout",
     "output_type": "stream",
     "text": [
      "x�+��,V\u0000�D����\u0012�⒢̼t\u0000S�\u0007�\n",
      "this is a test string\n"
     ]
    }
   ],
   "source": [
    "# zlib 提供了对字符串进行压缩和解压缩的功能：\n",
    "# zlib.compress/zlib.decompress\n",
    "orginal = \"this is a test string\"\n",
    "compressed = zlib.compress(orginal)\n",
    "\n",
    "print compressed\n",
    "print zlib.decompress(compressed)"
   ]
  },
  {
   "cell_type": "code",
   "execution_count": 4,
   "metadata": {},
   "outputs": [
    {
     "name": "stdout",
     "output_type": "stream",
     "text": [
      "1407780813\n",
      "4236695221\n"
     ]
    }
   ],
   "source": [
    "# 校验和的计算方法\n",
    "print zlib.adler32(orginal) & 0xffffffff\n",
    "print zlib.crc32(orginal) & 0xffffffff"
   ]
  },
  {
   "cell_type": "markdown",
   "metadata": {},
   "source": [
    "## gzip 模块"
   ]
  },
  {
   "cell_type": "code",
   "execution_count": 5,
   "metadata": {},
   "outputs": [
    {
     "name": "stdout",
     "output_type": "stream",
     "text": [
      "Lots of content here\n"
     ]
    }
   ],
   "source": [
    "# 直接open好像也可以,这样他就相当于是一个文件\n",
    "# 并不是压缩文件\n",
    "content = \"Lots of content here\"\n",
    "with open('file.txt.gz', 'wb') as f:\n",
    "    f.write(content)\n",
    "    \n",
    "with open('file.txt.gz', 'rb') as f:\n",
    "    file_content = f.read()\n",
    "print file_content"
   ]
  },
  {
   "cell_type": "code",
   "execution_count": 6,
   "metadata": {},
   "outputs": [
    {
     "name": "stdout",
     "output_type": "stream",
     "text": [
      "Not a gzipped file\n"
     ]
    }
   ],
   "source": [
    "# 他不是压缩文件所以解压会报错\n",
    "try:\n",
    "    with gzip.open('file.txt.gz', 'rb') as f_in, open('file.txt', 'wb') as f_out:\n",
    "        shutil.copyfileobj(f_in, f_out)\n",
    "except IOError as msg:\n",
    "    print msg"
   ]
  },
  {
   "cell_type": "code",
   "execution_count": 7,
   "metadata": {},
   "outputs": [
    {
     "name": "stdout",
     "output_type": "stream",
     "text": [
      "Lots of content here\n"
     ]
    }
   ],
   "source": [
    "# 产生 .gz 格式的文件，其压缩方式由 zlib 模块提供\n",
    "# gzip.open 方法来读写 .gz 格式的文件\n",
    "content = \"Lots of content here\"\n",
    "with gzip.open('file.txt.gz', 'wb') as f:\n",
    "    f.write(content)\n",
    "    \n",
    "with gzip.open('file.txt.gz', 'rb') as f:\n",
    "    file_content = f.read()\n",
    "print file_content"
   ]
  },
  {
   "cell_type": "code",
   "execution_count": 8,
   "metadata": {},
   "outputs": [],
   "source": [
    "# 现在就不会报错了\n",
    "try:\n",
    "    # 这里学一下，with后面的语句可以连着写\n",
    "    # shutil.copyfileobj方法\n",
    "    # 相当于f_in是解压的文件内容，新建一个文件f_out对象\n",
    "    # 将f_in里的内容复制到f_out\n",
    "    with gzip.open('file.txt.gz', 'rb') as f_in, open('file.txt', 'wb') as f_out:\n",
    "        shutil.copyfileobj(f_in, f_out)\n",
    "except IOError as msg:\n",
    "    print msg"
   ]
  },
  {
   "cell_type": "code",
   "execution_count": 9,
   "metadata": {},
   "outputs": [
    {
     "name": "stdout",
     "output_type": "stream",
     "text": [
      "01-python-overview.ipynb\n",
      "02-ipython-interpreter.ipynb\n",
      "03-ipython-terminal.ipynb\n",
      "04-pprint.ipynb\n",
      "05-pickle-and-cPickle.ipynb\n",
      "06-json.ipynb\n",
      "07-glob.ipynb\n",
      "08-shutil.ipynb\n",
      "09-gzip,-zipfile,-tarfile.ipynb\n",
      "file.txt\n",
      "file.txt.gz\n"
     ]
    }
   ],
   "source": [
    "# 看一下文件\n",
    "!ls"
   ]
  },
  {
   "cell_type": "code",
   "execution_count": 10,
   "metadata": {},
   "outputs": [
    {
     "name": "stdout",
     "output_type": "stream",
     "text": [
      "Lots of content here\n",
      "\u001fb峊[\u0002�ile.txt\u0000笊/)V萇SH蜗+I�Q菻-J\u0005\u0000~u �\u0000\u0000\u0000\n"
     ]
    }
   ],
   "source": [
    "!cat file.txt\n",
    "!cat file.txt.gz"
   ]
  },
  {
   "cell_type": "code",
   "execution_count": 11,
   "metadata": {},
   "outputs": [],
   "source": [
    "os.remove(\"file.txt.gz\")"
   ]
  },
  {
   "cell_type": "markdown",
   "metadata": {},
   "source": [
    "## zipfile 模块"
   ]
  },
  {
   "cell_type": "code",
   "execution_count": 12,
   "metadata": {},
   "outputs": [],
   "source": [
    "# 先生成一些文件\n",
    "for i in xrange(10):\n",
    "    shutil.copy('file.txt','file-'+str(i)+'.txt')"
   ]
  },
  {
   "cell_type": "code",
   "execution_count": 13,
   "metadata": {},
   "outputs": [],
   "source": [
    "# 压缩\n",
    "f = zipfile.ZipFile('file.zip','w')\n",
    "for name in glob.glob('*.txt'):\n",
    "    f.write(name)\n",
    "    os.remove(name)\n",
    "f.close()"
   ]
  },
  {
   "cell_type": "code",
   "execution_count": 14,
   "metadata": {},
   "outputs": [
    {
     "name": "stdout",
     "output_type": "stream",
     "text": [
      "01-python-overview.ipynb\n",
      "02-ipython-interpreter.ipynb\n",
      "03-ipython-terminal.ipynb\n",
      "04-pprint.ipynb\n",
      "05-pickle-and-cPickle.ipynb\n",
      "06-json.ipynb\n",
      "07-glob.ipynb\n",
      "08-shutil.ipynb\n",
      "09-gzip,-zipfile,-tarfile.ipynb\n",
      "file.zip\n"
     ]
    }
   ],
   "source": [
    "!ls"
   ]
  },
  {
   "cell_type": "code",
   "execution_count": 15,
   "metadata": {},
   "outputs": [
    {
     "name": "stdout",
     "output_type": "stream",
     "text": [
      "['file-0.txt', 'file-1.txt', 'file-2.txt', 'file-3.txt', 'file-4.txt', 'file-5.txt', 'file-6.txt', 'file-7.txt', 'file-8.txt', 'file-9.txt', 'file.txt']\n"
     ]
    }
   ],
   "source": [
    "# 解压\n",
    "f = zipfile.ZipFile('file.zip','r')\n",
    "# 使用namelist()查看文件名，返回文件名列表\n",
    "print f.namelist()"
   ]
  },
  {
   "cell_type": "code",
   "execution_count": 16,
   "metadata": {},
   "outputs": [
    {
     "name": "stdout",
     "output_type": "stream",
     "text": [
      "file-0.txt content: Lots of content here\n",
      "file-1.txt content: Lots of content here\n",
      "file-2.txt content: Lots of content here\n",
      "file-3.txt content: Lots of content here\n",
      "file-4.txt content: Lots of content here\n",
      "file-5.txt content: Lots of content here\n",
      "file-6.txt content: Lots of content here\n",
      "file-7.txt content: Lots of content here\n",
      "file-8.txt content: Lots of content here\n",
      "file-9.txt content: Lots of content here\n",
      "file.txt content: Lots of content here\n"
     ]
    }
   ],
   "source": [
    "# 读取文件内容\n",
    "for name in f.namelist():\n",
    "    print name,'content:',f.read(name)"
   ]
  },
  {
   "cell_type": "code",
   "execution_count": 17,
   "metadata": {},
   "outputs": [
    {
     "data": {
      "text/plain": [
       "'E:\\\\Project _Sources\\\\notebook\\\\python-tools\\\\file.txt'"
      ]
     },
     "execution_count": 17,
     "metadata": {},
     "output_type": "execute_result"
    }
   ],
   "source": [
    "# extract(name) 或者 extractall() 解压单个或者全部文件\n",
    "f.extract(f.namelist()[-1])"
   ]
  },
  {
   "cell_type": "markdown",
   "metadata": {},
   "source": [
    "## tarfile 模块"
   ]
  },
  {
   "cell_type": "code",
   "execution_count": 18,
   "metadata": {},
   "outputs": [],
   "source": [
    "# 支持 .tar 格式文件的读写：\n",
    "with tarfile.open('file.txt.tar','w')as f:\n",
    "    f.add('file.txt')"
   ]
  },
  {
   "cell_type": "code",
   "execution_count": 19,
   "metadata": {},
   "outputs": [
    {
     "name": "stdout",
     "output_type": "stream",
     "text": [
      "01-python-overview.ipynb\n",
      "02-ipython-interpreter.ipynb\n",
      "03-ipython-terminal.ipynb\n",
      "04-pprint.ipynb\n",
      "05-pickle-and-cPickle.ipynb\n",
      "06-json.ipynb\n",
      "07-glob.ipynb\n",
      "08-shutil.ipynb\n",
      "09-gzip,-zipfile,-tarfile.ipynb\n",
      "file.txt\n",
      "file.txt.tar\n",
      "file.zip\n"
     ]
    }
   ],
   "source": [
    "!ls"
   ]
  },
  {
   "cell_type": "code",
   "execution_count": 20,
   "metadata": {},
   "outputs": [
    {
     "name": "stdout",
     "output_type": "stream",
     "text": [
      "Remove file.txt successful.\n",
      "Remove file.txt.tar successful.\n",
      "Remove file.zip successful.\n"
     ]
    }
   ],
   "source": [
    "file_name = glob.glob('file*')\n",
    "for name in file_name:\n",
    "    print 'Remove '+name+' successful.'\n",
    "    os.remove(name)"
   ]
  },
  {
   "cell_type": "code",
   "execution_count": 21,
   "metadata": {},
   "outputs": [
    {
     "name": "stdout",
     "output_type": "stream",
     "text": [
      "01-python-overview.ipynb\n",
      "02-ipython-interpreter.ipynb\n",
      "03-ipython-terminal.ipynb\n",
      "04-pprint.ipynb\n",
      "05-pickle-and-cPickle.ipynb\n",
      "06-json.ipynb\n",
      "07-glob.ipynb\n",
      "08-shutil.ipynb\n",
      "09-gzip,-zipfile,-tarfile.ipynb\n"
     ]
    }
   ],
   "source": [
    "!ls"
   ]
  },
  {
   "cell_type": "code",
   "execution_count": null,
   "metadata": {},
   "outputs": [],
   "source": []
  }
 ],
 "metadata": {
  "kernelspec": {
   "display_name": "Python 2",
   "language": "python",
   "name": "python2"
  },
  "language_info": {
   "codemirror_mode": {
    "name": "ipython",
    "version": 2
   },
   "file_extension": ".py",
   "mimetype": "text/x-python",
   "name": "python",
   "nbconvert_exporter": "python",
   "pygments_lexer": "ipython2",
   "version": "2.7.13"
  },
  "latex_envs": {
   "LaTeX_envs_menu_present": true,
   "autoclose": false,
   "autocomplete": true,
   "bibliofile": "biblio.bib",
   "cite_by": "apalike",
   "current_citInitial": 1,
   "eqLabelWithNumbers": true,
   "eqNumInitial": 1,
   "hotkeys": {
    "equation": "Ctrl-E",
    "itemize": "Ctrl-I"
   },
   "labels_anchors": false,
   "latex_user_defs": false,
   "report_style_numbering": false,
   "user_envs_cfg": false
  },
  "toc": {
   "base_numbering": 1,
   "nav_menu": {},
   "number_sections": true,
   "sideBar": true,
   "skip_h1_title": true,
   "title_cell": "Contents",
   "title_sidebar": "Contents",
   "toc_cell": true,
   "toc_position": {},
   "toc_section_display": true,
   "toc_window_display": false
  }
 },
 "nbformat": 4,
 "nbformat_minor": 2
}
