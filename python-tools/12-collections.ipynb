{
 "cells": [
  {
   "cell_type": "markdown",
   "metadata": {},
   "source": [
    "# collections 模块：更多数据结构"
   ]
  },
  {
   "cell_type": "code",
   "execution_count": 1,
   "metadata": {},
   "outputs": [],
   "source": [
    "import collections"
   ]
  },
  {
   "cell_type": "markdown",
   "metadata": {},
   "source": [
    "## 计数器Counter(seq)"
   ]
  },
  {
   "cell_type": "code",
   "execution_count": 2,
   "metadata": {},
   "outputs": [
    {
     "name": "stdout",
     "output_type": "stream",
     "text": [
      "Counter({'two': 2, 'one': 2, 'from': 1, 'i': 1, 'tree': 1, 'three': 1, 'china': 1, 'come': 1})\n"
     ]
    }
   ],
   "source": [
    "# 使用 Counter(seq) 对序列中出现的元素个数进行统计\n",
    "from string import punctuation\n",
    "sentence = \"One, two, three, one, two, tree, I come from China.\"\n",
    "words_count = collections.Counter(sentence.translate(None, punctuation).lower().split())\n",
    "print words_count"
   ]
  },
  {
   "cell_type": "markdown",
   "metadata": {},
   "source": [
    "`sentence.translate`返回一个字符串副本，并且移除了可选参数中的punctuation对应的字符"
   ]
  },
  {
   "cell_type": "markdown",
   "metadata": {},
   "source": [
    "```\n",
    "Docstring:\n",
    "S.translate(table [,deletechars]) -> string\n",
    "\n",
    "Return a copy of the string S, where all characters occurring\n",
    "in the optional argument deletechars are removed, and the\n",
    "remaining characters have been mapped through the given\n",
    "translation table, which must be a string of length 256 or None.\n",
    "If the table argument is None, no translation is applied and\n",
    "the operation simply removes the characters in deletechars.\n",
    "Type:      builtin_function_or_method\n",
    "```"
   ]
  },
  {
   "cell_type": "markdown",
   "metadata": {},
   "source": [
    "## 双端队列deque()"
   ]
  },
  {
   "cell_type": "code",
   "execution_count": 7,
   "metadata": {},
   "outputs": [
    {
     "name": "stdout",
     "output_type": "stream",
     "text": [
      "deque([0, 1, 2, 3, 4, 5, 6, 7, 8, 9])\n",
      "9 8 7 6 5 4 3 2 1 0\n",
      "deque([9, 8, 7, 6, 5, 4, 3, 2, 1, 0])\n",
      "9 8 7 6 5 4 3 2 1 0\n"
     ]
    }
   ],
   "source": [
    "dq = collections.deque()\n",
    "\n",
    "# 右边入队\n",
    "for i in xrange(10):\n",
    "    dq.append(i)    \n",
    "print dq\n",
    "# 右边出队\n",
    "for i in xrange(10):\n",
    "    print dq.pop(), \n",
    "print \n",
    "# 左边入队\n",
    "for i in xrange(10):\n",
    "    dq.appendleft(i)\n",
    "print dq\n",
    "# 左边出队\n",
    "for i in xrange(10):\n",
    "    print dq.popleft(),"
   ]
  },
  {
   "cell_type": "code",
   "execution_count": 8,
   "metadata": {},
   "outputs": [
    {
     "name": "stdout",
     "output_type": "stream",
     "text": [
      "100 loops, best of 3: 355 ns per loop\n",
      "100 loops, best of 3: 117 ns per loop\n"
     ]
    }
   ],
   "source": [
    "# 与列表相比，双端队列在队头的操作更快：\n",
    "lst = []\n",
    "dq = collections.deque()\n",
    "# 让他循环执行100次\n",
    "%timeit -n100 lst.insert(0, 10)\n",
    "%timeit -n100 dq.appendleft(10)"
   ]
  },
  {
   "cell_type": "markdown",
   "metadata": {},
   "source": [
    "## 有序字典"
   ]
  },
  {
   "cell_type": "code",
   "execution_count": 12,
   "metadata": {},
   "outputs": [
    {
     "name": "stdout",
     "output_type": "stream",
     "text": [
      "{'A': 1, 'C': 3, 'B': 2}\n",
      "OrderedDict([('A', 1), ('B', 2), ('C', 3)])\n",
      "Regular Dict:\n",
      "A 1\n",
      "C 3\n",
      "B 2\n",
      "Ordered Dict:\n",
      "A 1\n",
      "B 2\n",
      "C 3\n"
     ]
    }
   ],
   "source": [
    "items = (\n",
    "    ('A', 1),\n",
    "    ('B', 2),\n",
    "    ('C', 3)\n",
    ")\n",
    "\n",
    "# 将元组字典化，正常序列dict(items)\n",
    "regular_dict = dict(items)\n",
    "print regular_dict\n",
    "# 有序化：collections.OrderedDict(items)\n",
    "# 将元组字典化，有序\n",
    "ordered_dict = collections.OrderedDict(items)\n",
    "print ordered_dict\n",
    "\n",
    "print 'Regular Dict:'\n",
    "for k, v in regular_dict.items():\n",
    "    print k, v\n",
    "\n",
    "print 'Ordered Dict:'\n",
    "for k, v in ordered_dict.items():\n",
    "    print k, v"
   ]
  },
  {
   "cell_type": "markdown",
   "metadata": {},
   "source": [
    "## 带默认值的字典"
   ]
  },
  {
   "cell_type": "markdown",
   "metadata": {},
   "source": [
    "对于 `Python` 自带的词典 `d`，当 `key `不存在的时候，调用 `d[key]` 会报错，但是 `defaultdict` 可以为这样的 key 提供一个指定的默认值，我们只需要在定义时提供默认值的类型即可，如果 key 不存在返回指定类型的默认值："
   ]
  },
  {
   "cell_type": "code",
   "execution_count": 13,
   "metadata": {},
   "outputs": [
    {
     "name": "stdout",
     "output_type": "stream",
     "text": [
      "[]\n",
      "0\n",
      "0.0\n"
     ]
    }
   ],
   "source": [
    "dd = collections.defaultdict(list)\n",
    "print dd[\"foo\"]\n",
    "dd = collections.defaultdict(int)\n",
    "print dd[\"foo\"]\n",
    "dd = collections.defaultdict(float)\n",
    "print dd[\"foo\"]"
   ]
  },
  {
   "cell_type": "code",
   "execution_count": null,
   "metadata": {},
   "outputs": [],
   "source": []
  }
 ],
 "metadata": {
  "kernelspec": {
   "display_name": "Python 2",
   "language": "python",
   "name": "python2"
  },
  "language_info": {
   "codemirror_mode": {
    "name": "ipython",
    "version": 2
   },
   "file_extension": ".py",
   "mimetype": "text/x-python",
   "name": "python",
   "nbconvert_exporter": "python",
   "pygments_lexer": "ipython2",
   "version": "2.7.13"
  },
  "latex_envs": {
   "LaTeX_envs_menu_present": true,
   "autoclose": false,
   "autocomplete": true,
   "bibliofile": "biblio.bib",
   "cite_by": "apalike",
   "current_citInitial": 1,
   "eqLabelWithNumbers": true,
   "eqNumInitial": 1,
   "hotkeys": {
    "equation": "Ctrl-E",
    "itemize": "Ctrl-I"
   },
   "labels_anchors": false,
   "latex_user_defs": false,
   "report_style_numbering": false,
   "user_envs_cfg": false
  },
  "toc": {
   "base_numbering": 1,
   "nav_menu": {},
   "number_sections": true,
   "sideBar": true,
   "skip_h1_title": true,
   "title_cell": "Contents",
   "title_sidebar": "Contents",
   "toc_cell": false,
   "toc_position": {},
   "toc_section_display": true,
   "toc_window_display": false
  }
 },
 "nbformat": 4,
 "nbformat_minor": 2
}
