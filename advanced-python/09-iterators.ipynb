{
 "cells": [
  {
   "cell_type": "markdown",
   "metadata": {},
   "source": [
    "# 迭代器"
   ]
  },
  {
   "cell_type": "markdown",
   "metadata": {
    "toc": true
   },
   "source": [
    "<h1>Contents<span class=\"tocSkip\"></span></h1>\n",
    "<div class=\"toc\"><ul class=\"toc-item\"><li><span><a href=\"#简介\" data-toc-modified-id=\"简介-1\"><span class=\"toc-item-num\">1&nbsp;&nbsp;</span>简介</a></span></li><li><span><a href=\"#自定义迭代器\" data-toc-modified-id=\"自定义迭代器-2\"><span class=\"toc-item-num\">2&nbsp;&nbsp;</span>自定义迭代器</a></span></li></ul></div>"
   ]
  },
  {
   "cell_type": "markdown",
   "metadata": {},
   "source": [
    "## 简介"
   ]
  },
  {
   "cell_type": "code",
   "execution_count": 1,
   "metadata": {},
   "outputs": [
    {
     "data": {
      "text/plain": [
       "[1, 2, 3]"
      ]
     },
     "execution_count": 1,
     "metadata": {},
     "output_type": "execute_result"
    }
   ],
   "source": [
    "x = [1,2,3]\n",
    "def f(x):\n",
    "    return x\n",
    "f(x)"
   ]
  },
  {
   "cell_type": "code",
   "execution_count": 4,
   "metadata": {},
   "outputs": [
    {
     "name": "stdout",
     "output_type": "stream",
     "text": [
      "1\n",
      "2\n",
      "3\n"
     ]
    }
   ],
   "source": [
    "for i in x:\n",
    "    print i"
   ]
  },
  {
   "cell_type": "markdown",
   "metadata": {},
   "source": [
    "其好处是不需要对下标进行迭代，但是有些情况下，我们**既希望获得下标，也希望获得对应的值**，那么可以将迭代器传给 `enumerate` 函数，这样每次迭代都会返回一组` (index, value)` 组成的元组："
   ]
  },
  {
   "cell_type": "code",
   "execution_count": 12,
   "metadata": {},
   "outputs": [
    {
     "data": {
      "text/plain": [
       "[(0, 2), (1, 4), (2, 5)]"
      ]
     },
     "execution_count": 12,
     "metadata": {},
     "output_type": "execute_result"
    }
   ],
   "source": [
    "x = [2,4,5]\n",
    "x_enum = []\n",
    "for i,n in enumerate(x):\n",
    "    x_enum.append((i,n))\n",
    "x_enum"
   ]
  },
  {
   "cell_type": "code",
   "execution_count": 13,
   "metadata": {},
   "outputs": [
    {
     "name": "stdout",
     "output_type": "stream",
     "text": [
      "<listiterator object at 0x05073F90>\n"
     ]
    }
   ],
   "source": [
    "# 迭代器对象必须实现 __iter__ 方法：\n",
    "x = [2,3,5]\n",
    "# 迭代器对象\n",
    "i = x.__iter__()\n",
    "print i"
   ]
  },
  {
   "cell_type": "code",
   "execution_count": 14,
   "metadata": {},
   "outputs": [
    {
     "data": {
      "text/plain": [
       "2"
      ]
     },
     "execution_count": 14,
     "metadata": {},
     "output_type": "execute_result"
    }
   ],
   "source": [
    "# __iter__() 返回的对象支持 next 方法\n",
    "# 返回迭代器中的下一个元素：\n",
    "i.next()"
   ]
  },
  {
   "cell_type": "code",
   "execution_count": 15,
   "metadata": {},
   "outputs": [
    {
     "data": {
      "text/plain": [
       "3"
      ]
     },
     "execution_count": 15,
     "metadata": {},
     "output_type": "execute_result"
    }
   ],
   "source": [
    "i.next()"
   ]
  },
  {
   "cell_type": "code",
   "execution_count": 16,
   "metadata": {},
   "outputs": [
    {
     "data": {
      "text/plain": [
       "5"
      ]
     },
     "execution_count": 16,
     "metadata": {},
     "output_type": "execute_result"
    }
   ],
   "source": [
    "i.next()"
   ]
  },
  {
   "cell_type": "code",
   "execution_count": 17,
   "metadata": {},
   "outputs": [
    {
     "ename": "StopIteration",
     "evalue": "",
     "output_type": "error",
     "traceback": [
      "\u001b[1;31m\u001b[0m",
      "\u001b[1;31mStopIteration\u001b[0mTraceback (most recent call last)",
      "\u001b[1;32m<ipython-input-17-690e6075a6ea>\u001b[0m in \u001b[0;36m<module>\u001b[1;34m()\u001b[0m\n\u001b[0;32m      1\u001b[0m \u001b[1;31m# 不存在时就会raise 一个 StopIteration 错误：\u001b[0m\u001b[1;33m\u001b[0m\u001b[1;33m\u001b[0m\u001b[0m\n\u001b[1;32m----> 2\u001b[1;33m \u001b[0mi\u001b[0m\u001b[1;33m.\u001b[0m\u001b[0mnext\u001b[0m\u001b[1;33m(\u001b[0m\u001b[1;33m)\u001b[0m\u001b[1;33m\u001b[0m\u001b[0m\n\u001b[0m",
      "\u001b[1;31mStopIteration\u001b[0m: "
     ]
    }
   ],
   "source": [
    "# 不存在时就会raise 一个 StopIteration 错误：\n",
    "i.next()"
   ]
  },
  {
   "cell_type": "code",
   "execution_count": 18,
   "metadata": {},
   "outputs": [
    {
     "data": {
      "text/plain": [
       "[2, 3, 5]"
      ]
     },
     "execution_count": 18,
     "metadata": {},
     "output_type": "execute_result"
    }
   ],
   "source": [
    "x"
   ]
  },
  {
   "cell_type": "code",
   "execution_count": 19,
   "metadata": {},
   "outputs": [
    {
     "name": "stdout",
     "output_type": "stream",
     "text": [
      "<listreverseiterator object at 0x05073870>\n"
     ]
    }
   ],
   "source": [
    "# 这个返回的也是迭代器对象\n",
    "r = reversed(x)\n",
    "print r"
   ]
  },
  {
   "cell_type": "code",
   "execution_count": 20,
   "metadata": {},
   "outputs": [
    {
     "name": "stdout",
     "output_type": "stream",
     "text": [
      "5\n",
      "3\n",
      "2\n"
     ]
    }
   ],
   "source": [
    "print r.next()\n",
    "print r.next()\n",
    "print r.next()"
   ]
  },
  {
   "cell_type": "code",
   "execution_count": 22,
   "metadata": {},
   "outputs": [
    {
     "name": "stdout",
     "output_type": "stream",
     "text": [
      "<dictionary-keyiterator object at 0x050CE930>\n",
      "<dictionary-valueiterator object at 0x050CE840>\n",
      "<dictionary-itemiterator object at 0x050CE960>\n"
     ]
    }
   ],
   "source": [
    "# 字典对象的 iterkeys, itervalues, iteritems 方法返回的都是迭代器：\n",
    "x = {'a':1,'b':2,'c':333}\n",
    "x_iterkeys = x.iterkeys()\n",
    "x_itervalues = x.itervalues()\n",
    "x_iteritems = x.iteritems()\n",
    "print x_iterkeys\n",
    "print x_itervalues\n",
    "print x_iteritems"
   ]
  },
  {
   "cell_type": "code",
   "execution_count": 24,
   "metadata": {},
   "outputs": [
    {
     "name": "stdout",
     "output_type": "stream",
     "text": [
      "<dictionary-itemiterator object at 0x050CE960>\n"
     ]
    }
   ],
   "source": [
    "# 迭代器的 __iter__ 方法返回它本身：\n",
    "print x_iteritems.__iter__()"
   ]
  },
  {
   "cell_type": "code",
   "execution_count": 25,
   "metadata": {},
   "outputs": [
    {
     "data": {
      "text/plain": [
       "('a', 1)"
      ]
     },
     "execution_count": 25,
     "metadata": {},
     "output_type": "execute_result"
    }
   ],
   "source": [
    "x_iteritems.next()"
   ]
  },
  {
   "cell_type": "markdown",
   "metadata": {},
   "source": [
    "## 自定义迭代器"
   ]
  },
  {
   "cell_type": "code",
   "execution_count": 32,
   "metadata": {},
   "outputs": [],
   "source": [
    "# 自定义一个 list 的取反迭代器：\n",
    "class ReverseListIterator(object):\n",
    "    def __init__(self,list):\n",
    "        self.list = list\n",
    "        self.index = len(list)\n",
    "    def __iter__(self):\n",
    "        \"\"\"返回本身\"\"\"\n",
    "        return self\n",
    "    def next(self):\n",
    "        self.index -= 1\n",
    "        if self.index >= 0:\n",
    "            return self.list[self.index]\n",
    "        else:\n",
    "            raise StopIteration    "
   ]
  },
  {
   "cell_type": "code",
   "execution_count": 33,
   "metadata": {},
   "outputs": [
    {
     "name": "stdout",
     "output_type": "stream",
     "text": [
      "9 8 7 6 5 4 3 2 1 0\n"
     ]
    }
   ],
   "source": [
    "x = xrange(10)\n",
    "for i in ReverseListIterator(x):\n",
    "    print i,"
   ]
  },
  {
   "cell_type": "code",
   "execution_count": 34,
   "metadata": {},
   "outputs": [],
   "source": [
    "class Collatz(object):\n",
    "    \"\"\"\n",
    "    Collatz 猜想：\n",
    "        奇数 n：返回 3n + 1\n",
    "        偶数 n：返回 n / 2\n",
    "        直到 n 为 1 为止：\n",
    "    \"\"\"\n",
    "    def __init__(self,start):\n",
    "        self.value = start\n",
    "    def __iter__(self):\n",
    "        return self\n",
    "    def next(self):\n",
    "        if self.value == 1:\n",
    "            raise StopIteration\n",
    "        elif self.value % 2 == 0:\n",
    "            self.value = self.value/2\n",
    "        else:\n",
    "            self.value = 3*self.value + 1\n",
    "        return self.value            "
   ]
  },
  {
   "cell_type": "code",
   "execution_count": 35,
   "metadata": {},
   "outputs": [
    {
     "name": "stdout",
     "output_type": "stream",
     "text": [
      "22 11 34 17 52 26 13 40 20 10 5 16 8 4 2 1\n"
     ]
    }
   ],
   "source": [
    "for x in Collatz(7):\n",
    "    print x,"
   ]
  },
  {
   "cell_type": "code",
   "execution_count": 36,
   "metadata": {},
   "outputs": [
    {
     "name": "stdout",
     "output_type": "stream",
     "text": [
      "22 11\n",
      "34 17\n",
      "52 26\n",
      "13 40\n",
      "20 10\n",
      "5 16\n",
      "8 4\n",
      "2 1\n"
     ]
    }
   ],
   "source": [
    "# 迭代器对象存在这种问题\n",
    "i = Collatz(7)\n",
    "for x, y in zip(i, i):\n",
    "    print x, y"
   ]
  },
  {
   "cell_type": "code",
   "execution_count": 41,
   "metadata": {},
   "outputs": [],
   "source": [
    "# 迭代器和可迭代对象分开处理\n",
    "# 二叉树的中序遍历实现\n",
    "class BinaryTree(object):\n",
    "    def __init__(self,value,left=None,right=None):\n",
    "        self.value = value\n",
    "        self.left = left\n",
    "        self.right = right\n",
    "    def __iter__(self):\n",
    "        return InorderIterator(self)\n",
    "    \n",
    "class InorderIterator(object):    \n",
    "    def __init__(self, node):\n",
    "        self.node = node\n",
    "        # 使用栈保存结点\n",
    "        self.stack = []    \n",
    "    def next(self):\n",
    "        # 中序遍历\n",
    "        if len(self.stack) > 0 or self.node is not None:\n",
    "            while self.node is not None:\n",
    "                self.stack.append(self.node)\n",
    "                self.node = self.node.left\n",
    "            # 中间访问结点，弹栈\n",
    "            node = self.stack.pop()\n",
    "            # 指针指向右边\n",
    "            self.node = node.right\n",
    "            return node.value\n",
    "        else:\n",
    "            raise StopIteration()"
   ]
  },
  {
   "cell_type": "code",
   "execution_count": 42,
   "metadata": {},
   "outputs": [],
   "source": [
    "tree = BinaryTree(\n",
    "    left=BinaryTree(\n",
    "        left=BinaryTree(1),\n",
    "        value=2,\n",
    "        right=BinaryTree(\n",
    "            left=BinaryTree(3),\n",
    "            value=4,\n",
    "            right=BinaryTree(5)\n",
    "        ),\n",
    "    ),\n",
    "    value=6,\n",
    "    right=BinaryTree(\n",
    "        value=7,\n",
    "        right=BinaryTree(8)\n",
    "    )\n",
    ")"
   ]
  },
  {
   "cell_type": "code",
   "execution_count": 43,
   "metadata": {},
   "outputs": [
    {
     "name": "stdout",
     "output_type": "stream",
     "text": [
      "1 2 3 4 5 6 7 8\n"
     ]
    }
   ],
   "source": [
    "for value in tree:\n",
    "    print value,"
   ]
  },
  {
   "cell_type": "code",
   "execution_count": 44,
   "metadata": {},
   "outputs": [
    {
     "name": "stdout",
     "output_type": "stream",
     "text": [
      "1 1\n",
      "2 2\n",
      "3 3\n",
      "4 4\n",
      "5 5\n",
      "6 6\n",
      "7 7\n",
      "8 8\n"
     ]
    }
   ],
   "source": [
    "for x,y in zip(tree, tree):\n",
    "    print x, y"
   ]
  },
  {
   "cell_type": "code",
   "execution_count": null,
   "metadata": {},
   "outputs": [],
   "source": []
  }
 ],
 "metadata": {
  "kernelspec": {
   "display_name": "Python 2",
   "language": "python",
   "name": "python2"
  },
  "language_info": {
   "codemirror_mode": {
    "name": "ipython",
    "version": 2
   },
   "file_extension": ".py",
   "mimetype": "text/x-python",
   "name": "python",
   "nbconvert_exporter": "python",
   "pygments_lexer": "ipython2",
   "version": "2.7.13"
  },
  "latex_envs": {
   "LaTeX_envs_menu_present": true,
   "autoclose": false,
   "autocomplete": true,
   "bibliofile": "biblio.bib",
   "cite_by": "apalike",
   "current_citInitial": 1,
   "eqLabelWithNumbers": true,
   "eqNumInitial": 1,
   "hotkeys": {
    "equation": "Ctrl-E",
    "itemize": "Ctrl-I"
   },
   "labels_anchors": false,
   "latex_user_defs": false,
   "report_style_numbering": false,
   "user_envs_cfg": false
  },
  "toc": {
   "base_numbering": 1,
   "nav_menu": {},
   "number_sections": true,
   "sideBar": true,
   "skip_h1_title": true,
   "title_cell": "Contents",
   "title_sidebar": "Contents",
   "toc_cell": true,
   "toc_position": {
    "height": "calc(100% - 180px)",
    "left": "10px",
    "top": "150px",
    "width": "303px"
   },
   "toc_section_display": true,
   "toc_window_display": false
  }
 },
 "nbformat": 4,
 "nbformat_minor": 2
}
