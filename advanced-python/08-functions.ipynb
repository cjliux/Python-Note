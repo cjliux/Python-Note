{
 "cells": [
  {
   "cell_type": "markdown",
   "metadata": {},
   "source": [
    "# 函数进阶"
   ]
  },
  {
   "cell_type": "markdown",
   "metadata": {
    "toc": true
   },
   "source": [
    "<h1>Contents<span class=\"tocSkip\"></span></h1>\n",
    "<div class=\"toc\"><ul class=\"toc-item\"><li><span><a href=\"#基本函数\" data-toc-modified-id=\"基本函数-1\"><span class=\"toc-item-num\">1&nbsp;&nbsp;</span>基本函数</a></span></li><li><span><a href=\"#函数参数\" data-toc-modified-id=\"函数参数-2\"><span class=\"toc-item-num\">2&nbsp;&nbsp;</span>函数参数</a></span><ul class=\"toc-item\"><li><span><a href=\"#引用传递\" data-toc-modified-id=\"引用传递-2.1\"><span class=\"toc-item-num\">2.1&nbsp;&nbsp;</span>引用传递</a></span></li><li><span><a href=\"#默认参数可变\" data-toc-modified-id=\"默认参数可变-2.2\"><span class=\"toc-item-num\">2.2&nbsp;&nbsp;</span>默认参数可变</a></span></li></ul></li><li><span><a href=\"#高阶函数\" data-toc-modified-id=\"高阶函数-3\"><span class=\"toc-item-num\">3&nbsp;&nbsp;</span>高阶函数</a></span></li><li><span><a href=\"#匿名函数\" data-toc-modified-id=\"匿名函数-4\"><span class=\"toc-item-num\">4&nbsp;&nbsp;</span>匿名函数</a></span></li><li><span><a href=\"#global-变量\" data-toc-modified-id=\"global-变量-5\"><span class=\"toc-item-num\">5&nbsp;&nbsp;</span>global 变量</a></span></li><li><span><a href=\"#递归\" data-toc-modified-id=\"递归-6\"><span class=\"toc-item-num\">6&nbsp;&nbsp;</span>递归</a></span></li></ul></div>"
   ]
  },
  {
   "cell_type": "markdown",
   "metadata": {},
   "source": [
    "## 基本函数"
   ]
  },
  {
   "cell_type": "code",
   "execution_count": 1,
   "metadata": {},
   "outputs": [],
   "source": [
    "def square(x):\n",
    "    \"\"\"Square of x\"\"\"\n",
    "    return x*x\n",
    "def cube(x):\n",
    "    \"\"\"Cube of x\"\"\"\n",
    "    return x*x*x"
   ]
  },
  {
   "cell_type": "code",
   "execution_count": 2,
   "metadata": {},
   "outputs": [],
   "source": [
    "# 函数名作为字典的值\n",
    "funcs = {\n",
    "    'square':square,\n",
    "    'cube':cube\n",
    "}"
   ]
  },
  {
   "cell_type": "code",
   "execution_count": 3,
   "metadata": {},
   "outputs": [
    {
     "name": "stdout",
     "output_type": "stream",
     "text": [
      "4\n",
      "8\n",
      "cube 8\n",
      "square 4\n"
     ]
    }
   ],
   "source": [
    "x = 2\n",
    "print square(x)\n",
    "print cube(x)\n",
    "for func in sorted(funcs):\n",
    "    print func,funcs[func](x)"
   ]
  },
  {
   "cell_type": "markdown",
   "metadata": {},
   "source": [
    "## 函数参数"
   ]
  },
  {
   "cell_type": "markdown",
   "metadata": {},
   "source": [
    "### 引用传递"
   ]
  },
  {
   "cell_type": "code",
   "execution_count": 4,
   "metadata": {},
   "outputs": [
    {
     "name": "stdout",
     "output_type": "stream",
     "text": [
      "[1, 2, 3]\n",
      "[999, 2, 3]\n",
      "[999, 2, 3]\n"
     ]
    }
   ],
   "source": [
    "def mod_f(x):\n",
    "    x[0]=999\n",
    "    return x\n",
    "x = [1,2,3]\n",
    "print x\n",
    "print mod_f(x)\n",
    "print x"
   ]
  },
  {
   "cell_type": "code",
   "execution_count": 5,
   "metadata": {},
   "outputs": [
    {
     "name": "stdout",
     "output_type": "stream",
     "text": [
      "[1, 2, 3]\n",
      "[4, 5, 6]\n",
      "[1, 2, 3]\n"
     ]
    }
   ],
   "source": [
    "def no_mod_f(x):\n",
    "    x = [4,5,6]\n",
    "    return x\n",
    "x = [1,2,3]\n",
    "\n",
    "print x\n",
    "print no_mod_f(x)\n",
    "print x"
   ]
  },
  {
   "cell_type": "markdown",
   "metadata": {},
   "source": [
    "### 默认参数可变"
   ]
  },
  {
   "cell_type": "code",
   "execution_count": 6,
   "metadata": {},
   "outputs": [],
   "source": [
    "def f(x=[]):\n",
    "    x.append(1)\n",
    "    return x"
   ]
  },
  {
   "cell_type": "code",
   "execution_count": 7,
   "metadata": {},
   "outputs": [
    {
     "name": "stdout",
     "output_type": "stream",
     "text": [
      "[1]\n",
      "[1, 1]\n",
      "[1, 1, 1]\n",
      "[9, 9, 9, 1]\n",
      "[1, 1, 1, 1]\n",
      "[1, 1, 1, 1, 1]\n"
     ]
    }
   ],
   "source": [
    "# 理论上说，我们希望调用 f() 时返回的是 [1]， 但事实上：\n",
    "print f()\n",
    "print f()\n",
    "print f()\n",
    "print f(x = [9,9,9])\n",
    "print f()\n",
    "print f()"
   ]
  },
  {
   "cell_type": "code",
   "execution_count": 8,
   "metadata": {},
   "outputs": [
    {
     "name": "stdout",
     "output_type": "stream",
     "text": [
      "[1]\n",
      "[1]\n",
      "[1]\n",
      "[9, 9, 9, 1]\n",
      "[1]\n",
      "[1]\n"
     ]
    }
   ],
   "source": [
    "def f(x=None):\n",
    "    if x is None:\n",
    "        x = []\n",
    "    x.append(1)\n",
    "    return x\n",
    "print f()\n",
    "print f()\n",
    "print f()\n",
    "print f(x = [9,9,9])\n",
    "print f()\n",
    "print f()"
   ]
  },
  {
   "cell_type": "markdown",
   "metadata": {},
   "source": [
    "## 高阶函数"
   ]
  },
  {
   "cell_type": "markdown",
   "metadata": {},
   "source": [
    "**以函数作为参数，或者返回一个函数的函数是高阶函数**"
   ]
  },
  {
   "cell_type": "code",
   "execution_count": 9,
   "metadata": {},
   "outputs": [
    {
     "data": {
      "text/plain": [
       "[0, 1, 4, 9, 16]"
      ]
     },
     "execution_count": 9,
     "metadata": {},
     "output_type": "execute_result"
    }
   ],
   "source": [
    "# map(f, sq)相当于[f(s) for s in sq],return f(s)\n",
    "map(square,range(5))"
   ]
  },
  {
   "cell_type": "code",
   "execution_count": 10,
   "metadata": {},
   "outputs": [
    {
     "data": {
      "text/plain": [
       "[0, 2, 4]"
      ]
     },
     "execution_count": 10,
     "metadata": {},
     "output_type": "execute_result"
    }
   ],
   "source": [
    "# filter(f, sq)相当于[s for s in sq if f(s)]，return s\n",
    "def is_even(x):\n",
    "    return x % 2 == 0\n",
    "\n",
    "filter(is_even, range(5))"
   ]
  },
  {
   "cell_type": "code",
   "execution_count": 11,
   "metadata": {},
   "outputs": [
    {
     "data": {
      "text/plain": [
       "[0, 4, 16]"
      ]
     },
     "execution_count": 11,
     "metadata": {},
     "output_type": "execute_result"
    }
   ],
   "source": [
    "# 一起使用\n",
    "map(square,filter(is_even,range(5)))"
   ]
  },
  {
   "cell_type": "code",
   "execution_count": 12,
   "metadata": {},
   "outputs": [
    {
     "data": {
      "text/plain": [
       "15"
      ]
     },
     "execution_count": 12,
     "metadata": {},
     "output_type": "execute_result"
    }
   ],
   "source": [
    "# reduce(f, sq) 接受一个二元操作函数 f(x,y)，并对于序列 sq 每次合并两个元素：\n",
    "def my_add(x,y):\n",
    "    return x+y\n",
    "reduce(my_add,[1,2,3,4,5])"
   ]
  },
  {
   "cell_type": "code",
   "execution_count": 13,
   "metadata": {},
   "outputs": [],
   "source": [
    "# 返回一个函数：\n",
    "def make_logger(target):\n",
    "    def logger(data):\n",
    "        with open(target,\"a\")as f:\n",
    "            f.write(data+'\\n')\n",
    "    return logger\n",
    "    \n",
    "foo_logger = make_logger('foo.txt')\n",
    "foo_logger('Hello')\n",
    "foo_logger('World')"
   ]
  },
  {
   "cell_type": "code",
   "execution_count": 14,
   "metadata": {},
   "outputs": [
    {
     "name": "stdout",
     "output_type": "stream",
     "text": [
      "Hello\n",
      "World\n"
     ]
    }
   ],
   "source": [
    "!cat 'foo.txt'"
   ]
  },
  {
   "cell_type": "code",
   "execution_count": 15,
   "metadata": {},
   "outputs": [],
   "source": [
    "import os\n",
    "os.remove('foo.txt')"
   ]
  },
  {
   "cell_type": "markdown",
   "metadata": {},
   "source": [
    "## 匿名函数"
   ]
  },
  {
   "cell_type": "code",
   "execution_count": 16,
   "metadata": {},
   "outputs": [
    {
     "name": "stdout",
     "output_type": "stream",
     "text": [
      "[0, 1, 4, 9, 16]\n"
     ]
    }
   ],
   "source": [
    "print map(square,range(5))"
   ]
  },
  {
   "cell_type": "code",
   "execution_count": 17,
   "metadata": {},
   "outputs": [
    {
     "name": "stdout",
     "output_type": "stream",
     "text": [
      "[0, 1, 4, 9, 16]\n"
     ]
    }
   ],
   "source": [
    "print map(lambda x:x*x,range(5))"
   ]
  },
  {
   "cell_type": "code",
   "execution_count": 18,
   "metadata": {},
   "outputs": [
    {
     "name": "stdout",
     "output_type": "stream",
     "text": [
      "285\n"
     ]
    }
   ],
   "source": [
    "s1 = reduce(lambda x,y:x+y,map(lambda x:x**2,range(1,10)))\n",
    "print s1"
   ]
  },
  {
   "cell_type": "code",
   "execution_count": 19,
   "metadata": {},
   "outputs": [
    {
     "name": "stdout",
     "output_type": "stream",
     "text": [
      "285\n"
     ]
    }
   ],
   "source": [
    "s2 = sum(x**2 for x in range(1,10))\n",
    "print s2"
   ]
  },
  {
   "cell_type": "markdown",
   "metadata": {},
   "source": [
    "## global 变量"
   ]
  },
  {
   "cell_type": "code",
   "execution_count": 20,
   "metadata": {},
   "outputs": [
    {
     "name": "stdout",
     "output_type": "stream",
     "text": [
      "15\n"
     ]
    }
   ],
   "source": [
    "x = 15\n",
    "def print_x():\n",
    "    print x\n",
    "print_x()"
   ]
  },
  {
   "cell_type": "code",
   "execution_count": 21,
   "metadata": {},
   "outputs": [
    {
     "name": "stdout",
     "output_type": "stream",
     "text": [
      "18\n",
      "18\n"
     ]
    }
   ],
   "source": [
    "# 在函数中修改全局变量的值\n",
    "x = 15\n",
    "def print_newx():\n",
    "    global x\n",
    "    x = 18\n",
    "    print x\n",
    "print_newx()\n",
    "print x"
   ]
  },
  {
   "cell_type": "code",
   "execution_count": 22,
   "metadata": {},
   "outputs": [
    {
     "name": "stdout",
     "output_type": "stream",
     "text": [
      "18\n",
      "15\n"
     ]
    }
   ],
   "source": [
    "# 不加global，x就不会变\n",
    "x = 15\n",
    "def print_newx():\n",
    "    x = 18\n",
    "    print x\n",
    "print_newx()\n",
    "print x"
   ]
  },
  {
   "cell_type": "markdown",
   "metadata": {},
   "source": [
    "## 递归"
   ]
  },
  {
   "cell_type": "code",
   "execution_count": 2,
   "metadata": {},
   "outputs": [
    {
     "name": "stdout",
     "output_type": "stream",
     "text": [
      "[1, 1, 2, 3, 5, 8, 13, 21, 34, 55]\n"
     ]
    }
   ],
   "source": [
    "def fib1(n):\n",
    "    \"\"\"Fib with recursion\"\"\"\n",
    "    if n == 0 or n == 1:\n",
    "        return 1\n",
    "    else:\n",
    "        # 这里的递归相当于重复计算了f(n-1)和f(n-2)\n",
    "        return fib1(n-1)+fib1(n-2)\n",
    "print [fib1(i) for i in xrange(10)]"
   ]
  },
  {
   "cell_type": "code",
   "execution_count": 3,
   "metadata": {},
   "outputs": [
    {
     "name": "stdout",
     "output_type": "stream",
     "text": [
      "[1, 1, 2, 3, 5, 8, 13, 21, 34, 55]\n"
     ]
    }
   ],
   "source": [
    "# 高效版本\n",
    "def fib2(n):\n",
    "    \"\"\"Fib without recursion\"\"\"\n",
    "    a,b=0,1\n",
    "    for i in range(1,n+1):\n",
    "        a,b=b,a+b\n",
    "    return b\n",
    "print [fib2(i) for i in xrange(10)]"
   ]
  },
  {
   "cell_type": "code",
   "execution_count": 8,
   "metadata": {},
   "outputs": [
    {
     "name": "stdout",
     "output_type": "stream",
     "text": [
      "[1, 1, 2, 3, 5, 8, 13, 21, 34, 55]\n"
     ]
    }
   ],
   "source": [
    "# 利用了默认参数可变的性质，构造了一个缓存\n",
    "def fib3(n,cache={0:1,1:1}):\n",
    "    \"\"\"Fib with recursion and caching.\"\"\"\n",
    "    try:\n",
    "        return cache[n]\n",
    "    except KeyError:\n",
    "        cache[n] = fib3(n-1)+fib3(n-2)\n",
    "        return cache[n]\n",
    "    \n",
    "print [fib3(i) for i in range(10)]"
   ]
  },
  {
   "cell_type": "code",
   "execution_count": 9,
   "metadata": {},
   "outputs": [
    {
     "name": "stdout",
     "output_type": "stream",
     "text": [
      "100 loops, best of 3: 3.63 ms per loop\n",
      "1000000 loops, best of 3: 1.85 µs per loop\n",
      "The slowest run took 127.37 times longer than the fastest. This could mean that an intermediate result is being cached.\n",
      "10000000 loops, best of 3: 172 ns per loop\n"
     ]
    }
   ],
   "source": [
    "%timeit fib1(20)\n",
    "%timeit fib2(20)\n",
    "%timeit fib3(20)"
   ]
  }
 ],
 "metadata": {
  "kernelspec": {
   "display_name": "Python 2",
   "language": "python",
   "name": "python2"
  },
  "language_info": {
   "codemirror_mode": {
    "name": "ipython",
    "version": 2
   },
   "file_extension": ".py",
   "mimetype": "text/x-python",
   "name": "python",
   "nbconvert_exporter": "python",
   "pygments_lexer": "ipython2",
   "version": "2.7.13"
  },
  "latex_envs": {
   "LaTeX_envs_menu_present": true,
   "autoclose": false,
   "autocomplete": true,
   "bibliofile": "biblio.bib",
   "cite_by": "apalike",
   "current_citInitial": 1,
   "eqLabelWithNumbers": true,
   "eqNumInitial": 1,
   "hotkeys": {
    "equation": "Ctrl-E",
    "itemize": "Ctrl-I"
   },
   "labels_anchors": false,
   "latex_user_defs": false,
   "report_style_numbering": false,
   "user_envs_cfg": false
  },
  "toc": {
   "base_numbering": 1,
   "nav_menu": {},
   "number_sections": true,
   "sideBar": true,
   "skip_h1_title": true,
   "title_cell": "Contents",
   "title_sidebar": "Contents",
   "toc_cell": true,
   "toc_position": {
    "height": "calc(100% - 180px)",
    "left": "10px",
    "top": "150px",
    "width": "153px"
   },
   "toc_section_display": true,
   "toc_window_display": false
  }
 },
 "nbformat": 4,
 "nbformat_minor": 2
}
