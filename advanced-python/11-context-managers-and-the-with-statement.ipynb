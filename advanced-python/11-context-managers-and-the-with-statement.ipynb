{
 "cells": [
  {
   "cell_type": "markdown",
   "metadata": {},
   "source": [
    "# with 语句和上下文管理器"
   ]
  },
  {
   "cell_type": "markdown",
   "metadata": {},
   "source": [
    "## 简述"
   ]
  },
  {
   "cell_type": "markdown",
   "metadata": {},
   "source": [
    "```python\n",
    "# create/aquire some resource\n",
    "...\n",
    "try:\n",
    "    # do something with the resource\n",
    "    ...\n",
    "finally:\n",
    "    # destroy/release the resource\n",
    "    ...\n",
    "```\n",
    "我们经常需要使用上面这样的代码形式，以确保资源的正常使用和释放。\n",
    "\n",
    "`Python` 提供了 `with` 语句帮我们自动进行这样的处理"
   ]
  },
  {
   "cell_type": "code",
   "execution_count": 1,
   "metadata": {},
   "outputs": [],
   "source": [
    "with open('my_file','w') as fp:\n",
    "    data = fp.write(\"hello world\")"
   ]
  },
  {
   "cell_type": "code",
   "execution_count": 2,
   "metadata": {},
   "outputs": [],
   "source": [
    "# 等效于\n",
    "fp = open(\"my_file\",'w')\n",
    "try:\n",
    "    data = fp.write(\"hello world\")\n",
    "finally:\n",
    "    fp.close()"
   ]
  },
  {
   "cell_type": "markdown",
   "metadata": {},
   "source": [
    "## 上下文管理器"
   ]
  },
  {
   "cell_type": "markdown",
   "metadata": {},
   "source": [
    "其基本用法如下：\n",
    "```python\n",
    "with <expression>:\n",
    "    <block>\n",
    "```\n",
    "`<expression>` 执行的结果应当返回一个实现了上下文管理器的对象，即实现这样两个方法，`__enter__` 和 `__exit__`："
   ]
  },
  {
   "cell_type": "code",
   "execution_count": 4,
   "metadata": {},
   "outputs": [
    {
     "name": "stdout",
     "output_type": "stream",
     "text": [
      "<built-in method __enter__ of file object at 0x04B17700>\n",
      "<built-in method __exit__ of file object at 0x04B17700>\n"
     ]
    }
   ],
   "source": [
    "print fp.__enter__\n",
    "print fp.__exit__"
   ]
  },
  {
   "cell_type": "markdown",
   "metadata": {},
   "source": [
    "执行顺序`__enter__----><block>---->__exit__`"
   ]
  },
  {
   "cell_type": "code",
   "execution_count": 7,
   "metadata": {},
   "outputs": [],
   "source": [
    "# 验证一下\n",
    "class ContextManager(object):\n",
    "    def __enter__(self):\n",
    "        print \"__enter__\"\n",
    "    def __exit__(self,exc_type, exc_value, traceback):\n",
    "        print \"__exit__\""
   ]
  },
  {
   "cell_type": "code",
   "execution_count": 8,
   "metadata": {},
   "outputs": [
    {
     "name": "stdout",
     "output_type": "stream",
     "text": [
      "__enter__\n",
      "block\n",
      "__exit__\n"
     ]
    }
   ],
   "source": [
    "with ContextManager():\n",
    "    print \"block\""
   ]
  },
  {
   "cell_type": "code",
   "execution_count": 9,
   "metadata": {},
   "outputs": [
    {
     "name": "stdout",
     "output_type": "stream",
     "text": [
      "__enter__\n",
      "__exit__\n"
     ]
    },
    {
     "ename": "ZeroDivisionError",
     "evalue": "integer division or modulo by zero",
     "output_type": "error",
     "traceback": [
      "\u001b[1;31m\u001b[0m",
      "\u001b[1;31mZeroDivisionError\u001b[0mTraceback (most recent call last)",
      "\u001b[1;32m<ipython-input-9-e264fbc12097>\u001b[0m in \u001b[0;36m<module>\u001b[1;34m()\u001b[0m\n\u001b[0;32m      1\u001b[0m \u001b[1;31m# 假设block执行出错\u001b[0m\u001b[1;33m\u001b[0m\u001b[1;33m\u001b[0m\u001b[0m\n\u001b[0;32m      2\u001b[0m \u001b[1;32mwith\u001b[0m \u001b[0mContextManager\u001b[0m\u001b[1;33m(\u001b[0m\u001b[1;33m)\u001b[0m\u001b[1;33m:\u001b[0m\u001b[1;33m\u001b[0m\u001b[0m\n\u001b[1;32m----> 3\u001b[1;33m     \u001b[1;32mprint\u001b[0m \u001b[1;36m1\u001b[0m\u001b[1;33m/\u001b[0m\u001b[1;36m0\u001b[0m\u001b[1;33m\u001b[0m\u001b[0m\n\u001b[0m",
      "\u001b[1;31mZeroDivisionError\u001b[0m: integer division or modulo by zero"
     ]
    }
   ],
   "source": [
    "# 假设block执行出错\n",
    "with ContextManager():\n",
    "    print 1/0"
   ]
  },
  {
   "cell_type": "markdown",
   "metadata": {},
   "source": [
    "## `__enter__` 的返回值"
   ]
  },
  {
   "cell_type": "code",
   "execution_count": 10,
   "metadata": {},
   "outputs": [],
   "source": [
    "class ContextManager(object):\n",
    "    \n",
    "    def __enter__(self):\n",
    "        print \"Entering\"\n",
    "        # 这里有返回值\n",
    "        return \"my value\"\n",
    "    \n",
    "    def __exit__(self, exc_type, exc_value, traceback):\n",
    "        print \"Exiting\""
   ]
  },
  {
   "cell_type": "code",
   "execution_count": 11,
   "metadata": {},
   "outputs": [
    {
     "name": "stdout",
     "output_type": "stream",
     "text": [
      "Entering\n",
      "my value\n",
      "Exiting\n"
     ]
    }
   ],
   "source": [
    "# 返回值传给了value\n",
    "with ContextManager() as value:\n",
    "    print value"
   ]
  },
  {
   "cell_type": "code",
   "execution_count": 12,
   "metadata": {},
   "outputs": [
    {
     "name": "stdout",
     "output_type": "stream",
     "text": [
      "<open file 'my_file', mode 'r' at 0x04BFAA70>\n"
     ]
    }
   ],
   "source": [
    "fp = open('my_file','r')\n",
    "print fp.__enter__()\n",
    "fp.close()"
   ]
  },
  {
   "cell_type": "code",
   "execution_count": 13,
   "metadata": {},
   "outputs": [],
   "source": [
    "import os \n",
    "os.remove('my_file')"
   ]
  },
  {
   "cell_type": "code",
   "execution_count": 17,
   "metadata": {},
   "outputs": [
    {
     "name": "stdout",
     "output_type": "stream",
     "text": [
      "enter\n",
      "<__main__.ContextManager object at 0x04AF2870>\n",
      "exit\n"
     ]
    }
   ],
   "source": [
    "# 将 __enter__ 的返回值设为这个上下文管理器对象本身\n",
    "class ContextManager(object):\n",
    "    def __enter__(self):\n",
    "        print \"enter\"\n",
    "        return self\n",
    "    \n",
    "    def __exit__(self, exc_type, exc_value, traceback):\n",
    "        print \"exit\"\n",
    "with ContextManager() as value:\n",
    "    print value"
   ]
  },
  {
   "cell_type": "markdown",
   "metadata": {},
   "source": [
    "## 错误处理"
   ]
  },
  {
   "cell_type": "markdown",
   "metadata": {},
   "source": [
    "上下文管理器对象将错误处理交给 `__exit__` 进行，可以将错误类型，错误值和 `traceback` 等内容作为参数传递给` __exit__` 函数："
   ]
  },
  {
   "cell_type": "code",
   "execution_count": 27,
   "metadata": {},
   "outputs": [
    {
     "name": "stdout",
     "output_type": "stream",
     "text": [
      "\n"
     ]
    }
   ],
   "source": [
    "class ContextManager(object):\n",
    "    def __enter__(self):\n",
    "        print 'enter'\n",
    "        \n",
    "    # exc_type是错误类型，exc.value是对应的错误信息\n",
    "    def __exit__(self,exc_type,exc_value,traceback):\n",
    "        print 'exit'\n",
    "        if exc_type is not None:\n",
    "            print 'Exception:',exc_value"
   ]
  },
  {
   "cell_type": "code",
   "execution_count": 29,
   "metadata": {},
   "outputs": [
    {
     "name": "stdout",
     "output_type": "stream",
     "text": [
      "enter\n",
      "exit\n",
      "Exception: integer division or modulo by zero\n"
     ]
    },
    {
     "ename": "ZeroDivisionError",
     "evalue": "integer division or modulo by zero",
     "output_type": "error",
     "traceback": [
      "\u001b[1;31m\u001b[0m",
      "\u001b[1;31mZeroDivisionError\u001b[0mTraceback (most recent call last)",
      "\u001b[1;32m<ipython-input-29-7da6db8c276a>\u001b[0m in \u001b[0;36m<module>\u001b[1;34m()\u001b[0m\n\u001b[0;32m      1\u001b[0m \u001b[1;32mwith\u001b[0m \u001b[0mContextManager\u001b[0m\u001b[1;33m(\u001b[0m\u001b[1;33m)\u001b[0m\u001b[1;33m:\u001b[0m\u001b[1;33m\u001b[0m\u001b[0m\n\u001b[1;32m----> 2\u001b[1;33m     \u001b[1;32mprint\u001b[0m \u001b[1;36m1\u001b[0m\u001b[1;33m/\u001b[0m\u001b[1;36m0\u001b[0m\u001b[1;33m\u001b[0m\u001b[0m\n\u001b[0m",
      "\u001b[1;31mZeroDivisionError\u001b[0m: integer division or modulo by zero"
     ]
    }
   ],
   "source": [
    "with ContextManager():\n",
    "    print 1/0"
   ]
  },
  {
   "cell_type": "code",
   "execution_count": 34,
   "metadata": {},
   "outputs": [],
   "source": [
    "# 不让错误抛出：__exit__ 的返回值设为 True\n",
    "class ContextManager(object):\n",
    "    def __enter__(self):\n",
    "        print 'enter'\n",
    "        \n",
    "    # exc_type是错误类型，exc_value是对应的错误信息\n",
    "    def __exit__(self,exc_type,exc_value,traceback):\n",
    "        print 'exit'\n",
    "        if exc_type is not None:\n",
    "            print 'Exception:',exc_type,exc_value\n",
    "            # 把这个__exit__设置为True就不会抛出异常\n",
    "            return True"
   ]
  },
  {
   "cell_type": "code",
   "execution_count": 35,
   "metadata": {},
   "outputs": [
    {
     "name": "stdout",
     "output_type": "stream",
     "text": [
      "enter\n",
      "exit\n",
      "Exception: <type 'exceptions.ZeroDivisionError'> integer division or modulo by zero\n"
     ]
    }
   ],
   "source": [
    "with ContextManager():\n",
    "    print 1/0"
   ]
  },
  {
   "cell_type": "markdown",
   "metadata": {},
   "source": [
    "## 数据库的例子"
   ]
  },
  {
   "cell_type": "markdown",
   "metadata": {},
   "source": [
    "待深入学习：[数据库的例子](http://nbviewer.jupyter.org/github/lijin-THU/notes-python/blob/master/05-advanced-python/05.11-context-managers-and-the-with-statement.ipynb#%E6%95%B0%E6%8D%AE%E5%BA%93%E7%9A%84%E4%BE%8B%E5%AD%90)"
   ]
  },
  {
   "cell_type": "markdown",
   "metadata": {},
   "source": [
    "## contextlib 模块"
   ]
  },
  {
   "cell_type": "markdown",
   "metadata": {},
   "source": [
    "防止写入很多重复的模式，可以使用 `contextlib` 模块来进行处理。最简单的处理方式是使用 `closing` 函数确保对象的 `close()` 方法始终被调用"
   ]
  },
  {
   "cell_type": "code",
   "execution_count": 38,
   "metadata": {},
   "outputs": [
    {
     "name": "stdout",
     "output_type": "stream",
     "text": [
      "<!DOCTYPE html>\n",
      "<!--STATUS OK-->\n",
      "\r\n",
      "\r\n",
      "\r\n",
      "\r\n",
      "\r\n",
      "\r\n",
      "\r\n",
      "\r\n",
      "\r\n"
     ]
    }
   ],
   "source": [
    "from contextlib import closing\n",
    "import urllib\n",
    "\n",
    "with closing(urllib.urlopen('http://www.baidu.com')) as url:\n",
    "    html = url.read()\n",
    "\n",
    "print html[:50]"
   ]
  },
  {
   "cell_type": "code",
   "execution_count": 39,
   "metadata": {},
   "outputs": [
    {
     "name": "stdout",
     "output_type": "stream",
     "text": [
      "Enter\n",
      "  Inside the with statement\n",
      "Exit\n"
     ]
    }
   ],
   "source": [
    "# 另一个有用的方法是使用修饰符 @contextlib：\n",
    "from contextlib import contextmanager\n",
    "\n",
    "@contextmanager\n",
    "def my_contextmanager():\n",
    "    print \"Enter\"\n",
    "    yield\n",
    "    print \"Exit\"\n",
    "\n",
    "with my_contextmanager():\n",
    "    print \"  Inside the with statement\""
   ]
  },
  {
   "cell_type": "markdown",
   "metadata": {},
   "source": [
    "`yield `之前的部分可以看成是 `__enter__` 的部分，yield 的值可以看成是 `__enter__` 返回的值，`yield `之后的部分可以看成是 `__exit__` 的部分。"
   ]
  },
  {
   "cell_type": "code",
   "execution_count": 40,
   "metadata": {},
   "outputs": [
    {
     "name": "stdout",
     "output_type": "stream",
     "text": [
      "Enter\n",
      "my value\n",
      "Exit\n"
     ]
    }
   ],
   "source": [
    "@contextmanager\n",
    "def my_contextmanager():\n",
    "    print \"Enter\"\n",
    "    yield \"my value\"\n",
    "    print \"Exit\"\n",
    "    \n",
    "with my_contextmanager() as value:\n",
    "    print value"
   ]
  },
  {
   "cell_type": "code",
   "execution_count": 41,
   "metadata": {},
   "outputs": [],
   "source": [
    "# 错误处理可以用 try 块来完成：\n",
    "@contextmanager\n",
    "def my_contextmanager():\n",
    "    print \"Enter\"\n",
    "    try:\n",
    "        yield\n",
    "    except Exception as exc:\n",
    "        print \"   Error:\", exc\n",
    "    finally:\n",
    "        print \"Exit\""
   ]
  },
  {
   "cell_type": "code",
   "execution_count": 42,
   "metadata": {},
   "outputs": [
    {
     "name": "stdout",
     "output_type": "stream",
     "text": [
      "Enter\n",
      "   Error: integer division or modulo by zero\n",
      "Exit\n"
     ]
    }
   ],
   "source": [
    "with my_contextmanager():\n",
    "    print 1/0"
   ]
  },
  {
   "cell_type": "code",
   "execution_count": null,
   "metadata": {},
   "outputs": [],
   "source": []
  }
 ],
 "metadata": {
  "kernelspec": {
   "display_name": "Python 2",
   "language": "python",
   "name": "python2"
  },
  "language_info": {
   "codemirror_mode": {
    "name": "ipython",
    "version": 2
   },
   "file_extension": ".py",
   "mimetype": "text/x-python",
   "name": "python",
   "nbconvert_exporter": "python",
   "pygments_lexer": "ipython2",
   "version": "2.7.13"
  },
  "latex_envs": {
   "LaTeX_envs_menu_present": true,
   "autoclose": false,
   "autocomplete": true,
   "bibliofile": "biblio.bib",
   "cite_by": "apalike",
   "current_citInitial": 1,
   "eqLabelWithNumbers": true,
   "eqNumInitial": 1,
   "hotkeys": {
    "equation": "Ctrl-E",
    "itemize": "Ctrl-I"
   },
   "labels_anchors": false,
   "latex_user_defs": false,
   "report_style_numbering": false,
   "user_envs_cfg": false
  },
  "toc": {
   "base_numbering": 1,
   "nav_menu": {},
   "number_sections": true,
   "sideBar": true,
   "skip_h1_title": true,
   "title_cell": "Contents",
   "title_sidebar": "Contents",
   "toc_cell": false,
   "toc_position": {},
   "toc_section_display": true,
   "toc_window_display": false
  }
 },
 "nbformat": 4,
 "nbformat_minor": 2
}
