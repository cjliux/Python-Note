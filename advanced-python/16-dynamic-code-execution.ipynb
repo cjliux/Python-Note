{
 "cells": [
  {
   "cell_type": "markdown",
   "metadata": {},
   "source": [
    "# 动态编译"
   ]
  },
  {
   "cell_type": "markdown",
   "metadata": {
    "toc": true
   },
   "source": [
    "<h1>Contents<span class=\"tocSkip\"></span></h1>\n",
    "<div class=\"toc\"><ul class=\"toc-item\"><li><span><a href=\"#标准编程语言\" data-toc-modified-id=\"标准编程语言-1\"><span class=\"toc-item-num\">1&nbsp;&nbsp;</span>标准编程语言</a></span></li><li><span><a href=\"#解释器语言\" data-toc-modified-id=\"解释器语言-2\"><span class=\"toc-item-num\">2&nbsp;&nbsp;</span>解释器语言</a></span></li><li><span><a href=\"#Byte-Code-编译\" data-toc-modified-id=\"Byte-Code-编译-3\"><span class=\"toc-item-num\">3&nbsp;&nbsp;</span>Byte Code 编译</a></span></li><li><span><a href=\"#eval-函数\" data-toc-modified-id=\"eval-函数-4\"><span class=\"toc-item-num\">4&nbsp;&nbsp;</span>eval 函数</a></span></li><li><span><a href=\"#exec-函数\" data-toc-modified-id=\"exec-函数-5\"><span class=\"toc-item-num\">5&nbsp;&nbsp;</span>exec 函数</a></span></li><li><span><a href=\"#警告\" data-toc-modified-id=\"警告-6\"><span class=\"toc-item-num\">6&nbsp;&nbsp;</span>警告</a></span></li><li><span><a href=\"#compile-函数生成-byte-code\" data-toc-modified-id=\"compile-函数生成-byte-code-7\"><span class=\"toc-item-num\">7&nbsp;&nbsp;</span>compile 函数生成 byte code</a></span></li><li><span><a href=\"#abstract-syntax-trees\" data-toc-modified-id=\"abstract-syntax-trees-8\"><span class=\"toc-item-num\">8&nbsp;&nbsp;</span>abstract syntax trees</a></span></li></ul></div>"
   ]
  },
  {
   "cell_type": "markdown",
   "metadata": {},
   "source": [
    "## 标准编程语言"
   ]
  },
  {
   "cell_type": "markdown",
   "metadata": {},
   "source": [
    "对于 **C** 语言，代码一般要先编译，再执行。\n",
    "\n",
    "    .c -> .exe"
   ]
  },
  {
   "cell_type": "markdown",
   "metadata": {},
   "source": [
    "## 解释器语言"
   ]
  },
  {
   "cell_type": "markdown",
   "metadata": {},
   "source": [
    "shell 脚本\n",
    "\n",
    "    .sh -> interpreter"
   ]
  },
  {
   "cell_type": "markdown",
   "metadata": {},
   "source": [
    "## Byte Code 编译"
   ]
  },
  {
   "cell_type": "markdown",
   "metadata": {},
   "source": [
    "**Python, Java** 等语言先将代码编译为 byte code（不是机器码），然后再处理：\n",
    "\n",
    "    .py -> .pyc -> interpreter"
   ]
  },
  {
   "cell_type": "markdown",
   "metadata": {},
   "source": [
    "## eval 函数"
   ]
  },
  {
   "cell_type": "markdown",
   "metadata": {},
   "source": [
    "    eval(statement, glob, local)\n",
    "\n",
    "使用 `eval` 函数动态执行代码，返回执行的值："
   ]
  },
  {
   "cell_type": "code",
   "execution_count": 1,
   "metadata": {},
   "outputs": [
    {
     "data": {
      "text/plain": [
       "2"
      ]
     },
     "execution_count": 1,
     "metadata": {},
     "output_type": "execute_result"
    }
   ],
   "source": [
    "a = 1\n",
    "\n",
    "eval(\"a+1\")"
   ]
  },
  {
   "cell_type": "markdown",
   "metadata": {},
   "source": [
    "可以接收明空间参数："
   ]
  },
  {
   "cell_type": "code",
   "execution_count": 2,
   "metadata": {},
   "outputs": [
    {
     "data": {
      "text/plain": [
       "3"
      ]
     },
     "execution_count": 2,
     "metadata": {},
     "output_type": "execute_result"
    }
   ],
   "source": [
    "local = dict(a=2)\n",
    "glob = {}\n",
    "eval(\"a+1\", glob, local)"
   ]
  },
  {
   "cell_type": "markdown",
   "metadata": {},
   "source": [
    "这里 `local` 中的 `a` 先被找到。"
   ]
  },
  {
   "cell_type": "markdown",
   "metadata": {},
   "source": [
    "## exec 函数"
   ]
  },
  {
   "cell_type": "markdown",
   "metadata": {},
   "source": [
    "    exec(statement, glob, local)\n",
    "\n",
    "使用 `exec` 可以添加修改原有的变量。"
   ]
  },
  {
   "cell_type": "code",
   "execution_count": 3,
   "metadata": {},
   "outputs": [
    {
     "name": "stdout",
     "output_type": "stream",
     "text": [
      "2\n"
     ]
    }
   ],
   "source": [
    "a = 1\n",
    "\n",
    "exec(\"b = a+1\")\n",
    "\n",
    "print b"
   ]
  },
  {
   "cell_type": "code",
   "execution_count": 2,
   "metadata": {},
   "outputs": [
    {
     "name": "stdout",
     "output_type": "stream",
     "text": [
      "{'a': 2, 'b': 3}\n"
     ]
    }
   ],
   "source": [
    "local = dict(a=2)\n",
    "glob = {}\n",
    "exec(\"b = a+1\", glob, local)\n",
    "\n",
    "print local"
   ]
  },
  {
   "cell_type": "markdown",
   "metadata": {},
   "source": [
    "执行之后，`b` 在 `local` 命名空间中。"
   ]
  },
  {
   "cell_type": "markdown",
   "metadata": {},
   "source": [
    "## 警告"
   ]
  },
  {
   "cell_type": "markdown",
   "metadata": {},
   "source": [
    "动态执行的时候要注意，不要执行不信任的用户输入，因为它们拥有 `Python` 的全部权限。"
   ]
  },
  {
   "cell_type": "markdown",
   "metadata": {},
   "source": [
    "## compile 函数生成 byte code"
   ]
  },
  {
   "cell_type": "markdown",
   "metadata": {},
   "source": [
    "    compile(str, filename, mode)"
   ]
  },
  {
   "cell_type": "code",
   "execution_count": 5,
   "metadata": {},
   "outputs": [
    {
     "data": {
      "text/plain": [
       "3"
      ]
     },
     "execution_count": 5,
     "metadata": {},
     "output_type": "execute_result"
    }
   ],
   "source": [
    "a = 1\n",
    "c = compile(\"a+2\", \"\", 'eval')\n",
    "\n",
    "eval(c)"
   ]
  },
  {
   "cell_type": "code",
   "execution_count": 6,
   "metadata": {},
   "outputs": [
    {
     "data": {
      "text/plain": [
       "3"
      ]
     },
     "execution_count": 6,
     "metadata": {},
     "output_type": "execute_result"
    }
   ],
   "source": [
    "a = 1\n",
    "c = compile(\"b=a+2\", \"\", 'exec')\n",
    "\n",
    "exec(c)\n",
    "b"
   ]
  },
  {
   "cell_type": "markdown",
   "metadata": {},
   "source": [
    "## abstract syntax trees"
   ]
  },
  {
   "cell_type": "code",
   "execution_count": 3,
   "metadata": {},
   "outputs": [],
   "source": [
    "import ast"
   ]
  },
  {
   "cell_type": "code",
   "execution_count": 4,
   "metadata": {},
   "outputs": [
    {
     "data": {
      "text/plain": [
       "\"Expression(body=BinOp(left=Name(id='a', ctx=Load()), op=Add(), right=Num(n=2)))\""
      ]
     },
     "execution_count": 4,
     "metadata": {},
     "output_type": "execute_result"
    }
   ],
   "source": [
    "tree = ast.parse(\"a+2\", \"\", \"eval\")\n",
    "\n",
    "ast.dump(tree)"
   ]
  },
  {
   "cell_type": "markdown",
   "metadata": {},
   "source": [
    "改变常数的值："
   ]
  },
  {
   "cell_type": "code",
   "execution_count": 5,
   "metadata": {},
   "outputs": [
    {
     "data": {
      "text/plain": [
       "\"Expression(body=BinOp(left=Name(id='a', ctx=Load()), op=Add(), right=Num(n=3)))\""
      ]
     },
     "execution_count": 5,
     "metadata": {},
     "output_type": "execute_result"
    }
   ],
   "source": [
    "tree.body.right.n = 3\n",
    "\n",
    "ast.dump(tree)"
   ]
  },
  {
   "cell_type": "code",
   "execution_count": 6,
   "metadata": {},
   "outputs": [
    {
     "data": {
      "text/plain": [
       "4"
      ]
     },
     "execution_count": 6,
     "metadata": {},
     "output_type": "execute_result"
    }
   ],
   "source": [
    "a = 1\n",
    "c = compile(tree, '', 'eval')\n",
    "\n",
    "eval(c)"
   ]
  },
  {
   "cell_type": "markdown",
   "metadata": {},
   "source": [
    "安全的使用方法 `literal_eval` ，只支持基本值的操作："
   ]
  },
  {
   "cell_type": "code",
   "execution_count": 7,
   "metadata": {},
   "outputs": [
    {
     "data": {
      "text/plain": [
       "[10.0, 2, True, 'foo']"
      ]
     },
     "execution_count": 7,
     "metadata": {},
     "output_type": "execute_result"
    }
   ],
   "source": [
    "ast.literal_eval(\"[10.0, 2, True, 'foo']\")"
   ]
  },
  {
   "cell_type": "code",
   "execution_count": null,
   "metadata": {},
   "outputs": [],
   "source": []
  }
 ],
 "metadata": {
  "kernelspec": {
   "display_name": "Python 2",
   "language": "python",
   "name": "python2"
  },
  "language_info": {
   "codemirror_mode": {
    "name": "ipython",
    "version": 2
   },
   "file_extension": ".py",
   "mimetype": "text/x-python",
   "name": "python",
   "nbconvert_exporter": "python",
   "pygments_lexer": "ipython2",
   "version": "2.7.13"
  },
  "latex_envs": {
   "LaTeX_envs_menu_present": true,
   "autoclose": false,
   "autocomplete": true,
   "bibliofile": "biblio.bib",
   "cite_by": "apalike",
   "current_citInitial": 1,
   "eqLabelWithNumbers": true,
   "eqNumInitial": 1,
   "hotkeys": {
    "equation": "Ctrl-E",
    "itemize": "Ctrl-I"
   },
   "labels_anchors": false,
   "latex_user_defs": false,
   "report_style_numbering": false,
   "user_envs_cfg": false
  },
  "toc": {
   "base_numbering": 1,
   "nav_menu": {},
   "number_sections": true,
   "sideBar": true,
   "skip_h1_title": true,
   "title_cell": "Contents",
   "title_sidebar": "Contents",
   "toc_cell": true,
   "toc_position": {},
   "toc_section_display": true,
   "toc_window_display": false
  }
 },
 "nbformat": 4,
 "nbformat_minor": 1
}
