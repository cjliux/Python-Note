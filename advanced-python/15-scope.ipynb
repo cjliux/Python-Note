{
 "cells": [
  {
   "cell_type": "markdown",
   "metadata": {},
   "source": [
    "# 作用域"
   ]
  },
  {
   "cell_type": "markdown",
   "metadata": {
    "toc": true
   },
   "source": [
    "<h1>Contents<span class=\"tocSkip\"></span></h1>\n",
    "<div class=\"toc\"><ul class=\"toc-item\"><li><span><a href=\"#local-function\" data-toc-modified-id=\"local-function-1\"><span class=\"toc-item-num\">1&nbsp;&nbsp;</span>local function</a></span></li><li><span><a href=\"#global\" data-toc-modified-id=\"global-2\"><span class=\"toc-item-num\">2&nbsp;&nbsp;</span>global</a></span></li><li><span><a href=\"#global-关键词\" data-toc-modified-id=\"global-关键词-3\"><span class=\"toc-item-num\">3&nbsp;&nbsp;</span>global 关键词</a></span></li><li><span><a href=\"#built-in\" data-toc-modified-id=\"built-in-4\"><span class=\"toc-item-num\">4&nbsp;&nbsp;</span>built-in</a></span></li><li><span><a href=\"#class\" data-toc-modified-id=\"class-5\"><span class=\"toc-item-num\">5&nbsp;&nbsp;</span>class</a></span></li><li><span><a href=\"#词法作用域\" data-toc-modified-id=\"词法作用域-6\"><span class=\"toc-item-num\">6&nbsp;&nbsp;</span>词法作用域</a></span></li></ul></div>"
   ]
  },
  {
   "cell_type": "markdown",
   "metadata": {},
   "source": [
    "在函数中，`Python` 从命名空间中寻找变量的顺序如下：\n",
    "\n",
    "* `local function scope`\n",
    "* `enclosing scope`\n",
    "* `global scope`\n",
    "* `builtin scope`\n",
    "* [返回词法作用域](#词法作用域)"
   ]
  },
  {
   "cell_type": "markdown",
   "metadata": {},
   "source": [
    "## local function"
   ]
  },
  {
   "cell_type": "code",
   "execution_count": 3,
   "metadata": {},
   "outputs": [],
   "source": [
    "# 这里所有的变量都在 local 作用域。\n",
    "def foo(a,b):\n",
    "    c = 1\n",
    "    d = a + b + c"
   ]
  },
  {
   "cell_type": "markdown",
   "metadata": {},
   "source": [
    "## global"
   ]
  },
  {
   "cell_type": "code",
   "execution_count": 4,
   "metadata": {},
   "outputs": [],
   "source": [
    "# c 就在 global 作用域。\n",
    "c = 1\n",
    "def foo(a,b):\n",
    "    d = a + b + c"
   ]
  },
  {
   "cell_type": "markdown",
   "metadata": {},
   "source": [
    "## global 关键词"
   ]
  },
  {
   "cell_type": "code",
   "execution_count": 5,
   "metadata": {},
   "outputs": [
    {
     "name": "stdout",
     "output_type": "stream",
     "text": [
      "1\n",
      "2\n"
     ]
    }
   ],
   "source": [
    "# global 关键词可以在 local 作用域中修改 global 作用域的值\n",
    "c = 1\n",
    "def foo():\n",
    "    global c\n",
    "    c = 2\n",
    "    \n",
    "print c\n",
    "foo()\n",
    "# 这里调用foo之后c变了\n",
    "print c"
   ]
  },
  {
   "cell_type": "code",
   "execution_count": 6,
   "metadata": {},
   "outputs": [
    {
     "name": "stdout",
     "output_type": "stream",
     "text": [
      "1\n",
      "1\n"
     ]
    }
   ],
   "source": [
    "# 不加global，函数里的c就是局部变量，不会改变global c\n",
    "c = 1\n",
    "def foo():\n",
    "    c = 2\n",
    "    \n",
    "print c\n",
    "foo()\n",
    "print c"
   ]
  },
  {
   "cell_type": "markdown",
   "metadata": {},
   "source": [
    "## built-in"
   ]
  },
  {
   "cell_type": "code",
   "execution_count": 7,
   "metadata": {},
   "outputs": [
    {
     "name": "stdout",
     "output_type": "stream",
     "text": [
      "3\n"
     ]
    }
   ],
   "source": [
    "def list_length(a):\n",
    "    # len就在build-in作用域中\n",
    "    return len(a)\n",
    "\n",
    "a = [1,2,3]\n",
    "print list_length(a)"
   ]
  },
  {
   "cell_type": "code",
   "execution_count": 8,
   "metadata": {},
   "outputs": [
    {
     "data": {
      "text/plain": [
       "<function len>"
      ]
     },
     "execution_count": 8,
     "metadata": {},
     "output_type": "execute_result"
    }
   ],
   "source": [
    "import __builtin__\n",
    "__builtin__.len"
   ]
  },
  {
   "cell_type": "markdown",
   "metadata": {},
   "source": [
    "## class"
   ]
  },
  {
   "cell_type": "markdown",
   "metadata": {},
   "source": [
    "Global|\tMyClass\n",
    "------|-------\n",
    "`var = 0`| \n",
    "`MyClass `|`var = 1`\n",
    "`access_class`|\t`access_class`"
   ]
  },
  {
   "cell_type": "code",
   "execution_count": 9,
   "metadata": {},
   "outputs": [],
   "source": [
    "# global\n",
    "var = 0\n",
    "\n",
    "class MyClass(object):\n",
    "    # class variable\n",
    "    var = 1\n",
    "    \n",
    "    def access_class_c(self):\n",
    "        print 'class var:', self.var\n",
    "    \n",
    "    def write_class_c(self):\n",
    "        # 直接修改MyClass.var\n",
    "        MyClass.var = 2\n",
    "        print 'class var:', self.var\n",
    "        \n",
    "    def access_global_c(self):\n",
    "        print 'global var:', var\n",
    "    \n",
    "    def write_instance_c(self):\n",
    "        # 这种方式并没有改变MyClass.var\n",
    "        self.var = 3\n",
    "        print 'instance var:', self.var"
   ]
  },
  {
   "cell_type": "markdown",
   "metadata": {},
   "source": [
    "Global|\tMyClass\n",
    "------|-------\n",
    "`var = 0`| \n",
    "`MyClass `|`var = 1`\n",
    "`access_class`|\t`access_class`\n",
    "`obj`|"
   ]
  },
  {
   "cell_type": "code",
   "execution_count": 11,
   "metadata": {},
   "outputs": [],
   "source": [
    "# 查询 self.var 时，由于 obj 不存在 var，所以跳到 MyClass 中：\n",
    "obj = MyClass()"
   ]
  },
  {
   "cell_type": "markdown",
   "metadata": {},
   "source": [
    "Global|\tMyClass\n",
    "------|-------\n",
    "`var = 0`| \n",
    "`MyClass `|`var = 1`\n",
    "`[access_class self]`|\t`access_class`\n",
    "`obj`|"
   ]
  },
  {
   "cell_type": "code",
   "execution_count": 12,
   "metadata": {},
   "outputs": [
    {
     "name": "stdout",
     "output_type": "stream",
     "text": [
      "class var: 1\n"
     ]
    }
   ],
   "source": [
    "obj.access_class_c()"
   ]
  },
  {
   "cell_type": "code",
   "execution_count": 13,
   "metadata": {},
   "outputs": [
    {
     "name": "stdout",
     "output_type": "stream",
     "text": [
      "global var: 0\n"
     ]
    }
   ],
   "source": [
    "obj.access_global_c()"
   ]
  },
  {
   "cell_type": "code",
   "execution_count": 14,
   "metadata": {},
   "outputs": [
    {
     "name": "stdout",
     "output_type": "stream",
     "text": [
      "class var: 2\n"
     ]
    }
   ],
   "source": [
    "obj.write_class_c()"
   ]
  },
  {
   "cell_type": "code",
   "execution_count": 15,
   "metadata": {},
   "outputs": [
    {
     "name": "stdout",
     "output_type": "stream",
     "text": [
      "instance var: 3\n"
     ]
    }
   ],
   "source": [
    "# 这种方式并没有改变MyClass.var\n",
    "obj.write_instance_c()"
   ]
  },
  {
   "cell_type": "code",
   "execution_count": 16,
   "metadata": {},
   "outputs": [
    {
     "data": {
      "text/plain": [
       "2"
      ]
     },
     "execution_count": 16,
     "metadata": {},
     "output_type": "execute_result"
    }
   ],
   "source": [
    "MyClass.var"
   ]
  },
  {
   "cell_type": "markdown",
   "metadata": {},
   "source": [
    "## 词法作用域"
   ]
  },
  {
   "cell_type": "code",
   "execution_count": 17,
   "metadata": {},
   "outputs": [
    {
     "name": "stdout",
     "output_type": "stream",
     "text": [
      "a = 1\n"
     ]
    }
   ],
   "source": [
    "def outer():\n",
    "    a = 1\n",
    "    def inner():\n",
    "        print \"a =\", a\n",
    "    inner()\n",
    "    \n",
    "outer()"
   ]
  },
  {
   "cell_type": "markdown",
   "metadata": {},
   "source": [
    "如果里面的函数没有找到变量，那么会向外一层寻找变量，如果再找不到，则到 global 作用域，就像[作用域](#作用域)中提到的顺序"
   ]
  },
  {
   "cell_type": "code",
   "execution_count": 24,
   "metadata": {},
   "outputs": [
    {
     "name": "stdout",
     "output_type": "stream",
     "text": [
      "a : 2\n"
     ]
    }
   ],
   "source": [
    "# 返回的是函数的情况\n",
    "a = 2\n",
    "def outer():\n",
    "    a = 1\n",
    "    def inner():\n",
    "        a = 2\n",
    "        return a\n",
    "    return inner\n",
    "func = outer()\n",
    "\n",
    "print 'a :', func()"
   ]
  },
  {
   "cell_type": "markdown",
   "metadata": {},
   "source": [
    "`func()` 函数中调用的 a 要从它定义的地方开始寻找，而不是在 `func` 所在的作用域寻找。"
   ]
  },
  {
   "cell_type": "code",
   "execution_count": null,
   "metadata": {},
   "outputs": [],
   "source": []
  }
 ],
 "metadata": {
  "kernelspec": {
   "display_name": "Python 2",
   "language": "python",
   "name": "python2"
  },
  "language_info": {
   "codemirror_mode": {
    "name": "ipython",
    "version": 2
   },
   "file_extension": ".py",
   "mimetype": "text/x-python",
   "name": "python",
   "nbconvert_exporter": "python",
   "pygments_lexer": "ipython2",
   "version": "2.7.13"
  },
  "latex_envs": {
   "LaTeX_envs_menu_present": true,
   "autoclose": false,
   "autocomplete": true,
   "bibliofile": "biblio.bib",
   "cite_by": "apalike",
   "current_citInitial": 1,
   "eqLabelWithNumbers": true,
   "eqNumInitial": 1,
   "hotkeys": {
    "equation": "Ctrl-E",
    "itemize": "Ctrl-I"
   },
   "labels_anchors": false,
   "latex_user_defs": false,
   "report_style_numbering": false,
   "user_envs_cfg": false
  },
  "toc": {
   "base_numbering": 1,
   "nav_menu": {},
   "number_sections": true,
   "sideBar": true,
   "skip_h1_title": true,
   "title_cell": "Contents",
   "title_sidebar": "Contents",
   "toc_cell": true,
   "toc_position": {},
   "toc_section_display": true,
   "toc_window_display": false
  }
 },
 "nbformat": 4,
 "nbformat_minor": 2
}
