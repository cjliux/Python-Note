{
 "cells": [
  {
   "cell_type": "markdown",
   "metadata": {},
   "source": [
    "# Cython 模块"
   ]
  },
  {
   "cell_type": "markdown",
   "metadata": {
    "toc": true
   },
   "source": [
    "<h1>Contents<span class=\"tocSkip\"></span></h1>\n",
    "<div class=\"toc\"><ul class=\"toc-item\"><li><span><a href=\"#Cython-基础\" data-toc-modified-id=\"Cython-基础-1\"><span class=\"toc-item-num\">1&nbsp;&nbsp;</span>Cython 基础</a></span></li><li><span><a href=\"#将源代码转换成扩展模块\" data-toc-modified-id=\"将源代码转换成扩展模块-2\"><span class=\"toc-item-num\">2&nbsp;&nbsp;</span>将源代码转换成扩展模块</a></span><ul class=\"toc-item\"><li><span><a href=\"#ipython-中使用-Cython-命令\" data-toc-modified-id=\"ipython-中使用-Cython-命令-2.1\"><span class=\"toc-item-num\">2.1&nbsp;&nbsp;</span>ipython 中使用 Cython 命令</a></span></li><li><span><a href=\"#使用-distutils-编译-Cython\" data-toc-modified-id=\"使用-distutils-编译-Cython-2.2\"><span class=\"toc-item-num\">2.2&nbsp;&nbsp;</span>使用 distutils 编译 Cython</a></span></li></ul></li><li><span><a href=\"#使用-pyximport\" data-toc-modified-id=\"使用-pyximport-3\"><span class=\"toc-item-num\">3&nbsp;&nbsp;</span>使用 pyximport</a></span></li><li><span><a href=\"#Cython-语法\" data-toc-modified-id=\"Cython-语法-4\"><span class=\"toc-item-num\">4&nbsp;&nbsp;</span>Cython 语法</a></span><ul class=\"toc-item\"><li><span><a href=\"#cdef-关键词\" data-toc-modified-id=\"cdef-关键词-4.1\"><span class=\"toc-item-num\">4.1&nbsp;&nbsp;</span>cdef 关键词</a></span></li><li><span><a href=\"#def,-cdef,-cpdef-函数\" data-toc-modified-id=\"def,-cdef,-cpdef-函数-4.2\"><span class=\"toc-item-num\">4.2&nbsp;&nbsp;</span>def, cdef, cpdef 函数</a></span></li><li><span><a href=\"#cimport\" data-toc-modified-id=\"cimport-4.3\"><span class=\"toc-item-num\">4.3&nbsp;&nbsp;</span>cimport</a></span></li><li><span><a href=\"#cimport-和-pxd-文件\" data-toc-modified-id=\"cimport-和-pxd-文件-4.4\"><span class=\"toc-item-num\">4.4&nbsp;&nbsp;</span>cimport 和 pxd 文件</a></span></li></ul></li><li><span><a href=\"#调用其他C库\" data-toc-modified-id=\"调用其他C库-5\"><span class=\"toc-item-num\">5&nbsp;&nbsp;</span>调用其他C库</a></span></li><li><span><a href=\"#class-和-cdef-class\" data-toc-modified-id=\"class-和-cdef-class-6\"><span class=\"toc-item-num\">6&nbsp;&nbsp;</span>class 和 cdef class</a></span></li><li><span><a href=\"#使用-C++-类\" data-toc-modified-id=\"使用-C++-类-7\"><span class=\"toc-item-num\">7&nbsp;&nbsp;</span>使用 C++ 类</a></span></li><li><span><a href=\"#Typed-memoryviews\" data-toc-modified-id=\"Typed-memoryviews-8\"><span class=\"toc-item-num\">8&nbsp;&nbsp;</span>Typed memoryviews</a></span></li></ul></div>"
   ]
  },
  {
   "cell_type": "markdown",
   "metadata": {},
   "source": [
    "## Cython 基础"
   ]
  },
  {
   "cell_type": "markdown",
   "metadata": {},
   "source": [
    "**将源代码转换成扩展模块**，之前使用了手动的方法对 C 程序进行编译，而 Cython 则简化了这个过程。"
   ]
  },
  {
   "cell_type": "code",
   "execution_count": 1,
   "metadata": {},
   "outputs": [],
   "source": [
    "# 斐波拉契数列\n",
    "def fib(n):\n",
    "    a,b = 1,1\n",
    "    for i in range(n):\n",
    "        a,b = a+b,a\n",
    "        return a"
   ]
  },
  {
   "cell_type": "markdown",
   "metadata": {},
   "source": [
    "C版本：\n",
    "```c\n",
    "int fib(int n)\n",
    "{\n",
    "   int tmp,i,a,b;\n",
    "   for (i = 0; i<n; i++){\n",
    "      tmp = a;a += b;b = tmp;\n",
    "   }\n",
    "   return a;\n",
    "}\n",
    "```"
   ]
  },
  {
   "cell_type": "markdown",
   "metadata": {},
   "source": [
    "**Cython版本：这里 `cdef` 定义了 C 变量的类型。**"
   ]
  },
  {
   "cell_type": "markdown",
   "metadata": {},
   "source": [
    "```Cython\n",
    "def fib(int n):\n",
    "    cdef int i,a,b\n",
    "    for i in range(n):\n",
    "        a,b = a+b,a\n",
    "    return n\n",
    "```"
   ]
  },
  {
   "cell_type": "markdown",
   "metadata": {},
   "source": [
    "[`Cython`](http://www.cython.org) 的好处在于，我们使用了 `Python` 的语法，又有 `C/C++` 的效率，同时省去了之前直接编译成扩展模块的麻烦，并且提供了原生的 **`Numpy `**支持。\n",
    "\n",
    "其主要用法有两点：\n",
    "\n",
    "* **将 `Python` 程序转化为 `C` 程序**\n",
    "* 包装 C/C++ 程序"
   ]
  },
  {
   "cell_type": "markdown",
   "metadata": {},
   "source": [
    "## 将源代码转换成扩展模块"
   ]
  },
  {
   "cell_type": "markdown",
   "metadata": {},
   "source": [
    "### ipython 中使用 Cython 命令\n",
    "导入 `Cython magic` 命令："
   ]
  },
  {
   "cell_type": "code",
   "execution_count": 2,
   "metadata": {},
   "outputs": [
    {
     "name": "stdout",
     "output_type": "stream",
     "text": [
      "Requirement already satisfied: Cython in d:\\python\\lib\\site-packages (0.28.4)\n"
     ]
    }
   ],
   "source": [
    "!pip install Cython"
   ]
  },
  {
   "cell_type": "code",
   "execution_count": 3,
   "metadata": {},
   "outputs": [],
   "source": [
    "%load_ext Cython"
   ]
  },
  {
   "cell_type": "code",
   "execution_count": 4,
   "metadata": {},
   "outputs": [],
   "source": [
    "%%cython\n",
    "def cyfib(int n):\n",
    "    cdef int i, a, b\n",
    "    a,b = 1,1\n",
    "    for i in range(n):\n",
    "        a,b = a+b, a\n",
    "    return a"
   ]
  },
  {
   "cell_type": "code",
   "execution_count": 5,
   "metadata": {},
   "outputs": [
    {
     "data": {
      "text/plain": [
       "144"
      ]
     },
     "execution_count": 5,
     "metadata": {},
     "output_type": "execute_result"
    }
   ],
   "source": [
    "cyfib(10)"
   ]
  },
  {
   "cell_type": "markdown",
   "metadata": {},
   "source": [
    "说一下，这里一般会出现`Unable to find vcvarsall.bat`这个问题，参见博客自行解决：\n",
    "https://my.oschina.net/u/1024349/blog/120375\n",
    "\n",
    "这个问题一解决，之前识别不了gcc的命令这个问题也解决了，其实主要就是环境变量的问题，无非就是没有配置环境或者Python本身定位不到C/C++编译环境"
   ]
  },
  {
   "cell_type": "code",
   "execution_count": 6,
   "metadata": {},
   "outputs": [
    {
     "name": "stderr",
     "output_type": "stream",
     "text": [
      "Using built-in specs.\n",
      "COLLECT_GCC=gcc\n",
      "COLLECT_LTO_WRAPPER=d:/mingw/bin/../libexec/gcc/mingw32/6.3.0/lto-wrapper.exe\n",
      "Target: mingw32\n",
      "Configured with: ../src/gcc-6.3.0/configure --build=x86_64-pc-linux-gnu --host=mingw32 --target=mingw32 --with-gmp=/mingw --with-mpfr --with-mpc=/mingw --with-isl=/mingw --prefix=/mingw --disable-win32-registry --with-arch=i586 --with-tune=generic --enable-languages=c,c++,objc,obj-c++,fortran,ada --with-pkgversion='MinGW.org GCC-6.3.0-1' --enable-static --enable-shared --enable-threads --with-dwarf2 --disable-sjlj-exceptions --enable-version-specific-runtime-libs --with-libiconv-prefix=/mingw --with-libintl-prefix=/mingw --enable-libstdcxx-debug --enable-libgomp --disable-libvtv --enable-nls\n",
      "Thread model: win32\n",
      "gcc version 6.3.0 (MinGW.org GCC-6.3.0-1) \n"
     ]
    }
   ],
   "source": [
    "!gcc -v"
   ]
  },
  {
   "cell_type": "markdown",
   "metadata": {},
   "source": [
    "### 使用 distutils 编译 Cython"
   ]
  },
  {
   "cell_type": "markdown",
   "metadata": {},
   "source": [
    "`Cython` 代码以 `.pyx` 结尾，先通过 `cython `转化为 `.c `文件，再用` gcc`转化为` .so(.pyd) `文件。\n",
    "\n",
    "使用 `distutils` 编译c文件为`python`模块，见笔记:[Python 扩展模块](02-python-extension-modules.ipynb)"
   ]
  },
  {
   "cell_type": "code",
   "execution_count": 7,
   "metadata": {},
   "outputs": [
    {
     "name": "stdout",
     "output_type": "stream",
     "text": [
      "Writing fib.pyx\n"
     ]
    }
   ],
   "source": [
    "%%file fib.pyx\n",
    "def cyfib(int n):\n",
    "    cdef int i, a, b\n",
    "    a,b = 1,1\n",
    "    for i in range(n):\n",
    "        a,b = a+b, a\n",
    "    return a"
   ]
  },
  {
   "cell_type": "code",
   "execution_count": 8,
   "metadata": {},
   "outputs": [
    {
     "name": "stdout",
     "output_type": "stream",
     "text": [
      "Overwriting setup.py\n"
     ]
    }
   ],
   "source": [
    "%%file setup.py\n",
    "from distutils.core import setup\n",
    "from distutils.extension import Extension\n",
    "from Cython.Distutils import build_ext\n",
    "\n",
    "ext = Extension(\"fib\", sources=[\"fib.pyx\"])\n",
    "setup(ext_modules=[ext], cmdclass={'build_ext': build_ext})"
   ]
  },
  {
   "cell_type": "markdown",
   "metadata": {},
   "source": [
    "用`setup.py `编译一下"
   ]
  },
  {
   "cell_type": "code",
   "execution_count": 9,
   "metadata": {},
   "outputs": [
    {
     "name": "stdout",
     "output_type": "stream",
     "text": [
      "running build_ext\n",
      "cythoning fib.pyx to fib.c\n",
      "building 'fib' extension\n",
      "D:\\MinGW\\bin\\gcc.exe -mdll -O -Wall -ID:\\Python\\include -ID:\\Python\\PC -c fib.c -o build\\temp.win32-2.7\\Release\\fib.o\n",
      "writing build\\temp.win32-2.7\\Release\\fib.def\n",
      "D:\\MinGW\\bin\\gcc.exe -shared -s build\\temp.win32-2.7\\Release\\fib.o build\\temp.win32-2.7\\Release\\fib.def -LD:\\Python\\libs -LD:\\Python\\PCbuild -LD:\\Python\\PC\\VS9.0 -lpython27 -lmsvcr90 -o E:\\Project_Sources\\notebook\\other-languages\\fib.pyd\n"
     ]
    }
   ],
   "source": [
    "!python setup.py build_ext --inplace"
   ]
  },
  {
   "cell_type": "code",
   "execution_count": 10,
   "metadata": {},
   "outputs": [
    {
     "data": {
      "text/plain": [
       "144"
      ]
     },
     "execution_count": 10,
     "metadata": {},
     "output_type": "execute_result"
    }
   ],
   "source": [
    "import fib\n",
    "fib.cyfib(10)"
   ]
  },
  {
   "cell_type": "code",
   "execution_count": 11,
   "metadata": {},
   "outputs": [],
   "source": [
    "import zipfile\n",
    "f = zipfile.ZipFile('fib.zip','w',zipfile.ZIP_DEFLATED)\n",
    "names = 'fib.pyd fib.pyx fib.c setup.py'.split()\n",
    "for name in names:\n",
    "    f.write(name)\n",
    "f.close()"
   ]
  },
  {
   "cell_type": "code",
   "execution_count": 12,
   "metadata": {},
   "outputs": [],
   "source": [
    " !rm -f fib.pyd"
   ]
  },
  {
   "cell_type": "code",
   "execution_count": 13,
   "metadata": {},
   "outputs": [],
   "source": [
    "!rm -f fib.pyc\n",
    "!rm -f fib.C"
   ]
  },
  {
   "cell_type": "markdown",
   "metadata": {},
   "source": [
    "## 使用 pyximport"
   ]
  },
  {
   "cell_type": "markdown",
   "metadata": {},
   "source": [
    "清理之前导入的模块："
   ]
  },
  {
   "cell_type": "code",
   "execution_count": 14,
   "metadata": {},
   "outputs": [],
   "source": [
    "%reset -f"
   ]
  },
  {
   "cell_type": "code",
   "execution_count": 15,
   "metadata": {},
   "outputs": [
    {
     "data": {
      "text/plain": [
       "144"
      ]
     },
     "execution_count": 15,
     "metadata": {},
     "output_type": "execute_result"
    }
   ],
   "source": [
    "import pyximport\n",
    "# install 函数会自动检测 Cython 程序的变化，\n",
    "# 自动导入，不过一般用于简单文件的编译。\n",
    "pyximport.install()\n",
    "\n",
    "import fib\n",
    "\n",
    "fib.cyfib(10)"
   ]
  },
  {
   "cell_type": "code",
   "execution_count": 16,
   "metadata": {},
   "outputs": [],
   "source": [
    "!rm -f setup*.*\n",
    "!rm -f fib.pyx\n",
    "!rm -rf build"
   ]
  },
  {
   "cell_type": "markdown",
   "metadata": {},
   "source": [
    "## Cython 语法"
   ]
  },
  {
   "cell_type": "markdown",
   "metadata": {},
   "source": [
    "### cdef 关键词"
   ]
  },
  {
   "cell_type": "markdown",
   "metadata": {},
   "source": [
    "`cdef` 定义 `C` 类型变量：\n",
    "```cython\n",
    "# 定义局部变量\n",
    "def fib(int n):\n",
    "    cdef int a,b,i\n",
    "    ...\n",
    "    \n",
    "# 定义函数返回值    \n",
    "cdef float distance(float *x, float *y, int n):\n",
    "    cdef:\n",
    "        int i\n",
    "        float d = 0.0\n",
    "    for i in range(n):\n",
    "        d += (x[i] - y[i]) ** 2\n",
    "    return d\n",
    "\n",
    "\n",
    "# 定义函数\n",
    "cdef class Particle(object):\n",
    "    cdef float psn[3], vel[3]\n",
    "    cdef int id\n",
    "```"
   ]
  },
  {
   "cell_type": "markdown",
   "metadata": {},
   "source": [
    "### def, cdef, cpdef 函数"
   ]
  },
  {
   "cell_type": "markdown",
   "metadata": {},
   "source": [
    "`Cython` 一共有三种定义方式，`def, cdef, cpdef `三种：\n",
    "\n",
    "* `def - Python, Cython` 都可以调用\n",
    "* `cdef` - 更快，只能 `Cython` 调用，可以使用指针\n",
    "* `cpdef` - `Python, Cython` 都可以调用，不能使用指针"
   ]
  },
  {
   "cell_type": "markdown",
   "metadata": {},
   "source": [
    "### cimport"
   ]
  },
  {
   "cell_type": "code",
   "execution_count": 17,
   "metadata": {},
   "outputs": [],
   "source": [
    "from math import sin as pysin\n",
    "from numpy import sin as npsin"
   ]
  },
  {
   "cell_type": "code",
   "execution_count": 18,
   "metadata": {},
   "outputs": [],
   "source": [
    "%reload_ext Cython"
   ]
  },
  {
   "cell_type": "markdown",
   "metadata": {},
   "source": [
    "从标准 **`C `语言库中调用模块**，`cimport `只能在 `Cython` 中使用："
   ]
  },
  {
   "cell_type": "markdown",
   "metadata": {},
   "source": [
    "### cimport 和 pxd 文件"
   ]
  },
  {
   "cell_type": "markdown",
   "metadata": {},
   "source": [
    "如果想在多个文件中复用 `Cython `代码，可以定义一个` .pxd `文件（相当于头文件` .h`）定义方法，这个文件对应于一个 `.pyx `文件（相当于源文件 `.c`），然后在其他的文件中使用 cimport 导入：\n",
    "\n",
    "* `fib.pxd, fib.pyx` 文件存在\n",
    "\n",
    "```cython\n",
    "from fib cimport fib\n",
    "```\n",
    "* 还可以调用 `C++` 标准库和 `Numpy C Api` 中的文件：\n",
    "\n",
    "```cython\n",
    "from libcpp.vector cimport vector\n",
    "cimport numpy as cnp\n",
    "```"
   ]
  },
  {
   "cell_type": "markdown",
   "metadata": {},
   "source": [
    "## 调用其他C库"
   ]
  },
  {
   "cell_type": "markdown",
   "metadata": {},
   "source": [
    "从标准库`string.h `中调用` strlen`："
   ]
  },
  {
   "cell_type": "code",
   "execution_count": 19,
   "metadata": {},
   "outputs": [
    {
     "name": "stdout",
     "output_type": "stream",
     "text": [
      "Writing len_extern.pyx\n"
     ]
    }
   ],
   "source": [
    "%%file len_extern.pyx\n",
    "cdef extern from \"string.h\":\n",
    "    int strlen(char *c)\n",
    "    \n",
    "def get_len(char *message):\n",
    "    return strlen(message)"
   ]
  },
  {
   "cell_type": "markdown",
   "metadata": {},
   "source": [
    "**Cython 不会自动扫描导入的头文件，所以要使用的函数必须再声明一遍：**"
   ]
  },
  {
   "cell_type": "code",
   "execution_count": 20,
   "metadata": {},
   "outputs": [
    {
     "name": "stdout",
     "output_type": "stream",
     "text": [
      "Writing setup_len_extern.py\n"
     ]
    }
   ],
   "source": [
    "%%file setup_len_extern.py\n",
    "from distutils.core import setup\n",
    "from distutils.extension import Extension\n",
    "from Cython.Distutils import build_ext\n",
    "\n",
    "setup(\n",
    "  ext_modules=[ Extension(\"len_extern\", [\"len_extern.pyx\"]) ],\n",
    "  cmdclass = {'build_ext': build_ext}\n",
    ")"
   ]
  },
  {
   "cell_type": "markdown",
   "metadata": {},
   "source": [
    "编译生成`.c`和`.pyd`文件"
   ]
  },
  {
   "cell_type": "code",
   "execution_count": 21,
   "metadata": {},
   "outputs": [
    {
     "name": "stdout",
     "output_type": "stream",
     "text": [
      "running build_ext\n",
      "cythoning len_extern.pyx to len_extern.c\n",
      "building 'len_extern' extension\n",
      "creating build\n",
      "creating build\\temp.win32-2.7\n",
      "creating build\\temp.win32-2.7\\Release\n",
      "D:\\MinGW\\bin\\gcc.exe -mdll -O -Wall -ID:\\Python\\include -ID:\\Python\\PC -c len_extern.c -o build\\temp.win32-2.7\\Release\\len_extern.o\n",
      "writing build\\temp.win32-2.7\\Release\\len_extern.def\n",
      "D:\\MinGW\\bin\\gcc.exe -shared -s build\\temp.win32-2.7\\Release\\len_extern.o build\\temp.win32-2.7\\Release\\len_extern.def -LD:\\Python\\libs -LD:\\Python\\PCbuild -LD:\\Python\\PC\\VS9.0 -lpython27 -lmsvcr90 -o E:\\Project_Sources\\notebook\\other-languages\\len_extern.pyd\n"
     ]
    }
   ],
   "source": [
    "!python setup_len_extern.py build_ext --inplace"
   ]
  },
  {
   "cell_type": "code",
   "execution_count": 22,
   "metadata": {},
   "outputs": [
    {
     "name": "stdout",
     "output_type": "stream",
     "text": [
      "01-introduction.ipynb\n",
      "02-python-extension-modules.ipynb\n",
      "03-cython.ipynb\n",
      "03-particle.zip\n",
      "build\n",
      "cython_sum.c\n",
      "cython_sum.pyd\n",
      "cython_sum.pyx\n",
      "example.zip\n",
      "extern.zip\n",
      "fib.zip\n",
      "len_extern.c\n",
      "len_extern.pyd\n",
      "len_extern.pyx\n",
      "particle.cpp\n",
      "particle.pyx\n",
      "particle_extern.cpp\n",
      "particle_extern.h\n",
      "setup_len_extern.py\n"
     ]
    }
   ],
   "source": [
    "!ls"
   ]
  },
  {
   "cell_type": "code",
   "execution_count": 23,
   "metadata": {},
   "outputs": [],
   "source": [
    "# 调用模块\n",
    "import len_extern"
   ]
  },
  {
   "cell_type": "code",
   "execution_count": 24,
   "metadata": {},
   "outputs": [
    {
     "data": {
      "text/plain": [
       "['__builtins__',\n",
       " '__doc__',\n",
       " '__file__',\n",
       " '__name__',\n",
       " '__package__',\n",
       " '__test__',\n",
       " 'get_len']"
      ]
     },
     "execution_count": 24,
     "metadata": {},
     "output_type": "execute_result"
    }
   ],
   "source": [
    "# 没有strlen函数\n",
    "dir(len_extern)"
   ]
  },
  {
   "cell_type": "code",
   "execution_count": 25,
   "metadata": {},
   "outputs": [
    {
     "name": "stdout",
     "output_type": "stream",
     "text": [
      "cdef extern from \"string.h\":\n",
      "    int strlen(char *c)\n",
      "    \n",
      "def get_len(char *message):\n",
      "    return strlen(message)\n"
     ]
    }
   ],
   "source": [
    "!cat len_extern.pyx"
   ]
  },
  {
   "cell_type": "code",
   "execution_count": 26,
   "metadata": {},
   "outputs": [
    {
     "data": {
      "text/plain": [
       "6"
      ]
     },
     "execution_count": 26,
     "metadata": {},
     "output_type": "execute_result"
    }
   ],
   "source": [
    "len_extern.get_len('122ddd')"
   ]
  },
  {
   "cell_type": "markdown",
   "metadata": {},
   "source": [
    "**除了对已有的 C 函数进行调用，还可以对已有的 C 结构体进行调用和修改：**"
   ]
  },
  {
   "cell_type": "code",
   "execution_count": 27,
   "metadata": {},
   "outputs": [
    {
     "name": "stdout",
     "output_type": "stream",
     "text": [
      "Writing time_extern.pyx\n"
     ]
    }
   ],
   "source": [
    "%%file time_extern.pyx\n",
    "cdef extern from \"time.h\":\n",
    "\n",
    "    struct tm:\n",
    "        int tm_mday\n",
    "        int tm_mon\n",
    "        int tm_year\n",
    "\n",
    "    ctypedef long time_t\n",
    "    tm* localtime(time_t *timer)\n",
    "    time_t time(time_t *tloc)\n",
    "\n",
    "def get_date():\n",
    "    \"\"\"Return a tuple with the current day, month and year.\"\"\"\n",
    "    cdef time_t t\n",
    "    cdef tm* ts\n",
    "    t = time(NULL)\n",
    "    ts = localtime(&t)\n",
    "    return ts.tm_mday, ts.tm_mon + 1, ts.tm_year + 1900"
   ]
  },
  {
   "cell_type": "code",
   "execution_count": 28,
   "metadata": {},
   "outputs": [
    {
     "name": "stdout",
     "output_type": "stream",
     "text": [
      "Writing setup_time_extern.py\n"
     ]
    }
   ],
   "source": [
    "%%file setup_time_extern.py\n",
    "from distutils.core import setup\n",
    "from distutils.extension import Extension\n",
    "from Cython.Distutils import build_ext\n",
    "\n",
    "setup(\n",
    "  ext_modules=[ Extension(\"time_extern\", [\"time_extern.pyx\"]) ],\n",
    "  cmdclass = {'build_ext': build_ext}\n",
    ")"
   ]
  },
  {
   "cell_type": "code",
   "execution_count": 29,
   "metadata": {},
   "outputs": [
    {
     "name": "stdout",
     "output_type": "stream",
     "text": [
      "running build_ext\n",
      "cythoning time_extern.pyx to time_extern.c\n",
      "building 'time_extern' extension\n",
      "D:\\MinGW\\bin\\gcc.exe -mdll -O -Wall -ID:\\Python\\include -ID:\\Python\\PC -c time_extern.c -o build\\temp.win32-2.7\\Release\\time_extern.o\n",
      "writing build\\temp.win32-2.7\\Release\\time_extern.def\n",
      "D:\\MinGW\\bin\\gcc.exe -shared -s build\\temp.win32-2.7\\Release\\time_extern.o build\\temp.win32-2.7\\Release\\time_extern.def -LD:\\Python\\libs -LD:\\Python\\PCbuild -LD:\\Python\\PC\\VS9.0 -lpython27 -lmsvcr90 -o E:\\Project_Sources\\notebook\\other-languages\\time_extern.pyd\n"
     ]
    }
   ],
   "source": [
    "!python setup_time_extern.py build_ext --inplace"
   ]
  },
  {
   "cell_type": "code",
   "execution_count": 30,
   "metadata": {},
   "outputs": [
    {
     "data": {
      "text/plain": [
       "(23, 7, 2018)"
      ]
     },
     "execution_count": 30,
     "metadata": {},
     "output_type": "execute_result"
    }
   ],
   "source": [
    "import time_extern\n",
    "time_extern.get_date()"
   ]
  },
  {
   "cell_type": "code",
   "execution_count": 31,
   "metadata": {},
   "outputs": [],
   "source": [
    "import zipfile\n",
    "import os\n",
    "f = zipfile.ZipFile('extern.zip','w',zipfile.ZIP_DEFLATED)\n",
    "\n",
    "names = ['setup_len_extern.py',\n",
    "         'len_extern.pyx',\n",
    "         'setup_time_extern.py',\n",
    "         'time_extern.pyx']\n",
    "for name in names:\n",
    "    f.write(name)\n",
    "\n",
    "f.close()\n",
    "\n",
    "!rm -f setup*.*\n",
    "!rm -f len_extern.*\n",
    "!rm -f time_extern.*\n",
    "!rm -rf build"
   ]
  },
  {
   "cell_type": "markdown",
   "metadata": {},
   "source": [
    "## class 和 cdef class"
   ]
  },
  {
   "cell_type": "markdown",
   "metadata": {},
   "source": [
    "* `class` 定义属性变量比较自由，`cdef class` 可以定义 `cdef`\n",
    "\n",
    "* `class`使用 `__init__` 初始化，`cdef class `在使用`__init__`之前用 `__cinit__` 对 C 相关的参数进行初始化。\n",
    "\n",
    "* `cdef class `中的方法可以是 `def, cdef, cpdef` 三种，只有 `public` 的属性才可以被访问，不可以添加新的属性。\n",
    "\n",
    "* `__dealloc__` 函数类似析构函数，负责释放申请的内存。\n",
    "\n",
    "`Cython `属性可以使用关键词` property `来定义，然后定义` __get__ 和 __set__`方法来进行获取和设置：\n",
    "```cython\n",
    "property name:\n",
    "    def __get__(self):\n",
    "        return something\n",
    "    def __set__(self):\n",
    "        set_something\n",
    "```"
   ]
  },
  {
   "cell_type": "markdown",
   "metadata": {},
   "source": [
    "## 使用 C++ 类"
   ]
  },
  {
   "cell_type": "markdown",
   "metadata": {},
   "source": [
    "使用 C++ 类时要加上 cppclass 关键词，在编译时 setup 中要加上 language=\"c++\" 的选项。\n",
    "\n",
    "写一个C++类"
   ]
  },
  {
   "cell_type": "code",
   "execution_count": 32,
   "metadata": {},
   "outputs": [
    {
     "name": "stdout",
     "output_type": "stream",
     "text": [
      "Overwriting particle_extern.h\n"
     ]
    }
   ],
   "source": [
    "%%file particle_extern.h\n",
    "#ifndef _PARTICLE_EXTERN_H_\n",
    "#define _PARTICLE_EXTERN_H_\n",
    "\n",
    "class Particle {\n",
    "\n",
    "    public:\n",
    "\n",
    "        Particle() :\n",
    "            mass(0), charge(0) {}\n",
    "        \n",
    "        Particle(float m, float c, float *p, float *v);\n",
    "\n",
    "        ~Particle() {}\n",
    "\n",
    "        float getMass() {return mass; }\n",
    "\n",
    "        void setMass(float m) { mass = m; }\n",
    "\n",
    "        float getCharge() { return charge; }\n",
    "\n",
    "        const float *getVel() { return vel; }\n",
    "        const float *getPos() { return pos; }\n",
    "\n",
    "        void applyImpulse(float *f, float t);\n",
    "\n",
    "    private:\n",
    "        float mass, charge;\n",
    "        float pos[3], vel[3];\n",
    "};\n",
    "\n",
    "#endif"
   ]
  },
  {
   "cell_type": "code",
   "execution_count": 33,
   "metadata": {},
   "outputs": [
    {
     "name": "stdout",
     "output_type": "stream",
     "text": [
      "Overwriting particle_extern.cpp\n"
     ]
    }
   ],
   "source": [
    "%%file particle_extern.cpp\n",
    "#include \"particle_extern.h\"\n",
    "\n",
    "Particle::Particle(float m, float c, float *p, float *v) :\n",
    "    mass(m), charge(c) \n",
    "{\n",
    "    for (int i=0; i<3; ++i) {\n",
    "        pos[i] = p[i]; vel[i] = v[i];\n",
    "    }\n",
    "}\n",
    "\n",
    "void Particle::applyImpulse(float *f, float t)\n",
    "{\n",
    "    float newvi;\n",
    "    for(int i=0; i<3; ++i) {\n",
    "        newvi = vel[i] + t / mass * f[i];\n",
    "        pos[i] = (newvi + vel[i]) * t / 2.;\n",
    "        vel[i] = newvi;\n",
    "    }\n",
    "}\n",
    "Overwr"
   ]
  },
  {
   "cell_type": "code",
   "execution_count": 34,
   "metadata": {},
   "outputs": [
    {
     "name": "stdout",
     "output_type": "stream",
     "text": [
      "Overwriting particle.pyx\n"
     ]
    }
   ],
   "source": [
    "%%file particle.pyx\n",
    "import numpy as np\n",
    "\n",
    "# 首先从头文件声明这个类：\n",
    "cdef extern from \"particle_extern.h\":\n",
    "# 这里要使用 cppclass 关键词，并且为了方便，\n",
    "# 我们将 Particle 类的名字在 Cython 中重命名为 _Particle。\n",
    "    cppclass _Particle \"Particle\":\n",
    "        _Particle(float m, float c, float *p, float *v)\n",
    "        float getMass()\n",
    "        void setMass(float m)\n",
    "        float getCharge()\n",
    "        const float *getVel()\n",
    "        const float *getPos()\n",
    "        void applyImpulse(float *f, float t)\n",
    "\n",
    "\n",
    "cdef class Particle:\n",
    "    cdef _Particle *thisptr # ptr to C++ instance\n",
    "\n",
    "    def __cinit__(self, m, c, float[::1] p, float[::1] v):\n",
    "        if p.shape[0] != 3 or v.shape[0] != 3:\n",
    "            raise ValueError(\"...\")\n",
    "        self.thisptr = new _Particle(m, c, &p[0], &v[0])\n",
    "\n",
    "    def __dealloc__(self):\n",
    "        del self.thisptr\n",
    "\n",
    "    def apply_impulse(self, float[::1] v, float t):\n",
    "        self.thisptr.applyImpulse(&v[0], t)\n",
    "\n",
    "    def __repr__(self):\n",
    "        args = ', '.join('%s=%s' % (n, getattr(self, n)) for n in ('mass', 'charge', 'pos', 'vel'))\n",
    "        return 'particle.Particle(%s)' % args\n",
    "\n",
    "    property charge:\n",
    "\n",
    "        def __get__(self):\n",
    "            return self.thisptr.getCharge()\n",
    "\n",
    "    property mass:  # Cython-style properties.\n",
    "        def __get__(self):\n",
    "            return self.thisptr.getMass()\n",
    "\n",
    "        def __set__(self, m):\n",
    "            self.thisptr.setMass(m)\n",
    "\n",
    "    property vel:\n",
    "\n",
    "        def __get__(self):\n",
    "            cdef const float *_vel = self.thisptr.getVel()\n",
    "            cdef float[::1] arr = np.empty((3,), dtype=np.float32)\n",
    "            for i in range(3):\n",
    "                arr[i] = _vel[i]\n",
    "            return np.asarray(arr)\n",
    "\n",
    "    property pos:\n",
    "\n",
    "        def __get__(self):\n",
    "            cdef const float *_pos = self.thisptr.getPos()\n",
    "            cdef float[::1] arr = np.empty((3,), dtype=np.float32)\n",
    "            for i in range(3):\n",
    "                arr[i] = _pos[i]\n",
    "            return np.asarray(arr)"
   ]
  },
  {
   "cell_type": "markdown",
   "metadata": {},
   "source": [
    "**为了使用这个类，我们需要定义一个该类的指针，然后用指针指向一个` _Particle `对象**"
   ]
  },
  {
   "cell_type": "code",
   "execution_count": 35,
   "metadata": {},
   "outputs": [
    {
     "name": "stdout",
     "output_type": "stream",
     "text": [
      "Writing setup.py\n"
     ]
    }
   ],
   "source": [
    "%%file setup.py\n",
    "from distutils.core import setup\n",
    "from distutils.extension import Extension\n",
    "from Cython.Distutils import build_ext\n",
    "\n",
    "ext = Extension(\"particle\", [\"particle.pyx\", \"particle_extern.cpp\"], language=\"c++\")\n",
    "\n",
    "setup(\n",
    "    cmdclass = {'build_ext': build_ext},\n",
    "    ext_modules = [ext],\n",
    ")"
   ]
  },
  {
   "cell_type": "markdown",
   "metadata": {},
   "source": [
    "之前是这样写的\n",
    "```\n",
    "setup(\n",
    "  ext_modules=[ Extension(\"len_extern\", [\"len_extern.pyx\"]) ],\n",
    "  cmdclass = {'build_ext': build_ext}\n",
    ")\n",
    "```"
   ]
  },
  {
   "cell_type": "code",
   "execution_count": 36,
   "metadata": {},
   "outputs": [],
   "source": [
    "# !python setup.py build_ext -i"
   ]
  },
  {
   "cell_type": "markdown",
   "metadata": {},
   "source": [
    "尴尬！不过我现在没空折腾了，以后有时间在弄，参见笔记：[Cython应用手记](http://gashero.iteye.com/blog/649516)"
   ]
  },
  {
   "cell_type": "code",
   "execution_count": 37,
   "metadata": {},
   "outputs": [],
   "source": [
    "import zipfile\n",
    "\n",
    "f = zipfile.ZipFile('03-particle.zip','w',zipfile.ZIP_DEFLATED)\n",
    "\n",
    "names = ['particle.pyx',\n",
    "         'particle_extern.cpp',\n",
    "         'particle_extern.h',\n",
    "         'setup.py']\n",
    "for name in names:\n",
    "    f.write(name)\n",
    "\n",
    "f.close()\n",
    "\n",
    "!rm -f setup*.*\n",
    "!rm -f particle*.*\n",
    "!rm -rf build"
   ]
  },
  {
   "cell_type": "markdown",
   "metadata": {},
   "source": [
    "## Typed memoryviews"
   ]
  },
  {
   "cell_type": "markdown",
   "metadata": {},
   "source": [
    "这里 `double[::1]` 是一种 `memoryview` 方法，效率跟 `Numpy` 数组差不多，可以给` C` 数组赋值，可以给` Numpy `数组赋值，可以像 `Numpy `一样切片："
   ]
  },
  {
   "cell_type": "markdown",
   "metadata": {},
   "source": [
    "%%file cython_sum.pyx\n",
    "def cython_sum(double[::1] a):\n",
    "    cdef double s = 0.0\n",
    "    cdef int i, n = a.shape[0]\n",
    "    for i in range(n):\n",
    "        s += a[i]\n",
    "    return s"
   ]
  },
  {
   "cell_type": "code",
   "execution_count": 40,
   "metadata": {},
   "outputs": [
    {
     "name": "stdout",
     "output_type": "stream",
     "text": [
      "Overwriting cython_sum.pyx\n"
     ]
    }
   ],
   "source": [
    "%%file cython_sum.pyx\n",
    "def cython_sum(double[::1] a):\n",
    "    cdef double s = 0.0\n",
    "    cdef int i, n = a.shape[0]\n",
    "    for i in range(n):\n",
    "        s += a[i]\n",
    "    return s"
   ]
  },
  {
   "cell_type": "code",
   "execution_count": 38,
   "metadata": {},
   "outputs": [
    {
     "name": "stdout",
     "output_type": "stream",
     "text": [
      "Writing setup.py\n"
     ]
    }
   ],
   "source": [
    "%%file setup.py\n",
    "from distutils.core import setup\n",
    "from distutils.extension import Extension\n",
    "from Cython.Distutils import build_ext\n",
    "\n",
    "ext = Extension(\"cython_sum\", [\"cython_sum.pyx\"])\n",
    "\n",
    "setup(\n",
    "    cmdclass = {'build_ext': build_ext},\n",
    "    ext_modules = [ext],\n",
    ")"
   ]
  },
  {
   "cell_type": "markdown",
   "metadata": {},
   "source": [
    "由于在ipython中运行时间是真的长，索性直接在cmd中编译了\n",
    "```\n",
    "python setup.py build_ext -i\n",
    "```\n",
    "![](https://raw.githubusercontent.com/ds19991999/githubimg/master/picgo/20180723230712.png)"
   ]
  },
  {
   "cell_type": "code",
   "execution_count": 39,
   "metadata": {},
   "outputs": [],
   "source": [
    "from cython_sum import cython_sum\n",
    "from numpy import *"
   ]
  },
  {
   "cell_type": "code",
   "execution_count": 42,
   "metadata": {},
   "outputs": [],
   "source": [
    "a = arange(1e6)"
   ]
  },
  {
   "cell_type": "code",
   "execution_count": 43,
   "metadata": {},
   "outputs": [
    {
     "data": {
      "text/plain": [
       "499999500000.0"
      ]
     },
     "execution_count": 43,
     "metadata": {},
     "output_type": "execute_result"
    }
   ],
   "source": [
    "cython_sum(a)"
   ]
  },
  {
   "cell_type": "code",
   "execution_count": 44,
   "metadata": {},
   "outputs": [
    {
     "data": {
      "text/plain": [
       "499999500000.0"
      ]
     },
     "execution_count": 44,
     "metadata": {},
     "output_type": "execute_result"
    }
   ],
   "source": [
    "a.sum()"
   ]
  },
  {
   "cell_type": "markdown",
   "metadata": {},
   "source": [
    "效率比较"
   ]
  },
  {
   "cell_type": "code",
   "execution_count": 46,
   "metadata": {},
   "outputs": [
    {
     "name": "stdout",
     "output_type": "stream",
     "text": [
      "1000 loops, best of 3: 1.34 ms per loop\n"
     ]
    }
   ],
   "source": [
    "%timeit cython_sum(a)"
   ]
  },
  {
   "cell_type": "code",
   "execution_count": 47,
   "metadata": {},
   "outputs": [
    {
     "name": "stdout",
     "output_type": "stream",
     "text": [
      "100 loops, best of 3: 1.61 ms per loop\n"
     ]
    }
   ],
   "source": [
    "%timeit a.sum()"
   ]
  },
  {
   "cell_type": "code",
   "execution_count": 48,
   "metadata": {},
   "outputs": [],
   "source": [
    "import zipfile\n",
    "\n",
    "f = zipfile.ZipFile('03-cython-sum.zip','w',zipfile.ZIP_DEFLATED)\n",
    "\n",
    "names = ['cython_sum.pyx',\n",
    "         'setup.py']\n",
    "for name in names:\n",
    "    f.write(name)\n",
    "\n",
    "f.close()\n",
    "\n",
    "!rm -f setup*.*\n",
    "!rm -f cython_sum*.*\n",
    "!rm -rf build"
   ]
  },
  {
   "cell_type": "code",
   "execution_count": null,
   "metadata": {},
   "outputs": [],
   "source": []
  }
 ],
 "metadata": {
  "kernelspec": {
   "display_name": "Python 2",
   "language": "python",
   "name": "python2"
  },
  "language_info": {
   "codemirror_mode": {
    "name": "ipython",
    "version": 2
   },
   "file_extension": ".py",
   "mimetype": "text/x-python",
   "name": "python",
   "nbconvert_exporter": "python",
   "pygments_lexer": "ipython2",
   "version": "2.7.13"
  },
  "latex_envs": {
   "LaTeX_envs_menu_present": true,
   "autoclose": false,
   "autocomplete": true,
   "bibliofile": "biblio.bib",
   "cite_by": "apalike",
   "current_citInitial": 1,
   "eqLabelWithNumbers": true,
   "eqNumInitial": 1,
   "hotkeys": {
    "equation": "Ctrl-E",
    "itemize": "Ctrl-I"
   },
   "labels_anchors": false,
   "latex_user_defs": false,
   "report_style_numbering": false,
   "user_envs_cfg": false
  },
  "toc": {
   "base_numbering": 1,
   "nav_menu": {},
   "number_sections": true,
   "sideBar": true,
   "skip_h1_title": true,
   "title_cell": "Contents",
   "title_sidebar": "Contents",
   "toc_cell": true,
   "toc_position": {
    "height": "calc(100% - 180px)",
    "left": "10px",
    "top": "150px",
    "width": "273px"
   },
   "toc_section_display": true,
   "toc_window_display": true
  }
 },
 "nbformat": 4,
 "nbformat_minor": 2
}
