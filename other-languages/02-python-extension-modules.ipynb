{
 "cells": [
  {
   "cell_type": "markdown",
   "metadata": {},
   "source": [
    "# Python 扩展模块"
   ]
  },
  {
   "cell_type": "markdown",
   "metadata": {
    "toc": true
   },
   "source": [
    "<h1>Contents<span class=\"tocSkip\"></span></h1>\n",
    "<div class=\"toc\"><ul class=\"toc-item\"><li><span><a href=\"#简介\" data-toc-modified-id=\"简介-1\"><span class=\"toc-item-num\">1&nbsp;&nbsp;</span>简介</a></span></li><li><span><a href=\"#产生一个扩展模块\" data-toc-modified-id=\"产生一个扩展模块-2\"><span class=\"toc-item-num\">2&nbsp;&nbsp;</span>产生一个扩展模块</a></span></li><li><span><a href=\"#手动编译扩展模块\" data-toc-modified-id=\"手动编译扩展模块-3\"><span class=\"toc-item-num\">3&nbsp;&nbsp;</span>手动编译扩展模块</a></span></li><li><span><a href=\"#使用-setup.py-进行编译\" data-toc-modified-id=\"使用-setup.py-进行编译-4\"><span class=\"toc-item-num\">4&nbsp;&nbsp;</span>使用 setup.py 进行编译</a></span></li><li><span><a href=\"#使用编译的模块\" data-toc-modified-id=\"使用编译的模块-5\"><span class=\"toc-item-num\">5&nbsp;&nbsp;</span>使用编译的模块</a></span></li><li><span><a href=\"#压缩生成文件\" data-toc-modified-id=\"压缩生成文件-6\"><span class=\"toc-item-num\">6&nbsp;&nbsp;</span>压缩生成文件</a></span></li></ul></div>"
   ]
  },
  {
   "cell_type": "markdown",
   "metadata": {},
   "source": [
    "## 简介"
   ]
  },
  {
   "cell_type": "markdown",
   "metadata": {},
   "source": [
    "C Library|\tInterface|\tPython\n",
    ":-------------|:-------|:-------\n",
    "c header| Wrapper C ⇆ Python |import fact \n",
    "c implementation\t|communication between py + c|fact.fact(10)\n",
    "\t\n"
   ]
  },
  {
   "cell_type": "markdown",
   "metadata": {},
   "source": [
    "`Python` 扩展模块将 `PyInt(10)` 转化为 `CInt(10)` 然后调用 C 程序中的`fact() `函数进行计算，再将返回的结果转换回 `PyInt`。"
   ]
  },
  {
   "cell_type": "markdown",
   "metadata": {},
   "source": [
    "## 产生一个扩展模块"
   ]
  },
  {
   "cell_type": "code",
   "execution_count": 1,
   "metadata": {},
   "outputs": [
    {
     "name": "stdout",
     "output_type": "stream",
     "text": [
      "Writing fact.h\n"
     ]
    }
   ],
   "source": [
    "%%file fact.h\n",
    "#ifndef FACT_H\n",
    "#define FACT_h\n",
    "int fact(int n);\n",
    "#endif"
   ]
  },
  {
   "cell_type": "code",
   "execution_count": 2,
   "metadata": {},
   "outputs": [
    {
     "name": "stdout",
     "output_type": "stream",
     "text": [
      "Writing fact.c\n"
     ]
    }
   ],
   "source": [
    "%%file fact.c\n",
    "#include \"fact.h\"\n",
    "int fact(int n)\n",
    "{\n",
    "    if (n <= 1) return 1;\n",
    "    else return n * fact(n - 1);\n",
    "}"
   ]
  },
  {
   "cell_type": "markdown",
   "metadata": {},
   "source": [
    "**包装函数**"
   ]
  },
  {
   "cell_type": "code",
   "execution_count": 3,
   "metadata": {},
   "outputs": [
    {
     "name": "stdout",
     "output_type": "stream",
     "text": [
      "Writing fact_wrap.c\n"
     ]
    }
   ],
   "source": [
    "%%file fact_wrap.c\n",
    "\n",
    "/* Must include Python.h before any standard headers*/\n",
    "#include <Python.h>\n",
    "#include \"fact.h\"\n",
    "static PyObject* wrap_fact(PyObject *self, PyObject *args)\n",
    "{\n",
    "    /* Python->C data conversion */\n",
    "    int n, result;\n",
    "    // the string i here means there is only one integer\n",
    "    if (!PyArg_ParseTuple(args, \"i\", &n))\n",
    "        return NULL;\n",
    "    \n",
    "    /* C Function Call */\n",
    "    result = fact(n);\n",
    "    \n",
    "    /* C->Python data conversion */\n",
    "    return Py_BuildValue(\"i\", result);\n",
    "}\n",
    "\n",
    "/* Method table declaring the names of functions exposed to Python*/\n",
    "static PyMethodDef ExampleMethods[] = {\n",
    "    {\"fact\",  wrap_fact, METH_VARARGS, \"Calculate the factorial of n\"},\n",
    "    {NULL, NULL, 0, NULL}        /* Sentinel */\n",
    "};\n",
    "\n",
    "/* Module initialization function called at \"import example\"*/\n",
    "PyMODINIT_FUNC \n",
    "initexample(void)\n",
    "{\n",
    "    (void) Py_InitModule(\"example\", ExampleMethods);\n",
    "}"
   ]
  },
  {
   "cell_type": "markdown",
   "metadata": {},
   "source": [
    "## 手动编译扩展模块"
   ]
  },
  {
   "cell_type": "markdown",
   "metadata": {},
   "source": [
    "手动使用 `gcc` 编译，`Windows` 下如果没有 `gcc`，可以通过 `conda `进行安装：\n",
    "```\n",
    "conda install mingw4\n",
    "```\n",
    "`Window 64-bit` 下编译需要加上 `-DMS_WIN64 `的选项，`include `和 `lib `文件夹的路径对应于本地 `Python `安装的环境："
   ]
  },
  {
   "cell_type": "markdown",
   "metadata": {},
   "source": [
    "我的电脑win32才能编译，还有一个问题，直接在jupyter里面识别不了gcc,conda命令\n",
    "```\n",
    "gcc -DMS_WIN32 -c fact.c fact_wrap.c -ID:\\Python\\include\n",
    "gcc -DMS_WIN32 -shared fact.o fact_wrap.o -LD:\\Python\\libs -lpython27 -o example.pyd\n",
    "```"
   ]
  },
  {
   "cell_type": "code",
   "execution_count": 4,
   "metadata": {},
   "outputs": [
    {
     "name": "stdout",
     "output_type": "stream",
     "text": [
      "01-introduction.ipynb\n",
      "02-python-extension-modules.ipynb\n",
      "03-cython.ipynb\n",
      "03-cython-sum.zip\n",
      "03-particle.zip\n",
      "04-profiling-with-annotations.ipynb\n",
      "05-ctypes.ipynb\n",
      "example.zip\n",
      "extern.zip\n",
      "fact.c\n",
      "fact.h\n",
      "fact_wrap.c\n",
      "fib.zip\n",
      "fib_orig.c\n",
      "fib_orig.html\n",
      "fib_orig.pyx\n"
     ]
    }
   ],
   "source": [
    "!ls"
   ]
  },
  {
   "cell_type": "code",
   "execution_count": 5,
   "metadata": {},
   "outputs": [
    {
     "name": "stdout",
     "output_type": "stream",
     "text": [
      "['__doc__', '__file__', '__name__', '__package__', 'fact']\n"
     ]
    }
   ],
   "source": [
    "# 导入这个模块\n",
    "import example\n",
    "print dir(example)"
   ]
  },
  {
   "cell_type": "code",
   "execution_count": 6,
   "metadata": {},
   "outputs": [
    {
     "data": {
      "text/plain": [
       "3628800"
      ]
     },
     "execution_count": 6,
     "metadata": {},
     "output_type": "execute_result"
    }
   ],
   "source": [
    "# 使用里面的函数\n",
    "example.fact(10)"
   ]
  },
  {
   "cell_type": "code",
   "execution_count": 7,
   "metadata": {},
   "outputs": [],
   "source": [
    "#清理刚才生成的文件：\n",
    "!rm -f example.pyd"
   ]
  },
  {
   "cell_type": "markdown",
   "metadata": {},
   "source": [
    "## 使用 setup.py 进行编译"
   ]
  },
  {
   "cell_type": "code",
   "execution_count": 8,
   "metadata": {},
   "outputs": [
    {
     "name": "stdout",
     "output_type": "stream",
     "text": [
      "Writing setup.py\n"
     ]
    }
   ],
   "source": [
    "%%file setup.py\n",
    "from distutils.core import setup, Extension\n",
    "ext = Extension(name='example', sources=['fact_wrap.c', 'fact.c'])\n",
    "setup(name='example', ext_modules=[ext])"
   ]
  },
  {
   "cell_type": "markdown",
   "metadata": {},
   "source": [
    "使用 `distutils` 中的函数，我们进行 `build `和` install`：\n",
    "```\n",
    "python setup.py build (--compiler=mingw64)\n",
    "python setup.py install\n",
    "```\n",
    "也可以直接：`!python setup.py build_ext --inplace`"
   ]
  },
  {
   "cell_type": "code",
   "execution_count": 9,
   "metadata": {},
   "outputs": [
    {
     "name": "stdout",
     "output_type": "stream",
     "text": [
      "running build_ext\n",
      "building 'example' extension\n",
      "creating build\n",
      "creating build\\temp.win32-2.7\n",
      "creating build\\temp.win32-2.7\\Release\n",
      "D:\\MinGW\\bin\\gcc.exe -mdll -O -Wall -ID:\\Python\\include -ID:\\Python\\PC -c fact_wrap.c -o build\\temp.win32-2.7\\Release\\fact_wrap.o\n",
      "D:\\MinGW\\bin\\gcc.exe -mdll -O -Wall -ID:\\Python\\include -ID:\\Python\\PC -c fact.c -o build\\temp.win32-2.7\\Release\\fact.o\n",
      "writing build\\temp.win32-2.7\\Release\\example.def\n",
      "D:\\MinGW\\bin\\gcc.exe -shared -s build\\temp.win32-2.7\\Release\\fact_wrap.o build\\temp.win32-2.7\\Release\\fact.o build\\temp.win32-2.7\\Release\\example.def -LD:\\Python\\libs -LD:\\Python\\PCbuild -LD:\\Python\\PC\\VS9.0 -lpython27 -lmsvcr90 -o E:\\Project_Sources\\notebook\\other-languages\\example.pyd\n"
     ]
    }
   ],
   "source": [
    "!python setup.py build_ext --inplace"
   ]
  },
  {
   "cell_type": "markdown",
   "metadata": {},
   "source": [
    "## 使用编译的模块"
   ]
  },
  {
   "cell_type": "code",
   "execution_count": 10,
   "metadata": {},
   "outputs": [
    {
     "name": "stdout",
     "output_type": "stream",
     "text": [
      "factorial of 10: 3628800\n"
     ]
    }
   ],
   "source": [
    "import example\n",
    "print 'factorial of 10:', example.fact(10)"
   ]
  },
  {
   "cell_type": "code",
   "execution_count": 11,
   "metadata": {},
   "outputs": [
    {
     "name": "stdout",
     "output_type": "stream",
     "text": [
      "3628800\n",
      "3628800\n"
     ]
    }
   ],
   "source": [
    "def pyfact(n):\n",
    "    if n <= 1: return 1\n",
    "    return n * pyfact(n-1)\n",
    "\n",
    "print pyfact(10)\n",
    "print example.fact(10)"
   ]
  },
  {
   "cell_type": "markdown",
   "metadata": {},
   "source": [
    "**时间测试：**"
   ]
  },
  {
   "cell_type": "code",
   "execution_count": 12,
   "metadata": {},
   "outputs": [
    {
     "name": "stdout",
     "output_type": "stream",
     "text": [
      "The slowest run took 8.16 times longer than the fastest. This could mean that an intermediate result is being cached.\n",
      "1000000 loops, best of 3: 229 ns per loop\n"
     ]
    }
   ],
   "source": [
    "%timeit example.fact(10)"
   ]
  },
  {
   "cell_type": "code",
   "execution_count": 13,
   "metadata": {},
   "outputs": [
    {
     "name": "stdout",
     "output_type": "stream",
     "text": [
      "1000000 loops, best of 3: 1.74 µs per loop\n"
     ]
    }
   ],
   "source": [
    "%timeit pyfact(10)"
   ]
  },
  {
   "cell_type": "code",
   "execution_count": 14,
   "metadata": {},
   "outputs": [
    {
     "data": {
      "text/plain": [
       "0"
      ]
     },
     "execution_count": 14,
     "metadata": {},
     "output_type": "execute_result"
    }
   ],
   "source": [
    "example.fact(100)"
   ]
  },
  {
   "cell_type": "code",
   "execution_count": 15,
   "metadata": {},
   "outputs": [
    {
     "data": {
      "text/plain": [
       "93326215443944152681699238856266700490715968264381621468592963895217599993229915608941463976156518286253697920827223758251185210916864000000000000000000000000L"
      ]
     },
     "execution_count": 15,
     "metadata": {},
     "output_type": "execute_result"
    }
   ],
   "source": [
    "# 会出现溢出的结果，因为 int 表示的值有限，但是 pyfact 不会有这样的问题：\n",
    "pyfact(100)"
   ]
  },
  {
   "cell_type": "markdown",
   "metadata": {},
   "source": [
    "## 压缩生成文件"
   ]
  },
  {
   "cell_type": "code",
   "execution_count": 16,
   "metadata": {},
   "outputs": [],
   "source": [
    "import zipfile\n",
    "names = 'fact.c fact.h fact_wrap.c example.pyd setup.py fib_orig.c fib_orig.html fib_orig.pyx'.split()\n",
    "with zipfile.ZipFile('example.zip','w',zipfile.ZIP_DEFLATED)as f:\n",
    "    for name in names:\n",
    "        f.write(name)"
   ]
  },
  {
   "cell_type": "code",
   "execution_count": 17,
   "metadata": {},
   "outputs": [],
   "source": [
    "import os\n",
    "for name in names:\n",
    "    os.remove(name)"
   ]
  },
  {
   "cell_type": "code",
   "execution_count": 18,
   "metadata": {},
   "outputs": [],
   "source": [
    "!rm -rf build\n",
    "# shutil.rmtree(\"build\")"
   ]
  },
  {
   "cell_type": "markdown",
   "metadata": {},
   "source": [
    "文件操作见笔记：[shutil 模块](../python-tools/08-shutil.ipynb)"
   ]
  }
 ],
 "metadata": {
  "kernelspec": {
   "display_name": "Python 2",
   "language": "python",
   "name": "python2"
  },
  "language_info": {
   "codemirror_mode": {
    "name": "ipython",
    "version": 2
   },
   "file_extension": ".py",
   "mimetype": "text/x-python",
   "name": "python",
   "nbconvert_exporter": "python",
   "pygments_lexer": "ipython2",
   "version": "2.7.13"
  },
  "latex_envs": {
   "LaTeX_envs_menu_present": true,
   "autoclose": false,
   "autocomplete": true,
   "bibliofile": "biblio.bib",
   "cite_by": "apalike",
   "current_citInitial": 1,
   "eqLabelWithNumbers": true,
   "eqNumInitial": 1,
   "hotkeys": {
    "equation": "Ctrl-E",
    "itemize": "Ctrl-I"
   },
   "labels_anchors": false,
   "latex_user_defs": false,
   "report_style_numbering": false,
   "user_envs_cfg": false
  },
  "toc": {
   "base_numbering": 1,
   "nav_menu": {},
   "number_sections": true,
   "sideBar": true,
   "skip_h1_title": true,
   "title_cell": "Contents",
   "title_sidebar": "Contents",
   "toc_cell": true,
   "toc_position": {
    "height": "calc(100% - 180px)",
    "left": "10px",
    "top": "150px",
    "width": "273px"
   },
   "toc_section_display": true,
   "toc_window_display": false
  }
 },
 "nbformat": 4,
 "nbformat_minor": 2
}
