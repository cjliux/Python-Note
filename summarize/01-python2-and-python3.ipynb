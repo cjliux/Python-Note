{
 "cells": [
  {
   "cell_type": "markdown",
   "metadata": {},
   "source": [
    "## Python2和Python3的区别"
   ]
  },
  {
   "cell_type": "markdown",
   "metadata": {},
   "source": [
    "### print和input\n",
    "Python2等价版本\n",
    "```python\n",
    "print \"fish\"\n",
    "print (\"fish\") #注意print后面有个空格\n",
    "print(\"fish\") #print()不能带有任何其它参数\n",
    "```\n",
    "Python3中没有print语句，由print()函数代替,可以有空格\n",
    "```python\n",
    ">>> print(\"fish\", \"panda\", sep='#')\n",
    "fish#panda\n",
    "```\n",
    "在python2.x中raw_input()和input( )，两个函数都存在:\n",
    "* raw_input()---将所有输入作为字符串看待，返回**字符串类型**\n",
    "* input()-----只能接收**数字**的输入，在对待纯数字输入时具有自己的特性，它返回所输入的数字的类型（int, float ）\n",
    "\n",
    "python3.x中raw_input()和input( )进行了整合，去除了raw_input()，input()函数接收任意任性输入，将所有输入默认为字符串处理，并返回字符串类型。"
   ]
  },
  {
   "cell_type": "markdown",
   "metadata": {},
   "source": [
    "### Unicode\n",
    "* Python 2 有 ASCII str() 类型，unicode() 是单独的，不是 byte 类型。\n",
    "* 在 Python 3，我们最终有了 Unicode (utf-8) 字符串，以及一个字节类：byte 和 bytearrays。\n",
    "*  Python3.X 源码文件默认使用utf-8编码"
   ]
  },
  {
   "cell_type": "code",
   "execution_count": 2,
   "metadata": {},
   "outputs": [
    {
     "data": {
      "text/plain": [
       "'\\xe6\\x88\\x91\\xe7\\x88\\xb1\\xe5\\x8c\\x97\\xe4\\xba\\xac\\xe5\\xa4\\xa9\\xe5\\xae\\x89\\xe9\\x97\\xa8'"
      ]
     },
     "execution_count": 2,
     "metadata": {},
     "output_type": "execute_result"
    }
   ],
   "source": [
    "# Python2\n",
    "str = \"我爱北京天安门\"\n",
    "str"
   ]
  },
  {
   "cell_type": "code",
   "execution_count": 3,
   "metadata": {},
   "outputs": [
    {
     "data": {
      "text/plain": [
       "u'\\u6211\\u7231\\u5317\\u4eac\\u5929\\u5b89\\u95e8'"
      ]
     },
     "execution_count": 3,
     "metadata": {},
     "output_type": "execute_result"
    }
   ],
   "source": [
    "str = u\"我爱北京天安门\"\n",
    "str"
   ]
  },
  {
   "cell_type": "code",
   "execution_count": 1,
   "metadata": {},
   "outputs": [
    {
     "data": {
      "text/plain": [
       "'我爱北京天安门'"
      ]
     },
     "execution_count": 1,
     "metadata": {},
     "output_type": "execute_result"
    }
   ],
   "source": [
    "# Python3\n",
    "str = \"我爱北京天安门\"\n",
    "str    "
   ]
  },
  {
   "cell_type": "markdown",
   "metadata": {},
   "source": [
    "### 除法运算\n",
    "**Python中的除法有两个运算符，/和//**\n",
    "\n",
    "首先来说`/`除法:\n",
    "* python 2.x中/除法就是整数相除是一个整数，浮点数相除保留小数部分,最多显示17位\n"
   ]
  },
  {
   "cell_type": "code",
   "execution_count": 1,
   "metadata": {},
   "outputs": [
    {
     "data": {
      "text/plain": [
       "1"
      ]
     },
     "execution_count": 1,
     "metadata": {},
     "output_type": "execute_result"
    }
   ],
   "source": [
    "#python2\n",
    "4/3"
   ]
  },
  {
   "cell_type": "code",
   "execution_count": 1,
   "metadata": {},
   "outputs": [
    {
     "data": {
      "text/plain": [
       "1.3333333333333333"
      ]
     },
     "execution_count": 1,
     "metadata": {},
     "output_type": "execute_result"
    }
   ],
   "source": [
    "# python 3.x中/除法对于整数之间的相除，结果也会是浮点数\n",
    "4/3"
   ]
  },
  {
   "cell_type": "markdown",
   "metadata": {},
   "source": [
    "对于//除法:\n",
    "* python 2.x和python 3.x中是一致的,执行floor除法，取比结果小的最大整数"
   ]
  },
  {
   "cell_type": "code",
   "execution_count": 2,
   "metadata": {},
   "outputs": [
    {
     "data": {
      "text/plain": [
       "-1"
      ]
     },
     "execution_count": 2,
     "metadata": {},
     "output_type": "execute_result"
    }
   ],
   "source": [
    "# python2\n",
    "-1//2"
   ]
  },
  {
   "cell_type": "code",
   "execution_count": 3,
   "metadata": {},
   "outputs": [
    {
     "data": {
      "text/plain": [
       "-1"
      ]
     },
     "execution_count": 3,
     "metadata": {},
     "output_type": "execute_result"
    }
   ],
   "source": [
    "# python3\n",
    "-1//2"
   ]
  },
  {
   "cell_type": "markdown",
   "metadata": {},
   "source": [
    "### 异常"
   ]
  },
  {
   "cell_type": "markdown",
   "metadata": {},
   "source": [
    "Python 3 中我们现在使用 as 作为关键词，捕获异常的语法由 `except exc, var` 改为 `except exc as var`。\n",
    "* 在2.x时代，所有类型的对象都是可以被直接抛出的，**在3.x时代，只有继承自BaseException的对象才可以被抛出。**\n",
    "*  2.x raise语句使用逗号将抛出对象类型和参数分开，3.x取消了这种奇葩的写法，直接调用构造函数抛出对象即可。"
   ]
  },
  {
   "cell_type": "markdown",
   "metadata": {},
   "source": [
    "### xrange"
   ]
  },
  {
   "cell_type": "markdown",
   "metadata": {},
   "source": [
    "* Python2中xrange()比range()更快\n",
    "* Python3中不存在xrange(),但range()与之前的xrange()一样快"
   ]
  },
  {
   "cell_type": "markdown",
   "metadata": {},
   "source": [
    "### 八进制字面量表示"
   ]
  },
  {
   "cell_type": "markdown",
   "metadata": {},
   "source": [
    "* Python2中，八进制数必须写成0o777或者0777，二进制必须写成0b111，bin()函数用于将一个整数转换成二进制字串\n",
    "* Python3中，表示八进制字面量的方式只有一种，就是0o1000"
   ]
  },
  {
   "cell_type": "code",
   "execution_count": 1,
   "metadata": {},
   "outputs": [
    {
     "name": "stdout",
     "output_type": "stream",
     "text": [
      "512 512\n"
     ]
    }
   ],
   "source": [
    "# Python2\n",
    "print 0o1000,01000"
   ]
  },
  {
   "cell_type": "code",
   "execution_count": 2,
   "metadata": {},
   "outputs": [
    {
     "name": "stdout",
     "output_type": "stream",
     "text": [
      "512\n"
     ]
    }
   ],
   "source": [
    "# Python3\n",
    "print(0o1000)"
   ]
  },
  {
   "cell_type": "code",
   "execution_count": 3,
   "metadata": {},
   "outputs": [
    {
     "ename": "SyntaxError",
     "evalue": "invalid token (<ipython-input-3-d096c5298f8d>, line 1)",
     "output_type": "error",
     "traceback": [
      "\u001b[1;36m  File \u001b[1;32m\"<ipython-input-3-d096c5298f8d>\"\u001b[1;36m, line \u001b[1;32m1\u001b[0m\n\u001b[1;33m    print(01000)\u001b[0m\n\u001b[1;37m              ^\u001b[0m\n\u001b[1;31mSyntaxError\u001b[0m\u001b[1;31m:\u001b[0m invalid token\n"
     ]
    }
   ],
   "source": [
    "print(01000)"
   ]
  },
  {
   "cell_type": "markdown",
   "metadata": {},
   "source": [
    "### 不等运算符\n",
    "* Python 2.x中不等于有两种写法 != 和 <>\n",
    "* Python 3.x中去掉了<>, 只有!=一种写法，习惯上都是!=，不用在意这个"
   ]
  },
  {
   "cell_type": "markdown",
   "metadata": {},
   "source": [
    "### 去掉了repr表达式\\`\\`"
   ]
  },
  {
   "cell_type": "markdown",
   "metadata": {},
   "source": [
    "* Python 2.x 中反引号``相当于repr函数的作用\n",
    "* Python 3.x 中去掉了``这种写法，只允许使用repr函数，repr一般只在debug的时候才用，多数时候还是用str函数来用字符串描述对象。"
   ]
  },
  {
   "cell_type": "markdown",
   "metadata": {},
   "source": [
    "### 多个模块被改名\n",
    "\n",
    "|旧的名字|\t新的名字|\n",
    "|:--------:|:------:|\n",
    "|`_winreg`\t|winreg|\n",
    "|ConfigParser|\tconfigparser|\n",
    "|copy_reg|\tcopyreg|\n",
    "|Queue|\tqueue|\n",
    "|SocketServer|\tsocketserver|\n",
    "|repr|\treprlib|"
   ]
  },
  {
   "cell_type": "markdown",
   "metadata": {},
   "source": [
    "httplib, BaseHTTPServer, CGIHTTPServer, SimpleHTTPServer, Cookie, cookielib被合并到http包内。取消了exec语句，只剩下exec()函数"
   ]
  },
  {
   "cell_type": "markdown",
   "metadata": {},
   "source": [
    "### 数据类型"
   ]
  },
  {
   "cell_type": "markdown",
   "metadata": {},
   "source": [
    "* Py3.X去除了long类型，现在只有一种整型int，但它的行为就像2.X版本的long\n",
    "* 新增了bytes类型，对应于2.X版本的八位串，定义一个bytes字面量的方法如下："
   ]
  },
  {
   "cell_type": "code",
   "execution_count": 7,
   "metadata": {},
   "outputs": [
    {
     "data": {
      "text/plain": [
       "bytes"
      ]
     },
     "execution_count": 7,
     "metadata": {},
     "output_type": "execute_result"
    }
   ],
   "source": [
    "# python3\n",
    "b = b'china'\n",
    "type(b)"
   ]
  },
  {
   "cell_type": "markdown",
   "metadata": {},
   "source": [
    "* str对象和bytes对象转换：`str -> bytes`----`.encode()` 或者 `bytes -> str`----`.decode()`\n",
    "* dict的.keys()、.items 和.values()方法返回迭代器，而之前的iterkeys()等函数都被废弃。同时去掉的还有 dict.has_key()，用 in替代它"
   ]
  },
  {
   "cell_type": "markdown",
   "metadata": {},
   "source": [
    "### map、filter 和 reduce"
   ]
  },
  {
   "cell_type": "markdown",
   "metadata": {},
   "source": [
    "* Python2.x 的交互下输入 map 和 filter,看到它们两者的类型是 built-in function(内置函数):\n",
    "\n",
    "```python\n",
    "# python2中他们都是内置函数，输出都是列表\n",
    ">>> map\n",
    "<built-in function map>\n",
    ">>> filter\n",
    "<built-in function filter>\n",
    ">>> map(lambda x:x *2, [1,2,3])\n",
    "[2, 4, 6]\n",
    ">>> filter(lambda x:x %2 ==0,range(10))\n",
    "[0, 2, 4, 6, 8]\n",
    ">>>\n",
    "```\n",
    "```python\n",
    "# python3中他们变成了类，返回结果变成了可迭代对象\n",
    ">>> map\n",
    "<class 'map'>\n",
    ">>> map(print,[1,2,3])\n",
    "<map object at 0x10d8bd400>\n",
    ">>> filter\n",
    "<class 'filter'>\n",
    ">>> filter(lambda x:x % 2 == 0, range(10))\n",
    "<filter object at 0x10d8bd3c8>\n",
    ">>> f =filter(lambda x:x %2 ==0, range(10))\n",
    ">>> next(f)\n",
    "0\n",
    ">>> next(f)\n",
    "2\n",
    ">>> next(f)\n",
    "4\n",
    ">>> next(f)\n",
    "6\n",
    "```\n",
    "注意：Python2中，next()函数 and .next()方法都能用，Python3中只有next()函数"
   ]
  },
  {
   "cell_type": "markdown",
   "metadata": {},
   "source": [
    "### For循环变量和全局命名空间泄漏"
   ]
  },
  {
   "cell_type": "code",
   "execution_count": 2,
   "metadata": {},
   "outputs": [
    {
     "name": "stdout",
     "output_type": "stream",
     "text": [
      " before: i = 1\n",
      "comprehension:  [0, 1, 2, 3, 4]\n",
      "after: i = 4\n"
     ]
    }
   ],
   "source": [
    "# python2\n",
    "i = 1\n",
    "print 'before: i =', i\n",
    "print 'comprehension: ', [i for i in range(5)]\n",
    "print 'after: i =', i"
   ]
  },
  {
   "cell_type": "code",
   "execution_count": 1,
   "metadata": {},
   "outputs": [
    {
     "name": "stdout",
     "output_type": "stream",
     "text": [
      "before: i = 1\n",
      "comprehension: [0, 1, 2, 3, 4]\n",
      "after: i = 1\n"
     ]
    }
   ],
   "source": [
    "# python3\n",
    "i = 1\n",
    "print('before: i =', i)\n",
    "print('comprehension:', [i for i in range(5)])\n",
    "print('after: i =', i)"
   ]
  },
  {
   "cell_type": "markdown",
   "metadata": {},
   "source": [
    "### 返回可迭代对象，而不是列表"
   ]
  },
  {
   "cell_type": "code",
   "execution_count": 1,
   "metadata": {},
   "outputs": [
    {
     "name": "stdout",
     "output_type": "stream",
     "text": [
      "[0, 1, 2]\n",
      "<type 'list'>\n"
     ]
    }
   ],
   "source": [
    "# python2\n",
    "print range(3)\n",
    "print type(range(3))"
   ]
  },
  {
   "cell_type": "code",
   "execution_count": 1,
   "metadata": {},
   "outputs": [
    {
     "name": "stdout",
     "output_type": "stream",
     "text": [
      "range(0, 3)\n",
      "<class 'range'>\n",
      "[0, 1, 2]\n"
     ]
    }
   ],
   "source": [
    "# python3\n",
    "print(range(3))\n",
    "print(type(range(3)))\n",
    "print(list(range(3)))"
   ]
  },
  {
   "cell_type": "markdown",
   "metadata": {},
   "source": [
    "Python 3 中一些经常使用到的不再返回列表的函数和方法：\n",
    "```python\n",
    "zip()\n",
    "map()\n",
    "filter()\n",
    "dictionary’s .keys() method\n",
    "dictionary’s .values() method\n",
    "dictionary’s .items() method\n",
    "```"
   ]
  },
  {
   "cell_type": "markdown",
   "metadata": {},
   "source": [
    "### 参考\n",
    "* http://t.cn/RVJIxxm\n",
    "* http://www.runoob.com/python/python-2x-3x.html"
   ]
  },
  {
   "cell_type": "code",
   "execution_count": null,
   "metadata": {},
   "outputs": [],
   "source": []
  }
 ],
 "metadata": {
  "kernelspec": {
   "display_name": "Python 3",
   "language": "python",
   "name": "python3"
  },
  "language_info": {
   "codemirror_mode": {
    "name": "ipython",
    "version": 3
   },
   "file_extension": ".py",
   "mimetype": "text/x-python",
   "name": "python",
   "nbconvert_exporter": "python",
   "pygments_lexer": "ipython3",
   "version": "3.7.0"
  }
 },
 "nbformat": 4,
 "nbformat_minor": 2
}
