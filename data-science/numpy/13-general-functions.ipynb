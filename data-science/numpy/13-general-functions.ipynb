{
 "cells": [
  {
   "cell_type": "markdown",
   "metadata": {},
   "source": [
    "# 一般函数"
   ]
  },
  {
   "cell_type": "markdown",
   "metadata": {
    "toc": true
   },
   "source": [
    "<h1>Contents<span class=\"tocSkip\"></span></h1>\n",
    "<div class=\"toc\"><ul class=\"toc-item\"><li><span><a href=\"#三角函数\" data-toc-modified-id=\"三角函数-1\"><span class=\"toc-item-num\">1&nbsp;&nbsp;</span>三角函数</a></span></li><li><span><a href=\"#向量操作\" data-toc-modified-id=\"向量操作-2\"><span class=\"toc-item-num\">2&nbsp;&nbsp;</span>向量操作</a></span></li><li><span><a href=\"#其他操作\" data-toc-modified-id=\"其他操作-3\"><span class=\"toc-item-num\">3&nbsp;&nbsp;</span>其他操作</a></span></li><li><span><a href=\"#类型处理\" data-toc-modified-id=\"类型处理-4\"><span class=\"toc-item-num\">4&nbsp;&nbsp;</span>类型处理</a></span></li><li><span><a href=\"#修改形状\" data-toc-modified-id=\"修改形状-5\"><span class=\"toc-item-num\">5&nbsp;&nbsp;</span>修改形状</a></span></li><li><span><a href=\"#其他有用函数\" data-toc-modified-id=\"其他有用函数-6\"><span class=\"toc-item-num\">6&nbsp;&nbsp;</span>其他有用函数</a></span></li></ul></div>"
   ]
  },
  {
   "cell_type": "code",
   "execution_count": 1,
   "metadata": {},
   "outputs": [],
   "source": [
    "import numpy as np"
   ]
  },
  {
   "cell_type": "markdown",
   "metadata": {},
   "source": [
    "## 三角函数"
   ]
  },
  {
   "cell_type": "markdown",
   "metadata": {},
   "source": [
    "```\n",
    "sin(x)\n",
    "cos(x)\n",
    "tan(x)\n",
    "sinh(x)\n",
    "conh(x)\n",
    "tanh(x)\n",
    "arccos(x)\n",
    "arctan(x)\n",
    "arcsin(x)\n",
    "arccosh(x)\n",
    "arctanh(x)\n",
    "arcsinh(x)\n",
    "arctan2(x,y)\n",
    "```"
   ]
  },
  {
   "cell_type": "markdown",
   "metadata": {},
   "source": [
    "`arctan2(x,y) 返回 arctan(x/y) `"
   ]
  },
  {
   "cell_type": "markdown",
   "metadata": {},
   "source": [
    "## 向量操作"
   ]
  },
  {
   "cell_type": "markdown",
   "metadata": {},
   "source": [
    "```\n",
    "dot(x,y)\n",
    "inner(x,y)\n",
    "cross(x,y)\n",
    "vdot(x,y)\n",
    "outer(x,y)\n",
    "kron(x,y)\n",
    "tensordot(x,y[,axis])\n",
    "```"
   ]
  },
  {
   "cell_type": "markdown",
   "metadata": {},
   "source": [
    "## 其他操作"
   ]
  },
  {
   "cell_type": "markdown",
   "metadata": {},
   "source": [
    "```\n",
    "exp(x)\n",
    "log(x)\n",
    "log10(x)\n",
    "sqrt(x)\n",
    "absolute(x)\n",
    "conjugate(x)\n",
    "negative(x)\n",
    "ceil(x)\n",
    "floor(x)\n",
    "fabs(x)\n",
    "hypot(x)\n",
    "fmod(x)\n",
    "maximum(x,y)\n",
    "minimum(x,y)\n",
    "\n",
    "```\n",
    "hypot 返回对应点 (x,y) 到原点的距离"
   ]
  },
  {
   "cell_type": "code",
   "execution_count": 2,
   "metadata": {},
   "outputs": [
    {
     "data": {
      "text/plain": [
       "array([4.12310563, 5.38516481, 6.70820393])"
      ]
     },
     "execution_count": 2,
     "metadata": {},
     "output_type": "execute_result"
    }
   ],
   "source": [
    "x = np.array([1,2,3])\n",
    "y = np.array([4,5,6])\n",
    "np.hypot(x,y)"
   ]
  },
  {
   "cell_type": "markdown",
   "metadata": {},
   "source": [
    "## 类型处理"
   ]
  },
  {
   "cell_type": "markdown",
   "metadata": {},
   "source": [
    "```\n",
    "iscomplexobj\n",
    "iscomplex\n",
    "isrealobj\n",
    "isreal\n",
    "imag\n",
    "real\n",
    "real_if_close\n",
    "isscalar\n",
    "isneginf\n",
    "isposinf\n",
    "isinf\n",
    "isfinite\n",
    "isnan\n",
    "nan_to_num\n",
    "common_type\n",
    "typename\n",
    "```"
   ]
  },
  {
   "cell_type": "code",
   "execution_count": 3,
   "metadata": {},
   "outputs": [
    {
     "data": {
      "text/plain": [
       "inf"
      ]
     },
     "execution_count": 3,
     "metadata": {},
     "output_type": "execute_result"
    }
   ],
   "source": [
    "# 正无穷\n",
    "np.inf"
   ]
  },
  {
   "cell_type": "code",
   "execution_count": 4,
   "metadata": {},
   "outputs": [
    {
     "data": {
      "text/plain": [
       "-inf"
      ]
     },
     "execution_count": 4,
     "metadata": {},
     "output_type": "execute_result"
    }
   ],
   "source": [
    "# 负无穷\n",
    "-np.inf"
   ]
  },
  {
   "cell_type": "code",
   "execution_count": 5,
   "metadata": {},
   "outputs": [
    {
     "data": {
      "text/plain": [
       "nan"
      ]
     },
     "execution_count": 5,
     "metadata": {},
     "output_type": "execute_result"
    }
   ],
   "source": [
    "# 非法值\n",
    "np.nan"
   ]
  },
  {
   "cell_type": "code",
   "execution_count": 6,
   "metadata": {},
   "outputs": [
    {
     "data": {
      "text/plain": [
       "False"
      ]
     },
     "execution_count": 6,
     "metadata": {},
     "output_type": "execute_result"
    }
   ],
   "source": [
    "# 检查是否为无穷\n",
    "np.isinf(1.0)"
   ]
  },
  {
   "cell_type": "code",
   "execution_count": 7,
   "metadata": {},
   "outputs": [
    {
     "data": {
      "text/plain": [
       "True"
      ]
     },
     "execution_count": 7,
     "metadata": {},
     "output_type": "execute_result"
    }
   ],
   "source": [
    "np.isinf(-np.inf)"
   ]
  },
  {
   "cell_type": "code",
   "execution_count": 8,
   "metadata": {},
   "outputs": [
    {
     "name": "stderr",
     "output_type": "stream",
     "text": [
      "d:\\python\\lib\\site-packages\\ipykernel_launcher.py:2: RuntimeWarning: invalid value encountered in divide\n",
      "  \n"
     ]
    },
    {
     "data": {
      "text/plain": [
       "array([nan])"
      ]
     },
     "execution_count": 8,
     "metadata": {},
     "output_type": "execute_result"
    }
   ],
   "source": [
    "# 非法值\n",
    "# 返回一个非法值\n",
    "np.array([0])/0.0"
   ]
  },
  {
   "cell_type": "code",
   "execution_count": 9,
   "metadata": {},
   "outputs": [
    {
     "name": "stderr",
     "output_type": "stream",
     "text": [
      "d:\\python\\lib\\site-packages\\ipykernel_launcher.py:3: RuntimeWarning: divide by zero encountered in divide\n",
      "  This is separate from the ipykernel package so we can avoid doing imports until\n",
      "d:\\python\\lib\\site-packages\\ipykernel_launcher.py:3: RuntimeWarning: invalid value encountered in divide\n",
      "  This is separate from the ipykernel package so we can avoid doing imports until\n"
     ]
    },
    {
     "data": {
      "text/plain": [
       "array([nan, inf, inf, inf, inf])"
      ]
     },
     "execution_count": 9,
     "metadata": {},
     "output_type": "execute_result"
    }
   ],
   "source": [
    "# 只有0/0会得到nan\n",
    "a = np.arange(5.0)\n",
    "b = a / 0.0\n",
    "b"
   ]
  },
  {
   "cell_type": "code",
   "execution_count": 11,
   "metadata": {},
   "outputs": [
    {
     "data": {
      "text/plain": [
       "False"
      ]
     },
     "execution_count": 11,
     "metadata": {},
     "output_type": "execute_result"
    }
   ],
   "source": [
    "# nan与任何数进行比较都是Flase\n",
    "b == np.nan"
   ]
  },
  {
   "cell_type": "code",
   "execution_count": 12,
   "metadata": {},
   "outputs": [
    {
     "data": {
      "text/plain": [
       "True"
      ]
     },
     "execution_count": 12,
     "metadata": {},
     "output_type": "execute_result"
    }
   ],
   "source": [
    "np.isnan(b)"
   ]
  },
  {
   "cell_type": "markdown",
   "metadata": {},
   "source": [
    "## 修改形状"
   ]
  },
  {
   "cell_type": "markdown",
   "metadata": {},
   "source": [
    "```\n",
    "atleast_1d\n",
    "atleast_2d\n",
    "atleast_3d\n",
    "expand_dims\n",
    "apply_over_axes\n",
    "apply_along_axis\n",
    "hstack\n",
    "vstack\n",
    "dstack\n",
    "column_stack\n",
    "hsplit\n",
    "vsplit\n",
    "dsplit\n",
    "split\n",
    "squeeze\n",
    "```"
   ]
  },
  {
   "cell_type": "markdown",
   "metadata": {},
   "source": [
    "## 其他有用函数"
   ]
  },
  {
   "cell_type": "markdown",
   "metadata": {},
   "source": [
    "```\n",
    "fix\n",
    "mod\n",
    "amax\n",
    "amin\n",
    "ptp\n",
    "sum\n",
    "cumsum\n",
    "prod\n",
    "cumprod\n",
    "diff\n",
    "angle\n",
    "\n",
    "unwrap\n",
    "sort_complex\n",
    "trim_zeros\n",
    "fliplr\n",
    "flipud\n",
    "rot90\n",
    "diag\n",
    "eye\n",
    "select\n",
    "extract\n",
    "insert\n",
    "\n",
    "roots\n",
    "poly\n",
    "any\n",
    "all\n",
    "disp\n",
    "unique\n",
    "nansum\n",
    "nanmax\n",
    "nanargmax\n",
    "nanargmin\n",
    "nanmin\n",
    "\n",
    "```"
   ]
  },
  {
   "cell_type": "markdown",
   "metadata": {},
   "source": [
    "nan 开头的函数会进行相应的操作，但是忽略 nan 值。"
   ]
  },
  {
   "cell_type": "code",
   "execution_count": null,
   "metadata": {},
   "outputs": [],
   "source": []
  }
 ],
 "metadata": {
  "kernelspec": {
   "display_name": "Python 2",
   "language": "python",
   "name": "python2"
  },
  "language_info": {
   "codemirror_mode": {
    "name": "ipython",
    "version": 2
   },
   "file_extension": ".py",
   "mimetype": "text/x-python",
   "name": "python",
   "nbconvert_exporter": "python",
   "pygments_lexer": "ipython2",
   "version": "2.7.13"
  },
  "latex_envs": {
   "LaTeX_envs_menu_present": true,
   "autoclose": false,
   "autocomplete": true,
   "bibliofile": "biblio.bib",
   "cite_by": "apalike",
   "current_citInitial": 1,
   "eqLabelWithNumbers": true,
   "eqNumInitial": 1,
   "hotkeys": {
    "equation": "Ctrl-E",
    "itemize": "Ctrl-I"
   },
   "labels_anchors": false,
   "latex_user_defs": false,
   "report_style_numbering": false,
   "user_envs_cfg": false
  },
  "toc": {
   "base_numbering": 1,
   "nav_menu": {},
   "number_sections": true,
   "sideBar": true,
   "skip_h1_title": true,
   "title_cell": "Contents",
   "title_sidebar": "Contents",
   "toc_cell": true,
   "toc_position": {},
   "toc_section_display": true,
   "toc_window_display": false
  }
 },
 "nbformat": 4,
 "nbformat_minor": 2
}
