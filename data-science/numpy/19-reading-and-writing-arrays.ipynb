{
 "cells": [
  {
   "cell_type": "markdown",
   "metadata": {},
   "source": [
    "# 数组读写"
   ]
  },
  {
   "cell_type": "markdown",
   "metadata": {
    "toc": true
   },
   "source": [
    "<h1>Contents<span class=\"tocSkip\"></span></h1>\n",
    "<div class=\"toc\"><ul class=\"toc-item\"><li><span><a href=\"#从文本中读取数组\" data-toc-modified-id=\"从文本中读取数组-1\"><span class=\"toc-item-num\">1&nbsp;&nbsp;</span>从文本中读取数组</a></span><ul class=\"toc-item\"><li><span><a href=\"#空格（制表符）分割的文本\" data-toc-modified-id=\"空格（制表符）分割的文本-1.1\"><span class=\"toc-item-num\">1.1&nbsp;&nbsp;</span>空格（制表符）分割的文本</a></span></li><li><span><a href=\"#逗号分割文件\" data-toc-modified-id=\"逗号分割文件-1.2\"><span class=\"toc-item-num\">1.2&nbsp;&nbsp;</span>逗号分割文件</a></span></li><li><span><a href=\"#loadtxt函数\" data-toc-modified-id=\"loadtxt函数-1.3\"><span class=\"toc-item-num\">1.3&nbsp;&nbsp;</span>loadtxt函数</a></span></li><li><span><a href=\"#loadtxt的更多特性\" data-toc-modified-id=\"loadtxt的更多特性-1.4\"><span class=\"toc-item-num\">1.4&nbsp;&nbsp;</span>loadtxt的更多特性</a></span></li><li><span><a href=\"#loadtxt自定义转换方法\" data-toc-modified-id=\"loadtxt自定义转换方法-1.5\"><span class=\"toc-item-num\">1.5&nbsp;&nbsp;</span>loadtxt自定义转换方法</a></span></li><li><span><a href=\"#读写各种格式的文件\" data-toc-modified-id=\"读写各种格式的文件-1.6\"><span class=\"toc-item-num\">1.6&nbsp;&nbsp;</span>读写各种格式的文件</a></span></li></ul></li><li><span><a href=\"#将数组写入文件\" data-toc-modified-id=\"将数组写入文件-2\"><span class=\"toc-item-num\">2&nbsp;&nbsp;</span>将数组写入文件</a></span></li><li><span><a href=\"#Numpy二进制格式\" data-toc-modified-id=\"Numpy二进制格式-3\"><span class=\"toc-item-num\">3&nbsp;&nbsp;</span>Numpy二进制格式</a></span><ul class=\"toc-item\"><li><span><a href=\"#单个数组的读取\" data-toc-modified-id=\"单个数组的读取-3.1\"><span class=\"toc-item-num\">3.1&nbsp;&nbsp;</span>单个数组的读取</a></span></li><li><span><a href=\"#二进制与文本大小比较\" data-toc-modified-id=\"二进制与文本大小比较-3.2\"><span class=\"toc-item-num\">3.2&nbsp;&nbsp;</span>二进制与文本大小比较</a></span></li><li><span><a href=\"#保存多个数组\" data-toc-modified-id=\"保存多个数组-3.3\"><span class=\"toc-item-num\">3.3&nbsp;&nbsp;</span>保存多个数组</a></span></li><li><span><a href=\"#压缩文件\" data-toc-modified-id=\"压缩文件-3.4\"><span class=\"toc-item-num\">3.4&nbsp;&nbsp;</span>压缩文件</a></span></li></ul></li></ul></div>"
   ]
  },
  {
   "cell_type": "markdown",
   "metadata": {},
   "source": [
    "## 从文本中读取数组"
   ]
  },
  {
   "cell_type": "code",
   "execution_count": 1,
   "metadata": {},
   "outputs": [],
   "source": [
    "import numpy as np"
   ]
  },
  {
   "cell_type": "markdown",
   "metadata": {},
   "source": [
    "### 空格（制表符）分割的文本"
   ]
  },
  {
   "cell_type": "code",
   "execution_count": 3,
   "metadata": {},
   "outputs": [
    {
     "name": "stdout",
     "output_type": "stream",
     "text": [
      "Writing myfile.txt\n"
     ]
    }
   ],
   "source": [
    "%%writefile myfile.txt\n",
    "2.1 2.3 3.2 1.3 3.1\n",
    "6.1 3.1 4.2 2.3 1.8"
   ]
  },
  {
   "cell_type": "code",
   "execution_count": 4,
   "metadata": {},
   "outputs": [],
   "source": [
    "data = []\n",
    "with open('myfile.txt') as f:\n",
    "    for line in f:\n",
    "        # 分割方法\n",
    "        fileds = line.split()\n",
    "        row_data = [float(x) for x in fileds]\n",
    "        data.append(row_data)\n",
    "        \n",
    "data = np.array(data)"
   ]
  },
  {
   "cell_type": "code",
   "execution_count": 5,
   "metadata": {},
   "outputs": [
    {
     "data": {
      "text/plain": [
       "array([[2.1, 2.3, 3.2, 1.3, 3.1],\n",
       "       [6.1, 3.1, 4.2, 2.3, 1.8]])"
      ]
     },
     "execution_count": 5,
     "metadata": {},
     "output_type": "execute_result"
    }
   ],
   "source": [
    "data"
   ]
  },
  {
   "cell_type": "code",
   "execution_count": 6,
   "metadata": {},
   "outputs": [
    {
     "data": {
      "text/plain": [
       "array([[2.1, 2.3, 3.2, 1.3, 3.1],\n",
       "       [6.1, 3.1, 4.2, 2.3, 1.8]])"
      ]
     },
     "execution_count": 6,
     "metadata": {},
     "output_type": "execute_result"
    }
   ],
   "source": [
    "# 也可以用loadtxt方法\n",
    "data = np.loadtxt('myfile.txt')\n",
    "data"
   ]
  },
  {
   "cell_type": "markdown",
   "metadata": {},
   "source": [
    "### 逗号分割文件"
   ]
  },
  {
   "cell_type": "code",
   "execution_count": 9,
   "metadata": {},
   "outputs": [
    {
     "name": "stdout",
     "output_type": "stream",
     "text": [
      "Overwriting myfile.txt\n"
     ]
    }
   ],
   "source": [
    "%%writefile myfile.txt\n",
    "2.1, 2.3, 3.2, 1.3, 3.1\n",
    "6.1, 3.1, 4.2, 2.3, 1.8"
   ]
  },
  {
   "cell_type": "markdown",
   "metadata": {},
   "source": [
    "对于逗号分隔的文件（通常为.csv格式）,我们可以稍微修改之前繁琐的过程，将 split 的参数变成 ','即可。"
   ]
  },
  {
   "cell_type": "code",
   "execution_count": 10,
   "metadata": {},
   "outputs": [
    {
     "data": {
      "text/plain": [
       "array([[2.1, 2.3, 3.2, 1.3, 3.1],\n",
       "       [6.1, 3.1, 4.2, 2.3, 1.8]])"
      ]
     },
     "execution_count": 10,
     "metadata": {},
     "output_type": "execute_result"
    }
   ],
   "source": [
    "data = np.loadtxt('myfile.txt',delimiter=',')\n",
    "data"
   ]
  },
  {
   "cell_type": "markdown",
   "metadata": {},
   "source": [
    "### loadtxt函数"
   ]
  },
  {
   "cell_type": "markdown",
   "metadata": {},
   "source": [
    "```python\n",
    "loadtxt(fname, dtype=<type 'float'>, \n",
    "        comments='#', delimiter=None, \n",
    "        converters=None, skiprows=0, \n",
    "        usecols=None, unpack=False, ndmin=0)\n",
    "```"
   ]
  },
  {
   "cell_type": "markdown",
   "metadata": {},
   "source": [
    "* loadtxt 有很多可选参数，其中 delimiter 就是刚才用到的分隔符参数。\n",
    "\n",
    "* skiprows 参数表示忽略开头的行数，可以用来读写含有标题的文本"
   ]
  },
  {
   "cell_type": "code",
   "execution_count": 11,
   "metadata": {},
   "outputs": [
    {
     "name": "stdout",
     "output_type": "stream",
     "text": [
      "Overwriting myfile.txt\n"
     ]
    }
   ],
   "source": [
    "%%writefile myfile.txt\n",
    "X Y Z MAG ANG\n",
    "2.1 2.3 3.2 1.3 3.1\n",
    "6.1 3.1 4.2 2.3 1.8"
   ]
  },
  {
   "cell_type": "code",
   "execution_count": 12,
   "metadata": {},
   "outputs": [
    {
     "data": {
      "text/plain": [
       "array([[2.1, 2.3, 3.2, 1.3, 3.1],\n",
       "       [6.1, 3.1, 4.2, 2.3, 1.8]])"
      ]
     },
     "execution_count": 12,
     "metadata": {},
     "output_type": "execute_result"
    }
   ],
   "source": [
    "np.loadtxt('myfile.txt',skiprows=1)"
   ]
  },
  {
   "cell_type": "markdown",
   "metadata": {},
   "source": [
    "功能更全的genfromtxt函数\n",
    "```python\n",
    "genfromtxt(fname, dtype=<type 'float'>, comments='#', delimiter=None, \n",
    "           skiprows=0, skip_header=0, skip_footer=0, converters=None, \n",
    "           missing='', missing_values=None, filling_values=None, usecols=None, \n",
    "           names=None, excludelist=None, deletechars=None, replace_space='_', \n",
    "           autostrip=False, case_sensitive=True, defaultfmt='f%i', unpack=None, \n",
    "           usemask=False, loose=True, invalid_raise=True)\n",
    "```"
   ]
  },
  {
   "cell_type": "markdown",
   "metadata": {},
   "source": [
    "### loadtxt的更多特性"
   ]
  },
  {
   "cell_type": "code",
   "execution_count": 13,
   "metadata": {},
   "outputs": [
    {
     "name": "stdout",
     "output_type": "stream",
     "text": [
      "Overwriting myfile.txt\n"
     ]
    }
   ],
   "source": [
    "%%writefile myfile.txt\n",
    " -- BEGINNING OF THE FILE\n",
    "% Day, Month, Year, Skip, Power\n",
    "01, 01, 2000, x876, 13 % wow!\n",
    "% we don't want have Jan 03rd\n",
    "04, 01, 2000, xfed, 55"
   ]
  },
  {
   "cell_type": "code",
   "execution_count": 14,
   "metadata": {},
   "outputs": [
    {
     "data": {
      "text/plain": [
       "array([[   1,    1, 2000,   13],\n",
       "       [   4,    1, 2000,   55]])"
      ]
     },
     "execution_count": 14,
     "metadata": {},
     "output_type": "execute_result"
    }
   ],
   "source": [
    "data = np.loadtxt('myfile.txt', \n",
    "                  skiprows=1,         #忽略第一行\n",
    "                  dtype=np.int,      #数组类型\n",
    "                  delimiter=',',     #逗号分割\n",
    "                  usecols=(0,1,2,4), #指定使用哪几列数据\n",
    "                  comments='%'       #百分号为注释符\n",
    "                 )\n",
    "data"
   ]
  },
  {
   "cell_type": "markdown",
   "metadata": {},
   "source": [
    "### loadtxt自定义转换方法"
   ]
  },
  {
   "cell_type": "code",
   "execution_count": 15,
   "metadata": {},
   "outputs": [
    {
     "name": "stdout",
     "output_type": "stream",
     "text": [
      "Overwriting myfile.txt\n"
     ]
    }
   ],
   "source": [
    "%%writefile myfile.txt\n",
    "2010-01-01 2.3 3.2\n",
    "2011-01-01 6.1 3.1"
   ]
  },
  {
   "cell_type": "code",
   "execution_count": 16,
   "metadata": {},
   "outputs": [
    {
     "data": {
      "text/plain": [
       "array([[datetime.datetime(2010, 1, 1, 0, 0), 2.3, 3.2],\n",
       "       [datetime.datetime(2011, 1, 1, 0, 0), 6.1, 3.1]], dtype=object)"
      ]
     },
     "execution_count": 16,
     "metadata": {},
     "output_type": "execute_result"
    }
   ],
   "source": [
    "# 假设我们的文本包含日期，我们可以使用 datetime 在 loadtxt 中处理：\n",
    "import datetime\n",
    "\n",
    "def date_converter(s):\n",
    "    return datetime.datetime.strptime(s, \"%Y-%m-%d\")\n",
    "\n",
    "data = np.loadtxt('myfile.txt',\n",
    "                  dtype=np.object, #数据类型为对象\n",
    "                  converters={0:date_converter,  #第一列使用自定义转换方法\n",
    "                              1:float,           #第二第三使用浮点数转换\n",
    "                              2:float})\n",
    "\n",
    "data"
   ]
  },
  {
   "cell_type": "code",
   "execution_count": 17,
   "metadata": {},
   "outputs": [],
   "source": [
    "import os\n",
    "os.remove('myfile.txt')"
   ]
  },
  {
   "cell_type": "markdown",
   "metadata": {},
   "source": [
    "### 读写各种格式的文件"
   ]
  },
  {
   "cell_type": "markdown",
   "metadata": {},
   "source": [
    "文件格式\t|使用的包|\t函数\n",
    "-------|------|-------\n",
    "txt|\tnumpy|\tloadtxt, genfromtxt, fromfile, savetxt, tofile\n",
    "csv\t|csv|\treader, writer\n",
    "Matlab\t|scipy.io|\tloadmat, savemat\n",
    "hdf|\tpytables, h5py\t\n",
    "NetCDF|\tnetCDF4, scipy.io.netcdf|\tnetCDF4.Dataset, scipy.io.netcdf.netcdf_file\n",
    "文件格式|\t使用的包|\t备注\n",
    "wav|\tscipy.io.wavfile|\t音频文件\n",
    "jpeg,png,...|\tPIL, scipy.misc.pilutil|\t图像文件\n",
    "fits|\tpyfits|\t天文图像"
   ]
  },
  {
   "cell_type": "markdown",
   "metadata": {},
   "source": [
    "pandas- 一个用来处理时间序列的包中包含处理各种文件的方法:http://pandas.pydata.org/pandas-docs/stable/io.html"
   ]
  },
  {
   "cell_type": "markdown",
   "metadata": {},
   "source": [
    "## 将数组写入文件"
   ]
  },
  {
   "cell_type": "code",
   "execution_count": 18,
   "metadata": {},
   "outputs": [],
   "source": [
    "# savetxt 可以将数组写入文件，默认使用科学计数法的形式保存\n",
    "data = np.array([[1,2],\n",
    "                 [3,4]])\n",
    "np.savetxt('out.txt',data)"
   ]
  },
  {
   "cell_type": "code",
   "execution_count": 19,
   "metadata": {},
   "outputs": [
    {
     "name": "stdout",
     "output_type": "stream",
     "text": [
      "1.000000000000000000e+00 2.000000000000000000e+00\n",
      "\n",
      "3.000000000000000000e+00 4.000000000000000000e+00\n",
      "\n"
     ]
    }
   ],
   "source": [
    "with open('out.txt') as f:\n",
    "    for line in f:\n",
    "        print line"
   ]
  },
  {
   "cell_type": "code",
   "execution_count": 22,
   "metadata": {},
   "outputs": [
    {
     "name": "stdout",
     "output_type": "stream",
     "text": [
      "1 2\n",
      "\n",
      "3 4\n",
      "\n"
     ]
    }
   ],
   "source": [
    "# 指定输出格式\n",
    "data = np.array([[1,2],\n",
    "                [3,4]])\n",
    "np.savetxt('out.txt',data, fmt=\"%d\") # 输出为整数\n",
    "with open('out.txt') as f:\n",
    "    for line in f:\n",
    "        print line"
   ]
  },
  {
   "cell_type": "code",
   "execution_count": 23,
   "metadata": {},
   "outputs": [
    {
     "name": "stdout",
     "output_type": "stream",
     "text": [
      "1.00,2.00\n",
      "\n",
      "3.00,4.00\n",
      "\n"
     ]
    }
   ],
   "source": [
    "# 逗号分割的输出\n",
    "data = np.array([[1,2],\n",
    "                [3,4]])\n",
    "np.savetxt('out.txt',data,fmt='%.2f',delimiter=',')\n",
    "with open('out.txt')as f:\n",
    "    for line in f:\n",
    "        print line"
   ]
  },
  {
   "cell_type": "markdown",
   "metadata": {},
   "source": [
    "更多参数：\n",
    "```python\n",
    "savetxt(fname, \n",
    "        X, \n",
    "        fmt='%.18e', \n",
    "        delimiter=' ', \n",
    "        newline='\\n', \n",
    "        header='', \n",
    "        footer='', \n",
    "        comments='# ')\n",
    "```"
   ]
  },
  {
   "cell_type": "code",
   "execution_count": 24,
   "metadata": {},
   "outputs": [],
   "source": [
    "import os\n",
    "os.remove('out.txt')"
   ]
  },
  {
   "cell_type": "markdown",
   "metadata": {},
   "source": [
    "## Numpy二进制格式"
   ]
  },
  {
   "cell_type": "markdown",
   "metadata": {},
   "source": [
    "数组可以储存成二进制格式，单个的数组保存为 `.npy` 格式，多个数组保存为多个`.npy`文件组成的 `.npz` 格式，每个 `.npy` 文件包含一个数组。\n",
    "\n",
    "与文本格式不同，二进制格式保存了数组的 `shape, dtype`信息，以便完全重构出保存的数组。\n",
    "\n",
    "保存的方法：\n",
    "\n",
    "* `save(file, arr)` 保存单个数组，.npy 格式\n",
    "* `savez(file, *args, **kwds)` 保存多个数组，无压缩的 .npz 格式\n",
    "* `savez_compressed(file, *args, **kwds)` 保存多个数组，有压缩的 .npz 格式\n",
    "\n",
    "读取的方法：\n",
    "\n",
    "* `load(file, mmap_mode=None)` 对于 `.npy`，返回保存的数组，对于 `.npz`，返回一个名称-数组对组成的字典。"
   ]
  },
  {
   "cell_type": "markdown",
   "metadata": {},
   "source": [
    "### 单个数组的读取"
   ]
  },
  {
   "cell_type": "code",
   "execution_count": 25,
   "metadata": {},
   "outputs": [],
   "source": [
    "a = np.array([[1.0,2.0], [3.0,4.0]])\n",
    "\n",
    "fname = 'afile.npy'\n",
    "np.save(fname, a)"
   ]
  },
  {
   "cell_type": "code",
   "execution_count": 26,
   "metadata": {},
   "outputs": [
    {
     "data": {
      "text/plain": [
       "array([[1., 2.],\n",
       "       [3., 4.]])"
      ]
     },
     "execution_count": 26,
     "metadata": {},
     "output_type": "execute_result"
    }
   ],
   "source": [
    "aa = np.load(fname)\n",
    "aa"
   ]
  },
  {
   "cell_type": "code",
   "execution_count": 27,
   "metadata": {},
   "outputs": [],
   "source": [
    "import os\n",
    "os.remove(fname)"
   ]
  },
  {
   "cell_type": "markdown",
   "metadata": {},
   "source": [
    "### 二进制与文本大小比较 "
   ]
  },
  {
   "cell_type": "code",
   "execution_count": 42,
   "metadata": {},
   "outputs": [],
   "source": [
    "a = np.arange(10000.)"
   ]
  },
  {
   "cell_type": "code",
   "execution_count": 43,
   "metadata": {},
   "outputs": [],
   "source": [
    "fname = 'a.txt'\n",
    "bname = 'a.npy'\n",
    "np.savetxt(fname,a)"
   ]
  },
  {
   "cell_type": "code",
   "execution_count": 44,
   "metadata": {},
   "outputs": [
    {
     "data": {
      "text/plain": [
       "260000L"
      ]
     },
     "execution_count": 44,
     "metadata": {},
     "output_type": "execute_result"
    }
   ],
   "source": [
    "# 查看大小\n",
    "import os\n",
    "os.stat(fname).st_size"
   ]
  },
  {
   "cell_type": "code",
   "execution_count": 45,
   "metadata": {},
   "outputs": [],
   "source": [
    "# 保存为二进制\n",
    "np.save(bname,a)"
   ]
  },
  {
   "cell_type": "code",
   "execution_count": 46,
   "metadata": {},
   "outputs": [
    {
     "data": {
      "text/plain": [
       "80128L"
      ]
     },
     "execution_count": 46,
     "metadata": {},
     "output_type": "execute_result"
    }
   ],
   "source": [
    "os.stat(bname).st_size"
   ]
  },
  {
   "cell_type": "code",
   "execution_count": 47,
   "metadata": {},
   "outputs": [],
   "source": [
    "f = [fname,bname]\n",
    "for name in f:\n",
    "    os.remove(name)"
   ]
  },
  {
   "cell_type": "markdown",
   "metadata": {},
   "source": [
    "### 保存多个数组"
   ]
  },
  {
   "cell_type": "code",
   "execution_count": 77,
   "metadata": {},
   "outputs": [],
   "source": [
    "a = np.array([[1.0,2.0],\n",
    "             [3.0,4.0]])\n",
    "b = np.arange(1000)"
   ]
  },
  {
   "cell_type": "code",
   "execution_count": 78,
   "metadata": {},
   "outputs": [],
   "source": [
    "# 保存多个数组\n",
    "fname = 'data.npz'\n",
    "np.savez(fname,a=a,b=b)"
   ]
  },
  {
   "cell_type": "code",
   "execution_count": 79,
   "metadata": {},
   "outputs": [
    {
     "name": "stdout",
     "output_type": "stream",
     "text": [
      "Archive:  data.npz\n",
      "  Length      Date    Time    Name\n",
      "---------  ---------- -----   ----\n",
      "      160  2018-07-19 10:36   a.npy\n",
      "     4128  2018-07-19 10:36   b.npy\n",
      "---------                     -------\n",
      "     4288                     2 files\n"
     ]
    }
   ],
   "source": [
    "# 查看里面包含的文件：\n",
    "!unzip -l data.npz"
   ]
  },
  {
   "cell_type": "code",
   "execution_count": 80,
   "metadata": {},
   "outputs": [
    {
     "data": {
      "text/plain": [
       "['a', 'b']"
      ]
     },
     "execution_count": 80,
     "metadata": {},
     "output_type": "execute_result"
    }
   ],
   "source": [
    "data = np.load(fname)\n",
    "data.keys()"
   ]
  },
  {
   "cell_type": "code",
   "execution_count": 81,
   "metadata": {},
   "outputs": [
    {
     "data": {
      "text/plain": [
       "array([[1., 2.],\n",
       "       [3., 4.]])"
      ]
     },
     "execution_count": 81,
     "metadata": {},
     "output_type": "execute_result"
    }
   ],
   "source": [
    "data['a']"
   ]
  },
  {
   "cell_type": "code",
   "execution_count": 82,
   "metadata": {},
   "outputs": [],
   "source": [
    "# 要先删除 data，否则删除时会报错\n",
    "del data\n",
    "os.remove('data.npz')"
   ]
  },
  {
   "cell_type": "markdown",
   "metadata": {},
   "source": [
    "### 压缩文件"
   ]
  },
  {
   "cell_type": "code",
   "execution_count": 83,
   "metadata": {},
   "outputs": [],
   "source": [
    "# 当数据比较整齐时：\n",
    "a = np.arange(20000.)"
   ]
  },
  {
   "cell_type": "code",
   "execution_count": 84,
   "metadata": {},
   "outputs": [
    {
     "data": {
      "text/plain": [
       "160236L"
      ]
     },
     "execution_count": 84,
     "metadata": {},
     "output_type": "execute_result"
    }
   ],
   "source": [
    "# 无压缩大小\n",
    "import os\n",
    "fname = 'a.npz'\n",
    "np.savez(fname,a=a)\n",
    "os.stat(fname).st_size"
   ]
  },
  {
   "cell_type": "code",
   "execution_count": 85,
   "metadata": {},
   "outputs": [
    {
     "data": {
      "text/plain": [
       "26888L"
      ]
     },
     "execution_count": 85,
     "metadata": {},
     "output_type": "execute_result"
    }
   ],
   "source": [
    "# 有压缩大小，差不多6倍压缩\n",
    "import os\n",
    "fname = 'a.npz'\n",
    "np.savez_compressed(fname,a=a)\n",
    "os.stat(fname).st_size"
   ]
  },
  {
   "cell_type": "code",
   "execution_count": 88,
   "metadata": {},
   "outputs": [],
   "source": [
    "# 当数据比较混乱时\n",
    "a = np.random.rand(20000)"
   ]
  },
  {
   "cell_type": "code",
   "execution_count": 89,
   "metadata": {},
   "outputs": [
    {
     "data": {
      "text/plain": [
       "160236L"
      ]
     },
     "execution_count": 89,
     "metadata": {},
     "output_type": "execute_result"
    }
   ],
   "source": [
    "# 无压缩大小\n",
    "import os\n",
    "fname = 'a.npz'\n",
    "np.savez(fname,a=a)\n",
    "os.stat(fname).st_size"
   ]
  },
  {
   "cell_type": "code",
   "execution_count": 90,
   "metadata": {},
   "outputs": [
    {
     "data": {
      "text/plain": [
       "151062L"
      ]
     },
     "execution_count": 90,
     "metadata": {},
     "output_type": "execute_result"
    }
   ],
   "source": [
    "# 有压缩大小，差不多1.06倍压缩\n",
    "import os\n",
    "fname = 'a.npz'\n",
    "np.savez_compressed(fname,a=a)\n",
    "os.stat(fname).st_size"
   ]
  },
  {
   "cell_type": "code",
   "execution_count": 91,
   "metadata": {},
   "outputs": [],
   "source": [
    "os.remove(fname)"
   ]
  },
  {
   "cell_type": "code",
   "execution_count": 92,
   "metadata": {},
   "outputs": [
    {
     "name": "stdout",
     "output_type": "stream",
     "text": [
      "01-numpy-overview.ipynb\n",
      "02-matplotlib-basics.ipynb\n",
      "03-numpy-arrays.ipynb\n",
      "04-array-types.ipynb\n",
      "05-array-calculation-method.ipynb\n",
      "06-sorting-numpy-arrays.ipynb\n",
      "07-array-shapes.ipynb\n",
      "08-diagonals.ipynb\n",
      "09-data-to-&-from-string.ipynb\n",
      "10-array-attribute-&-method-overview.ipynb\n",
      "11-array-creation-functions.ipynb\n",
      "12-matrix-object.ipynb\n",
      "13-general-functions.ipynb\n",
      "14-vectorizing-functions.ipynb\n",
      "15-binary-operators.ipynb\n",
      "16-universal-functions.ipynb\n",
      "17-choose.ipynb\n",
      "18-array-broadcasting.ipynb\n",
      "19-reading-and-writing-arrays.ipynb\n"
     ]
    }
   ],
   "source": [
    "!ls"
   ]
  },
  {
   "cell_type": "code",
   "execution_count": null,
   "metadata": {},
   "outputs": [],
   "source": []
  }
 ],
 "metadata": {
  "kernelspec": {
   "display_name": "Python 2",
   "language": "python",
   "name": "python2"
  },
  "language_info": {
   "codemirror_mode": {
    "name": "ipython",
    "version": 2
   },
   "file_extension": ".py",
   "mimetype": "text/x-python",
   "name": "python",
   "nbconvert_exporter": "python",
   "pygments_lexer": "ipython2",
   "version": "2.7.13"
  },
  "latex_envs": {
   "LaTeX_envs_menu_present": true,
   "autoclose": false,
   "autocomplete": true,
   "bibliofile": "biblio.bib",
   "cite_by": "apalike",
   "current_citInitial": 1,
   "eqLabelWithNumbers": true,
   "eqNumInitial": 1,
   "hotkeys": {
    "equation": "Ctrl-E",
    "itemize": "Ctrl-I"
   },
   "labels_anchors": false,
   "latex_user_defs": false,
   "report_style_numbering": false,
   "user_envs_cfg": false
  },
  "toc": {
   "base_numbering": 1,
   "nav_menu": {},
   "number_sections": true,
   "sideBar": true,
   "skip_h1_title": true,
   "title_cell": "Contents",
   "title_sidebar": "Contents",
   "toc_cell": true,
   "toc_position": {
    "height": "calc(100% - 180px)",
    "left": "10px",
    "top": "150px",
    "width": "166px"
   },
   "toc_section_display": true,
   "toc_window_display": true
  }
 },
 "nbformat": 4,
 "nbformat_minor": 2
}
