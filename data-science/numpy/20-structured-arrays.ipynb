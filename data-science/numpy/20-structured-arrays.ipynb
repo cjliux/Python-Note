{
 "cells": [
  {
   "cell_type": "markdown",
   "metadata": {},
   "source": [
    "# 结构化数组"
   ]
  },
  {
   "cell_type": "markdown",
   "metadata": {
    "toc": true
   },
   "source": [
    "<h1>Contents<span class=\"tocSkip\"></span></h1>\n",
    "<div class=\"toc\"><ul class=\"toc-item\"><li><span><a href=\"#创建自定义数组\" data-toc-modified-id=\"创建自定义数组-1\"><span class=\"toc-item-num\">1&nbsp;&nbsp;</span>创建自定义数组</a></span></li><li><span><a href=\"#从文本读取自定义数组\" data-toc-modified-id=\"从文本读取自定义数组-2\"><span class=\"toc-item-num\">2&nbsp;&nbsp;</span>从文本读取自定义数组</a></span></li><li><span><a href=\"#嵌套结构\" data-toc-modified-id=\"嵌套结构-3\"><span class=\"toc-item-num\">3&nbsp;&nbsp;</span>嵌套结构</a></span></li></ul></div>"
   ]
  },
  {
   "cell_type": "markdown",
   "metadata": {},
   "source": [
    "## 创建自定义数组"
   ]
  },
  {
   "cell_type": "markdown",
   "metadata": {},
   "source": [
    "保存数组：\n",
    "\n",
    "|name|\tage|\twgt\n",
    "----|---|-----\n",
    "0|\tdan\t|1|\t23.1\n",
    "1|\tann\t|0|\t25.1\n",
    "2|\tsam\t|2|\t8.3\n",
    "\n",
    "希望定义一个一维数组，每个元素有三个属性 `name, age, wgt`，此时我们需要使用结构化数组。"
   ]
  },
  {
   "cell_type": "code",
   "execution_count": 1,
   "metadata": {},
   "outputs": [],
   "source": [
    "import numpy as np"
   ]
  },
  {
   "cell_type": "code",
   "execution_count": 2,
   "metadata": {},
   "outputs": [],
   "source": [
    "a = np.array([1.0,2.0,3.0,4.0],np.float32)"
   ]
  },
  {
   "cell_type": "code",
   "execution_count": 3,
   "metadata": {},
   "outputs": [
    {
     "data": {
      "text/plain": [
       "array([1.+2.j, 3.+4.j], dtype=complex64)"
      ]
     },
     "execution_count": 3,
     "metadata": {},
     "output_type": "execute_result"
    }
   ],
   "source": [
    "# 使用view方法将a的内存按照复数来解释\n",
    "# 复数就是结构化数组real和imag\n",
    "a.view(np.complex64)"
   ]
  },
  {
   "cell_type": "code",
   "execution_count": 4,
   "metadata": {},
   "outputs": [
    {
     "data": {
      "text/plain": [
       "array([(1., 2.), (3., 4.)], dtype=[('mass', '<f4'), ('vol', '<f4')])"
      ]
     },
     "execution_count": 4,
     "metadata": {},
     "output_type": "execute_result"
    }
   ],
   "source": [
    "# 自定义数组结构\n",
    "my_dtype = np.dtype([('mass', 'float32'), ('vol', 'float32')])\n",
    "a.view(my_dtype)"
   ]
  },
  {
   "cell_type": "markdown",
   "metadata": {},
   "source": [
    "这里 `f4`表示四字节浮点数，`<`表示小字节序。"
   ]
  },
  {
   "cell_type": "code",
   "execution_count": 5,
   "metadata": {},
   "outputs": [
    {
     "name": "stdout",
     "output_type": "stream",
     "text": [
      "[(1., 1.) (2., 3.) (4., 5.) (1., 3.)]\n"
     ]
    }
   ],
   "source": [
    "# 初始化数组结构\n",
    "my_data = np.array([(1,1),(2,3),(4,5),(1,3)],my_dtype)\n",
    "print my_data"
   ]
  },
  {
   "cell_type": "code",
   "execution_count": 6,
   "metadata": {},
   "outputs": [
    {
     "data": {
      "text/plain": [
       "(1., 1.)"
      ]
     },
     "execution_count": 6,
     "metadata": {},
     "output_type": "execute_result"
    }
   ],
   "source": [
    "my_data[0]"
   ]
  },
  {
   "cell_type": "code",
   "execution_count": 8,
   "metadata": {},
   "outputs": [
    {
     "data": {
      "text/plain": [
       "1.0"
      ]
     },
     "execution_count": 8,
     "metadata": {},
     "output_type": "execute_result"
    }
   ],
   "source": [
    "my_data[0]['vol']"
   ]
  },
  {
   "cell_type": "code",
   "execution_count": 9,
   "metadata": {},
   "outputs": [
    {
     "data": {
      "text/plain": [
       "array([1., 2., 4., 1.], dtype=float32)"
      ]
     },
     "execution_count": 9,
     "metadata": {},
     "output_type": "execute_result"
    }
   ],
   "source": [
    "my_data['mass']"
   ]
  },
  {
   "cell_type": "code",
   "execution_count": 10,
   "metadata": {},
   "outputs": [
    {
     "name": "stdout",
     "output_type": "stream",
     "text": [
      "[(1., 1.) (1., 3.) (2., 3.) (4., 5.)]\n"
     ]
    }
   ],
   "source": [
    "# 自定义排序规则，先按速度，再按质量：\n",
    "my_data.sort(order=('vol','mass'))\n",
    "print my_data"
   ]
  },
  {
   "cell_type": "code",
   "execution_count": 11,
   "metadata": {},
   "outputs": [],
   "source": [
    "# 现在定义我们最开始想要的数组结构\n",
    "my_dtype = np.dtype([('name','S10'),('age','int'),('weight','float')])"
   ]
  },
  {
   "cell_type": "code",
   "execution_count": 12,
   "metadata": {},
   "outputs": [
    {
     "data": {
      "text/plain": [
       "22"
      ]
     },
     "execution_count": 12,
     "metadata": {},
     "output_type": "execute_result"
    }
   ],
   "source": [
    "# 看一下该数组结构所占字节\n",
    "my_dtype.itemsize"
   ]
  },
  {
   "cell_type": "code",
   "execution_count": 13,
   "metadata": {},
   "outputs": [],
   "source": [
    "# 产生一个3x4的空数组\n",
    "people = np.empty((3,4),my_dtype)"
   ]
  },
  {
   "cell_type": "code",
   "execution_count": 14,
   "metadata": {},
   "outputs": [],
   "source": [
    "# 赋值\n",
    "people['name'] = [['Brad', 'Jane', 'John', 'Fred'],\n",
    "                  ['Henry', 'George', 'Brain', 'Amy'],\n",
    "                  ['Ron', 'Susan', 'Jennife', 'Jill']]\n",
    "people['age'] = [[33, 25, 47, 54],\n",
    "                 [29, 61, 32, 27],\n",
    "                 [19, 33, 18, 54]]\n",
    "people['weight'] = [[135., 105., 255., 140.],\n",
    "                    [154., 202., 137., 187.],\n",
    "                    [188., 135., 88., 145.]]"
   ]
  },
  {
   "cell_type": "code",
   "execution_count": 15,
   "metadata": {},
   "outputs": [
    {
     "name": "stdout",
     "output_type": "stream",
     "text": [
      "[[('Brad', 33, 135.) ('Jane', 25, 105.) ('John', 47, 255.)\n",
      "  ('Fred', 54, 140.)]\n",
      " [('Henry', 29, 154.) ('George', 61, 202.) ('Brain', 32, 137.)\n",
      "  ('Amy', 27, 187.)]\n",
      " [('Ron', 19, 188.) ('Susan', 33, 135.) ('Jennife', 18,  88.)\n",
      "  ('Jill', 54, 145.)]]\n"
     ]
    }
   ],
   "source": [
    "print people"
   ]
  },
  {
   "cell_type": "code",
   "execution_count": 16,
   "metadata": {},
   "outputs": [
    {
     "data": {
      "text/plain": [
       "('Jill', 54, 145.)"
      ]
     },
     "execution_count": 16,
     "metadata": {},
     "output_type": "execute_result"
    }
   ],
   "source": [
    "# 查看最后一个人的信息\n",
    "people[-1,-1]"
   ]
  },
  {
   "cell_type": "markdown",
   "metadata": {},
   "source": [
    "## 从文本读取自定义数组"
   ]
  },
  {
   "cell_type": "code",
   "execution_count": 24,
   "metadata": {},
   "outputs": [
    {
     "name": "stdout",
     "output_type": "stream",
     "text": [
      "Overwriting people.txt\n"
     ]
    }
   ],
   "source": [
    "%%writefile people.txt\n",
    "name age weight\n",
    "amy 11 38.2\n",
    "john 10 40.3\n",
    "bill 12 21.2"
   ]
  },
  {
   "cell_type": "code",
   "execution_count": 25,
   "metadata": {},
   "outputs": [
    {
     "data": {
      "text/plain": [
       "array([('amy', 11, 38.2), ('john', 10, 40.3), ('bill', 12, 21.2)],\n",
       "      dtype=[('name', 'S10'), ('age', '<i4'), ('weight', '<f8')])"
      ]
     },
     "execution_count": 25,
     "metadata": {},
     "output_type": "execute_result"
    }
   ],
   "source": [
    "people = np.loadtxt('people.txt',\n",
    "                   skiprows=1,\n",
    "                   dtype=my_dtype)\n",
    "people"
   ]
  },
  {
   "cell_type": "code",
   "execution_count": 26,
   "metadata": {},
   "outputs": [
    {
     "data": {
      "text/plain": [
       "array(['amy', 'john', 'bill'], dtype='|S10')"
      ]
     },
     "execution_count": 26,
     "metadata": {},
     "output_type": "execute_result"
    }
   ],
   "source": [
    "people['name']"
   ]
  },
  {
   "cell_type": "code",
   "execution_count": 27,
   "metadata": {},
   "outputs": [],
   "source": [
    "import os\n",
    "os.remove('people.txt')"
   ]
  },
  {
   "cell_type": "code",
   "execution_count": 28,
   "metadata": {},
   "outputs": [
    {
     "name": "stdout",
     "output_type": "stream",
     "text": [
      "Writing wood.csv\n"
     ]
    }
   ],
   "source": [
    "%%writefile wood.csv\n",
    "item,material,number\n",
    "100,oak,33\n",
    "110,maple,14\n",
    "120,oak,7\n",
    "145,birch,3"
   ]
  },
  {
   "cell_type": "code",
   "execution_count": 29,
   "metadata": {},
   "outputs": [],
   "source": [
    "# 定义转换函数处理材料属性，使之对应一个整数：\n",
    "tree_to_int = dict(oak =1,\n",
    "                  maple=2,\n",
    "                  birch=3)\n",
    "def convert(s):\n",
    "    return tree_to_int.get(s,0)"
   ]
  },
  {
   "cell_type": "code",
   "execution_count": 30,
   "metadata": {},
   "outputs": [
    {
     "data": {
      "text/plain": [
       "array([(100, 1, 33), (110, 2, 14), (120, 1,  7), (145, 3,  3)],\n",
       "      dtype=[('item', '<i4'), ('material', '<i4'), ('number', '<i4')])"
      ]
     },
     "execution_count": 30,
     "metadata": {},
     "output_type": "execute_result"
    }
   ],
   "source": [
    "data = np.genfromtxt('wood.csv',\n",
    "                     delimiter=',', # 逗号分隔\n",
    "                     dtype=np.int, # 数据类型\n",
    "                     names=True,   # 从第一行读入域名\n",
    "                     converters={1:convert} \n",
    "                    )\n",
    "data"
   ]
  },
  {
   "cell_type": "code",
   "execution_count": 31,
   "metadata": {},
   "outputs": [
    {
     "data": {
      "text/plain": [
       "array([1, 2, 1, 3])"
      ]
     },
     "execution_count": 31,
     "metadata": {},
     "output_type": "execute_result"
    }
   ],
   "source": [
    "data['material']"
   ]
  },
  {
   "cell_type": "code",
   "execution_count": 32,
   "metadata": {},
   "outputs": [],
   "source": [
    "os.remove('wood.csv')"
   ]
  },
  {
   "cell_type": "markdown",
   "metadata": {},
   "source": [
    "## 嵌套结构"
   ]
  },
  {
   "cell_type": "markdown",
   "metadata": {},
   "source": [
    "我们希望在二维平面上纪录一个质点的位置和质量：\n",
    "\n",
    "\n",
    "|position|\tmass\n",
    "-----|--|--\n",
    "|`x\ty`|"
   ]
  },
  {
   "cell_type": "code",
   "execution_count": 33,
   "metadata": {},
   "outputs": [],
   "source": [
    "particle_dtype = np.dtype([('position', [('x', 'float'), \n",
    "                                         ('y', 'float')]),\n",
    "                           ('mass', 'float')\n",
    "                          ])"
   ]
  },
  {
   "cell_type": "code",
   "execution_count": 34,
   "metadata": {},
   "outputs": [
    {
     "name": "stdout",
     "output_type": "stream",
     "text": [
      "Writing data.txt\n"
     ]
    }
   ],
   "source": [
    "%%writefile data.txt\n",
    "2.0 3.0 42.0\n",
    "2.1 4.3 32.5\n",
    "1.2 4.6 32.3\n",
    "4.5 -6.4 23.3"
   ]
  },
  {
   "cell_type": "code",
   "execution_count": 35,
   "metadata": {},
   "outputs": [],
   "source": [
    "data = np.loadtxt('data.txt', dtype=particle_dtype)"
   ]
  },
  {
   "cell_type": "code",
   "execution_count": 45,
   "metadata": {},
   "outputs": [
    {
     "name": "stdout",
     "output_type": "stream",
     "text": [
      "[(2. ,  3. ) (2.1,  4.3) (1.2,  4.6) (4.5, -6.4)]\n",
      "[42.  32.5 32.3 23.3]\n"
     ]
    }
   ],
   "source": [
    "name = ['position','mass']\n",
    "for i in name:\n",
    "    print data[i]"
   ]
  },
  {
   "cell_type": "code",
   "execution_count": 46,
   "metadata": {},
   "outputs": [],
   "source": [
    "os.remove('data.txt')"
   ]
  },
  {
   "cell_type": "code",
   "execution_count": null,
   "metadata": {},
   "outputs": [],
   "source": []
  }
 ],
 "metadata": {
  "kernelspec": {
   "display_name": "Python 2",
   "language": "python",
   "name": "python2"
  },
  "language_info": {
   "codemirror_mode": {
    "name": "ipython",
    "version": 2
   },
   "file_extension": ".py",
   "mimetype": "text/x-python",
   "name": "python",
   "nbconvert_exporter": "python",
   "pygments_lexer": "ipython2",
   "version": "2.7.13"
  },
  "latex_envs": {
   "LaTeX_envs_menu_present": true,
   "autoclose": false,
   "autocomplete": true,
   "bibliofile": "biblio.bib",
   "cite_by": "apalike",
   "current_citInitial": 1,
   "eqLabelWithNumbers": true,
   "eqNumInitial": 1,
   "hotkeys": {
    "equation": "Ctrl-E",
    "itemize": "Ctrl-I"
   },
   "labels_anchors": false,
   "latex_user_defs": false,
   "report_style_numbering": false,
   "user_envs_cfg": false
  },
  "toc": {
   "base_numbering": 1,
   "nav_menu": {},
   "number_sections": true,
   "sideBar": true,
   "skip_h1_title": true,
   "title_cell": "Contents",
   "title_sidebar": "Contents",
   "toc_cell": true,
   "toc_position": {
    "height": "calc(100% - 180px)",
    "left": "10px",
    "top": "150px",
    "width": "174px"
   },
   "toc_section_display": true,
   "toc_window_display": false
  }
 },
 "nbformat": 4,
 "nbformat_minor": 2
}
