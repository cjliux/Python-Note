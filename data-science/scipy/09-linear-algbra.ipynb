{
 "cells": [
  {
   "cell_type": "markdown",
   "metadata": {},
   "source": [
    "# 线性代数"
   ]
  },
  {
   "cell_type": "markdown",
   "metadata": {
    "toc": true
   },
   "source": [
    "<h1>Contents<span class=\"tocSkip\"></span></h1>\n",
    "<div class=\"toc\"><ul class=\"toc-item\"><li><span><a href=\"#numpy.linalg-VS-scipy.linalg\" data-toc-modified-id=\"numpy.linalg-VS-scipy.linalg-1\"><span class=\"toc-item-num\">1&nbsp;&nbsp;</span>numpy.linalg VS scipy.linalg</a></span></li><li><span><a href=\"#numpy.matrix-VS-2D-numpy.ndarray\" data-toc-modified-id=\"numpy.matrix-VS-2D-numpy.ndarray-2\"><span class=\"toc-item-num\">2&nbsp;&nbsp;</span>numpy.matrix VS 2D numpy.ndarray</a></span><ul class=\"toc-item\"><li><span><a href=\"#numpy.matrix\" data-toc-modified-id=\"numpy.matrix-2.1\"><span class=\"toc-item-num\">2.1&nbsp;&nbsp;</span>numpy.matrix</a></span></li><li><span><a href=\"#2维numpy.ndarray\" data-toc-modified-id=\"2维numpy.ndarray-2.2\"><span class=\"toc-item-num\">2.2&nbsp;&nbsp;</span>2维numpy.ndarray</a></span></li></ul></li><li><span><a href=\"#基本操作\" data-toc-modified-id=\"基本操作-3\"><span class=\"toc-item-num\">3&nbsp;&nbsp;</span>基本操作</a></span><ul class=\"toc-item\"><li><span><a href=\"#求逆\" data-toc-modified-id=\"求逆-3.1\"><span class=\"toc-item-num\">3.1&nbsp;&nbsp;</span>求逆</a></span></li><li><span><a href=\"#求解线性方程组\" data-toc-modified-id=\"求解线性方程组-3.2\"><span class=\"toc-item-num\">3.2&nbsp;&nbsp;</span>求解线性方程组</a></span></li><li><span><a href=\"#计算行列式\" data-toc-modified-id=\"计算行列式-3.3\"><span class=\"toc-item-num\">3.3&nbsp;&nbsp;</span>计算行列式</a></span></li><li><span><a href=\"#计算矩阵或向量的模\" data-toc-modified-id=\"计算矩阵或向量的模-3.4\"><span class=\"toc-item-num\">3.4&nbsp;&nbsp;</span>计算矩阵或向量的模</a></span></li><li><span><a href=\"#最小二乘解和伪逆\" data-toc-modified-id=\"最小二乘解和伪逆-3.5\"><span class=\"toc-item-num\">3.5&nbsp;&nbsp;</span>最小二乘解和伪逆</a></span><ul class=\"toc-item\"><li><span><a href=\"#问题描述\" data-toc-modified-id=\"问题描述-3.5.1\"><span class=\"toc-item-num\">3.5.1&nbsp;&nbsp;</span>问题描述</a></span></li><li><span><a href=\"#问题求解\" data-toc-modified-id=\"问题求解-3.5.2\"><span class=\"toc-item-num\">3.5.2&nbsp;&nbsp;</span>问题求解</a></span></li><li><span><a href=\"#例子\" data-toc-modified-id=\"例子-3.5.3\"><span class=\"toc-item-num\">3.5.3&nbsp;&nbsp;</span>例子</a></span></li><li><span><a href=\"#广义逆\" data-toc-modified-id=\"广义逆-3.5.4\"><span class=\"toc-item-num\">3.5.4&nbsp;&nbsp;</span>广义逆</a></span></li></ul></li></ul></li><li><span><a href=\"#矩阵分解\" data-toc-modified-id=\"矩阵分解-4\"><span class=\"toc-item-num\">4&nbsp;&nbsp;</span>矩阵分解</a></span><ul class=\"toc-item\"><li><span><a href=\"#特征值和特征向量\" data-toc-modified-id=\"特征值和特征向量-4.1\"><span class=\"toc-item-num\">4.1&nbsp;&nbsp;</span>特征值和特征向量</a></span><ul class=\"toc-item\"><li><span><a href=\"#问题描述\" data-toc-modified-id=\"问题描述-4.1.1\"><span class=\"toc-item-num\">4.1.1&nbsp;&nbsp;</span>问题描述</a></span></li><li><span><a href=\"#问题求解¶\" data-toc-modified-id=\"问题求解¶-4.1.2\"><span class=\"toc-item-num\">4.1.2&nbsp;&nbsp;</span>问题求解¶</a></span></li><li><span><a href=\"#例子\" data-toc-modified-id=\"例子-4.1.3\"><span class=\"toc-item-num\">4.1.3&nbsp;&nbsp;</span>例子</a></span></li></ul></li><li><span><a href=\"#奇异值分解\" data-toc-modified-id=\"奇异值分解-4.2\"><span class=\"toc-item-num\">4.2&nbsp;&nbsp;</span>奇异值分解</a></span><ul class=\"toc-item\"><li><span><a href=\"#问题描述\" data-toc-modified-id=\"问题描述-4.2.1\"><span class=\"toc-item-num\">4.2.1&nbsp;&nbsp;</span>问题描述</a></span></li><li><span><a href=\"#问题求解\" data-toc-modified-id=\"问题求解-4.2.2\"><span class=\"toc-item-num\">4.2.2&nbsp;&nbsp;</span>问题求解</a></span></li><li><span><a href=\"#例子\" data-toc-modified-id=\"例子-4.2.3\"><span class=\"toc-item-num\">4.2.3&nbsp;&nbsp;</span>例子</a></span></li></ul></li><li><span><a href=\"#LU分解\" data-toc-modified-id=\"LU分解-4.3\"><span class=\"toc-item-num\">4.3&nbsp;&nbsp;</span>LU分解</a></span></li><li><span><a href=\"#Cholesky-分解\" data-toc-modified-id=\"Cholesky-分解-4.4\"><span class=\"toc-item-num\">4.4&nbsp;&nbsp;</span>Cholesky 分解</a></span></li><li><span><a href=\"#QR-分解\" data-toc-modified-id=\"QR-分解-4.5\"><span class=\"toc-item-num\">4.5&nbsp;&nbsp;</span>QR 分解</a></span></li><li><span><a href=\"#Schur-分解\" data-toc-modified-id=\"Schur-分解-4.6\"><span class=\"toc-item-num\">4.6&nbsp;&nbsp;</span>Schur 分解</a></span></li></ul></li><li><span><a href=\"#矩阵函数\" data-toc-modified-id=\"矩阵函数-5\"><span class=\"toc-item-num\">5&nbsp;&nbsp;</span>矩阵函数</a></span><ul class=\"toc-item\"><li><span><a href=\"#指数和对数函数\" data-toc-modified-id=\"指数和对数函数-5.1\"><span class=\"toc-item-num\">5.1&nbsp;&nbsp;</span>指数和对数函数</a></span></li><li><span><a href=\"#三角函数\" data-toc-modified-id=\"三角函数-5.2\"><span class=\"toc-item-num\">5.2&nbsp;&nbsp;</span>三角函数</a></span></li><li><span><a href=\"#双曲三角函数\" data-toc-modified-id=\"双曲三角函数-5.3\"><span class=\"toc-item-num\">5.3&nbsp;&nbsp;</span>双曲三角函数</a></span></li></ul></li></ul></div>"
   ]
  },
  {
   "cell_type": "code",
   "execution_count": 1,
   "metadata": {},
   "outputs": [],
   "source": [
    "# numpy 和 scipy 中，负责进行线性代数部分计算的模块叫做 linalg。\n",
    "import numpy as np\n",
    "import numpy.linalg\n",
    "import scipy as sp\n",
    "import scipy.linalg\n",
    "import matplotlib.pyplot as plt\n",
    "from scipy import linalg\n",
    "\n",
    "%matplotlib inline"
   ]
  },
  {
   "cell_type": "markdown",
   "metadata": {},
   "source": [
    "## numpy.linalg VS scipy.linalg"
   ]
  },
  {
   "cell_type": "markdown",
   "metadata": {},
   "source": [
    "`scipy`是以`numpy`为基础的\n",
    "\n",
    "一方面`scipy.linalg` 包含 `numpy.linalg` 中的所有函数，同时还包含了很多 `numpy.linalg` 中没有的函数。\n",
    "\n",
    "另一方面，`scipy.linalg`能够保证这些函数使用 `BLAS/LAPACK` 加速，而 `numpy.linalg `中这些加速是可选的。\n",
    "\n",
    "因此，在使用时，我们一般使用 `scipy.linalg` 而不是 `numpy.linalg`。\n",
    "\n",
    "我们可以简单看看两个模块的差异："
   ]
  },
  {
   "cell_type": "code",
   "execution_count": 2,
   "metadata": {},
   "outputs": [
    {
     "name": "stdout",
     "output_type": "stream",
     "text": [
      "number of items in numpy.linalg: 37\n",
      "number of items in scipy.linalg: 131\n"
     ]
    }
   ],
   "source": [
    "print \"number of items in numpy.linalg:\", len(dir(numpy.linalg))\n",
    "print \"number of items in scipy.linalg:\", len(dir(scipy.linalg))"
   ]
  },
  {
   "cell_type": "markdown",
   "metadata": {},
   "source": [
    "## numpy.matrix VS 2D numpy.ndarray"
   ]
  },
  {
   "cell_type": "markdown",
   "metadata": {},
   "source": [
    "线性代数的基本操作对象是矩阵，而矩阵的表示方法主要有两种：`numpy.matrix` 和 `2D numpy.ndarray`。"
   ]
  },
  {
   "cell_type": "markdown",
   "metadata": {},
   "source": [
    "### numpy.matrix"
   ]
  },
  {
   "cell_type": "markdown",
   "metadata": {},
   "source": [
    "`numpy.matrix` 是一个矩阵类，提供了一些方便的矩阵操作：\n",
    "\n",
    "* 支持类似 `MATLAB `创建矩阵的语法\n",
    "* 矩阵乘法默认用 * 号\n",
    "* .I 表示逆，.T 表示转置\n",
    "* 可以用 mat 或者 matrix 来产生矩阵："
   ]
  },
  {
   "cell_type": "code",
   "execution_count": 3,
   "metadata": {},
   "outputs": [
    {
     "name": "stdout",
     "output_type": "stream",
     "text": [
      "matrix([[1, 2],\n",
      "        [3, 4]])\n",
      "matrix([[1, 2],\n",
      "        [3, 4]])\n"
     ]
    }
   ],
   "source": [
    "A = np.mat(\"[1, 2; 3, 4]\")\n",
    "print repr(A)\n",
    "\n",
    "A = np.matrix(\"[1, 2; 3, 4]\")\n",
    "print repr(A)"
   ]
  },
  {
   "cell_type": "code",
   "execution_count": 4,
   "metadata": {},
   "outputs": [
    {
     "name": "stdout",
     "output_type": "stream",
     "text": [
      "matrix([[-2. ,  1. ],\n",
      "        [ 1.5, -0.5]])\n",
      "matrix([[1, 3],\n",
      "        [2, 4]])\n"
     ]
    }
   ],
   "source": [
    "# 转置和逆：\n",
    "print repr(A.I)\n",
    "print repr(A.T)"
   ]
  },
  {
   "cell_type": "code",
   "execution_count": 5,
   "metadata": {},
   "outputs": [
    {
     "name": "stdout",
     "output_type": "stream",
     "text": [
      "matrix([[17],\n",
      "        [39]])\n"
     ]
    }
   ],
   "source": [
    "# 矩阵乘法：\n",
    "b = np.mat('[5; 6]')\n",
    "print repr(A * b)"
   ]
  },
  {
   "cell_type": "markdown",
   "metadata": {},
   "source": [
    "### 2维numpy.ndarray"
   ]
  },
  {
   "cell_type": "markdown",
   "metadata": {},
   "source": [
    "一般不建议使用`numpy.matrix`，而使用2 维 `numpy.ndarray` 对象替代，这样可以避免一些不必要的困惑。"
   ]
  },
  {
   "cell_type": "code",
   "execution_count": 8,
   "metadata": {},
   "outputs": [
    {
     "name": "stdout",
     "output_type": "stream",
     "text": [
      "array([[1, 2],\n",
      "       [3, 4]])\n"
     ]
    }
   ],
   "source": [
    "A = np.array([[1,2],[3,4]])\n",
    "print repr(A)"
   ]
  },
  {
   "cell_type": "markdown",
   "metadata": {},
   "source": [
    "```\n",
    "Docstring:\n",
    "repr(object) -> string\n",
    "\n",
    "Return the canonical string representation of the object.\n",
    "For most object types, eval(repr(object)) == object.\n",
    "Type:      builtin_function_or_method\n",
    "```"
   ]
  },
  {
   "cell_type": "code",
   "execution_count": 10,
   "metadata": {},
   "outputs": [
    {
     "name": "stdout",
     "output_type": "stream",
     "text": [
      "array([[-2. ,  1. ],\n",
      "       [ 1.5, -0.5]])\n",
      "array([[1, 3],\n",
      "       [2, 4]])\n"
     ]
    }
   ],
   "source": [
    "# 逆和转置\n",
    "print repr(linalg.inv(A))\n",
    "print repr(A.T)"
   ]
  },
  {
   "cell_type": "code",
   "execution_count": 12,
   "metadata": {},
   "outputs": [
    {
     "name": "stdout",
     "output_type": "stream",
     "text": [
      "array([17, 39])\n"
     ]
    }
   ],
   "source": [
    "# 矩阵乘法：\n",
    "b = np.array([5, 6])\n",
    "\n",
    "print repr(A.dot(b))"
   ]
  },
  {
   "cell_type": "code",
   "execution_count": 13,
   "metadata": {},
   "outputs": [
    {
     "name": "stdout",
     "output_type": "stream",
     "text": [
      "array([[ 5, 12],\n",
      "       [15, 24]])\n"
     ]
    }
   ],
   "source": [
    "# 普通乘法：\n",
    "print repr(A * b)"
   ]
  },
  {
   "cell_type": "markdown",
   "metadata": {},
   "source": [
    "**`scipy.linalg` 的操作可以作用到两种类型的对象上，没有区别。**"
   ]
  },
  {
   "cell_type": "markdown",
   "metadata": {},
   "source": [
    "## 基本操作"
   ]
  },
  {
   "cell_type": "markdown",
   "metadata": {},
   "source": [
    "### 求逆"
   ]
  },
  {
   "cell_type": "markdown",
   "metadata": {},
   "source": [
    "矩阵 A 的逆 B 满足：$BA=AB=I$，记作 $B=A^{−1}$。"
   ]
  },
  {
   "cell_type": "code",
   "execution_count": 14,
   "metadata": {},
   "outputs": [
    {
     "name": "stdout",
     "output_type": "stream",
     "text": [
      "[[-2.   1. ]\n",
      " [ 1.5 -0.5]]\n",
      "[[1.0000000e+00 0.0000000e+00]\n",
      " [8.8817842e-16 1.0000000e+00]]\n"
     ]
    }
   ],
   "source": [
    "# linalg.inv 可以求一个可逆矩阵的逆：\n",
    "A = np.array([[1,2],[3,4]])\n",
    "\n",
    "print linalg.inv(A)\n",
    "\n",
    "print A.dot(scipy.linalg.inv(A))"
   ]
  },
  {
   "cell_type": "markdown",
   "metadata": {},
   "source": [
    "### 求解线性方程组"
   ]
  },
  {
   "cell_type": "markdown",
   "metadata": {},
   "source": [
    "求解方程：\n",
    "\\begin{eqnarray*} \n",
    "x + 3y + 5z & = & 10 \\\\\n",
    "2x + 5y + z & = & 8  \\\\\n",
    "2x + 3y + 8z & = & 3\n",
    "\\end{eqnarray*}"
   ]
  },
  {
   "cell_type": "code",
   "execution_count": 17,
   "metadata": {},
   "outputs": [
    {
     "name": "stdout",
     "output_type": "stream",
     "text": [
      "[-9.28  5.16  0.76]\n",
      "[ 0.00000000e+00 -1.77635684e-15 -8.88178420e-16]\n",
      "inv and dot: 0.0680000782013 s\n",
      "[-9.28  5.16  0.76]\n",
      "[ 0.00000000e+00 -1.77635684e-15 -1.77635684e-15]\n",
      "solve: 0.0629999637604 s\n"
     ]
    }
   ],
   "source": [
    "# 可以使用 linalg.solve 求解方程组，\n",
    "# 也可以先求逆再相乘，两者中 solve 比较快。\n",
    "import time\n",
    "A = np.array([[1,3,5],\n",
    "             [2,5,1],\n",
    "             [2,3,8]])\n",
    "b = np.array([10,8,3])\n",
    "# 这个是创建矩阵数组的时间\n",
    "tic = time.time()\n",
    "# 先求逆再解方程\n",
    "for i in xrange(1000):\n",
    "    x = linalg.inv(A).dot(b)\n",
    "print x\n",
    "# 计算误差\n",
    "print A.dot(x)-b\n",
    "print \"inv and dot: {} s\".format(time.time() - tic)\n",
    "\n",
    "# 程序运行到此处花的时间\n",
    "tic = time.time() \n",
    "for i in xrange(1000):\n",
    "    x = linalg.solve(A,b)\n",
    "    \n",
    "print x\n",
    "# 计算误差\n",
    "print A.dot(x)-b\n",
    "print \"solve: {} s\".format(time.time()-tic)"
   ]
  },
  {
   "cell_type": "markdown",
   "metadata": {},
   "source": [
    "### 计算行列式"
   ]
  },
  {
   "cell_type": "markdown",
   "metadata": {},
   "source": [
    "计算行列式，结果为`25.`\n",
    "$$\\begin{split}\\mathbf{A=}\\left[\\begin{array}{ccc} 1 & 3 & 5\\\\ 2 & 5 & 1\\\\ 2 & 3 & 8\\end{array}\\right]\\end{split}$$"
   ]
  },
  {
   "cell_type": "code",
   "execution_count": 18,
   "metadata": {},
   "outputs": [
    {
     "name": "stdout",
     "output_type": "stream",
     "text": [
      "-25.0\n"
     ]
    }
   ],
   "source": [
    "# 用 linalg.det 计算行列式：\n",
    "A = np.array([[1, 3, 5],\n",
    "              [2, 5, 1],\n",
    "              [2, 3, 8]])\n",
    "\n",
    "print linalg.det(A)"
   ]
  },
  {
   "cell_type": "markdown",
   "metadata": {},
   "source": [
    "### 计算矩阵或向量的模"
   ]
  },
  {
   "cell_type": "markdown",
   "metadata": {},
   "source": [
    "矩阵的模定义如下：\n",
    "\\begin{split}\\left\\Vert \\mathbf{A}\\right\\Vert =\\left\\{ \\begin{array}{cc} \\max_{i}\\sum_{j}\\left|a_{ij}\\right| & \\textrm{ord}=\\textrm{inf}\\\\ \\min_{i}\\sum_{j}\\left|a_{ij}\\right| & \\textrm{ord}=-\\textrm{inf}\\\\ \\max_{j}\\sum_{i}\\left|a_{ij}\\right| & \\textrm{ord}=1\\\\ \\min_{j}\\sum_{i}\\left|a_{ij}\\right| & \\textrm{ord}=-1\\\\ \\max\\sigma_{i} & \\textrm{ord}=2\\\\ \\min\\sigma_{i} & \\textrm{ord}=-2\\\\ \\sqrt{\\textrm{trace}\\left(\\mathbf{A}^{H}\\mathbf{A}\\right)} & \\textrm{ord}=\\textrm{'fro'}\\end{array}\\right.\\end{split}\n",
    "\n",
    "其中，σi 是矩阵的奇异值。\n",
    "\n",
    "向量的模定义如下：\n",
    "\n",
    "\\begin{split}\\left\\Vert \\mathbf{x}\\right\\Vert =\\left\\{ \\begin{array}{cc} \\max\\left|x_{i}\\right| & \\textrm{ord}=\\textrm{inf}\\\\ \\min\\left|x_{i}\\right| & \\textrm{ord}=-\\textrm{inf}\\\\ \\left(\\sum_{i}\\left|x_{i}\\right|^{\\textrm{ord}}\\right)^{1/\\textrm{ord}} & \\left|\\textrm{ord}\\right|<\\infty.\\end{array}\\right.\\end{split}"
   ]
  },
  {
   "cell_type": "code",
   "execution_count": 22,
   "metadata": {},
   "outputs": [
    {
     "name": "stdout",
     "output_type": "stream",
     "text": [
      "5.477225575051661\n",
      "5.477225575051661\n",
      "6.0\n",
      "4.0\n",
      "7.0\n",
      "3.0\n",
      "5.464985704219043\n",
      "0.36596619062625746\n"
     ]
    }
   ],
   "source": [
    "# linalg.norm 可以计算向量或者矩阵的模：\n",
    "A = np.array([[1, 2],\n",
    "              [3, 4]])\n",
    "print linalg.norm(A)\n",
    "print linalg.norm(A,'fro') # frobenius norm 默认值\n",
    "print linalg.norm(A,1) # L1 norm 最大列和\n",
    "print linalg.norm(A,-1) # L -1 norm 最小列和\n",
    "print linalg.norm(A,np.inf) # L inf norm 最大行和\n",
    "print linalg.norm(A,-np.inf) # L -inf norm 最小行和\n",
    "print linalg.norm(A,2) # L -inf norm 最大奇异值和\n",
    "print linalg.norm(A,-2) # L -inf norm 最小奇异值和"
   ]
  },
  {
   "cell_type": "markdown",
   "metadata": {},
   "source": [
    "### 最小二乘解和伪逆"
   ]
  },
  {
   "cell_type": "markdown",
   "metadata": {},
   "source": [
    "#### 问题描述\n",
    "![](https://raw.githubusercontent.com/ds19991999/githubimg/master/picgo/20180720152047.png)"
   ]
  },
  {
   "cell_type": "markdown",
   "metadata": {},
   "source": [
    "$A^H$是共轭转置"
   ]
  },
  {
   "cell_type": "markdown",
   "metadata": {},
   "source": [
    "#### 问题求解"
   ]
  },
  {
   "cell_type": "markdown",
   "metadata": {},
   "source": [
    "模型为：$\\mathbf{y}=\\mathbf{Ac}+\\boldsymbol{\\epsilon}.$\n",
    "\n",
    "* $y$和$A$已知，使用 `linalg.lstsq` 求解$ c$。\n",
    "* $A$已知，使用` linalg.pinv` 或者 `linalg.pinv2 `求解 $\\mathbf{A}^{\\dagger}$"
   ]
  },
  {
   "cell_type": "markdown",
   "metadata": {},
   "source": [
    "#### 例子"
   ]
  },
  {
   "cell_type": "markdown",
   "metadata": {},
   "source": [
    "\\begin{align}\n",
    "y_{i} & =c_{1}e^{-x_{i}}+c_{2}x_{i} \\\\\n",
    "z_{i} & = y_i + \\epsilon_i\n",
    "\\end{align}\n",
    "\n",
    "其中 $x_i = \\frac{i}{10},\\ i = 1,\\dots,10$，$c1=5,c2=2$，产生数据"
   ]
  },
  {
   "cell_type": "code",
   "execution_count": 23,
   "metadata": {},
   "outputs": [],
   "source": [
    "c1, c2 = 5.0, 2.0\n",
    "i = np.r_[1:11]\n",
    "xi = 0.1*i\n",
    "yi = c1*np.exp(-xi) + c2*xi\n",
    "# ϵi是数据的不稳定性\n",
    "zi = yi + 0.05 * np.max(yi) * np.random.randn(len(yi))"
   ]
  },
  {
   "cell_type": "code",
   "execution_count": 25,
   "metadata": {},
   "outputs": [
    {
     "name": "stdout",
     "output_type": "stream",
     "text": [
      "array([[0.90483742, 0.1       ],\n",
      "       [0.81873075, 0.2       ],\n",
      "       [0.74081822, 0.3       ],\n",
      "       [0.67032005, 0.4       ],\n",
      "       [0.60653066, 0.5       ],\n",
      "       [0.54881164, 0.6       ],\n",
      "       [0.4965853 , 0.7       ],\n",
      "       [0.44932896, 0.8       ],\n",
      "       [0.40656966, 0.9       ],\n",
      "       [0.36787944, 1.        ]])\n"
     ]
    }
   ],
   "source": [
    "# 构造矩阵 A：\n",
    "A = np.c_[np.exp(-xi)[:, np.newaxis], xi[:, np.newaxis]]\n",
    "print repr(A)"
   ]
  },
  {
   "cell_type": "code",
   "execution_count": 26,
   "metadata": {},
   "outputs": [
    {
     "name": "stdout",
     "output_type": "stream",
     "text": [
      "[4.78793158 2.22615974]\n"
     ]
    }
   ],
   "source": [
    "# 求解最小二乘问题：\n",
    "c, resid, rank, sigma = linalg.lstsq(A, zi)\n",
    "print c"
   ]
  },
  {
   "cell_type": "markdown",
   "metadata": {},
   "source": [
    "其中 `c` 的形状与 `zi` 一致，为最小二乘解，`resid` 为 `zi - A c` 每一列差值的二范数，`rank` 为矩阵 `A` 的秩，`sigma` 为矩阵`A` 的奇异值。"
   ]
  },
  {
   "cell_type": "code",
   "execution_count": 27,
   "metadata": {},
   "outputs": [
    {
     "data": {
      "image/png": "[encoded data removed]",
      "text/plain": [
       "<Figure size 432x288 with 1 Axes>"
      ]
     },
     "metadata": {},
     "output_type": "display_data"
    }
   ],
   "source": [
    "# 查看拟合效果：\n",
    "xi2 = np.r_[0.1:1.0:100j]\n",
    "yi2 = c[0]*np.exp(-xi2) + c[1]*xi2\n",
    "\n",
    "plt.plot(xi,zi,'x',xi2,yi2)\n",
    "plt.axis([0,1.1,3.0,5.5])\n",
    "plt.xlabel('$x_i$')\n",
    "plt.title('Data fitting with linalg.lstsq')\n",
    "plt.show()"
   ]
  },
  {
   "cell_type": "markdown",
   "metadata": {},
   "source": [
    "#### 广义逆"
   ]
  },
  {
   "cell_type": "markdown",
   "metadata": {},
   "source": [
    "`linalg.pinv` 或 `linalg.pinv2` 可以用来求广义逆，其区别在于前者使用求最小二乘解的算法，后者使用求奇异值的算法求解。"
   ]
  },
  {
   "cell_type": "markdown",
   "metadata": {},
   "source": [
    "## 矩阵分解"
   ]
  },
  {
   "cell_type": "markdown",
   "metadata": {},
   "source": [
    "### 特征值和特征向量"
   ]
  },
  {
   "cell_type": "markdown",
   "metadata": {},
   "source": [
    "#### 问题描述"
   ]
  },
  {
   "cell_type": "markdown",
   "metadata": {},
   "source": [
    "对于给定的 $N×N$ 矩阵 $A$，特征值和特征向量问题相当与寻找标量 $λ$ 和对应的向量 $v$ 使得：$$\\mathbf{Av} = \\lambda \\mathbf{v}$$\n",
    "\n",
    "矩阵的 $N$ 个特征值（可能相同）可以通过计算特征方程的根得到：$$\\left|\\mathbf{A} - \\lambda \\mathbf{I}\\right| = 0$$\n",
    "\n",
    "然后利用这些特征值求（归一化的）特征向量。"
   ]
  },
  {
   "cell_type": "markdown",
   "metadata": {},
   "source": [
    "#### 问题求解¶\n",
    "* `linalg.eig(A)`返回矩阵的特征值与特征向量\n",
    "* `linalg.eigvals(A)`返回矩阵的特征值\n",
    "* `linalg.eig(A, B)`求解 Av=λBv 的问题"
   ]
  },
  {
   "cell_type": "markdown",
   "metadata": {},
   "source": [
    "#### 例子"
   ]
  },
  {
   "cell_type": "markdown",
   "metadata": {},
   "source": [
    "矩阵：\n",
    "$$\\begin{split}\\mathbf{A}=\\left[\\begin{array}{ccc} 1 & 5 & 2\\\\ 2 & 4 & 1\\\\ 3 & 6 & 2\\end{array}\\right].\\end{split}$$\n",
    "\n",
    "特征多项式：\n",
    "\\begin{eqnarray*} \\left|\\mathbf{A}-\\lambda\\mathbf{I}\\right| & = & \\left(1-\\lambda\\right)\\left[\\left(4-\\lambda\\right)\\left(2-\\lambda\\right)-6\\right]-\\\\  &  & 5\\left[2\\left(2-\\lambda\\right)-3\\right]+2\\left[12-3\\left(4-\\lambda\\right)\\right]\\\\  & = & -\\lambda^{3}+7\\lambda^{2}+8\\lambda-3.\\end{eqnarray*}\n",
    "\n",
    "特征根：\n",
    "\\begin{eqnarray*} \\lambda_{1} & = & 7.9579\\\\ \\lambda_{2} & = & -1.2577\\\\ \\lambda_{3} & = & 0.2997.\\end{eqnarray*}"
   ]
  },
  {
   "cell_type": "code",
   "execution_count": 28,
   "metadata": {},
   "outputs": [
    {
     "name": "stdout",
     "output_type": "stream",
     "text": [
      "[ 7.9579162 +0.j -1.25766471+0.j  0.2997485 +0.j]\n",
      "[1. 1. 1.]\n",
      "3.23301824835e-15\n"
     ]
    }
   ],
   "source": [
    "A = np.array([[1,5,2],\n",
    "             [2,4,1],\n",
    "             [3,6,2]])\n",
    "# 返回矩阵的特征值与特征向量\n",
    "la,v = linalg.eig(A)\n",
    "print la\n",
    "\n",
    "# 验证是否归一化\n",
    "print np.sum(abs(v**2),axis=0)\n",
    "\n",
    "# 第一个特征值\n",
    "l1 = la[0]\n",
    "# 对应的特征向量\n",
    "v1 = v[:, 0].T\n",
    "\n",
    "# 验证是否为特征值和特征向量对：Av = λv\n",
    "print linalg.norm(A.dot(v1)-l1*v1)"
   ]
  },
  {
   "cell_type": "markdown",
   "metadata": {},
   "source": [
    "### 奇异值分解"
   ]
  },
  {
   "cell_type": "markdown",
   "metadata": {},
   "source": [
    "#### 问题描述"
   ]
  },
  {
   "cell_type": "markdown",
   "metadata": {},
   "source": [
    "$M×N$ 矩阵 $A$ 的奇异值分解为：\n",
    "$$\\mathbf{A=U}\\boldsymbol{\\Sigma}\\mathbf{V}^{H}$$\n",
    "\n",
    "其中 $Σ(M×N)$ 只有对角线上的元素不为 0，$U(M×M)$ 和 $V(N×N)$ 为正交矩阵。"
   ]
  },
  {
   "cell_type": "markdown",
   "metadata": {},
   "source": [
    "#### 问题求解"
   ]
  },
  {
   "cell_type": "markdown",
   "metadata": {},
   "source": [
    "* `U,s,Vh = linalg.svd(A)`返回 $U$ 矩阵，奇异值 $s，V^H$ 矩阵\n",
    "* `Sig = linalg.diagsvd(s,M,N)`从奇异值恢复 $Σ$ 矩阵"
   ]
  },
  {
   "cell_type": "markdown",
   "metadata": {},
   "source": [
    "#### 例子"
   ]
  },
  {
   "cell_type": "code",
   "execution_count": 29,
   "metadata": {},
   "outputs": [],
   "source": [
    "# 奇异值分解：\n",
    "A = np.array([[1,2,3],[4,5,6]])\n",
    "U, s, Vh = linalg.svd(A)"
   ]
  },
  {
   "cell_type": "code",
   "execution_count": 32,
   "metadata": {},
   "outputs": [
    {
     "name": "stdout",
     "output_type": "stream",
     "text": [
      "[[9.508032   0.         0.        ]\n",
      " [0.         0.77286964 0.        ]]\n"
     ]
    }
   ],
   "source": [
    "# Σ 矩阵：\n",
    "M, N = A.shape\n",
    "Sig = linalg.diagsvd(s,M,N)\n",
    "print Sig"
   ]
  },
  {
   "cell_type": "code",
   "execution_count": 33,
   "metadata": {},
   "outputs": [
    {
     "data": {
      "text/plain": [
       "array([[-0.3863177 , -0.92236578],\n",
       "       [-0.92236578,  0.3863177 ]])"
      ]
     },
     "execution_count": 33,
     "metadata": {},
     "output_type": "execute_result"
    }
   ],
   "source": [
    "U"
   ]
  },
  {
   "cell_type": "code",
   "execution_count": 34,
   "metadata": {},
   "outputs": [
    {
     "data": {
      "text/plain": [
       "array([9.508032  , 0.77286964])"
      ]
     },
     "execution_count": 34,
     "metadata": {},
     "output_type": "execute_result"
    }
   ],
   "source": [
    "s"
   ]
  },
  {
   "cell_type": "code",
   "execution_count": 35,
   "metadata": {},
   "outputs": [
    {
     "data": {
      "text/plain": [
       "array([[-0.42866713, -0.56630692, -0.7039467 ],\n",
       "       [ 0.80596391,  0.11238241, -0.58119908],\n",
       "       [ 0.40824829, -0.81649658,  0.40824829]])"
      ]
     },
     "execution_count": 35,
     "metadata": {},
     "output_type": "execute_result"
    }
   ],
   "source": [
    "Vh"
   ]
  },
  {
   "cell_type": "code",
   "execution_count": 36,
   "metadata": {},
   "outputs": [
    {
     "name": "stdout",
     "output_type": "stream",
     "text": [
      "[[1 2 3]\n",
      " [4 5 6]]\n",
      "[[1. 2. 3.]\n",
      " [4. 5. 6.]]\n",
      "[[1. 2. 3.]\n",
      " [4. 5. 6.]]\n"
     ]
    }
   ],
   "source": [
    "# 检查正确性：\n",
    "print A\n",
    "print U.dot(Sig.dot(Vh))\n",
    "print (U.dot(Sig)).dot(Vh)"
   ]
  },
  {
   "cell_type": "markdown",
   "metadata": {},
   "source": [
    "### LU分解"
   ]
  },
  {
   "cell_type": "markdown",
   "metadata": {},
   "source": [
    "$M×N$  矩阵 $A$ 的 $LU$ 分解为：\n",
    "$$\\mathbf{A}=\\mathbf{P}\\,\\mathbf{L}\\,\\mathbf{U}$$\n",
    "\n",
    "$P$ 是 $M×M$ 的单位矩阵的一个排列，$L$ 是下三角阵，$U$是上三角阵。\n",
    "\n",
    "可以使用 `linalg.lu` 进行 `LU` 分解的求解："
   ]
  },
  {
   "cell_type": "code",
   "execution_count": 39,
   "metadata": {},
   "outputs": [
    {
     "name": "stdout",
     "output_type": "stream",
     "text": [
      "P:\n",
      "[[0. 1.]\n",
      " [1. 0.]]\n",
      "L:\n",
      "[[1.   0.  ]\n",
      " [0.25 1.  ]]\n",
      "U:\n",
      "[[4.   5.   6.  ]\n",
      " [0.   0.75 1.5 ]]\n",
      "[[1. 2. 3.]\n",
      " [4. 5. 6.]]\n"
     ]
    }
   ],
   "source": [
    "A = np.array([[1,2,3],\n",
    "             [4,5,6]])\n",
    "P,L,U = linalg.lu(A)\n",
    "\n",
    "print \"P:\\n\",P\n",
    "print \"L:\\n\",L\n",
    "print \"U:\\n\",U\n",
    "\n",
    "print P.dot(L).dot(U)"
   ]
  },
  {
   "cell_type": "markdown",
   "metadata": {},
   "source": [
    "### Cholesky 分解"
   ]
  },
  {
   "cell_type": "markdown",
   "metadata": {},
   "source": [
    "`Cholesky `分解是一种特殊的 `LU `分解，此时要求$A$ 为` Hermitian `正定矩阵$\\mathbf A = \\mathbf{A^H}$ \n",
    "\n",
    "此时有：\\begin{eqnarray*} \\mathbf{A} & = & \\mathbf{U}^{H}\\mathbf{U}\\\\ \\mathbf{A} & = & \\mathbf{L}\\mathbf{L}^{H}\\end{eqnarray*}\n",
    "即：$$\\mathbf{L}=\\mathbf{U}^{H}.$$\n",
    "可以用`linalg.cholesky`求解，\n",
    "参见：[正定矩阵](https://zh.wikipedia.org/wiki/%E6%AD%A3%E5%AE%9A%E7%9F%A9%E9%98%B5)"
   ]
  },
  {
   "cell_type": "code",
   "execution_count": 59,
   "metadata": {},
   "outputs": [
    {
     "data": {
      "text/plain": [
       "array([[1.+0.j, 0.+0.j],\n",
       "       [0.+2.j, 1.+0.j]])"
      ]
     },
     "execution_count": 59,
     "metadata": {},
     "output_type": "execute_result"
    }
   ],
   "source": [
    "A = np.array([[1,-2j],[2j,5]])\n",
    "L= linalg.cholesky(A,lower=True)\n",
    "L"
   ]
  },
  {
   "cell_type": "markdown",
   "metadata": {},
   "source": [
    "### QR 分解"
   ]
  },
  {
   "cell_type": "markdown",
   "metadata": {},
   "source": [
    "$M×N$ 矩阵 $A$ 的 $QR$ 分解为：$$\\mathbf{A=QR}$$\n",
    "$R$ 为上三角形矩阵，$Q$ 是正交矩阵。\n",
    "\n",
    "可以用 `linalg.qr` 求解。"
   ]
  },
  {
   "cell_type": "code",
   "execution_count": 61,
   "metadata": {},
   "outputs": [],
   "source": [
    "linalg.qr??"
   ]
  },
  {
   "cell_type": "code",
   "execution_count": 71,
   "metadata": {},
   "outputs": [],
   "source": [
    "from scipy import random, linalg, dot, diag, all, allclose\n",
    "a = random.randn(4, 2)\n",
    "q, r = linalg.qr(a)"
   ]
  },
  {
   "cell_type": "code",
   "execution_count": 72,
   "metadata": {},
   "outputs": [
    {
     "data": {
      "text/plain": [
       "array([[-0.32980527,  0.37267208, -0.62255388, -0.60396247],\n",
       "       [-0.45198922,  0.00809492,  0.73482832, -0.5056358 ],\n",
       "       [ 0.0751952 ,  0.92535583,  0.23442579,  0.28828253],\n",
       "       [-0.82539682, -0.06904038, -0.13228211,  0.54447677]])"
      ]
     },
     "execution_count": 72,
     "metadata": {},
     "output_type": "execute_result"
    }
   ],
   "source": [
    "q"
   ]
  },
  {
   "cell_type": "code",
   "execution_count": 73,
   "metadata": {},
   "outputs": [
    {
     "data": {
      "text/plain": [
       "array([[-1.495465  ,  0.83187084],\n",
       "       [ 0.        ,  1.55474283],\n",
       "       [ 0.        ,  0.        ],\n",
       "       [ 0.        ,  0.        ]])"
      ]
     },
     "execution_count": 73,
     "metadata": {},
     "output_type": "execute_result"
    }
   ],
   "source": [
    "r"
   ]
  },
  {
   "cell_type": "code",
   "execution_count": 74,
   "metadata": {},
   "outputs": [
    {
     "data": {
      "text/plain": [
       "True"
      ]
     },
     "execution_count": 74,
     "metadata": {},
     "output_type": "execute_result"
    }
   ],
   "source": [
    "# 验证正确性\n",
    "allclose(a, np.dot(q, r))"
   ]
  },
  {
   "cell_type": "markdown",
   "metadata": {},
   "source": [
    "### Schur 分解"
   ]
  },
  {
   "cell_type": "markdown",
   "metadata": {},
   "source": [
    "对于 $N×N$ 方阵 $A$, `Schur` 分解要求找到满足下式的矩阵：$$\\mathbf{A=ZTZ^H}$$\n",
    "其中$ Z$ 是正交矩阵，$T$ 是一个上三角矩阵。"
   ]
  },
  {
   "cell_type": "code",
   "execution_count": 81,
   "metadata": {},
   "outputs": [
    {
     "name": "stdout",
     "output_type": "stream",
     "text": [
      "[[ 9.90012467  1.78947961 -0.65498528]\n",
      " [ 0.          0.54993766 -1.57754789]\n",
      " [ 0.          0.51260928  0.54993766]] [[ 0.36702395 -0.85002495 -0.37782404]\n",
      " [ 0.63681656 -0.06646488  0.76814522]\n",
      " [ 0.67805463  0.52253231 -0.51691576]]\n"
     ]
    },
    {
     "data": {
      "text/plain": [
       "True"
      ]
     },
     "execution_count": 81,
     "metadata": {},
     "output_type": "execute_result"
    }
   ],
   "source": [
    "A = np.mat('[1 3 2; 1 4 5; 2 3 6]')\n",
    "T, Z = linalg.schur(A)\n",
    "print T,Z\n",
    "allclose(A, Z.dot(T).dot(Z.T))"
   ]
  },
  {
   "cell_type": "markdown",
   "metadata": {},
   "source": [
    "## 矩阵函数"
   ]
  },
  {
   "cell_type": "markdown",
   "metadata": {},
   "source": [
    "$f(x)$  的泰勒展开：$$f\\left(x\\right)=\\sum_{k=0}^{\\infty}\\frac{f^{\\left(k\\right)}\\left(0\\right)}{k!}x^{k}$$\n",
    "方阵，矩阵函数可以定义如下:$$f\\left(\\mathbf{A}\\right)=\\sum_{k=0}^{\\infty}\\frac{f^{\\left(k\\right)}\\left(0\\right)}{k!}\\mathbf{A}^{k}$$"
   ]
  },
  {
   "cell_type": "markdown",
   "metadata": {},
   "source": [
    "### 指数和对数函数"
   ]
  },
  {
   "cell_type": "markdown",
   "metadata": {},
   "source": [
    "指数:$$e^{\\mathbf{A}}=\\sum_{k=0}^{\\infty}\\frac{1}{k!}\\mathbf{A}^{k}$$"
   ]
  },
  {
   "cell_type": "markdown",
   "metadata": {},
   "source": [
    "`linalg`方法：\n",
    "```\n",
    "Matrix Functions\n",
    "================\n",
    "\n",
    ".. autosummary::\n",
    "   :toctree: generated/\n",
    "\n",
    "   expm - Matrix exponential\n",
    "   logm - Matrix logarithm\n",
    "   cosm - Matrix cosine\n",
    "   sinm - Matrix sine\n",
    "   tanm - Matrix tangent\n",
    "   coshm - Matrix hyperbolic cosine\n",
    "   sinhm - Matrix hyperbolic sine\n",
    "   tanhm - Matrix hyperbolic tangent\n",
    "   signm - Matrix sign\n",
    "   sqrtm - Matrix square root\n",
    "   funm - Evaluating an arbitrary matrix function\n",
    "   expm_frechet - Frechet derivative of the matrix exponential\n",
    "   expm_cond - Relative condition number of expm in the Frobenius norm\n",
    "   fractional_matrix_power - Fractional matrix power\n",
    "```"
   ]
  },
  {
   "cell_type": "markdown",
   "metadata": {},
   "source": [
    "这里linalg里面删除了expm3和expm2这两种方法，统一采用** Padé 近似 实现**\n",
    "\n",
    "[Padé 近似](https://en.wikipedia.org/wiki/Pad%C3%A9_approximant)往往比截断的泰勒级数准确，而且当泰勒级数不收敛时，Padé 近似往往仍可行，所以多用于在计算机数学中。"
   ]
  },
  {
   "cell_type": "code",
   "execution_count": 87,
   "metadata": {},
   "outputs": [
    {
     "name": "stdout",
     "output_type": "stream",
     "text": [
      "[[ 51.9689562   74.73656457]\n",
      " [112.10484685 164.07380305]]\n"
     ]
    }
   ],
   "source": [
    "A = np.array([[1, 2], [3, 4]])\n",
    "print linalg.expm(A)"
   ]
  },
  {
   "cell_type": "markdown",
   "metadata": {},
   "source": [
    "对数：指数的逆运算，可以用 `linalg.logm` 实现"
   ]
  },
  {
   "cell_type": "code",
   "execution_count": 90,
   "metadata": {},
   "outputs": [
    {
     "name": "stdout",
     "output_type": "stream",
     "text": [
      "[[1 2]\n",
      " [3 4]]\n",
      "[[ 51.9689562   74.73656457]\n",
      " [112.10484685 164.07380305]]\n",
      "[[-0.35043981+2.39111795j  0.92935121-1.09376217j]\n",
      " [ 1.39402681-1.64064326j  1.04358699+0.7504747j ]]\n",
      "[[1. 2.]\n",
      " [3. 4.]]\n"
     ]
    }
   ],
   "source": [
    "print A\n",
    "print linalg.expm(A)\n",
    "print linalg.logm(A)\n",
    "print linalg.logm(linalg.expm(A))"
   ]
  },
  {
   "cell_type": "markdown",
   "metadata": {},
   "source": [
    "### 三角函数"
   ]
  },
  {
   "cell_type": "markdown",
   "metadata": {},
   "source": [
    "根据欧拉公式，其定义为：\n",
    "\\begin{eqnarray*} \\sin\\left(\\mathbf{A}\\right) & = & \\frac{e^{j\\mathbf{A}}-e^{-j\\mathbf{A}}}{2j}\\\\ \\cos\\left(\\mathbf{A}\\right) & = & \\frac{e^{j\\mathbf{A}}+e^{-j\\mathbf{A}}}{2}.\\end{eqnarray*}\n",
    "正切函数定义为：\n",
    "$$\\tan\\left(x\\right)=\\frac{\\sin\\left(x\\right)}{\\cos\\left(x\\right)}=\\left[\\cos\\left(x\\right)\\right]^{-1}\\sin\\left(x\\right)$$\n",
    "因此矩阵的正切函数定义为：\n",
    "$$\\left[\\cos\\left(\\mathbf{A}\\right)\\right]^{-1}\\sin\\left(\\mathbf{A}\\right).$$\n"
   ]
  },
  {
   "cell_type": "markdown",
   "metadata": {},
   "source": [
    "具体实现：\n",
    "\n",
    "* `linalg.sinm`\n",
    "* `linalg.cosm`\n",
    "* `linalg.tanm`"
   ]
  },
  {
   "cell_type": "code",
   "execution_count": 91,
   "metadata": {},
   "outputs": [
    {
     "name": "stdout",
     "output_type": "stream",
     "text": [
      "[[-0.46558149 -0.14842446]\n",
      " [-0.22263669 -0.68821818]]\n",
      "[[ 0.85542317 -0.11087638]\n",
      " [-0.16631457  0.68910859]]\n",
      "[[-0.60507478 -0.31274165]\n",
      " [-0.46911248 -1.07418726]]\n"
     ]
    }
   ],
   "source": [
    "A = np.array([[1, 2], [3, 4]])\n",
    "print linalg.sinm(A)\n",
    "print linalg.cosm(A)\n",
    "print linalg.tanm(A)"
   ]
  },
  {
   "cell_type": "markdown",
   "metadata": {},
   "source": [
    "### 双曲三角函数"
   ]
  },
  {
   "cell_type": "markdown",
   "metadata": {},
   "source": [
    "\\begin{eqnarray*} \\sinh\\left(\\mathbf{A}\\right) & = & \\frac{e^{\\mathbf{A}}-e^{-\\mathbf{A}}}{2}\\\\ \\cosh\\left(\\mathbf{A}\\right) & = & \\frac{e^{\\mathbf{A}}+e^{-\\mathbf{A}}}{2}\\\\ \\tanh\\left(\\mathbf{A}\\right) & = & \\left[\\cosh\\left(\\mathbf{A}\\right)\\right]^{-1}\\sinh\\left(\\mathbf{A}\\right).\\end{eqnarray*}\n",
    "\n",
    "具体实现：\n",
    "\n",
    "* `linalg.sinhm`\n",
    "* `linalg.coshm`\n",
    "* `linalg.tanhm`"
   ]
  },
  {
   "cell_type": "markdown",
   "metadata": {},
   "source": [
    "特殊矩阵见：https://docs.scipy.org/doc/scipy/reference/tutorial/linalg.html#special-matrices"
   ]
  }
 ],
 "metadata": {
  "kernelspec": {
   "display_name": "Python 2",
   "language": "python",
   "name": "python2"
  },
  "language_info": {
   "codemirror_mode": {
    "name": "ipython",
    "version": 2
   },
   "file_extension": ".py",
   "mimetype": "text/x-python",
   "name": "python",
   "nbconvert_exporter": "python",
   "pygments_lexer": "ipython2",
   "version": "2.7.13"
  },
  "latex_envs": {
   "LaTeX_envs_menu_present": true,
   "autoclose": false,
   "autocomplete": true,
   "bibliofile": "biblio.bib",
   "cite_by": "apalike",
   "current_citInitial": 1,
   "eqLabelWithNumbers": true,
   "eqNumInitial": 1,
   "hotkeys": {
    "equation": "Ctrl-E",
    "itemize": "Ctrl-I"
   },
   "labels_anchors": false,
   "latex_user_defs": false,
   "report_style_numbering": false,
   "user_envs_cfg": false
  },
  "toc": {
   "base_numbering": 1,
   "nav_menu": {},
   "number_sections": true,
   "sideBar": true,
   "skip_h1_title": true,
   "title_cell": "Contents",
   "title_sidebar": "Contents",
   "toc_cell": true,
   "toc_position": {},
   "toc_section_display": true,
   "toc_window_display": false
  }
 },
 "nbformat": 4,
 "nbformat_minor": 2
}
