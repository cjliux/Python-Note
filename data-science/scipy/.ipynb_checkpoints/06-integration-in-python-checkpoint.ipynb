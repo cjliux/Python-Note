{
 "cells": [
  {
   "cell_type": "markdown",
   "metadata": {},
   "source": [
    "# 积分"
   ]
  },
  {
   "cell_type": "markdown",
   "metadata": {
    "toc": true
   },
   "source": [
    "<h1>Contents<span class=\"tocSkip\"></span></h1>\n",
    "<div class=\"toc\"><ul class=\"toc-item\"><li><span><a href=\"#符号积分\" data-toc-modified-id=\"符号积分-1\"><span class=\"toc-item-num\">1&nbsp;&nbsp;</span>符号积分</a></span></li><li><span><a href=\"#数值积分\" data-toc-modified-id=\"数值积分-2\"><span class=\"toc-item-num\">2&nbsp;&nbsp;</span>数值积分</a></span><ul class=\"toc-item\"><li><span><a href=\"#quad-函数\" data-toc-modified-id=\"quad-函数-2.1\"><span class=\"toc-item-num\">2.1&nbsp;&nbsp;</span>quad 函数</a></span></li><li><span><a href=\"#积分到无穷\" data-toc-modified-id=\"积分到无穷-2.2\"><span class=\"toc-item-num\">2.2&nbsp;&nbsp;</span>积分到无穷</a></span></li><li><span><a href=\"#双重积分\" data-toc-modified-id=\"双重积分-2.3\"><span class=\"toc-item-num\">2.3&nbsp;&nbsp;</span>双重积分</a></span></li></ul></li><li><span><a href=\"#采样点积分\" data-toc-modified-id=\"采样点积分-3\"><span class=\"toc-item-num\">3&nbsp;&nbsp;</span>采样点积分</a></span><ul class=\"toc-item\"><li><span><a href=\"#使用-ufunc-进行积分\" data-toc-modified-id=\"使用-ufunc-进行积分-3.1\"><span class=\"toc-item-num\">3.1&nbsp;&nbsp;</span>使用 ufunc 进行积分</a></span></li><li><span><a href=\"#速度比较\" data-toc-modified-id=\"速度比较-3.2\"><span class=\"toc-item-num\">3.2&nbsp;&nbsp;</span>速度比较</a></span></li></ul></li></ul></div>"
   ]
  },
  {
   "cell_type": "markdown",
   "metadata": {},
   "source": [
    "## 符号积分"
   ]
  },
  {
   "cell_type": "markdown",
   "metadata": {},
   "source": [
    "积分与求导的关系：\n",
    "\n",
    "$$\\frac{d}{dx} F(x) = f(x)\n",
    "\\Rightarrow F(x) = \\int f(x) dx$$\n",
    "\n",
    "符号运算可以用 sympy 模块完成。"
   ]
  },
  {
   "cell_type": "code",
   "execution_count": 1,
   "metadata": {},
   "outputs": [
    {
     "name": "stdout",
     "output_type": "stream",
     "text": [
      "Requirement already satisfied: sympy in d:\\python\\lib\\site-packages (1.2)\n",
      "Requirement already satisfied: mpmath>=0.19 in d:\\python\\lib\\site-packages (from sympy) (1.0.0)\n"
     ]
    }
   ],
   "source": [
    "!pip2 install sympy"
   ]
  },
  {
   "cell_type": "code",
   "execution_count": 2,
   "metadata": {},
   "outputs": [],
   "source": [
    "# 导入 init_printing 模块方便其显示\n",
    "from sympy import init_printing\n",
    "init_printing()"
   ]
  },
  {
   "cell_type": "code",
   "execution_count": 3,
   "metadata": {},
   "outputs": [],
   "source": [
    "from sympy import symbols, integrate\n",
    "import sympy"
   ]
  },
  {
   "cell_type": "code",
   "execution_count": 4,
   "metadata": {},
   "outputs": [
    {
     "data": {
      "image/png": "[encoded data removed]",
      "text/latex": [
       "$$\\sqrt{x^{2} + y^{2}}$$"
      ],
      "text/plain": [
       "   _________\n",
       "  ╱  2    2 \n",
       "╲╱  x  + y  "
      ]
     },
     "execution_count": 4,
     "metadata": {},
     "output_type": "execute_result"
    }
   ],
   "source": [
    "# 产生 x 和 y 两个符号变量，并进行运算：\n",
    "x, y = symbols('x y')\n",
    "sympy.sqrt(x ** 2 + y ** 2)"
   ]
  },
  {
   "cell_type": "code",
   "execution_count": 5,
   "metadata": {},
   "outputs": [
    {
     "data": {
      "image/png": "[encoded data removed]",
      "text/latex": [
       "$$\\sqrt{y^{2} + 9}$$"
      ],
      "text/plain": [
       "   ________\n",
       "  ╱  2     \n",
       "╲╱  y  + 9 "
      ]
     },
     "execution_count": 5,
     "metadata": {},
     "output_type": "execute_result"
    }
   ],
   "source": [
    "# 对于生成的符号变量 z，我们将其中的 x 利用 subs 方法替换为 3：\n",
    "z = sympy.sqrt(x ** 2 + y ** 2)\n",
    "z.subs(x, 3)"
   ]
  },
  {
   "cell_type": "code",
   "execution_count": 6,
   "metadata": {},
   "outputs": [
    {
     "data": {
      "image/png": "[encoded data removed]",
      "text/latex": [
       "$$5$$"
      ],
      "text/plain": [
       "5"
      ]
     },
     "execution_count": 6,
     "metadata": {},
     "output_type": "execute_result"
    }
   ],
   "source": [
    "# 再替换y\n",
    "z.subs(x, 3).subs(y, 4)"
   ]
  },
  {
   "cell_type": "code",
   "execution_count": 7,
   "metadata": {},
   "outputs": [
    {
     "data": {
      "image/png": "[encoded data removed]",
      "text/latex": [
       "$$\\sin^{2}{\\left (\\theta \\right )}$$"
      ],
      "text/plain": [
       "   2   \n",
       "sin (θ)"
      ]
     },
     "execution_count": 7,
     "metadata": {},
     "output_type": "execute_result"
    }
   ],
   "source": [
    "# 还可以从 sympy.abc 中导入现成的符号变量：\n",
    "from sympy.abc import theta\n",
    "y = sympy.sin(theta) ** 2\n",
    "y"
   ]
  },
  {
   "cell_type": "code",
   "execution_count": 8,
   "metadata": {},
   "outputs": [],
   "source": [
    "# 对 y 进行积分：\n",
    "Y = integrate(y)"
   ]
  },
  {
   "cell_type": "code",
   "execution_count": 9,
   "metadata": {},
   "outputs": [
    {
     "data": {
      "image/png": "[encoded data removed]",
      "text/latex": [
       "$$\\frac{\\theta}{2} - \\frac{\\sin{\\left (\\theta \\right )} \\cos{\\left (\\theta \\right )}}{2}$$"
      ],
      "text/plain": [
       "θ   sin(θ)⋅cos(θ)\n",
       "─ - ─────────────\n",
       "2         2      "
      ]
     },
     "execution_count": 9,
     "metadata": {},
     "output_type": "execute_result"
    }
   ],
   "source": [
    "Y"
   ]
  },
  {
   "cell_type": "code",
   "execution_count": 11,
   "metadata": {},
   "outputs": [
    {
     "data": {
      "image/png": "[encoded data removed]",
      "text/latex": [
       "$$1.5707963267949$$"
      ],
      "text/plain": [
       "1.57079632679490"
      ]
     },
     "execution_count": 11,
     "metadata": {},
     "output_type": "execute_result"
    }
   ],
   "source": [
    "# 计算 Y(π)−Y(0)：\n",
    "import numpy as np\n",
    "np.set_printoptions(precision=3)\n",
    "\n",
    "Y.subs(theta, np.pi) - Y.subs(theta, 0)"
   ]
  },
  {
   "cell_type": "markdown",
   "metadata": {},
   "source": [
    "计算:$\\int_0^\\pi y d\\theta$"
   ]
  },
  {
   "cell_type": "code",
   "execution_count": 12,
   "metadata": {},
   "outputs": [
    {
     "data": {
      "image/png": "[encoded data removed]",
      "text/latex": [
       "$$\\frac{\\pi}{2}$$"
      ],
      "text/plain": [
       "π\n",
       "─\n",
       "2"
      ]
     },
     "execution_count": 12,
     "metadata": {},
     "output_type": "execute_result"
    }
   ],
   "source": [
    "integrate(y, (theta, 0, sympy.pi))"
   ]
  },
  {
   "cell_type": "code",
   "execution_count": 13,
   "metadata": {},
   "outputs": [
    {
     "data": {
      "image/png": "[encoded data removed]",
      "text/latex": [
       "$$1.5707963267949$$"
      ],
      "text/plain": [
       "1.57079632679490"
      ]
     },
     "execution_count": 13,
     "metadata": {},
     "output_type": "execute_result"
    }
   ],
   "source": [
    "# 查看具体数值可以使用 evalf() 方法\n",
    "# 或者传入 numpy.pi，而不是 sympy.pi ：\n",
    "integrate(y, (theta, 0, sympy.pi)).evalf()"
   ]
  },
  {
   "cell_type": "code",
   "execution_count": 14,
   "metadata": {},
   "outputs": [
    {
     "data": {
      "image/png": "[encoded data removed]",
      "text/latex": [
       "$$1.5707963267949$$"
      ],
      "text/plain": [
       "1.57079632679490"
      ]
     },
     "execution_count": 14,
     "metadata": {},
     "output_type": "execute_result"
    }
   ],
   "source": [
    "integrate(y, (theta, 0, np.pi))"
   ]
  },
  {
   "cell_type": "code",
   "execution_count": 16,
   "metadata": {},
   "outputs": [
    {
     "data": {
      "image/png": "[encoded data removed]",
      "text/latex": [
       "$$\\sin^{2}{\\left (\\theta \\right )}$$"
      ],
      "text/plain": [
       "   2   \n",
       "sin (θ)"
      ]
     },
     "execution_count": 16,
     "metadata": {},
     "output_type": "execute_result"
    }
   ],
   "source": [
    "y"
   ]
  },
  {
   "cell_type": "code",
   "execution_count": 17,
   "metadata": {},
   "outputs": [
    {
     "data": {
      "image/png": "[encoded data removed]",
      "text/latex": [
       "$$\\int \\sin^{2}{\\left (\\theta \\right )}\\, d\\theta$$"
      ],
      "text/plain": [
       "⌠           \n",
       "⎮    2      \n",
       "⎮ sin (θ) dθ\n",
       "⌡           "
      ]
     },
     "execution_count": 17,
     "metadata": {},
     "output_type": "execute_result"
    }
   ],
   "source": [
    "# 产生不定积分对象：\n",
    "Y_indef = sympy.Integral(y)\n",
    "Y_indef"
   ]
  },
  {
   "cell_type": "code",
   "execution_count": 19,
   "metadata": {},
   "outputs": [
    {
     "name": "stdout",
     "output_type": "stream",
     "text": [
      "<class 'sympy.integrals.integrals.Integral'>\n"
     ]
    }
   ],
   "source": [
    "print type(Y_indef)"
   ]
  },
  {
   "cell_type": "code",
   "execution_count": 20,
   "metadata": {},
   "outputs": [
    {
     "data": {
      "image/png": "[encoded data removed]",
      "text/latex": [
       "$$\\int_{0}^{\\pi} \\sin^{2}{\\left (\\theta \\right )}\\, d\\theta$$"
      ],
      "text/plain": [
       "π           \n",
       "⌠           \n",
       "⎮    2      \n",
       "⎮ sin (θ) dθ\n",
       "⌡           \n",
       "0           "
      ]
     },
     "execution_count": 20,
     "metadata": {},
     "output_type": "execute_result"
    }
   ],
   "source": [
    "# 定积分：\n",
    "Y_def = sympy.Integral(y, (theta, 0, sympy.pi))\n",
    "Y_def"
   ]
  },
  {
   "cell_type": "markdown",
   "metadata": {},
   "source": [
    "产生函数 $Y(x) = \\int_0^x sin^2(\\theta) d\\theta$，并将其向量化"
   ]
  },
  {
   "cell_type": "code",
   "execution_count": 21,
   "metadata": {},
   "outputs": [
    {
     "data": {
      "image/png": "[encoded data removed]",
      "text/latex": [
       "$$\\sin^{2}{\\left (\\theta \\right )}$$"
      ],
      "text/plain": [
       "   2   \n",
       "sin (θ)"
      ]
     },
     "execution_count": 21,
     "metadata": {},
     "output_type": "execute_result"
    }
   ],
   "source": [
    "y"
   ]
  },
  {
   "cell_type": "code",
   "execution_count": 22,
   "metadata": {},
   "outputs": [],
   "source": [
    "Y_raw = lambda x: integrate(y, (theta, 0, x))\n",
    "Y = np.vectorize(Y_raw)"
   ]
  },
  {
   "cell_type": "code",
   "execution_count": 25,
   "metadata": {},
   "outputs": [
    {
     "data": {
      "image/png": "[encoded data removed]",
      "text/plain": [
       "<Figure size 432x288 with 1 Axes>"
      ]
     },
     "metadata": {},
     "output_type": "display_data"
    }
   ],
   "source": [
    "%matplotlib inline\n",
    "import matplotlib.pyplot as plt\n",
    "\n",
    "x = np.linspace(0, 2 * np.pi)\n",
    "p = plt.plot(x, Y(x))\n",
    "t = plt.title(r'$Y(x) = \\int_0^x sin^2(\\theta) d\\theta$')"
   ]
  },
  {
   "cell_type": "markdown",
   "metadata": {},
   "source": [
    "## 数值积分"
   ]
  },
  {
   "cell_type": "markdown",
   "metadata": {},
   "source": [
    "数值积分：\n",
    "\n",
    "$$F(x) = \\lim_{n \\rightarrow \\infty} \\sum_{i=0}^{n-1} f(x_i)(x_{i+1}-x_i) \n",
    "\\Rightarrow F(x) = \\int_{x_0}^{x_n} f(x) dx$$"
   ]
  },
  {
   "cell_type": "code",
   "execution_count": 28,
   "metadata": {},
   "outputs": [],
   "source": [
    "# 导入贝塞尔函数：\n",
    "from scipy.special import jv"
   ]
  },
  {
   "cell_type": "code",
   "execution_count": 29,
   "metadata": {},
   "outputs": [],
   "source": [
    "def f(x):\n",
    "    return jv(2.5, x)"
   ]
  },
  {
   "cell_type": "code",
   "execution_count": 30,
   "metadata": {},
   "outputs": [
    {
     "data": {
      "image/png": "[encoded data removed]",
      "text/plain": [
       "<Figure size 432x288 with 1 Axes>"
      ]
     },
     "metadata": {},
     "output_type": "display_data"
    }
   ],
   "source": [
    "x = np.linspace(0, 10)\n",
    "p = plt.plot(x, f(x), 'k-')"
   ]
  },
  {
   "cell_type": "markdown",
   "metadata": {},
   "source": [
    "### quad 函数"
   ]
  },
  {
   "cell_type": "code",
   "execution_count": 31,
   "metadata": {},
   "outputs": [],
   "source": [
    "# quad 返回一个 (积分值，误差) 组成的元组：\n",
    "from scipy.integrate import quad\n",
    "interval = [0, 6.5] # 给定自变量范围\n",
    "value, max_err = quad(f, *interval)"
   ]
  },
  {
   "cell_type": "code",
   "execution_count": 32,
   "metadata": {},
   "outputs": [
    {
     "name": "stdout",
     "output_type": "stream",
     "text": [
      "1.28474297234\n"
     ]
    }
   ],
   "source": [
    "# 积分值：\n",
    "print value"
   ]
  },
  {
   "cell_type": "code",
   "execution_count": 33,
   "metadata": {},
   "outputs": [
    {
     "name": "stdout",
     "output_type": "stream",
     "text": [
      "2.34181851396e-09\n"
     ]
    }
   ],
   "source": [
    "# 最大误差\n",
    "print max_err"
   ]
  },
  {
   "cell_type": "code",
   "execution_count": 34,
   "metadata": {},
   "outputs": [
    {
     "name": "stdout",
     "output_type": "stream",
     "text": [
      "integral = 1.284742972\n",
      "upper bound on error: 2.34e-09\n"
     ]
    },
    {
     "data": {
      "image/png": "[encoded data removed]",
      "text/plain": [
       "<Figure size 432x288 with 1 Axes>"
      ]
     },
     "metadata": {},
     "output_type": "display_data"
    }
   ],
   "source": [
    "# 积分区间图示，蓝色为正，红色为负：\n",
    "print \"integral = {:.9f}\".format(value)\n",
    "print \"upper bound on error: {:.2e}\".format(max_err)\n",
    "\n",
    "x = np.linspace(0, 10, 100)\n",
    "p = plt.plot(x, f(x), 'k-')\n",
    "\n",
    "x = np.linspace(0, 6.5, 45)\n",
    "p = plt.fill_between(x, f(x), where=f(x)>0, color=\"blue\")\n",
    "p = plt.fill_between(x, f(x), where=f(x)<0, color=\"red\", interpolate=True)"
   ]
  },
  {
   "cell_type": "markdown",
   "metadata": {},
   "source": [
    "### 积分到无穷"
   ]
  },
  {
   "cell_type": "code",
   "execution_count": 35,
   "metadata": {},
   "outputs": [],
   "source": [
    "from numpy import inf\n",
    "interval = [0., inf]\n",
    "\n",
    "def g(x):\n",
    "    return np.exp(-x ** 1/2)"
   ]
  },
  {
   "cell_type": "code",
   "execution_count": 36,
   "metadata": {},
   "outputs": [
    {
     "name": "stdout",
     "output_type": "stream",
     "text": [
      "upper bound on error: 7.2e-11\n"
     ]
    },
    {
     "data": {
      "image/png": "[encoded data removed]",
      "text/plain": [
       "<Figure size 720x216 with 1 Axes>"
      ]
     },
     "metadata": {},
     "output_type": "display_data"
    }
   ],
   "source": [
    "value, max_err = quad(g, *interval)\n",
    "x = np.linspace(0, 10, 50)\n",
    "fig = plt.figure(figsize=(10,3))\n",
    "\n",
    "p = plt.plot(x, g(x), 'k-')\n",
    "p = plt.fill_between(x, g(x))\n",
    "\n",
    "plt.annotate(r\"$\\int_0^{\\infty}e^{-x^1/2}dx = $\" + \"{}\".format(value), (4, 0.6),\n",
    "         fontsize=16)\n",
    "print \"upper bound on error: {:.1e}\".format(max_err)"
   ]
  },
  {
   "cell_type": "markdown",
   "metadata": {},
   "source": [
    "### 双重积分"
   ]
  },
  {
   "cell_type": "markdown",
   "metadata": {},
   "source": [
    "假设我们要进行如下的积分：\n",
    "\n",
    "$$I_n = \\int \\limits_0^{\\infty} \\int \\limits_1^{\\infty} \\frac{e^{-xt}}{t^n}dt dx = \\frac{1}{n}$$"
   ]
  },
  {
   "cell_type": "code",
   "execution_count": 37,
   "metadata": {},
   "outputs": [],
   "source": [
    "def h(x, t, n):\n",
    "    \"\"\"core function, takes x, t, n\"\"\"\n",
    "    return np.exp(-x * t) / (t ** n)"
   ]
  },
  {
   "cell_type": "markdown",
   "metadata": {},
   "source": [
    "一种方式是调用两次 quad 函数，不过这里 quad 的返回值不能向量化，所以使用了修饰符 vectorize 将其向量化："
   ]
  },
  {
   "cell_type": "code",
   "execution_count": 38,
   "metadata": {},
   "outputs": [],
   "source": [
    "from numpy import vectorize\n",
    "@vectorize\n",
    "def int_h_dx(t, n):\n",
    "    \"\"\"Time integrand of h(x).\"\"\"\n",
    "    return quad(h, 0, np.inf, args=(t, n))[0]"
   ]
  },
  {
   "cell_type": "code",
   "execution_count": 39,
   "metadata": {},
   "outputs": [],
   "source": [
    "@vectorize\n",
    "def I_n(n):\n",
    "    return quad(int_h_dx, 1, np.inf, args=(n))"
   ]
  },
  {
   "cell_type": "code",
   "execution_count": 40,
   "metadata": {},
   "outputs": [
    {
     "data": {
      "text/plain": [
       "(array([2. , 1. , 0.5, 0.2]),\n",
       " array([4.507e-12, 4.340e-14, 5.551e-15, 2.220e-15]))"
      ]
     },
     "execution_count": 40,
     "metadata": {},
     "output_type": "execute_result"
    }
   ],
   "source": [
    "I_n([0.5, 1.0, 2.0, 5])"
   ]
  },
  {
   "cell_type": "markdown",
   "metadata": {},
   "source": [
    "或者直接调用 dblquad 函数，并将积分参数传入，传入方式有多种，后传入的先进行积分："
   ]
  },
  {
   "cell_type": "code",
   "execution_count": 41,
   "metadata": {},
   "outputs": [],
   "source": [
    "from scipy.integrate import dblquad\n",
    "@vectorize\n",
    "def I(n):\n",
    "    \"\"\"Same as I_n, but using the built-in dblquad\"\"\"\n",
    "    x_lower = 0\n",
    "    x_upper = np.inf\n",
    "    return dblquad(h,\n",
    "                   lambda t_lower: 1, lambda t_upper: np.inf,\n",
    "                   x_lower, x_upper, args=(n,))"
   ]
  },
  {
   "cell_type": "code",
   "execution_count": 42,
   "metadata": {},
   "outputs": [
    {
     "data": {
      "text/plain": [
       "(array([2. , 1. , 0.5, 0.2]),\n",
       " array([4.507e-12, 4.340e-14, 5.551e-15, 2.220e-15]))"
      ]
     },
     "execution_count": 42,
     "metadata": {},
     "output_type": "execute_result"
    }
   ],
   "source": [
    "I_n([0.5, 1.0, 2.0, 5])"
   ]
  },
  {
   "cell_type": "markdown",
   "metadata": {},
   "source": [
    "## 采样点积分"
   ]
  },
  {
   "cell_type": "code",
   "execution_count": 43,
   "metadata": {},
   "outputs": [],
   "source": [
    "# trapz 方法 和 simps 方法\n",
    "from scipy.integrate import trapz, simps"
   ]
  },
  {
   "cell_type": "code",
   "execution_count": 44,
   "metadata": {},
   "outputs": [],
   "source": [
    "# sin 函数， 100 个采样点和 5 个采样点：\n",
    "x_s = np.linspace(0, np.pi, 5)\n",
    "y_s = np.sin(x_s)\n",
    "x = np.linspace(0, np.pi, 100)\n",
    "y = np.sin(x)"
   ]
  },
  {
   "cell_type": "code",
   "execution_count": 49,
   "metadata": {},
   "outputs": [
    {
     "data": {
      "image/png": "[encoded data removed]",
      "text/plain": [
       "<Figure size 432x288 with 1 Axes>"
      ]
     },
     "metadata": {},
     "output_type": "display_data"
    }
   ],
   "source": [
    "p = plt.plot(x,y,'k:',color='green')\n",
    "p = plt.plot(x_s,y_s,\"k+-\",color=\"blue\")\n",
    "p = plt.fill_between(x_s,y_s,color=\"red\")"
   ]
  },
  {
   "cell_type": "code",
   "execution_count": 50,
   "metadata": {},
   "outputs": [
    {
     "name": "stdout",
     "output_type": "stream",
     "text": [
      "Trapezoidal Integration over 5 points : 1.896\n",
      "Simpson Integration over 5 points : 2.005\n",
      "Trapezoidal Integration over 100 points : 2.000\n"
     ]
    }
   ],
   "source": [
    "# 采用 trapezoidal 方法 和 simpson 方法积分（函数积分为 2）：\n",
    "result_s = trapz(y_s, x_s)\n",
    "result_s_s = simps(y_s, x_s)\n",
    "result = trapz(y, x)\n",
    "print \"Trapezoidal Integration over 5 points : {:.3f}\".format(result_s)\n",
    "print \"Simpson Integration over 5 points : {:.3f}\".format(result_s_s)\n",
    "print \"Trapezoidal Integration over 100 points : {:.3f}\".format(result)"
   ]
  },
  {
   "cell_type": "markdown",
   "metadata": {},
   "source": [
    "### 使用 ufunc 进行积分"
   ]
  },
  {
   "cell_type": "code",
   "execution_count": 51,
   "metadata": {},
   "outputs": [
    {
     "data": {
      "text/plain": [
       "numpy.ufunc"
      ]
     },
     "execution_count": 51,
     "metadata": {},
     "output_type": "execute_result"
    }
   ],
   "source": [
    "# ufunc 对象：\n",
    "type(np.add)"
   ]
  },
  {
   "cell_type": "code",
   "execution_count": 54,
   "metadata": {},
   "outputs": [],
   "source": [
    "np.add.accumulate??"
   ]
  },
  {
   "cell_type": "markdown",
   "metadata": {},
   "source": [
    "```\n",
    "add.accumulate() is equivalent to np.cumsum().\n",
    "```"
   ]
  },
  {
   "cell_type": "code",
   "execution_count": 56,
   "metadata": {},
   "outputs": [
    {
     "data": {
      "text/plain": [
       "array([0.000e+00, 3.173e-02, 6.342e-02, 9.506e-02, 1.266e-01, 1.580e-01,\n",
       "       1.893e-01, 2.203e-01, 2.511e-01, 2.817e-01, 3.120e-01, 3.420e-01,\n",
       "       3.717e-01, 4.009e-01, 4.298e-01, 4.582e-01, 4.862e-01, 5.137e-01,\n",
       "       5.406e-01, 5.671e-01, 5.929e-01, 6.182e-01, 6.428e-01, 6.668e-01,\n",
       "       6.901e-01, 7.127e-01, 7.346e-01, 7.557e-01, 7.761e-01, 7.958e-01,\n",
       "       8.146e-01, 8.326e-01, 8.497e-01, 8.660e-01, 8.815e-01, 8.960e-01,\n",
       "       9.096e-01, 9.224e-01, 9.341e-01, 9.450e-01, 9.549e-01, 9.638e-01,\n",
       "       9.718e-01, 9.788e-01, 9.848e-01, 9.898e-01, 9.938e-01, 9.969e-01,\n",
       "       9.989e-01, 9.999e-01, 9.999e-01, 9.989e-01, 9.969e-01, 9.938e-01,\n",
       "       9.898e-01, 9.848e-01, 9.788e-01, 9.718e-01, 9.638e-01, 9.549e-01,\n",
       "       9.450e-01, 9.341e-01, 9.224e-01, 9.096e-01, 8.960e-01, 8.815e-01,\n",
       "       8.660e-01, 8.497e-01, 8.326e-01, 8.146e-01, 7.958e-01, 7.761e-01,\n",
       "       7.557e-01, 7.346e-01, 7.127e-01, 6.901e-01, 6.668e-01, 6.428e-01,\n",
       "       6.182e-01, 5.929e-01, 5.671e-01, 5.406e-01, 5.137e-01, 4.862e-01,\n",
       "       4.582e-01, 4.298e-01, 4.009e-01, 3.717e-01, 3.420e-01, 3.120e-01,\n",
       "       2.817e-01, 2.511e-01, 2.203e-01, 1.893e-01, 1.580e-01, 1.266e-01,\n",
       "       9.506e-02, 6.342e-02, 3.173e-02, 1.225e-16])"
      ]
     },
     "execution_count": 56,
     "metadata": {},
     "output_type": "execute_result"
    }
   ],
   "source": [
    "x = np.linspace(0, np.pi, 100)\n",
    "y = np.sin(x)\n",
    "y"
   ]
  },
  {
   "cell_type": "code",
   "execution_count": 57,
   "metadata": {},
   "outputs": [
    {
     "data": {
      "image/png": "[encoded data removed]",
      "text/plain": [
       "<Figure size 432x288 with 1 Axes>"
      ]
     },
     "metadata": {},
     "output_type": "display_data"
    }
   ],
   "source": [
    "result_np = np.add.accumulate(y) * (x[1] - x[0]) - (x[1] - x[0]) / 2\n",
    "\n",
    "p = plt.plot(x, - np.cos(x) + np.cos(0), 'rx')\n",
    "p = plt.plot(x, result_np)"
   ]
  },
  {
   "cell_type": "markdown",
   "metadata": {},
   "source": [
    "### 速度比较"
   ]
  },
  {
   "cell_type": "markdown",
   "metadata": {},
   "source": [
    "计算积分：\n",
    "\n",
    "$$\\int_0^x sin \\theta d\\theta$$"
   ]
  },
  {
   "cell_type": "code",
   "execution_count": 58,
   "metadata": {},
   "outputs": [],
   "source": [
    "import sympy\n",
    "from sympy.abc import x, theta\n",
    "sympy_x = x"
   ]
  },
  {
   "cell_type": "code",
   "execution_count": 59,
   "metadata": {},
   "outputs": [
    {
     "name": "stderr",
     "output_type": "stream",
     "text": [
      "d:\\python\\lib\\site-packages\\ipykernel_launcher.py:1: DeprecationWarning: object of type <type 'float'> cannot be safely interpreted as an integer.\n",
      "  \"\"\"Entry point for launching an IPython kernel.\n"
     ]
    }
   ],
   "source": [
    "x = np.linspace(0, 20 * np.pi, 1e+4)\n",
    "y = np.sin(x)\n",
    "sympy_y = vectorize(lambda x: sympy.integrate(sympy.sin(theta), (theta, 0, x)))"
   ]
  },
  {
   "cell_type": "code",
   "execution_count": 60,
   "metadata": {},
   "outputs": [
    {
     "name": "stdout",
     "output_type": "stream",
     "text": [
      "10000 loops, best of 3: 44.1 µs per loop\n",
      "-2.3413804475641734e-17\n"
     ]
    }
   ],
   "source": [
    "# numpy 方法：\n",
    "%timeit np.add.accumulate(y) * (x[1] - x[0])\n",
    "y0 = np.add.accumulate(y) * (x[1] - x[0])\n",
    "print y0[-1] "
   ]
  },
  {
   "cell_type": "code",
   "execution_count": 68,
   "metadata": {},
   "outputs": [
    {
     "name": "stdout",
     "output_type": "stream",
     "text": [
      "10000 loops, best of 3: 20.7 µs per loop\n",
      " result =  3.43781337153e-15\n",
      "number of evaluations 21\n"
     ]
    }
   ],
   "source": [
    "# quad 方法：\n",
    "%timeit quad(np.sin, 0, 20 * np.pi)\n",
    "y2 = quad(np.sin, 0, 20 * np.pi, full_output=True)\n",
    "print \"result = \", y2[0]\n",
    "print \"number of evaluations\", y2[-1]['neval']"
   ]
  },
  {
   "cell_type": "code",
   "execution_count": 62,
   "metadata": {},
   "outputs": [
    {
     "name": "stdout",
     "output_type": "stream",
     "text": [
      "10000 loops, best of 3: 68 µs per loop\n",
      "-4.440892098500626e-16\n"
     ]
    }
   ],
   "source": [
    "# trapz 方法：\n",
    "%timeit trapz(y, x)\n",
    "y1 = trapz(y, x)\n",
    "print y1"
   ]
  },
  {
   "cell_type": "code",
   "execution_count": 63,
   "metadata": {},
   "outputs": [
    {
     "name": "stdout",
     "output_type": "stream",
     "text": [
      "1000 loops, best of 3: 299 µs per loop\n",
      "3.284285549683824e-16\n"
     ]
    }
   ],
   "source": [
    "# simps 方法：\n",
    "%timeit simps(y, x)\n",
    "y3 = simps(y, x)\n",
    "print y3"
   ]
  },
  {
   "cell_type": "code",
   "execution_count": 64,
   "metadata": {},
   "outputs": [
    {
     "name": "stdout",
     "output_type": "stream",
     "text": [
      "100 loops, best of 3: 9.1 ms per loop\n",
      "0\n"
     ]
    }
   ],
   "source": [
    "# sympy 积分方法：\n",
    "%timeit sympy_y(20 * np.pi)\n",
    "y4 = sympy_y(20 * np.pi)\n",
    "print y4"
   ]
  },
  {
   "cell_type": "code",
   "execution_count": null,
   "metadata": {},
   "outputs": [],
   "source": []
  }
 ],
 "metadata": {
  "kernelspec": {
   "display_name": "Python 2",
   "language": "python",
   "name": "python2"
  },
  "language_info": {
   "codemirror_mode": {
    "name": "ipython",
    "version": 2
   },
   "file_extension": ".py",
   "mimetype": "text/x-python",
   "name": "python",
   "nbconvert_exporter": "python",
   "pygments_lexer": "ipython2",
   "version": "2.7.13"
  },
  "latex_envs": {
   "LaTeX_envs_menu_present": true,
   "autoclose": false,
   "autocomplete": true,
   "bibliofile": "biblio.bib",
   "cite_by": "apalike",
   "current_citInitial": 1,
   "eqLabelWithNumbers": true,
   "eqNumInitial": 1,
   "hotkeys": {
    "equation": "Ctrl-E",
    "itemize": "Ctrl-I"
   },
   "labels_anchors": false,
   "latex_user_defs": false,
   "report_style_numbering": false,
   "user_envs_cfg": false
  },
  "toc": {
   "base_numbering": 1,
   "nav_menu": {},
   "number_sections": true,
   "sideBar": true,
   "skip_h1_title": true,
   "title_cell": "Contents",
   "title_sidebar": "Contents",
   "toc_cell": true,
   "toc_position": {},
   "toc_section_display": true,
   "toc_window_display": false
  }
 },
 "nbformat": 4,
 "nbformat_minor": 2
}
