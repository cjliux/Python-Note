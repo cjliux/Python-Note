{
 "cells": [
  {
   "cell_type": "markdown",
   "metadata": {},
   "source": [
    "# 排序和搜索"
   ]
  },
  {
   "cell_type": "code",
   "execution_count": 1,
   "metadata": {},
   "outputs": [
    {
     "data": {
      "text/plain": [
       "False"
      ]
     },
     "execution_count": 1,
     "metadata": {},
     "output_type": "execute_result"
    }
   ],
   "source": [
    "15 in [3,3,2,1,4]"
   ]
  },
  {
   "cell_type": "code",
   "execution_count": 2,
   "metadata": {},
   "outputs": [
    {
     "data": {
      "text/plain": [
       "True"
      ]
     },
     "execution_count": 2,
     "metadata": {},
     "output_type": "execute_result"
    }
   ],
   "source": [
    "3 in [3,4,5,6]"
   ]
  },
  {
   "cell_type": "markdown",
   "metadata": {},
   "source": [
    "## 顺序查找"
   ]
  },
  {
   "cell_type": "code",
   "execution_count": 3,
   "metadata": {},
   "outputs": [
    {
     "name": "stdout",
     "output_type": "stream",
     "text": [
      "False\n",
      "True\n"
     ]
    }
   ],
   "source": [
    "# 查找列表中的项,假设列表项无序\n",
    "def sequence_search(alist,item):\n",
    "    pos = 0\n",
    "    found = False\n",
    "    while pos<len(alist) and not found:\n",
    "        if alist[pos]==item:\n",
    "            found = True\n",
    "        else:\n",
    "            pos += 1\n",
    "    return found\n",
    "\n",
    "testlist = [1, 2, 32, 8, 17, 19, 42, 13, 0]\n",
    "print(sequence_search(testlist, 3))\n",
    "print(sequence_search(testlist, 13))        "
   ]
  },
  {
   "cell_type": "code",
   "execution_count": 4,
   "metadata": {},
   "outputs": [
    {
     "name": "stdout",
     "output_type": "stream",
     "text": [
      "False\n",
      "True\n"
     ]
    }
   ],
   "source": [
    "# 查找列表中的项,假设列表项有序\n",
    "def order_sequence_search(alist,item):\n",
    "    pos = 0\n",
    "    found = False\n",
    "    stop = False\n",
    "    while pos < len(alist) and not found and not stop:\n",
    "        if alist[pos] == item:\n",
    "            found = True\n",
    "        else:\n",
    "            if alist[pos]>item:\n",
    "                stop = True\n",
    "            else:\n",
    "                pos += 1\n",
    "    return found\n",
    "\n",
    "testlist = [0, 1, 2, 8, 13, 17, 19, 32, 42,]\n",
    "print(order_sequence_search(testlist, 3))\n",
    "print(order_sequence_search(testlist, 13))"
   ]
  },
  {
   "cell_type": "markdown",
   "metadata": {},
   "source": [
    "## 二分法查找"
   ]
  },
  {
   "cell_type": "code",
   "execution_count": 5,
   "metadata": {},
   "outputs": [
    {
     "name": "stdout",
     "output_type": "stream",
     "text": [
      "False\n",
      "True\n"
     ]
    }
   ],
   "source": [
    "def binary_search(alist,item):\n",
    "    first = 0\n",
    "    last = len(alist)-1\n",
    "    found = False\n",
    "    \n",
    "    while first<=last and not found:\n",
    "        mid = (first+last)/2\n",
    "        if alist[mid]==item:\n",
    "            found = True\n",
    "        elif alist[mid]>item:\n",
    "            last = mid - 1\n",
    "        else:\n",
    "            first = mid + 1\n",
    "    return found\n",
    "\n",
    "testlist = [0, 1, 2, 8, 13, 17, 19, 32, 42,]\n",
    "print(binary_search(testlist, 3))\n",
    "print(binary_search(testlist, 13))        "
   ]
  },
  {
   "cell_type": "code",
   "execution_count": 6,
   "metadata": {},
   "outputs": [
    {
     "name": "stdout",
     "output_type": "stream",
     "text": [
      "False\n",
      "True\n"
     ]
    }
   ],
   "source": [
    "# 递归实现\n",
    "def bianary_search(alist,item):\n",
    "    if len(alist)==0:\n",
    "        return False\n",
    "    else:\n",
    "        mid = len(alist)//2\n",
    "        if alist[mid]==item:\n",
    "            return True\n",
    "        else:\n",
    "            if item<alist[mid]:\n",
    "                return bianary_search(alist[:mid],item)\n",
    "            else:\n",
    "                return bianary_search(alist[mid+1:],item)\n",
    "testlist = [0, 1, 2, 8, 13, 17, 19, 32, 42,]\n",
    "print(binary_search(testlist, 3))\n",
    "print(binary_search(testlist, 13)) "
   ]
  },
  {
   "cell_type": "markdown",
   "metadata": {},
   "source": [
    "## Hash查找"
   ]
  },
  {
   "cell_type": "markdown",
   "metadata": {},
   "source": [
    "哈希表 是以一种容易找到它们的方式存储的项的集合。哈希表的每个位置，通常称为一个槽，可以容纳一个项，并且由从 0 开始的整数值命名。例如，我们有一个名为 0 的槽，名为 1 的槽，名为 2 的槽，以上。最初，哈希表不包含项，因此每个槽都为空。我们可以通过使用列表来实现一个哈希表，每个元素初始化为None 。Figure 4 展示了大小 m = 11 的哈希表。换句话说，在表中有 m 个槽，命名为 0 到 10。\n",
    "![](https://raw.githubusercontent.com/ds19991999/githubimg/master/picgo/20180730133625.png)\n",
    "\n",
    "具体介绍见：[Hash查找](https://github.com/facert/python-data-structure-cn/tree/master/5.%E6%8E%92%E5%BA%8F%E5%92%8C%E6%90%9C%E7%B4%A2/5.5.Hash%E6%9F%A5%E6%89%BE)"
   ]
  },
  {
   "cell_type": "code",
   "execution_count": 7,
   "metadata": {},
   "outputs": [],
   "source": [
    "def hash(astring, tablesize):\n",
    "    sum = 0\n",
    "    for pos in range(len(astring)):\n",
    "        sum = sum+ord(astring[pos])\n",
    "    return sum%tablesize"
   ]
  },
  {
   "cell_type": "markdown",
   "metadata": {},
   "source": [
    "冲突解决：\n",
    "![](https://raw.githubusercontent.com/ds19991999/githubimg/master/picgo/20180730135953.png)"
   ]
  },
  {
   "cell_type": "markdown",
   "metadata": {},
   "source": [
    "## 排序"
   ]
  },
  {
   "cell_type": "code",
   "execution_count": 8,
   "metadata": {},
   "outputs": [
    {
     "name": "stdout",
     "output_type": "stream",
     "text": [
      "[17, 20, 26, 31, 44, 54, 55, 77, 93]\n"
     ]
    }
   ],
   "source": [
    "# 冒泡排序\n",
    "def bubble_sort_1(alist):\n",
    "    for j in range(len(alist)-1,0,-1):\n",
    "        for i in range(j):\n",
    "            if alist[i]>alist[i+1]:\n",
    "                alist[i],alist[i+1]=alist[i+1],alist[i]\n",
    "    return alist\n",
    "alist = [54,26,93,17,77,31,44,55,20]\n",
    "print bubble_sort_1(alist)"
   ]
  },
  {
   "cell_type": "code",
   "execution_count": 9,
   "metadata": {},
   "outputs": [
    {
     "name": "stdout",
     "output_type": "stream",
     "text": [
      "[20, 30, 40, 50, 60, 70, 80, 90, 100, 110]\n"
     ]
    }
   ],
   "source": [
    "# 优化冒泡排序，识别有序序列,修改冒泡排序提前停止\n",
    "def bubble_sort_2(alist):\n",
    "    exchange = True\n",
    "    j = len(alist)-1\n",
    "    while j>0 and exchange:\n",
    "        exchange = False\n",
    "        for i in range(j):\n",
    "            if alist[i] > alist[i+1]:\n",
    "                alist[i],alist[i+1]=alist[i+1],alist[i]\n",
    "                exchange = True\n",
    "        j -= 1\n",
    "    return alist\n",
    "        \n",
    "alist=[30,20,40,90,50,60,70,80,100,110]\n",
    "print bubble_sort_2(alist)"
   ]
  },
  {
   "cell_type": "code",
   "execution_count": 10,
   "metadata": {},
   "outputs": [
    {
     "name": "stdout",
     "output_type": "stream",
     "text": [
      "[17, 20, 26, 31, 44, 54, 55, 77, 93]\n"
     ]
    }
   ],
   "source": [
    "# 简单选择排序\n",
    "def select_sort(alist):\n",
    "    for i in range(len(alist)):\n",
    "        k = i\n",
    "        for j in range(k,len(alist)):\n",
    "            if alist[k]>alist[j]:\n",
    "                k = j\n",
    "        alist[i],alist[k]=alist[k],alist[i]\n",
    "    return alist\n",
    "alist = [54,26,93,17,77,31,44,55,20]\n",
    "print select_sort(alist)"
   ]
  },
  {
   "cell_type": "code",
   "execution_count": 11,
   "metadata": {},
   "outputs": [
    {
     "name": "stdout",
     "output_type": "stream",
     "text": [
      "[17, 20, 26, 31, 44, 54, 55, 77, 93]\n"
     ]
    }
   ],
   "source": [
    "# 插入排序\n",
    "def insert_sort(alist):\n",
    "    for i in range(0,len(alist)):\n",
    "        for j in range(i+1,len(alist)):\n",
    "            if alist[i]>alist[j]:\n",
    "                tmp = alist[j]\n",
    "                alist.pop(j)\n",
    "                alist.insert(i,tmp)\n",
    "    return alist\n",
    "alist = [54,26,93,17,77,31,44,55,20]\n",
    "print insert_sort(alist)"
   ]
  },
  {
   "cell_type": "code",
   "execution_count": 12,
   "metadata": {},
   "outputs": [
    {
     "name": "stdout",
     "output_type": "stream",
     "text": [
      "[17, 26, 31, 44, 54, 55, 77, 93, 20]\n"
     ]
    }
   ],
   "source": [
    "# 插入排序2\n",
    "def insert_sort_2(A):\n",
    "    length = len(A)\n",
    "    if length < 2:\n",
    "        return A\n",
    "    \n",
    "    for i in range(1,length-1):\n",
    "        key = A[i]\n",
    "        j = i-1\n",
    "        while j>=0 and A[j]>key:\n",
    "            A[j+1]=A[j]\n",
    "            j -= 1\n",
    "        A[j+1] = key\n",
    "    return A\n",
    "alist = [54,26,93,17,77,31,44,55,20]\n",
    "print insert_sort_2(alist)"
   ]
  },
  {
   "cell_type": "markdown",
   "metadata": {},
   "source": [
    "更多排序算法见博客：[Python排序算法](https://blog.csdn.net/ds19991999/article/details/79998011)"
   ]
  }
 ],
 "metadata": {
  "kernelspec": {
   "display_name": "Python 2",
   "language": "python",
   "name": "python2"
  },
  "language_info": {
   "codemirror_mode": {
    "name": "ipython",
    "version": 2
   },
   "file_extension": ".py",
   "mimetype": "text/x-python",
   "name": "python",
   "nbconvert_exporter": "python",
   "pygments_lexer": "ipython2",
   "version": "2.7.13"
  },
  "latex_envs": {
   "LaTeX_envs_menu_present": true,
   "autoclose": false,
   "autocomplete": true,
   "bibliofile": "biblio.bib",
   "cite_by": "apalike",
   "current_citInitial": 1,
   "eqLabelWithNumbers": true,
   "eqNumInitial": 1,
   "hotkeys": {
    "equation": "Ctrl-E",
    "itemize": "Ctrl-I"
   },
   "labels_anchors": false,
   "latex_user_defs": false,
   "report_style_numbering": false,
   "user_envs_cfg": false
  },
  "toc": {
   "base_numbering": 1,
   "nav_menu": {},
   "number_sections": true,
   "sideBar": true,
   "skip_h1_title": true,
   "title_cell": "Contents",
   "title_sidebar": "Contents",
   "toc_cell": false,
   "toc_position": {},
   "toc_section_display": true,
   "toc_window_display": false
  }
 },
 "nbformat": 4,
 "nbformat_minor": 2
}
