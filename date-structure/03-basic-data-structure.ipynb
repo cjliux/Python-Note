{
 "cells": [
  {
   "cell_type": "markdown",
   "metadata": {},
   "source": [
    "# 基本数据结构"
   ]
  },
  {
   "cell_type": "markdown",
   "metadata": {
    "toc": true
   },
   "source": [
    "<h1>Contents<span class=\"tocSkip\"></span></h1>\n",
    "<div class=\"toc\"><ul class=\"toc-item\"><li><span><a href=\"#栈\" data-toc-modified-id=\"栈-1\"><span class=\"toc-item-num\">1&nbsp;&nbsp;</span>栈</a></span><ul class=\"toc-item\"><li><span><a href=\"#简介\" data-toc-modified-id=\"简介-1.1\"><span class=\"toc-item-num\">1.1&nbsp;&nbsp;</span>简介</a></span></li><li><span><a href=\"#Python实现栈\" data-toc-modified-id=\"Python实现栈-1.2\"><span class=\"toc-item-num\">1.2&nbsp;&nbsp;</span>Python实现栈</a></span></li><li><span><a href=\"#简单括号匹配\" data-toc-modified-id=\"简单括号匹配-1.3\"><span class=\"toc-item-num\">1.3&nbsp;&nbsp;</span>简单括号匹配</a></span></li><li><span><a href=\"#符号匹配\" data-toc-modified-id=\"符号匹配-1.4\"><span class=\"toc-item-num\">1.4&nbsp;&nbsp;</span>符号匹配</a></span></li><li><span><a href=\"#十进制转换成二进制\" data-toc-modified-id=\"十进制转换成二进制-1.5\"><span class=\"toc-item-num\">1.5&nbsp;&nbsp;</span>十进制转换成二进制</a></span></li><li><span><a href=\"#中缀前缀和后缀表达式\" data-toc-modified-id=\"中缀前缀和后缀表达式-1.6\"><span class=\"toc-item-num\">1.6&nbsp;&nbsp;</span>中缀前缀和后缀表达式</a></span><ul class=\"toc-item\"><li><span><a href=\"#中缀转后缀算法\" data-toc-modified-id=\"中缀转后缀算法-1.6.1\"><span class=\"toc-item-num\">1.6.1&nbsp;&nbsp;</span>中缀转后缀算法</a></span></li><li><span><a href=\"#后缀表达式求值\" data-toc-modified-id=\"后缀表达式求值-1.6.2\"><span class=\"toc-item-num\">1.6.2&nbsp;&nbsp;</span>后缀表达式求值</a></span></li></ul></li></ul></li><li><span><a href=\"#队列\" data-toc-modified-id=\"队列-2\"><span class=\"toc-item-num\">2&nbsp;&nbsp;</span>队列</a></span><ul class=\"toc-item\"><li><span><a href=\"#简介\" data-toc-modified-id=\"简介-2.1\"><span class=\"toc-item-num\">2.1&nbsp;&nbsp;</span>简介</a></span></li><li><span><a href=\"#Python实现队列\" data-toc-modified-id=\"Python实现队列-2.2\"><span class=\"toc-item-num\">2.2&nbsp;&nbsp;</span>Python实现队列</a></span></li><li><span><a href=\"#模拟：烫手山芋\" data-toc-modified-id=\"模拟：烫手山芋-2.3\"><span class=\"toc-item-num\">2.3&nbsp;&nbsp;</span>模拟：烫手山芋</a></span></li></ul></li><li><span><a href=\"#双端队列Deque\" data-toc-modified-id=\"双端队列Deque-3\"><span class=\"toc-item-num\">3&nbsp;&nbsp;</span>双端队列Deque</a></span><ul class=\"toc-item\"><li><span><a href=\"#简介\" data-toc-modified-id=\"简介-3.1\"><span class=\"toc-item-num\">3.1&nbsp;&nbsp;</span>简介</a></span></li><li><span><a href=\"#Python实现Deque\" data-toc-modified-id=\"Python实现Deque-3.2\"><span class=\"toc-item-num\">3.2&nbsp;&nbsp;</span>Python实现Deque</a></span></li><li><span><a href=\"#回文检查\" data-toc-modified-id=\"回文检查-3.3\"><span class=\"toc-item-num\">3.3&nbsp;&nbsp;</span>回文检查</a></span></li></ul></li><li><span><a href=\"#无序列表\" data-toc-modified-id=\"无序列表-4\"><span class=\"toc-item-num\">4&nbsp;&nbsp;</span>无序列表</a></span><ul class=\"toc-item\"><li><span><a href=\"#简介\" data-toc-modified-id=\"简介-4.1\"><span class=\"toc-item-num\">4.1&nbsp;&nbsp;</span>简介</a></span></li><li><span><a href=\"#实现无序列表：链表\" data-toc-modified-id=\"实现无序列表：链表-4.2\"><span class=\"toc-item-num\">4.2&nbsp;&nbsp;</span>实现无序列表：链表</a></span></li></ul></li><li><span><a href=\"#有序列表抽象数据结构\" data-toc-modified-id=\"有序列表抽象数据结构-5\"><span class=\"toc-item-num\">5&nbsp;&nbsp;</span>有序列表抽象数据结构</a></span></li></ul></div>"
   ]
  },
  {
   "cell_type": "markdown",
   "metadata": {},
   "source": [
    "## 栈"
   ]
  },
  {
   "cell_type": "markdown",
   "metadata": {},
   "source": [
    "### 简介"
   ]
  },
  {
   "cell_type": "markdown",
   "metadata": {},
   "source": [
    "* 栈，队列，deques, 列表是一类数据的容器，它们数据项之间的顺序由添加或删除的顺序决定。\n",
    "* 栈（有时称为“后进先出栈”）是一个项的有序集合\n",
    "* 栈的抽象数据类型：\n",
    "    * Stack() 创建一个空的新栈。 它不需要参数，并返回一个空栈。\n",
    "    * push(item)将一个新项添加到栈的顶部。它需要 item 做参数并不返回任何内容。\n",
    "    * pop() 从栈中删除顶部项。它不需要参数并返回 item 。栈被修改。\n",
    "    * peek() 从栈返回顶部项，但不会删除它。不需要参数。 不修改栈。\n",
    "    * isEmpty() 测试栈是否为空。不需要参数，并返回布尔值。\n",
    "    * size() 返回栈中的 item 数量。不需要参数，并返回一个整数。\n",
    "    \n",
    "\n",
    "![](https://raw.githubusercontent.com/ds19991999/githubimg/master/picgo/20180729151041.png)"
   ]
  },
  {
   "cell_type": "markdown",
   "metadata": {},
   "source": [
    "### Python实现栈"
   ]
  },
  {
   "cell_type": "code",
   "execution_count": 1,
   "metadata": {},
   "outputs": [],
   "source": [
    "class Stack:\n",
    "    def __init__(self):\n",
    "        self.items = []\n",
    "        \n",
    "    def isEmpty(self):\n",
    "        return self.items == []\n",
    "    def push(self,item):\n",
    "        self.items.append(item)\n",
    "    def pop(self):\n",
    "        self.items.pop()\n",
    "    def peek(self):\n",
    "        return self.items.pop()\n",
    "    def size(self):\n",
    "        return len(self.items)"
   ]
  },
  {
   "cell_type": "code",
   "execution_count": 2,
   "metadata": {},
   "outputs": [
    {
     "name": "stdout",
     "output_type": "stream",
     "text": [
      "True\n"
     ]
    }
   ],
   "source": [
    "# 创建一个空栈\n",
    "s = Stack()\n",
    "print s.isEmpty()"
   ]
  },
  {
   "cell_type": "code",
   "execution_count": 3,
   "metadata": {},
   "outputs": [
    {
     "data": {
      "text/plain": [
       "[4, 'dog']"
      ]
     },
     "execution_count": 3,
     "metadata": {},
     "output_type": "execute_result"
    }
   ],
   "source": [
    "s.push(4)\n",
    "s.push('dog')\n",
    "s.items"
   ]
  },
  {
   "cell_type": "markdown",
   "metadata": {},
   "source": [
    "### 简单括号匹配"
   ]
  },
  {
   "cell_type": "markdown",
   "metadata": {},
   "source": [
    "给出一个表达式(5+6)∗(7+8)/(4+3)，如何判断它的括号是否匹配,给出一个空栈，如果是'('就入栈,如果是'('就出栈，最后的栈如果是空栈则括号匹配，否则不匹配"
   ]
  },
  {
   "cell_type": "code",
   "execution_count": 4,
   "metadata": {},
   "outputs": [
    {
     "name": "stdout",
     "output_type": "stream",
     "text": [
      "True\n",
      "False\n",
      "False\n"
     ]
    }
   ],
   "source": [
    "from pythonds.basic.stack import Stack\n",
    "\n",
    "def parChecker(symbolString):\n",
    "    s = Stack()\n",
    "    balanced = True\n",
    "    index = 0\n",
    "    while index < len(symbolString) and balanced:\n",
    "        symbol = symbolString[index]\n",
    "        if symbol == \"(\":\n",
    "            s.push(symbol)\n",
    "        elif symbol == \")\":\n",
    "            # 空栈不能弹栈\n",
    "            if s.isEmpty():\n",
    "                balanced = False\n",
    "            else:\n",
    "                s.pop()\n",
    "\n",
    "        index = index + 1\n",
    "\n",
    "    # 两个条件，前面的\"(\"匹配成功并且s为空栈\n",
    "    if balanced and s.isEmpty():\n",
    "        return True\n",
    "    else:\n",
    "        return False\n",
    "\n",
    "print(parChecker('(2((3)2))'))\n",
    "print(parChecker('(2(3)'))\n",
    "print(parChecker('((((2(3)'))"
   ]
  },
  {
   "cell_type": "markdown",
   "metadata": {},
   "source": [
    "### 符号匹配"
   ]
  },
  {
   "cell_type": "markdown",
   "metadata": {},
   "source": [
    "在 Python 中，方括号 [ 和 ] 用于列表，花括号 { 和 } 用于字典。括号 ( 和 ) 用于元祖和算术表达式。只要每个符号都能保持自己的开始和结束关系，就可以混合符号"
   ]
  },
  {
   "cell_type": "code",
   "execution_count": 5,
   "metadata": {},
   "outputs": [
    {
     "name": "stdout",
     "output_type": "stream",
     "text": [
      "True\n",
      "False\n"
     ]
    }
   ],
   "source": [
    "from pythonds.basic.stack import Stack\n",
    "def parChecker(string):\n",
    "    s = Stack()\n",
    "    balanced = True\n",
    "    index = 0\n",
    "    \n",
    "    while index<len(string) and balanced:\n",
    "        symbol = string[index]\n",
    "        if symbol in \"([{\":\n",
    "            s.push(symbol)\n",
    "        elif symbol in \")}]\":\n",
    "            if s.isEmpty():\n",
    "                balanced = False\n",
    "            else:\n",
    "                top = s.pop()\n",
    "                if not matches(top,symbol):\n",
    "                    balanced = False\n",
    "            \n",
    "        index += 1\n",
    "    \n",
    "    if balanced and s.isEmpty():\n",
    "        return True\n",
    "    else:\n",
    "        return False                         \n",
    "                        \n",
    "def matches(open,close):\n",
    "    opens = \"([{\"\n",
    "    closers = \")]}\"\n",
    "    return opens.index(open) == closers.index(close)\n",
    "\n",
    "print(parChecker('{{([][])}()}'))\n",
    "print(parChecker('[{()]'))\n"
   ]
  },
  {
   "cell_type": "markdown",
   "metadata": {},
   "source": [
    "### 十进制转换成二进制"
   ]
  },
  {
   "cell_type": "markdown",
   "metadata": {},
   "source": [
    "* “除 2”算法，它用栈来跟踪二进制结果的数字。 第一个余数实际上是序列中的最后一个数字,同样第二个余数就是序列倒数第二个数字...\n",
    "* `//`是取商，`%`是取余"
   ]
  },
  {
   "cell_type": "code",
   "execution_count": 6,
   "metadata": {},
   "outputs": [
    {
     "name": "stdout",
     "output_type": "stream",
     "text": [
      "111\n",
      "101011\n",
      "110\n"
     ]
    }
   ],
   "source": [
    "from pythonds.basic.stack import Stack\n",
    "def divideBy2(number):\n",
    "    remstack = Stack()\n",
    "    \n",
    "    while number>0:\n",
    "        rem = number%2\n",
    "        # 入栈\n",
    "        remstack.push(rem)\n",
    "        number //= 2\n",
    "    binString = ''\n",
    "    while not remstack.isEmpty():\n",
    "        # 出栈\n",
    "        binString += str(remstack.pop())\n",
    "    return binString\n",
    "print divideBy2(7)\n",
    "print divideBy2(43)\n",
    "print divideBy2(6)"
   ]
  },
  {
   "cell_type": "markdown",
   "metadata": {},
   "source": [
    "更进一步，将基数2变为任意基数2-16"
   ]
  },
  {
   "cell_type": "code",
   "execution_count": 7,
   "metadata": {},
   "outputs": [
    {
     "name": "stdout",
     "output_type": "stream",
     "text": [
      "11110\n",
      "1E\n"
     ]
    }
   ],
   "source": [
    "def baseConverter(number,base):\n",
    "    digits = \"0123456789ABCDEF\"\n",
    "    remstack = Stack()\n",
    "    \n",
    "    while number > 0:\n",
    "        rem = number%base\n",
    "        remstack.push(rem)\n",
    "        number //= base\n",
    "        \n",
    "    newString = ''\n",
    "    while not remstack.isEmpty():\n",
    "        newString += digits[remstack.pop()]\n",
    "    return newString\n",
    "print(baseConverter(30,2))\n",
    "print(baseConverter(30,16))"
   ]
  },
  {
   "cell_type": "markdown",
   "metadata": {},
   "source": [
    "### 中缀前缀和后缀表达式"
   ]
  },
  {
   "cell_type": "markdown",
   "metadata": {},
   "source": [
    "我们生活中一般接触到的都是中缀运算符，所以不作介绍，而前缀和后缀运算符与中缀运算符的转换见下表：\n",
    "![](https://raw.githubusercontent.com/ds19991999/githubimg/master/picgo/20180729163838.png)\n",
    "![](https://raw.githubusercontent.com/ds19991999/githubimg/master/picgo/20180729164150.png)"
   ]
  },
  {
   "cell_type": "markdown",
   "metadata": {},
   "source": [
    "* 前缀运算符的运算顺序从后面一个运算符开始计算，使用运算符后面的操作数\n",
    "* 后缀运算符的运算顺序从前面一个运算符开始计算，使用运算符前面的操作数\n",
    "* 前后中运算符的遍历就如同前后中序遍历\n",
    "* 操作数相对位置不变"
   ]
  },
  {
   "cell_type": "markdown",
   "metadata": {},
   "source": [
    "#### 中缀转后缀算法"
   ]
  },
  {
   "cell_type": "markdown",
   "metadata": {},
   "source": [
    "假设中缀表达式是一个由空格分隔的标记字符串。 操作符标记是`*，/，+和 -` ，以及左右括号。操作数是单字符 A，B，C 等。 以下步骤将后缀顺序生成一个字符串:\n",
    "* 创建一个名为 `opstack` 的空栈以保存运算符。给输出创建一个空列表。\n",
    "* 通过使用字符串方法拆分将输入的中缀字符串转换为标记列表。\n",
    "* 从左到右扫描标记列表。\n",
    "    * 如果标记是操作数，将其附加到输出列表的末尾。\n",
    "    * 如果标记是左括号，将其压到 opstack 上。\n",
    "    * 如果标记是右括号，则弹出 opstack，直到删除相应的左括号。将每个运算符附加到输出列表的末尾。\n",
    "    * 如果标记是运算符，`*，/，+或 - `，将其压入 `opstack`。但是，首先删除已经在 opstack 中具有更高或相等优先级的任何运算符，并将它们加到输出列表中。\n",
    "* 当输入表达式被完全处理时，检查 opstack。仍然在栈上的任何运算符都可以删除并加到输出列表的末尾。\n",
    "![](https://raw.githubusercontent.com/ds19991999/githubimg/master/picgo/20180729170448.png)"
   ]
  },
  {
   "cell_type": "code",
   "execution_count": 8,
   "metadata": {},
   "outputs": [
    {
     "name": "stdout",
     "output_type": "stream",
     "text": [
      "A B * C D * +\n",
      "A B + C * D E - F G + * -\n"
     ]
    }
   ],
   "source": [
    "from pythonds.basic.stack import Stack\n",
    "def infixToPostfix(infixexpr):\n",
    "    # 优先级字典\n",
    "    prec = {}\n",
    "    prec[\"*\"] = 3\n",
    "    prec[\"/\"] = 3\n",
    "    prec[\"+\"] = 2\n",
    "    prec[\"-\"] = 2\n",
    "    prec[\"(\"] = 1\n",
    "    opStack = Stack()\n",
    "    postfixList = []\n",
    "    # 空格分隔的表达式\n",
    "    tokenList = infixexpr.split()\n",
    "    \n",
    "    for token in tokenList:\n",
    "        # 操作数\n",
    "        if token in \"ABCDEFGHIJKLMNOPQRSTUVWXYZ\" or token in \"0123456789\":\n",
    "            postfixList.append(token)\n",
    "        # 括号\n",
    "        elif token == \"(\":\n",
    "            opStack.push(token)\n",
    "        elif token == \")\":\n",
    "            topToken = opStack.pop()\n",
    "            while topToken != '(':\n",
    "                postfixList.append(topToken)\n",
    "                topToken = opStack.pop()\n",
    "        # 操作符\n",
    "        else:\n",
    "            # 栈顶优先级大于当前操作符，并且栈不为空，弹栈加入输出列表\n",
    "            # 并且将当前操作符入栈\n",
    "            while (not opStack.isEmpty()) and (prec[opStack.peek()] >= prec[token]):\n",
    "                postfixList.append(opStack.pop())\n",
    "            opStack.push(token)\n",
    "    # 操作符栈不为空，全部弹出并加入输出链表    \n",
    "    while not opStack.isEmpty():\n",
    "        postfixList.append(opStack.pop())\n",
    "    \n",
    "    # 以空格为界加上去\n",
    "    return \" \".join(postfixList)\n",
    "\n",
    "print(infixToPostfix(\"A * B + C * D\"))\n",
    "print(infixToPostfix(\"( A + B ) * C - ( D - E ) * ( F + G )\"))"
   ]
  },
  {
   "cell_type": "markdown",
   "metadata": {},
   "source": [
    "#### 后缀表达式求值"
   ]
  },
  {
   "cell_type": "markdown",
   "metadata": {},
   "source": [
    "例如计算：`4 5 6 * +`\n",
    "![](https://raw.githubusercontent.com/ds19991999/githubimg/master/picgo/20180729184244.png)"
   ]
  },
  {
   "cell_type": "markdown",
   "metadata": {},
   "source": [
    "思路：\n",
    "假设后缀表达式是一个由空格分隔的标记字符串。 运算符为`*，/，+和 - `，操作数假定为单个整数值。 输出将是一个整数结果。\n",
    "\n",
    "* 创建一个名为 operandStack 的空栈。\n",
    "* 拆分字符串转换为标记列表。\n",
    "* 从左到右扫描标记列表。\n",
    "    * 如果标记是操作数，将其从字符串转换为整数，并将值压到operandStack。\n",
    "    * 如果标记是运算符`*，/，+或-`，它将需要两个操作数。弹出operandStack 两次。 第一个弹出的是第二个操作数，第二个弹出的是第一个操作数。执行算术运算后，将结果压到操作数栈中。\n",
    "    * 当输入的表达式被完全处理后，结果就在栈上，弹出 operandStack 并返回值。\n",
    "* 用于计算后缀表达式的完整函数见 ActiveCode 2，为了辅助计算，定义了一个函数 doM"
   ]
  },
  {
   "cell_type": "code",
   "execution_count": 9,
   "metadata": {},
   "outputs": [],
   "source": [
    "from pythonds.basic.stack import Stack\n",
    "def postfixEval(postfixExpr):\n",
    "    openrandStack = Stack()\n",
    "    tokenList = postfixExpr.split()\n",
    "    \n",
    "    for token in tokenList:\n",
    "        if token in \"0123456789\":\n",
    "            openrandStack.push(int(token))\n",
    "        else:\n",
    "            operand2 = openrandStack.pop()\n",
    "            operand1 = openrandStack.pop()\n",
    "            result = doMath(token,operand1,operand2)\n",
    "            openrandStack.push(result)\n",
    "    return openrandStack.pop()    \n",
    "    \n",
    "def doMath(op,op1,op2):\n",
    "    if op == \"*\":\n",
    "        return op1*op2\n",
    "    elif op == \"/\":\n",
    "        if op2 == 0:\n",
    "            return False\n",
    "        else:\n",
    "            return op1/op2\n",
    "    elif op == \"+\":\n",
    "        return op1+op2\n",
    "    elif op == \"-\":\n",
    "        return op1-op2"
   ]
  },
  {
   "cell_type": "code",
   "execution_count": 10,
   "metadata": {},
   "outputs": [
    {
     "name": "stdout",
     "output_type": "stream",
     "text": [
      "3\n"
     ]
    }
   ],
   "source": [
    "print postfixEval('7 8 + 3 2 + /')"
   ]
  },
  {
   "cell_type": "markdown",
   "metadata": {},
   "source": [
    "## 队列"
   ]
  },
  {
   "cell_type": "markdown",
   "metadata": {},
   "source": [
    "### 简介\n",
    "添加新项的一端称为队尾，移除项的一端称为队首，先进先出（FIFO）\n",
    "* `Queue()` 创建一个空的新队列。 它不需要参数，并返回一个空队列。\n",
    "* `enqueue(item)` 将新项添加到队尾。 它需要 item 作为参数，并不返回任何内容。\n",
    "* `dequeue() `从队首移除项。它不需要参数并返回 item。 队列被修改。\n",
    "* `isEmpty()` 查看队列是否为空。它不需要参数，并返回布尔值。\n",
    "* `size() `返回队列中的项数。它不需要参数，并返回一个整数。\n",
    "![](https://raw.githubusercontent.com/ds19991999/githubimg/master/picgo/20180729190741.png)"
   ]
  },
  {
   "cell_type": "markdown",
   "metadata": {},
   "source": [
    "### Python实现队列"
   ]
  },
  {
   "cell_type": "markdown",
   "metadata": {},
   "source": [
    "假定队尾在列表中的位置为 0，入队（队尾）为 O(n)，出队为 O(1)。"
   ]
  },
  {
   "cell_type": "code",
   "execution_count": 11,
   "metadata": {},
   "outputs": [],
   "source": [
    "class Queue():\n",
    "    def __init__(self):\n",
    "        self.items = []\n",
    "    def isEmpty(self):\n",
    "        return self.items == []\n",
    "    def enqueue(self,item):\n",
    "        self.items.insert(0,item)\n",
    "    def dequeue(self,item):\n",
    "        self.items.pop()\n",
    "    def size(self):\n",
    "        return len(self.items)"
   ]
  },
  {
   "cell_type": "code",
   "execution_count": 12,
   "metadata": {},
   "outputs": [
    {
     "name": "stdout",
     "output_type": "stream",
     "text": [
      "2\n",
      "['11e', 888]\n"
     ]
    }
   ],
   "source": [
    "q = Queue()\n",
    "q.enqueue(888)\n",
    "q.enqueue('11e')\n",
    "print q.size()\n",
    "print q.items"
   ]
  },
  {
   "cell_type": "markdown",
   "metadata": {},
   "source": [
    "### 模拟：烫手山芋"
   ]
  },
  {
   "cell_type": "markdown",
   "metadata": {},
   "source": [
    "首先，让我们看看孩子们的游戏烫手山芋，在这个游戏中，孩子们围成一个圈，并尽可能快的将一个山芋递给旁边的孩子。在某一个时间，动作结束，有山芋的孩子从圈中移除。游戏继续开始直到剩下最后一个孩子。"
   ]
  },
  {
   "cell_type": "code",
   "execution_count": 13,
   "metadata": {},
   "outputs": [
    {
     "name": "stdout",
     "output_type": "stream",
     "text": [
      "Susan\n"
     ]
    }
   ],
   "source": [
    "from pythonds.basic.queue import Queue\n",
    "def hotPotato(namelist,num):\n",
    "    simqueue = Queue()\n",
    "    for name in namelist:\n",
    "        simqueue.enqueue(name)\n",
    "    while simqueue.size()>1:\n",
    "        for i in range(num):\n",
    "            simqueue.enqueue(simqueue.dequeue())\n",
    "        simqueue.dequeue()\n",
    "    return simqueue.dequeue()\n",
    "print(hotPotato([\"Bill\",\"David\",\"Susan\",\"Jane\",\"Kent\",\"Brad\"],7))"
   ]
  },
  {
   "cell_type": "markdown",
   "metadata": {},
   "source": [
    "## 双端队列Deque"
   ]
  },
  {
   "cell_type": "markdown",
   "metadata": {},
   "source": [
    "### 简介"
   ]
  },
  {
   "cell_type": "markdown",
   "metadata": {},
   "source": [
    "* Deque() 创建一个空的新 deque。它不需要参数，并返回空的 deque。\n",
    "* addFront(item) 将一个新项添加到 deque 的首部。它需要 item 参数 并不返回任何内容。\n",
    "* addRear(item) 将一个新项添加到 deque 的尾部。它需要 item 参数并不返回任何内容。\n",
    "* removeFront() 从 deque 中删除首项。它不需要参数并返回 item。deque 被修改。\n",
    "* removeRear() 从 deque 中删除尾项。它不需要参数并返回 item。deque 被修改。\n",
    "* isEmpty() 测试 deque 是否为空。它不需要参数，并返回布尔值。\n",
    "* size() 返回 deque 中的项数。它不需要参数，并返回一个整数。\n",
    "![](https://raw.githubusercontent.com/ds19991999/githubimg/master/picgo/20180729195530.png)"
   ]
  },
  {
   "cell_type": "markdown",
   "metadata": {},
   "source": [
    "### Python实现Deque"
   ]
  },
  {
   "cell_type": "code",
   "execution_count": 14,
   "metadata": {},
   "outputs": [],
   "source": [
    "class Deque:\n",
    "    def __init__(self):\n",
    "        self.items = []\n",
    "    def isEmpty(self):\n",
    "        return self.items == []\n",
    "    def addFront(self,item):\n",
    "        self.items.append(item)\n",
    "    def addRear(self,item):\n",
    "        self.items.insert(0,item)\n",
    "    def removeFront(self):\n",
    "        return self.items.pop()\n",
    "    def removeRear(self):\n",
    "        return self.items.pop(0)\n",
    "    def size(self):\n",
    "        return len(self.items)"
   ]
  },
  {
   "cell_type": "markdown",
   "metadata": {},
   "source": [
    "### 回文检查"
   ]
  },
  {
   "cell_type": "markdown",
   "metadata": {},
   "source": [
    "如`radar toot madam`，我们先将字符串存入deque，如果队首队尾元素相同，删除队首队尾，直至只剩下一个字符或者0个字符"
   ]
  },
  {
   "cell_type": "code",
   "execution_count": 15,
   "metadata": {},
   "outputs": [
    {
     "name": "stdout",
     "output_type": "stream",
     "text": [
      "False\n",
      "True\n"
     ]
    }
   ],
   "source": [
    "from pythonds.basic.deque import Deque\n",
    "def palchecker(astring):\n",
    "    chardeque = Deque()\n",
    "    for ch in astring:\n",
    "        chardeque.addRear(ch)\n",
    "    stillEqual = True\n",
    "    \n",
    "    while chardeque.size()>1 and stillEqual:\n",
    "        first = chardeque.removeFront()\n",
    "        last = chardeque.removeRear()\n",
    "        if first != last:\n",
    "            stillEqual = False\n",
    "    return stillEqual\n",
    "print(palchecker(\"lsdkjfskf\"))\n",
    "print(palchecker(\"radar\"))"
   ]
  },
  {
   "cell_type": "markdown",
   "metadata": {},
   "source": [
    "## 无序列表"
   ]
  },
  {
   "cell_type": "markdown",
   "metadata": {},
   "source": [
    "### 简介"
   ]
  },
  {
   "cell_type": "markdown",
   "metadata": {},
   "source": [
    "* `List()` 创建一个新的空列表。它不需要参数，并返回一个空列表。\n",
    "* `add(item)` 向列表中添加一个新项。它需要 item 作为参数，并不返回任何内容。假定该 item 不在列表中。\n",
    "* ` remove(item)` 从列表中删除该项。它需要 item 作为参数并修改列表。假设项存在于列表中。\n",
    "* `search(item) `搜索列表中的项目。它需要 item 作为参数，并返回一个布尔值。\n",
    "* `isEmpty()` 检查列表是否为空。它不需要参数，并返回布尔值。\n",
    "* `size（）`返回列表中的项数。它不需要参数，并返回一个整数。\n",
    "* `append(item) `将一个新项添加到列表的末尾，使其成为集合中的最后一项。它需要 item 作为参数，并不返回任何内容。假定该项不在列表中。\n",
    "* `index(item) `返回项在列表中的位置。它需要 item 作为参数并返回索引。假定该项在列表中。\n",
    "* `insert(pos，item) `在位置 pos 处向列表中添加一个新项。它需要 item 作为参数并不返回任何内容。假设该项不在列表中，并且有足够的现有项使其有 pos 的位置。\n",
    "* `pop()` 删除并返回列表中的最后一个项。假设该列表至少有一个项。\n",
    "* `pop(pos)` 删除并返回位置 pos 处的项。它需要 pos 作为参数并返回项。假定该项在列表中。"
   ]
  },
  {
   "cell_type": "markdown",
   "metadata": {},
   "source": [
    "### 实现无序列表：链表"
   ]
  },
  {
   "cell_type": "code",
   "execution_count": 16,
   "metadata": {},
   "outputs": [],
   "source": [
    "# 定义链表结点\n",
    "class Node:\n",
    "    def __init__(self,initdata):\n",
    "        self.data = initdata\n",
    "        self.next = None\n",
    "    def getData(self):\n",
    "        return self.data\n",
    "    def getNext(self):\n",
    "        return self.next\n",
    "    def setData(self,newdata):\n",
    "        self.data = newdata\n",
    "    def setNext(self,newnext):\n",
    "        self.next = newnext"
   ]
  },
  {
   "cell_type": "code",
   "execution_count": 17,
   "metadata": {},
   "outputs": [
    {
     "data": {
      "text/plain": [
       "666"
      ]
     },
     "execution_count": 17,
     "metadata": {},
     "output_type": "execute_result"
    }
   ],
   "source": [
    "temp = Node(666)\n",
    "temp.getData()"
   ]
  },
  {
   "cell_type": "code",
   "execution_count": 18,
   "metadata": {},
   "outputs": [],
   "source": [
    "# 定义无序链表类，只需要指出第一个结点的位置\n",
    "# 空链表\n",
    "class UnorderedList:\n",
    "    def __init__(self):\n",
    "        self.head = None"
   ]
  },
  {
   "cell_type": "markdown",
   "metadata": {},
   "source": [
    "## 有序列表抽象数据结构"
   ]
  },
  {
   "cell_type": "markdown",
   "metadata": {},
   "source": [
    "* `OrderedList()` 创建一个新的空列表。它不需要参数，并返回一个空列表。\n",
    "* `add(item)` 向列表中添加一个新项。它需要 item 作为参数，并不返回任何内容。假定该 item 不在列表中。\n",
    "* `remove(item)` 从列表中删除该项。它需要 item 作为参数并修改列表。假设项存在于列表中。\n",
    "* `search(item)` 搜索列表中的项目。它需要 item 作为参数，并返回一个布尔值。\n",
    "* `isEmpty()` 检查列表是否为空。它不需要参数，并返回布尔值。\n",
    "* `size（）`返回列表中的项数。它不需要参数，并返回一个整数。\n",
    "* `index(item)` 返回项在列表中的位置。它需要 item 作为参数并返回索引。假定该项在列表中。\n",
    "* `pop()` 删除并返回列表中的最后一个项。假设该列表至少有一个项。\n",
    "* `pop(pos)` 删除并返回位置 pos 处的项。它需要 pos 作为参数并返回项。假定该项在列表中。"
   ]
  }
 ],
 "metadata": {
  "kernelspec": {
   "display_name": "Python 2",
   "language": "python",
   "name": "python2"
  },
  "language_info": {
   "codemirror_mode": {
    "name": "ipython",
    "version": 2
   },
   "file_extension": ".py",
   "mimetype": "text/x-python",
   "name": "python",
   "nbconvert_exporter": "python",
   "pygments_lexer": "ipython2",
   "version": "2.7.13"
  },
  "latex_envs": {
   "LaTeX_envs_menu_present": true,
   "autoclose": false,
   "autocomplete": true,
   "bibliofile": "biblio.bib",
   "cite_by": "apalike",
   "current_citInitial": 1,
   "eqLabelWithNumbers": true,
   "eqNumInitial": 1,
   "hotkeys": {
    "equation": "Ctrl-E",
    "itemize": "Ctrl-I"
   },
   "labels_anchors": false,
   "latex_user_defs": false,
   "report_style_numbering": false,
   "user_envs_cfg": false
  },
  "toc": {
   "base_numbering": 1,
   "nav_menu": {},
   "number_sections": true,
   "sideBar": true,
   "skip_h1_title": true,
   "title_cell": "Contents",
   "title_sidebar": "Contents",
   "toc_cell": true,
   "toc_position": {},
   "toc_section_display": true,
   "toc_window_display": false
  }
 },
 "nbformat": 4,
 "nbformat_minor": 2
}
