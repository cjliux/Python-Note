{
 "cells": [
  {
   "cell_type": "markdown",
   "metadata": {},
   "source": [
    "# super() 函数"
   ]
  },
  {
   "cell_type": "markdown",
   "metadata": {},
   "source": [
    "```\n",
    "super(CurrentClassName, instance)\n",
    "```\n",
    "返回该类实例**对应的父类对象**。"
   ]
  },
  {
   "cell_type": "code",
   "execution_count": 1,
   "metadata": {},
   "outputs": [],
   "source": [
    "class Leaf(object):\n",
    "    def __init__(self, color=\"green\"):\n",
    "        self.color = color\n",
    "    def fall(self):\n",
    "        print \"Splat!\"\n",
    "\n",
    "        \n",
    "class MapleLeaf(Leaf):\n",
    "    def change_color(self):\n",
    "        if self.color == \"green\":\n",
    "            self.color = \"red\"\n",
    "    def fall(self):\n",
    "        self.change_color()\n",
    "        print\"change color\",\n",
    "        ######################################\n",
    "        super(MapleLeaf, self).fall()"
   ]
  },
  {
   "cell_type": "code",
   "execution_count": 2,
   "metadata": {},
   "outputs": [
    {
     "name": "stdout",
     "output_type": "stream",
     "text": [
      "green\n",
      "change color Splat!\n"
     ]
    }
   ],
   "source": [
    "mleaf = MapleLeaf()\n",
    "print mleaf.color\n",
    "mleaf.fall()"
   ]
  },
  {
   "cell_type": "code",
   "execution_count": 3,
   "metadata": {},
   "outputs": [
    {
     "name": "stdout",
     "output_type": "stream",
     "text": [
      "red\n"
     ]
    }
   ],
   "source": [
    "print mleaf.color"
   ]
  },
  {
   "cell_type": "code",
   "execution_count": 4,
   "metadata": {},
   "outputs": [
    {
     "name": "stdout",
     "output_type": "stream",
     "text": [
      "Splat!\n"
     ]
    }
   ],
   "source": [
    "# super(CurrentClassName, instance)\n",
    "# 返回该类实例对应的父类对象\n",
    "super(MapleLeaf,mleaf).fall()"
   ]
  },
  {
   "cell_type": "code",
   "execution_count": 5,
   "metadata": {},
   "outputs": [],
   "source": [
    "# 森林火灾例子\n",
    "import numpy as np\n",
    "\n",
    "class Forest(object):\n",
    "    \"\"\" Forest can grow trees which eventually die.\"\"\"\n",
    "    def __init__(self, size=(150,150), p_sapling=0.0025):\n",
    "        self.size = size\n",
    "        self.trees = np.zeros(self.size, dtype=bool)\n",
    "        self.p_sapling = p_sapling\n",
    "        \n",
    "    def __repr__(self):\n",
    "        my_repr = \"{}(size={})\".format(self.__class__.__name__, self.size)\n",
    "        return my_repr\n",
    "    \n",
    "    def __str__(self):\n",
    "        return self.__class__.__name__\n",
    "    \n",
    "    @property\n",
    "    def num_cells(self):\n",
    "        \"\"\"Number of cells available for growing trees\"\"\"\n",
    "        return np.prod(self.size)\n",
    "    \n",
    "    @property\n",
    "    def tree_fraction(self):\n",
    "        \"\"\"\n",
    "        Fraction of trees\n",
    "        \"\"\"\n",
    "        num_trees = self.trees.sum()\n",
    "        return float(num_trees) / self.num_cells\n",
    "    \n",
    "    def _rand_bool(self, p):\n",
    "        \"\"\"\n",
    "        Random boolean distributed according to p, less than p will be True\n",
    "        \"\"\"\n",
    "        return np.random.uniform(size=self.trees.shape) < p\n",
    "    \n",
    "    def grow_trees(self):\n",
    "        \"\"\"\n",
    "        Growing trees.\n",
    "        \"\"\"\n",
    "        growth_sites = self._rand_bool(self.p_sapling)\n",
    "        self.trees[growth_sites] = True    \n",
    "        \n",
    "    def advance_one_step(self):\n",
    "        \"\"\"\n",
    "        Advance one step\n",
    "        \"\"\"\n",
    "        self.grow_trees()"
   ]
  },
  {
   "cell_type": "code",
   "execution_count": 6,
   "metadata": {},
   "outputs": [],
   "source": [
    "# 定义一个子类，继承Forest\n",
    "class BurnableForest(Forest):\n",
    "    \"\"\"\n",
    "    Burnable forest support fires\n",
    "    \"\"\"\n",
    "    # 重新初始化\n",
    "    def __init__(self, p_lightning=5.0e-6, **kwargs):\n",
    "        super(BurnableForest, self).__init__(**kwargs)\n",
    "        self.p_lightning = p_lightning        \n",
    "        self.fires = np.zeros((self.size), dtype=bool)\n",
    "    \n",
    "    # 这里因为是重定义，所以使用父类方法时需要用super函数\n",
    "    def advance_one_step(self):\n",
    "        \"\"\"\n",
    "        Advance one step\n",
    "        \"\"\"\n",
    "        super(BurnableForest, self).advance_one_step()\n",
    "        self.start_fires()\n",
    "        self.burn_trees()   \n",
    "        \n",
    "    @property\n",
    "    def fire_fraction(self):\n",
    "        \"\"\"\n",
    "        Fraction of fires\n",
    "        \"\"\"\n",
    "        num_fires = self.fires.sum()\n",
    "        return float(num_fires) / self.num_cells \n",
    "    \n",
    "    \n",
    "    def start_fires(self):\n",
    "        \"\"\"\n",
    "        Start of fire.\n",
    "        \"\"\"\n",
    "        lightning_strikes = (self._rand_bool(self.p_lightning) & \n",
    "            self.trees)\n",
    "        self.fires[lightning_strikes] = True  \n",
    "    \n",
    "    def burn_trees(self):\n",
    "        \"\"\"\n",
    "        Burn trees.\n",
    "        \"\"\"\n",
    "        fires = np.zeros((self.size[0] + 2, self.size[1] + 2), dtype=bool)\n",
    "        fires[1:-1, 1:-1] = self.fires\n",
    "        north = fires[:-2, 1:-1]\n",
    "        south = fires[2:, 1:-1]\n",
    "        east = fires[1:-1, :-2]\n",
    "        west = fires[1:-1, 2:]\n",
    "        new_fires = (north | south | east | west) & self.trees\n",
    "        self.trees[self.fires] = False\n",
    "        self.fires = new_fires"
   ]
  },
  {
   "cell_type": "code",
   "execution_count": 7,
   "metadata": {},
   "outputs": [
    {
     "name": "stdout",
     "output_type": "stream",
     "text": [
      "0.00262222222222\n"
     ]
    }
   ],
   "source": [
    "forest = Forest()\n",
    "forest.grow_trees()\n",
    "print forest.tree_fraction"
   ]
  },
  {
   "cell_type": "code",
   "execution_count": 8,
   "metadata": {},
   "outputs": [
    {
     "name": "stdout",
     "output_type": "stream",
     "text": [
      "0.00311111111111\n"
     ]
    }
   ],
   "source": [
    "burnable_forest = BurnableForest()\n",
    "burnable_forest.grow_trees()\n",
    "burnable_forest.start_fires()\n",
    "burnable_forest.burn_trees()\n",
    "print burnable_forest.tree_fraction"
   ]
  },
  {
   "cell_type": "code",
   "execution_count": 10,
   "metadata": {},
   "outputs": [
    {
     "data": {
      "image/png": "[encoded data removed]",
      "text/plain": [
       "<Figure size 432x288 with 1 Axes>"
      ]
     },
     "metadata": {},
     "output_type": "display_data"
    }
   ],
   "source": [
    "import matplotlib.pyplot as plt\n",
    "%matplotlib inline\n",
    "\n",
    "forest = Forest()\n",
    "forest2 = BurnableForest()\n",
    "\n",
    "tree_fractions = []\n",
    "for i in range(2500):\n",
    "    forest.advance_one_step()\n",
    "    forest2.advance_one_step()\n",
    "    tree_fractions.append((forest.tree_fraction, forest2.tree_fraction))\n",
    "\n",
    "plt.plot(tree_fractions)\n",
    "plt.grid()\n",
    "plt.show()"
   ]
  },
  {
   "cell_type": "markdown",
   "metadata": {},
   "source": [
    "`__str__ `和` __repr__ `中 `self.__class__` 会根据类型不同而不同："
   ]
  },
  {
   "cell_type": "code",
   "execution_count": 11,
   "metadata": {},
   "outputs": [
    {
     "data": {
      "text/plain": [
       "Forest(size=(150, 150))"
      ]
     },
     "execution_count": 11,
     "metadata": {},
     "output_type": "execute_result"
    }
   ],
   "source": [
    "forest"
   ]
  },
  {
   "cell_type": "code",
   "execution_count": 12,
   "metadata": {},
   "outputs": [
    {
     "data": {
      "text/plain": [
       "BurnableForest(size=(150, 150))"
      ]
     },
     "execution_count": 12,
     "metadata": {},
     "output_type": "execute_result"
    }
   ],
   "source": [
    "forest2"
   ]
  },
  {
   "cell_type": "code",
   "execution_count": 13,
   "metadata": {},
   "outputs": [
    {
     "name": "stdout",
     "output_type": "stream",
     "text": [
      "Forest\n"
     ]
    }
   ],
   "source": [
    "print forest"
   ]
  },
  {
   "cell_type": "code",
   "execution_count": 14,
   "metadata": {},
   "outputs": [
    {
     "name": "stdout",
     "output_type": "stream",
     "text": [
      "BurnableForest\n"
     ]
    }
   ],
   "source": [
    "print forest2"
   ]
  },
  {
   "cell_type": "code",
   "execution_count": null,
   "metadata": {},
   "outputs": [],
   "source": []
  }
 ],
 "metadata": {
  "kernelspec": {
   "display_name": "Python 2",
   "language": "python",
   "name": "python2"
  },
  "language_info": {
   "codemirror_mode": {
    "name": "ipython",
    "version": 2
   },
   "file_extension": ".py",
   "mimetype": "text/x-python",
   "name": "python",
   "nbconvert_exporter": "python",
   "pygments_lexer": "ipython2",
   "version": "2.7.13"
  },
  "latex_envs": {
   "LaTeX_envs_menu_present": true,
   "autoclose": false,
   "autocomplete": true,
   "bibliofile": "biblio.bib",
   "cite_by": "apalike",
   "current_citInitial": 1,
   "eqLabelWithNumbers": true,
   "eqNumInitial": 1,
   "hotkeys": {
    "equation": "Ctrl-E",
    "itemize": "Ctrl-I"
   },
   "labels_anchors": false,
   "latex_user_defs": false,
   "report_style_numbering": false,
   "user_envs_cfg": false
  },
  "toc": {
   "base_numbering": 1,
   "nav_menu": {},
   "number_sections": true,
   "sideBar": true,
   "skip_h1_title": true,
   "title_cell": "Contents",
   "title_sidebar": "Contents",
   "toc_cell": false,
   "toc_position": {},
   "toc_section_display": true,
   "toc_window_display": false
  }
 },
 "nbformat": 4,
 "nbformat_minor": 2
}
