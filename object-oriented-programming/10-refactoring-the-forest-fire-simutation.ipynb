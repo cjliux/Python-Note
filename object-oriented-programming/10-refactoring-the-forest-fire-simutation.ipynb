{
 "cells": [
  {
   "cell_type": "markdown",
   "metadata": {},
   "source": [
    "# 重定义森林火灾模拟"
   ]
  },
  {
   "cell_type": "markdown",
   "metadata": {},
   "source": [
    "前面的例子中，我们定义了一个 `BurnableForest`，实现了一个循序渐进的生长和燃烧过程.\n",
    "\n",
    "我们现在想要定义一个立即燃烧的过程（每次着火之后燃烧到不能燃烧为止，之后再生长，而不是每次只燃烧周围的一圈树木）\n",
    "\n",
    "由于燃烧过程不同，我们需要从 `BurnableForest` 中派生出两个新的子类`SlowBurnForest`（原来的燃烧过程） 和 `InsantBurnForest`，为此\n",
    "* 将 `BurnableForest` 中的 `burn_trees() `方法改写，不做任何操作，直接 `pass`（因为在` advance_one_step() `中调用了它，所以不能直接去掉）\n",
    "\n",
    "* 在两个子类中定义新的` burn_trees() `方法。"
   ]
  },
  {
   "cell_type": "code",
   "execution_count": 1,
   "metadata": {},
   "outputs": [],
   "source": [
    "import numpy as np\n",
    "from scipy.ndimage.measurements import label\n",
    "\n",
    "class Forest(object):\n",
    "    \"\"\" Forest can grow trees which eventually die.\"\"\"\n",
    "    def __init__(self, size=(150,150), p_sapling=0.0025):\n",
    "        self.size = size\n",
    "        self.trees = np.zeros(self.size, dtype=bool)\n",
    "        self.p_sapling = p_sapling\n",
    "        \n",
    "    def __repr__(self):\n",
    "        my_repr = \"{}(size={})\".format(self.__class__.__name__, self.size)\n",
    "        return my_repr\n",
    "    \n",
    "    def __str__(self):\n",
    "        return self.__class__.__name__\n",
    "    \n",
    "    @property\n",
    "    def num_cells(self):\n",
    "        \"\"\"Number of cells available for growing trees\"\"\"\n",
    "        return np.prod(self.size)\n",
    "    \n",
    "    @property\n",
    "    def tree_fraction(self):\n",
    "        \"\"\"\n",
    "        Fraction of trees\n",
    "        \"\"\"\n",
    "        num_trees = self.trees.sum()\n",
    "        return float(num_trees) / self.num_cells\n",
    "    \n",
    "    def _rand_bool(self, p):\n",
    "        \"\"\"\n",
    "        Random boolean distributed according to p, less than p will be True\n",
    "        \"\"\"\n",
    "        return np.random.uniform(size=self.trees.shape) < p\n",
    "    \n",
    "    def grow_trees(self):\n",
    "        \"\"\"\n",
    "        Growing trees.\n",
    "        \"\"\"\n",
    "        growth_sites = self._rand_bool(self.p_sapling)\n",
    "        self.trees[growth_sites] = True    \n",
    "        \n",
    "    def advance_one_step(self):\n",
    "        \"\"\"\n",
    "        Advance one step\n",
    "        \"\"\"\n",
    "        self.grow_trees()\n",
    "\n",
    "class BurnableForest(Forest):\n",
    "    \"\"\"\n",
    "    Burnable forest support fires\n",
    "    \"\"\"    \n",
    "    def __init__(self, p_lightning=5.0e-6, **kwargs):\n",
    "        super(BurnableForest, self).__init__(**kwargs)\n",
    "        self.p_lightning = p_lightning        \n",
    "        self.fires = np.zeros((self.size), dtype=bool)\n",
    "    \n",
    "    def advance_one_step(self):\n",
    "        \"\"\"\n",
    "        Advance one step\n",
    "        \"\"\"\n",
    "        super(BurnableForest, self).advance_one_step()\n",
    "        self.start_fires()\n",
    "        # 这里调用了它，所以它不能直接删除\n",
    "        self.burn_trees()\n",
    "        \n",
    "    @property\n",
    "    def fire_fraction(self):\n",
    "        \"\"\"\n",
    "        Fraction of fires\n",
    "        \"\"\"\n",
    "        num_fires = self.fires.sum()\n",
    "        return float(num_fires) / self.num_cells\n",
    "    \n",
    "    def start_fires(self):\n",
    "        \"\"\"\n",
    "        Start of fire.\n",
    "        \"\"\"\n",
    "        lightning_strikes = (self._rand_bool(self.p_lightning) & \n",
    "            self.trees)\n",
    "        self.fires[lightning_strikes] = True\n",
    "    \n",
    "    # 重定义burn_trees不做任何操作，在派生的子类中定义新的方法\n",
    "    def burn_trees(self):    \n",
    "        pass\n",
    "\n",
    "# 派生两个子类重写burn_trees过程\n",
    "class SlowBurnForest(BurnableForest):\n",
    "    def burn_trees(self):\n",
    "        \"\"\"\n",
    "        Burn trees.\n",
    "        \"\"\"\n",
    "        fires = np.zeros((self.size[0] + 2, self.size[1] + 2), dtype=bool)\n",
    "        fires[1:-1, 1:-1] = self.fires\n",
    "        north = fires[:-2, 1:-1]\n",
    "        south = fires[2:, 1:-1]\n",
    "        east = fires[1:-1, :-2]\n",
    "        west = fires[1:-1, 2:]\n",
    "        new_fires = (north | south | east | west) & self.trees\n",
    "        self.trees[self.fires] = False\n",
    "        self.fires = new_fires\n",
    "\n",
    "class InstantBurnForest(BurnableForest):\n",
    "    def burn_trees(self):\n",
    "        # 起火点\n",
    "        strikes = self.fires\n",
    "        # 找到连通区域\n",
    "        groves, num_groves = label(self.trees)\n",
    "        fires = set(groves[strikes])\n",
    "        self.fires.fill(False)\n",
    "        # 将与着火点相连的区域都烧掉\n",
    "        for fire in fires:\n",
    "            self.fires[groves == fire] = True\n",
    "        self.trees[self.fires] = False\n",
    "        self.fires.fill(False)"
   ]
  },
  {
   "cell_type": "code",
   "execution_count": 2,
   "metadata": {},
   "outputs": [
    {
     "data": {
      "text/plain": [
       "array([[ True, False,  True,  True, False],\n",
       "       [ True, False, False, False,  True],\n",
       "       [False,  True,  True,  True,  True],\n",
       "       [False,  True,  True, False, False],\n",
       "       [False, False,  True,  True, False]])"
      ]
     },
     "execution_count": 2,
     "metadata": {},
     "output_type": "execute_result"
    }
   ],
   "source": [
    "# 看一下lable方法\n",
    "a = np.random.uniform(size=(5,5))<0.5\n",
    "a"
   ]
  },
  {
   "cell_type": "code",
   "execution_count": 3,
   "metadata": {},
   "outputs": [
    {
     "name": "stdout",
     "output_type": "stream",
     "text": [
      "[[1 0 2 2 0]\n",
      " [1 0 0 0 3]\n",
      " [0 3 3 3 3]\n",
      " [0 3 3 0 0]\n",
      " [0 0 3 3 0]] 3\n"
     ]
    }
   ],
   "source": [
    "b, c = label(a)\n",
    "print b,c"
   ]
  },
  {
   "cell_type": "code",
   "execution_count": 4,
   "metadata": {},
   "outputs": [
    {
     "data": {
      "text/plain": [
       "{1, 2, 3}"
      ]
     },
     "execution_count": 4,
     "metadata": {},
     "output_type": "execute_result"
    }
   ],
   "source": [
    "d = set(b[a])\n",
    "d"
   ]
  },
  {
   "cell_type": "code",
   "execution_count": 5,
   "metadata": {},
   "outputs": [],
   "source": [
    "a[b==d]=True"
   ]
  },
  {
   "cell_type": "code",
   "execution_count": 6,
   "metadata": {},
   "outputs": [],
   "source": [
    "forest = Forest()\n",
    "sb_forest = SlowBurnForest()\n",
    "ib_forest = InstantBurnForest()\n",
    "\n",
    "forests = [forest, sb_forest, ib_forest]\n",
    "\n",
    "tree_history = []\n",
    "\n",
    "for i in xrange(1500):\n",
    "    for fst in forests:\n",
    "        fst.advance_one_step()\n",
    "    tree_history.append(tuple(fst.tree_fraction for fst in forests))"
   ]
  },
  {
   "cell_type": "code",
   "execution_count": 7,
   "metadata": {},
   "outputs": [
    {
     "data": {
      "image/png": "[encoded data removed]",
      "text/plain": [
       "<Figure size 720x432 with 1 Axes>"
      ]
     },
     "metadata": {},
     "output_type": "display_data"
    }
   ],
   "source": [
    "import matplotlib.pyplot as plt\n",
    "%matplotlib inline\n",
    "\n",
    "plt.figure(figsize=(10,6))\n",
    "\n",
    "plt.plot(tree_history)\n",
    "plt.legend([f.__str__() for f in forests])\n",
    "\n",
    "plt.show()"
   ]
  },
  {
   "cell_type": "code",
   "execution_count": null,
   "metadata": {},
   "outputs": [],
   "source": []
  }
 ],
 "metadata": {
  "kernelspec": {
   "display_name": "Python 2",
   "language": "python",
   "name": "python2"
  },
  "language_info": {
   "codemirror_mode": {
    "name": "ipython",
    "version": 2
   },
   "file_extension": ".py",
   "mimetype": "text/x-python",
   "name": "python",
   "nbconvert_exporter": "python",
   "pygments_lexer": "ipython2",
   "version": "2.7.13"
  },
  "latex_envs": {
   "LaTeX_envs_menu_present": true,
   "autoclose": false,
   "autocomplete": true,
   "bibliofile": "biblio.bib",
   "cite_by": "apalike",
   "current_citInitial": 1,
   "eqLabelWithNumbers": true,
   "eqNumInitial": 1,
   "hotkeys": {
    "equation": "Ctrl-E",
    "itemize": "Ctrl-I"
   },
   "labels_anchors": false,
   "latex_user_defs": false,
   "report_style_numbering": false,
   "user_envs_cfg": false
  },
  "toc": {
   "base_numbering": 1,
   "nav_menu": {},
   "number_sections": true,
   "sideBar": true,
   "skip_h1_title": true,
   "title_cell": "Contents",
   "title_sidebar": "Contents",
   "toc_cell": false,
   "toc_position": {},
   "toc_section_display": true,
   "toc_window_display": false
  }
 },
 "nbformat": 4,
 "nbformat_minor": 2
}
