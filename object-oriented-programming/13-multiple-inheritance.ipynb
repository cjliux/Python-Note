{
 "cells": [
  {
   "cell_type": "markdown",
   "metadata": {},
   "source": [
    "# 多重继承"
   ]
  },
  {
   "cell_type": "markdown",
   "metadata": {},
   "source": [
    "多重继承，指的是一个类别可以同时从多于一个父类继承行为与特征的功能，`Python `是支持多重继承的："
   ]
  },
  {
   "cell_type": "code",
   "execution_count": 1,
   "metadata": {},
   "outputs": [],
   "source": [
    "# 父类\n",
    "class Leaf(object):\n",
    "    def __init__(self, color='green'):\n",
    "        self.color = color\n",
    "\n",
    "# 子类1\n",
    "class ColorChangingLeaf(Leaf):\n",
    "    def change(self, new_color='brown'):\n",
    "        self.color = new_color\n",
    "\n",
    "# 子类2\n",
    "class DeciduousLeaf(Leaf):\n",
    "    def fall(self):\n",
    "        print \"Plunk!\"\n",
    "\n",
    "# 多重继承，该类就可以同时使用其父类方法\n",
    "class MapleLeaf(ColorChangingLeaf, DeciduousLeaf):\n",
    "    pass"
   ]
  },
  {
   "cell_type": "code",
   "execution_count": 2,
   "metadata": {},
   "outputs": [
    {
     "name": "stdout",
     "output_type": "stream",
     "text": [
      "green\n",
      "yellow\n",
      "Plunk!\n"
     ]
    }
   ],
   "source": [
    "leaf = MapleLeaf()\n",
    "print leaf.color\n",
    "leaf.change(\"yellow\")\n",
    "print leaf.color\n",
    "leaf.fall()"
   ]
  },
  {
   "cell_type": "markdown",
   "metadata": {},
   "source": [
    "如果同时实现了不同的接口，那么，最后使用的方法以继承的顺序为准，放在前面的优先继承："
   ]
  },
  {
   "cell_type": "code",
   "execution_count": 3,
   "metadata": {},
   "outputs": [],
   "source": [
    "class Leaf(object):\n",
    "    def __init__(self, color='green'):\n",
    "        self.color = color\n",
    "\n",
    "class ColorChangingLeaf(Leaf):\n",
    "    def change(self, new_color='brown'):\n",
    "        self.color = new_color    \n",
    "    def fall(self):\n",
    "        print \"Spalt!\"\n",
    "\n",
    "class DeciduousLeaf(Leaf):\n",
    "    def fall(self):\n",
    "        print \"Plunk!\"\n",
    "\n",
    "class MapleLeaf(ColorChangingLeaf, DeciduousLeaf):\n",
    "    pass"
   ]
  },
  {
   "cell_type": "code",
   "execution_count": 4,
   "metadata": {},
   "outputs": [
    {
     "name": "stdout",
     "output_type": "stream",
     "text": [
      "Spalt!\n"
     ]
    }
   ],
   "source": [
    "# 重点看这个fall方法\n",
    "leaf = MapleLeaf()\n",
    "# ColorChangingLeaf类在前面，所以调用它的方法\n",
    "leaf.fall()"
   ]
  },
  {
   "cell_type": "code",
   "execution_count": 5,
   "metadata": {},
   "outputs": [
    {
     "data": {
      "text/plain": [
       "[__main__.MapleLeaf,\n",
       " __main__.ColorChangingLeaf,\n",
       " __main__.DeciduousLeaf,\n",
       " __main__.Leaf,\n",
       " object]"
      ]
     },
     "execution_count": 5,
     "metadata": {},
     "output_type": "execute_result"
    }
   ],
   "source": [
    "# __mro__ 属性或者 mro() 方法来查看顺序\n",
    "MapleLeaf.mro()"
   ]
  },
  {
   "cell_type": "code",
   "execution_count": 6,
   "metadata": {},
   "outputs": [],
   "source": [
    "class A(object):\n",
    "    pass\n",
    "\n",
    "class B(A):\n",
    "    pass\n",
    "\n",
    "class C(A):\n",
    "    pass\n",
    "\n",
    "class C1(C):\n",
    "    pass\n",
    "\n",
    "class B1(B):\n",
    "    pass\n",
    "\n",
    "class D(B1, C):\n",
    "    pass"
   ]
  },
  {
   "cell_type": "markdown",
   "metadata": {},
   "source": [
    "![](https://raw.githubusercontent.com/ds19991999/githubimg/master/picgo/20180724154703.png)"
   ]
  },
  {
   "cell_type": "code",
   "execution_count": 7,
   "metadata": {},
   "outputs": [
    {
     "data": {
      "text/plain": [
       "[__main__.D, __main__.B1, __main__.B, __main__.C, __main__.A, object]"
      ]
     },
     "execution_count": 7,
     "metadata": {},
     "output_type": "execute_result"
    }
   ],
   "source": [
    "# 调用顺序，有点像后续遍历\n",
    "D.mro()"
   ]
  },
  {
   "cell_type": "code",
   "execution_count": null,
   "metadata": {},
   "outputs": [],
   "source": []
  }
 ],
 "metadata": {
  "kernelspec": {
   "display_name": "Python 2",
   "language": "python",
   "name": "python2"
  },
  "language_info": {
   "codemirror_mode": {
    "name": "ipython",
    "version": 2
   },
   "file_extension": ".py",
   "mimetype": "text/x-python",
   "name": "python",
   "nbconvert_exporter": "python",
   "pygments_lexer": "ipython2",
   "version": "2.7.13"
  },
  "latex_envs": {
   "LaTeX_envs_menu_present": true,
   "autoclose": false,
   "autocomplete": true,
   "bibliofile": "biblio.bib",
   "cite_by": "apalike",
   "current_citInitial": 1,
   "eqLabelWithNumbers": true,
   "eqNumInitial": 1,
   "hotkeys": {
    "equation": "Ctrl-E",
    "itemize": "Ctrl-I"
   },
   "labels_anchors": false,
   "latex_user_defs": false,
   "report_style_numbering": false,
   "user_envs_cfg": false
  },
  "toc": {
   "base_numbering": 1,
   "nav_menu": {},
   "number_sections": true,
   "sideBar": true,
   "skip_h1_title": true,
   "title_cell": "Contents",
   "title_sidebar": "Contents",
   "toc_cell": false,
   "toc_position": {},
   "toc_section_display": true,
   "toc_window_display": false
  }
 },
 "nbformat": 4,
 "nbformat_minor": 2
}
