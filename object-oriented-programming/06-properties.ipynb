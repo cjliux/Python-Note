{
 "cells": [
  {
   "cell_type": "markdown",
   "metadata": {},
   "source": [
    "# 属性"
   ]
  },
  {
   "cell_type": "markdown",
   "metadata": {},
   "source": [
    "## 只读属性"
   ]
  },
  {
   "cell_type": "markdown",
   "metadata": {},
   "source": [
    "**对于只读属性，我们需要使用 @property 修饰符来得到：，被他修饰的方法都成了属性**"
   ]
  },
  {
   "cell_type": "code",
   "execution_count": 1,
   "metadata": {},
   "outputs": [],
   "source": [
    "class Leaf(object):\n",
    "    # 看这里，mass_mg是可读写的属性\n",
    "    def __init__(self, mass_mg):\n",
    "        self.mass_mg = mass_mg\n",
    "    \n",
    "    # 这样 mass_oz 就变成属性了\n",
    "    @property\n",
    "    def mass_oz(self):\n",
    "        # mass_oz 就是一个只读不写的属性\n",
    "        return self.mass_mg * 3.53e-5\n",
    "    \n",
    "    def mass_method(self):\n",
    "        print \"This is a method.\""
   ]
  },
  {
   "cell_type": "markdown",
   "metadata": {},
   "source": [
    "**这里` mass_oz `就是一个只读不写的属性（注意是属性不是方法），而` mass_mg `是可读写的属性：**"
   ]
  },
  {
   "cell_type": "code",
   "execution_count": 2,
   "metadata": {},
   "outputs": [
    {
     "name": "stdout",
     "output_type": "stream",
     "text": [
      "0.00706\n",
      "200\n"
     ]
    }
   ],
   "source": [
    "# 这里将mass_mg初始化为200\n",
    "leaf = Leaf(200)\n",
    "print leaf.mass_oz\n",
    "print leaf.mass_mg"
   ]
  },
  {
   "cell_type": "code",
   "execution_count": 3,
   "metadata": {},
   "outputs": [
    {
     "name": "stdout",
     "output_type": "stream",
     "text": [
      "'float' object is not callable\n"
     ]
    }
   ],
   "source": [
    "# 注意，属性不是方法，看着好像是方法\n",
    "# 但是他有@property修饰，他就不是一个方法\n",
    "try:\n",
    "    leaf.mass_oz()\n",
    "except TypeError as msg:\n",
    "    print msg"
   ]
  },
  {
   "cell_type": "code",
   "execution_count": 4,
   "metadata": {},
   "outputs": [
    {
     "name": "stdout",
     "output_type": "stream",
     "text": [
      "This is a method.\n"
     ]
    }
   ],
   "source": [
    "try:\n",
    "    leaf.mass_method()\n",
    "except TypeError as msg:\n",
    "    print msg"
   ]
  },
  {
   "cell_type": "code",
   "execution_count": 5,
   "metadata": {},
   "outputs": [
    {
     "name": "stdout",
     "output_type": "stream",
     "text": [
      "can't set attribute\n"
     ]
    }
   ],
   "source": [
    "# 只读不写\n",
    "try:\n",
    "    leaf.mass_oz = 0.001\n",
    "except AttributeError as msg:\n",
    "    print msg"
   ]
  },
  {
   "cell_type": "code",
   "execution_count": 6,
   "metadata": {},
   "outputs": [],
   "source": [
    "import numpy as np\n",
    "\n",
    "class Forest(object):\n",
    "    \"\"\" Forest can grow trees which eventually die.\"\"\"\n",
    "    def __init__(self, size=(150,150)):\n",
    "        self.size = size\n",
    "        self.trees = np.zeros(self.size, dtype=bool)\n",
    "        self.fires = np.zeros((self.size), dtype=bool)\n",
    "        \n",
    "    # 直接显示信息\n",
    "    def __repr__(self):\n",
    "        my_repr = \"{}(size={})\".format(self.__class__.__name__, self.size)\n",
    "        return my_repr\n",
    "    \n",
    "    # print才会显示信息\n",
    "    def __str__(self):\n",
    "        # 显示类名\n",
    "        return self.__class__.__name__\n",
    "    \n",
    "    @property\n",
    "    def num_cells(self):\n",
    "        \"\"\"Number of cells available for growing trees\"\"\"\n",
    "        return np.prod(self.size)\n",
    "    \n",
    "    @property\n",
    "    def tree_fraction(self):\n",
    "        \"\"\"\n",
    "        Fraction of trees\n",
    "        \"\"\"\n",
    "        num_trees = self.trees.sum()\n",
    "        return float(num_trees) / self.num_cells\n",
    "    \n",
    "    @property\n",
    "    def fire_fraction(self):\n",
    "        \"\"\"\n",
    "        Fraction of fires\n",
    "        \"\"\"\n",
    "        num_fires = self.fires.sum()\n",
    "        return float(num_fires) / self.num_cells"
   ]
  },
  {
   "cell_type": "code",
   "execution_count": 7,
   "metadata": {},
   "outputs": [
    {
     "data": {
      "text/plain": [
       "22500"
      ]
     },
     "execution_count": 7,
     "metadata": {},
     "output_type": "execute_result"
    }
   ],
   "source": [
    "# 定义的这三个属性(修饰之后就是属性了)主要是用来\n",
    "# 查看类本身的信息用的，一般不处理数据\n",
    "\n",
    "# 查看属性\n",
    "forest = Forest()\n",
    "forest.num_cells"
   ]
  },
  {
   "cell_type": "code",
   "execution_count": 8,
   "metadata": {},
   "outputs": [
    {
     "data": {
      "text/plain": [
       "100"
      ]
     },
     "execution_count": 8,
     "metadata": {},
     "output_type": "execute_result"
    }
   ],
   "source": [
    "# 生成一个较小的森林：\n",
    "small_forest = Forest((10, 10))\n",
    "small_forest.num_cells"
   ]
  },
  {
   "cell_type": "code",
   "execution_count": 9,
   "metadata": {},
   "outputs": [
    {
     "name": "stdout",
     "output_type": "stream",
     "text": [
      "0.0\n",
      "0.0\n"
     ]
    }
   ],
   "source": [
    "# 查看类本身信息：初始火灾比例和树的比例\n",
    "print small_forest.fire_fraction\n",
    "print small_forest.tree_fraction"
   ]
  },
  {
   "cell_type": "markdown",
   "metadata": {},
   "source": [
    "## 可读写的属性"
   ]
  },
  {
   "cell_type": "markdown",
   "metadata": {},
   "source": [
    "对于` @property` 生成的只读属性，我们可以使用相应的** `@attr.setter` 修饰符来使得这个属性变成可写的：**"
   ]
  },
  {
   "cell_type": "code",
   "execution_count": 10,
   "metadata": {},
   "outputs": [],
   "source": [
    "class Leaf(object):\n",
    "    def __init__(self, mass_mg):\n",
    "        self.mass_mg = mass_mg\n",
    "    \n",
    "    # 这样 mass_oz 就变成属性了\n",
    "    @property\n",
    "    def mass_oz(self):\n",
    "        return self.mass_mg * 3.53e-5\n",
    "    \n",
    "    # 使用 mass_oz.setter 修饰符\n",
    "    @mass_oz.setter\n",
    "    def mass_oz(self, m_oz):\n",
    "        self.mass_mg = m_oz / 3.53e-5"
   ]
  },
  {
   "cell_type": "code",
   "execution_count": 11,
   "metadata": {},
   "outputs": [
    {
     "name": "stdout",
     "output_type": "stream",
     "text": [
      "0.00706\n",
      "0.005295\n"
     ]
    }
   ],
   "source": [
    "leaf = Leaf(200)\n",
    "print leaf.mass_oz\n",
    "leaf.mass_mg = 150\n",
    "print leaf.mass_oz"
   ]
  },
  {
   "cell_type": "code",
   "execution_count": 12,
   "metadata": {},
   "outputs": [
    {
     "name": "stdout",
     "output_type": "stream",
     "text": [
      "283.28611898\n"
     ]
    }
   ],
   "source": [
    "# 注意这里，修改mass_oz属性\n",
    "leaf.mass_oz = 0.01\n",
    "# 这样mass_mg也变了\n",
    "print leaf.mass_mg"
   ]
  },
  {
   "cell_type": "code",
   "execution_count": 13,
   "metadata": {},
   "outputs": [],
   "source": [
    "# 相当于\n",
    "class Leaf(object):\n",
    "    def __init__(self, mass_mg):\n",
    "        self.mass_mg = mass_mg\n",
    "\n",
    "    def get_mass_oz(self):\n",
    "        return self.mass_mg * 3.53e-5\n",
    "\n",
    "    def set_mass_oz(self, m_oz):\n",
    "        self.mass_mg = m_oz / 3.53e-5\n",
    "    #把两个方法变为了属性,也就是说这个名字同时拥有了属性和方法\n",
    "    mass_oz = property(get_mass_oz, set_mass_oz)"
   ]
  },
  {
   "cell_type": "code",
   "execution_count": 14,
   "metadata": {},
   "outputs": [
    {
     "name": "stdout",
     "output_type": "stream",
     "text": [
      "<bound method Leaf.get_mass_oz of <__main__.Leaf object at 0x04F062F0>>\n",
      "0.00353\n"
     ]
    }
   ],
   "source": [
    "leaf1 = Leaf(100)\n",
    "print leaf1.get_mass_oz\n",
    "print leaf1.get_mass_oz()"
   ]
  },
  {
   "cell_type": "code",
   "execution_count": 15,
   "metadata": {},
   "outputs": [
    {
     "name": "stdout",
     "output_type": "stream",
     "text": [
      "2832861.1898\n"
     ]
    }
   ],
   "source": [
    "# 这里就相当于修改了值\n",
    "leaf1.set_mass_oz(100)\n",
    "print leaf1.mass_mg"
   ]
  },
  {
   "cell_type": "code",
   "execution_count": 16,
   "metadata": {},
   "outputs": [
    {
     "name": "stdout",
     "output_type": "stream",
     "text": [
      "2832861.1898\n"
     ]
    }
   ],
   "source": [
    "# 像这样并没有修改值，他只是一个属性，没有意义\n",
    "# 可以用来作为说明这是一个方法的方式，又不至于程序报错\n",
    "leaf1.set_mass_oz = 0.02\n",
    "print leaf1.mass_mg"
   ]
  },
  {
   "cell_type": "code",
   "execution_count": 17,
   "metadata": {},
   "outputs": [
    {
     "data": {
      "text/plain": [
       "<bound method Leaf.get_mass_oz of <__main__.Leaf object at 0x04F062F0>>"
      ]
     },
     "execution_count": 17,
     "metadata": {},
     "output_type": "execute_result"
    }
   ],
   "source": [
    "leaf1.get_mass_oz"
   ]
  },
  {
   "cell_type": "code",
   "execution_count": 18,
   "metadata": {},
   "outputs": [
    {
     "data": {
      "text/plain": [
       "0.02"
      ]
     },
     "execution_count": 18,
     "metadata": {},
     "output_type": "execute_result"
    }
   ],
   "source": [
    "leaf1.set_mass_oz"
   ]
  },
  {
   "cell_type": "code",
   "execution_count": null,
   "metadata": {},
   "outputs": [],
   "source": []
  }
 ],
 "metadata": {
  "kernelspec": {
   "display_name": "Python 2",
   "language": "python",
   "name": "python2"
  },
  "language_info": {
   "codemirror_mode": {
    "name": "ipython",
    "version": 2
   },
   "file_extension": ".py",
   "mimetype": "text/x-python",
   "name": "python",
   "nbconvert_exporter": "python",
   "pygments_lexer": "ipython2",
   "version": "2.7.13"
  },
  "latex_envs": {
   "LaTeX_envs_menu_present": true,
   "autoclose": false,
   "autocomplete": true,
   "bibliofile": "biblio.bib",
   "cite_by": "apalike",
   "current_citInitial": 1,
   "eqLabelWithNumbers": true,
   "eqNumInitial": 1,
   "hotkeys": {
    "equation": "Ctrl-E",
    "itemize": "Ctrl-I"
   },
   "labels_anchors": false,
   "latex_user_defs": false,
   "report_style_numbering": false,
   "user_envs_cfg": false
  },
  "toc": {
   "base_numbering": 1,
   "nav_menu": {},
   "number_sections": true,
   "sideBar": true,
   "skip_h1_title": true,
   "title_cell": "Contents",
   "title_sidebar": "Contents",
   "toc_cell": false,
   "toc_position": {},
   "toc_section_display": true,
   "toc_window_display": false
  }
 },
 "nbformat": 4,
 "nbformat_minor": 2
}
